{
  "nbformat": 4,
  "nbformat_minor": 0,
  "metadata": {
    "colab": {
      "provenance": [],
      "authorship_tag": "ABX9TyOZAyzgJHQGOvyPt5u0VIdQ",
      "include_colab_link": true
    },
    "kernelspec": {
      "name": "python3",
      "display_name": "Python 3"
    },
    "language_info": {
      "name": "python"
    }
  },
  "cells": [
    {
      "cell_type": "markdown",
      "metadata": {
        "id": "view-in-github",
        "colab_type": "text"
      },
      "source": [
        "<a href=\"https://colab.research.google.com/github/gotlashivasaiyadav/CRT-Program/blob/master/ToxicAnalysing.ipynb\" target=\"_parent\"><img src=\"https://colab.research.google.com/assets/colab-badge.svg\" alt=\"Open In Colab\"/></a>"
      ]
    },
    {
      "cell_type": "code",
      "execution_count": null,
      "metadata": {
        "colab": {
          "base_uri": "https://localhost:8080/"
        },
        "id": "70eWh6oWc_9z",
        "outputId": "64c6c07a-e16b-4347-9b52-a392a6a1780d"
      },
      "outputs": [
        {
          "output_type": "stream",
          "name": "stdout",
          "text": [
            "Collecting praw\n",
            "  Downloading praw-7.8.1-py3-none-any.whl.metadata (9.4 kB)\n",
            "Requirement already satisfied: pandas in /usr/local/lib/python3.11/dist-packages (2.2.2)\n",
            "Collecting prawcore<3,>=2.4 (from praw)\n",
            "  Downloading prawcore-2.4.0-py3-none-any.whl.metadata (5.0 kB)\n",
            "Collecting update_checker>=0.18 (from praw)\n",
            "  Downloading update_checker-0.18.0-py3-none-any.whl.metadata (2.3 kB)\n",
            "Requirement already satisfied: websocket-client>=0.54.0 in /usr/local/lib/python3.11/dist-packages (from praw) (1.8.0)\n",
            "Requirement already satisfied: numpy>=1.23.2 in /usr/local/lib/python3.11/dist-packages (from pandas) (1.26.4)\n",
            "Requirement already satisfied: python-dateutil>=2.8.2 in /usr/local/lib/python3.11/dist-packages (from pandas) (2.8.2)\n",
            "Requirement already satisfied: pytz>=2020.1 in /usr/local/lib/python3.11/dist-packages (from pandas) (2025.1)\n",
            "Requirement already satisfied: tzdata>=2022.7 in /usr/local/lib/python3.11/dist-packages (from pandas) (2025.1)\n",
            "Requirement already satisfied: requests<3.0,>=2.6.0 in /usr/local/lib/python3.11/dist-packages (from prawcore<3,>=2.4->praw) (2.32.3)\n",
            "Requirement already satisfied: six>=1.5 in /usr/local/lib/python3.11/dist-packages (from python-dateutil>=2.8.2->pandas) (1.17.0)\n",
            "Requirement already satisfied: charset-normalizer<4,>=2 in /usr/local/lib/python3.11/dist-packages (from requests<3.0,>=2.6.0->prawcore<3,>=2.4->praw) (3.4.1)\n",
            "Requirement already satisfied: idna<4,>=2.5 in /usr/local/lib/python3.11/dist-packages (from requests<3.0,>=2.6.0->prawcore<3,>=2.4->praw) (3.10)\n",
            "Requirement already satisfied: urllib3<3,>=1.21.1 in /usr/local/lib/python3.11/dist-packages (from requests<3.0,>=2.6.0->prawcore<3,>=2.4->praw) (2.3.0)\n",
            "Requirement already satisfied: certifi>=2017.4.17 in /usr/local/lib/python3.11/dist-packages (from requests<3.0,>=2.6.0->prawcore<3,>=2.4->praw) (2025.1.31)\n",
            "Downloading praw-7.8.1-py3-none-any.whl (189 kB)\n",
            "\u001b[2K   \u001b[90m━━━━━━━━━━━━━━━━━━━━━━━━━━━━━━━━━━━━━━━━\u001b[0m \u001b[32m189.3/189.3 kB\u001b[0m \u001b[31m3.4 MB/s\u001b[0m eta \u001b[36m0:00:00\u001b[0m\n",
            "\u001b[?25hDownloading prawcore-2.4.0-py3-none-any.whl (17 kB)\n",
            "Downloading update_checker-0.18.0-py3-none-any.whl (7.0 kB)\n",
            "Installing collected packages: update_checker, prawcore, praw\n",
            "Successfully installed praw-7.8.1 prawcore-2.4.0 update_checker-0.18.0\n"
          ]
        }
      ],
      "source": [
        "!pip install praw pandas"
      ]
    },
    {
      "cell_type": "code",
      "source": [
        "import praw\n",
        "import pandas as pd\n",
        "import time\n",
        "\n",
        "# Authenticate with Reddit API\n",
        "reddit = praw.Reddit(\n",
        "    client_id=\"uDtrclUkLw0SWxdp30V5TQ\",          # Your Client ID\n",
        "    client_secret=\"UY9FIQpBNoqdNKuWbGuIcYJdaXg8xQ\",  # Your Client Secret\n",
        "    user_agent=\"u/Fit_Menu8118\",                  # Your User Agent\n",
        "    username=\"shivasai0073@gmail.com\",           # Your Reddit username\n",
        "    password=\"Gotla@2277\"                        # Your Reddit password\n",
        ")\n",
        "\n",
        "# Function to gather data from a subreddit\n",
        "def gather_data(subreddit_name, run_duration):\n",
        "    subreddit = reddit.subreddit(subreddit_name)\n",
        "    start_time = time.time()\n",
        "    data = []\n",
        "\n",
        "    print(f\"Collecting data from r/{subreddit_name} for {run_duration} seconds...\")\n",
        "\n",
        "    try:\n",
        "        for submission in subreddit.new(limit=100):  # Adjust limit as needed\n",
        "            if time.time() - start_time > run_duration:\n",
        "                break\n",
        "\n",
        "            submission.comments.replace_more(limit=0)  # Load only top-level comments\n",
        "            for comment in submission.comments.list():\n",
        "                data.append({\n",
        "                    \"subreddit\": subreddit_name,\n",
        "                    \"submission_id\": submission.id,\n",
        "                    \"comment_id\": comment.id,\n",
        "                    \"parent_id\": comment.parent_id,\n",
        "                    \"source_author\": comment.author.name if comment.author else \"[deleted]\",\n",
        "                    \"text\": comment.body,\n",
        "                    \"title\": submission.title,\n",
        "                    \"created_utc\": comment.created_utc\n",
        "                })\n",
        "\n",
        "    except Exception as e:\n",
        "        print(f\"Error gathering data from r/{subreddit_name}: {e}\")\n",
        "\n",
        "    save_data(data, subreddit_name)\n",
        "\n",
        "# Function to save data to CSV\n",
        "def save_data(data, subreddit_name):\n",
        "    if not data:\n",
        "        print(f\"No data collected for {subreddit_name}\")\n",
        "        return\n",
        "\n",
        "    df = pd.DataFrame(data)\n",
        "    filename = f\"{subreddit_name}_data.csv\"\n",
        "    df.to_csv(filename, index=False)\n",
        "    print(f\"Data saved to {filename}\")\n",
        "\n",
        "# Main function\n",
        "if __name__ == \"__main__\":\n",
        "    # Subreddit to scrape and duration (in seconds)\n",
        "    subreddit_name = \"gaming\"  # Replace with your target subreddit\n",
        "    run_duration = 60  # Duration to collect data (e.g., 60 seconds)\n",
        "\n",
        "    # Start data collection\n",
        "    gather_data(subreddit_name, run_duration)"
      ],
      "metadata": {
        "colab": {
          "base_uri": "https://localhost:8080/"
        },
        "id": "PRLLNPHndHl5",
        "outputId": "346b916a-22ce-479e-e453-c2d223a56077"
      },
      "execution_count": null,
      "outputs": [
        {
          "output_type": "stream",
          "name": "stderr",
          "text": [
            "WARNING:praw:It appears that you are using PRAW in an asynchronous environment.\n",
            "It is strongly recommended to use Async PRAW: https://asyncpraw.readthedocs.io.\n",
            "See https://praw.readthedocs.io/en/latest/getting_started/multiple_instances.html#discord-bots-and-asynchronous-environments for more info.\n",
            "\n"
          ]
        },
        {
          "output_type": "stream",
          "name": "stdout",
          "text": [
            "Collecting data from r/gaming for 60 seconds...\n",
            "Error gathering data from r/gaming: unauthorized_client error processing request (Only script apps may use password auth)\n",
            "No data collected for gaming\n"
          ]
        }
      ]
    },
    {
      "cell_type": "code",
      "source": [
        "import praw\n",
        "import pandas as pd\n",
        "import time\n",
        "\n",
        "# Authenticate with Reddit API\n",
        "reddit = praw.Reddit(\n",
        "    client_id=\"WmREH0nLvamlBpQ4Bld3BA\",          # Your Client ID\n",
        "    client_secret=\"1XHJjI-aaU0xYkWQZ7lDkoW239TNbA\",  # Your Client Secret\n",
        "    user_agent=\"u/Fit_Menu8118\",                  # Your User Agent\n",
        "    username=\"Fit_Menu8118\",           # Your Reddit username\n",
        "    password=\"Gotla@2277\"                        # Your Reddit password\n",
        ")\n",
        "\n",
        "# Function to gather data from a subreddit\n",
        "def gather_data(subreddit_name, run_duration):\n",
        "    subreddit = reddit.subreddit(subreddit_name)\n",
        "    start_time = time.time()\n",
        "    data = []\n",
        "\n",
        "    print(f\"Collecting data from r/{subreddit_name} for {run_duration} seconds...\")\n",
        "\n",
        "    try:\n",
        "        for submission in subreddit.new(limit=100):  # Adjust limit as needed\n",
        "            if time.time() - start_time > run_duration:\n",
        "                break\n",
        "\n",
        "            submission.comments.replace_more(limit=0)  # Load only top-level comments\n",
        "            for comment in submission.comments.list():\n",
        "                data.append({\n",
        "                    \"subreddit\": subreddit_name,\n",
        "                    \"submission_id\": submission.id,\n",
        "                    \"comment_id\": comment.id,\n",
        "                    \"parent_id\": comment.parent_id,\n",
        "                    \"source_author\": comment.author.name if comment.author else \"[deleted]\",\n",
        "                    \"text\": comment.body,\n",
        "                    \"title\": submission.title,\n",
        "                    \"created_utc\": comment.created_utc\n",
        "                })\n",
        "\n",
        "    except Exception as e:\n",
        "        print(f\"Error gathering data from r/{subreddit_name}: {e}\")\n",
        "\n",
        "    save_data(data, subreddit_name)\n",
        "\n",
        "# Function to save data to CSV\n",
        "def save_data(data, subreddit_name):\n",
        "    if not data:\n",
        "        print(f\"No data collected for {subreddit_name}\")\n",
        "        return\n",
        "\n",
        "    df = pd.DataFrame(data)\n",
        "    filename = f\"{subreddit_name}_data.csv\"\n",
        "    df.to_csv(filename, index=False)\n",
        "    print(f\"Data saved to {filename}\")\n",
        "\n",
        "# Main function\n",
        "if __name__ == \"__main__\":\n",
        "    # Subreddit to scrape and duration (in seconds)\n",
        "    subreddit_name = \"gaming\"  # Replace with your target subreddit\n",
        "    run_duration = 60  # Duration to collect data (e.g., 60 seconds)\n",
        "\n",
        "    # Start data collection\n",
        "    gather_data(subreddit_name, run_duration)"
      ],
      "metadata": {
        "colab": {
          "base_uri": "https://localhost:8080/"
        },
        "id": "ykHRM5sEgYvm",
        "outputId": "a7158b40-e149-4cf3-d339-6c5b266df6ce"
      },
      "execution_count": null,
      "outputs": [
        {
          "output_type": "stream",
          "name": "stderr",
          "text": [
            "WARNING:praw:It appears that you are using PRAW in an asynchronous environment.\n",
            "It is strongly recommended to use Async PRAW: https://asyncpraw.readthedocs.io.\n",
            "See https://praw.readthedocs.io/en/latest/getting_started/multiple_instances.html#discord-bots-and-asynchronous-environments for more info.\n",
            "\n"
          ]
        },
        {
          "output_type": "stream",
          "name": "stdout",
          "text": [
            "Collecting data from r/gaming for 60 seconds...\n"
          ]
        },
        {
          "output_type": "stream",
          "name": "stderr",
          "text": [
            "WARNING:praw:It appears that you are using PRAW in an asynchronous environment.\n",
            "It is strongly recommended to use Async PRAW: https://asyncpraw.readthedocs.io.\n",
            "See https://praw.readthedocs.io/en/latest/getting_started/multiple_instances.html#discord-bots-and-asynchronous-environments for more info.\n",
            "\n",
            "WARNING:praw:It appears that you are using PRAW in an asynchronous environment.\n",
            "It is strongly recommended to use Async PRAW: https://asyncpraw.readthedocs.io.\n",
            "See https://praw.readthedocs.io/en/latest/getting_started/multiple_instances.html#discord-bots-and-asynchronous-environments for more info.\n",
            "\n",
            "WARNING:praw:It appears that you are using PRAW in an asynchronous environment.\n",
            "It is strongly recommended to use Async PRAW: https://asyncpraw.readthedocs.io.\n",
            "See https://praw.readthedocs.io/en/latest/getting_started/multiple_instances.html#discord-bots-and-asynchronous-environments for more info.\n",
            "\n",
            "WARNING:praw:It appears that you are using PRAW in an asynchronous environment.\n",
            "It is strongly recommended to use Async PRAW: https://asyncpraw.readthedocs.io.\n",
            "See https://praw.readthedocs.io/en/latest/getting_started/multiple_instances.html#discord-bots-and-asynchronous-environments for more info.\n",
            "\n",
            "WARNING:praw:It appears that you are using PRAW in an asynchronous environment.\n",
            "It is strongly recommended to use Async PRAW: https://asyncpraw.readthedocs.io.\n",
            "See https://praw.readthedocs.io/en/latest/getting_started/multiple_instances.html#discord-bots-and-asynchronous-environments for more info.\n",
            "\n",
            "WARNING:praw:It appears that you are using PRAW in an asynchronous environment.\n",
            "It is strongly recommended to use Async PRAW: https://asyncpraw.readthedocs.io.\n",
            "See https://praw.readthedocs.io/en/latest/getting_started/multiple_instances.html#discord-bots-and-asynchronous-environments for more info.\n",
            "\n",
            "WARNING:praw:It appears that you are using PRAW in an asynchronous environment.\n",
            "It is strongly recommended to use Async PRAW: https://asyncpraw.readthedocs.io.\n",
            "See https://praw.readthedocs.io/en/latest/getting_started/multiple_instances.html#discord-bots-and-asynchronous-environments for more info.\n",
            "\n",
            "WARNING:praw:It appears that you are using PRAW in an asynchronous environment.\n",
            "It is strongly recommended to use Async PRAW: https://asyncpraw.readthedocs.io.\n",
            "See https://praw.readthedocs.io/en/latest/getting_started/multiple_instances.html#discord-bots-and-asynchronous-environments for more info.\n",
            "\n",
            "WARNING:praw:It appears that you are using PRAW in an asynchronous environment.\n",
            "It is strongly recommended to use Async PRAW: https://asyncpraw.readthedocs.io.\n",
            "See https://praw.readthedocs.io/en/latest/getting_started/multiple_instances.html#discord-bots-and-asynchronous-environments for more info.\n",
            "\n",
            "WARNING:praw:It appears that you are using PRAW in an asynchronous environment.\n",
            "It is strongly recommended to use Async PRAW: https://asyncpraw.readthedocs.io.\n",
            "See https://praw.readthedocs.io/en/latest/getting_started/multiple_instances.html#discord-bots-and-asynchronous-environments for more info.\n",
            "\n",
            "WARNING:praw:It appears that you are using PRAW in an asynchronous environment.\n",
            "It is strongly recommended to use Async PRAW: https://asyncpraw.readthedocs.io.\n",
            "See https://praw.readthedocs.io/en/latest/getting_started/multiple_instances.html#discord-bots-and-asynchronous-environments for more info.\n",
            "\n",
            "WARNING:praw:It appears that you are using PRAW in an asynchronous environment.\n",
            "It is strongly recommended to use Async PRAW: https://asyncpraw.readthedocs.io.\n",
            "See https://praw.readthedocs.io/en/latest/getting_started/multiple_instances.html#discord-bots-and-asynchronous-environments for more info.\n",
            "\n",
            "WARNING:praw:It appears that you are using PRAW in an asynchronous environment.\n",
            "It is strongly recommended to use Async PRAW: https://asyncpraw.readthedocs.io.\n",
            "See https://praw.readthedocs.io/en/latest/getting_started/multiple_instances.html#discord-bots-and-asynchronous-environments for more info.\n",
            "\n",
            "WARNING:praw:It appears that you are using PRAW in an asynchronous environment.\n",
            "It is strongly recommended to use Async PRAW: https://asyncpraw.readthedocs.io.\n",
            "See https://praw.readthedocs.io/en/latest/getting_started/multiple_instances.html#discord-bots-and-asynchronous-environments for more info.\n",
            "\n",
            "WARNING:praw:It appears that you are using PRAW in an asynchronous environment.\n",
            "It is strongly recommended to use Async PRAW: https://asyncpraw.readthedocs.io.\n",
            "See https://praw.readthedocs.io/en/latest/getting_started/multiple_instances.html#discord-bots-and-asynchronous-environments for more info.\n",
            "\n",
            "WARNING:praw:It appears that you are using PRAW in an asynchronous environment.\n",
            "It is strongly recommended to use Async PRAW: https://asyncpraw.readthedocs.io.\n",
            "See https://praw.readthedocs.io/en/latest/getting_started/multiple_instances.html#discord-bots-and-asynchronous-environments for more info.\n",
            "\n",
            "WARNING:praw:It appears that you are using PRAW in an asynchronous environment.\n",
            "It is strongly recommended to use Async PRAW: https://asyncpraw.readthedocs.io.\n",
            "See https://praw.readthedocs.io/en/latest/getting_started/multiple_instances.html#discord-bots-and-asynchronous-environments for more info.\n",
            "\n",
            "WARNING:praw:It appears that you are using PRAW in an asynchronous environment.\n",
            "It is strongly recommended to use Async PRAW: https://asyncpraw.readthedocs.io.\n",
            "See https://praw.readthedocs.io/en/latest/getting_started/multiple_instances.html#discord-bots-and-asynchronous-environments for more info.\n",
            "\n",
            "WARNING:praw:It appears that you are using PRAW in an asynchronous environment.\n",
            "It is strongly recommended to use Async PRAW: https://asyncpraw.readthedocs.io.\n",
            "See https://praw.readthedocs.io/en/latest/getting_started/multiple_instances.html#discord-bots-and-asynchronous-environments for more info.\n",
            "\n",
            "WARNING:praw:It appears that you are using PRAW in an asynchronous environment.\n",
            "It is strongly recommended to use Async PRAW: https://asyncpraw.readthedocs.io.\n",
            "See https://praw.readthedocs.io/en/latest/getting_started/multiple_instances.html#discord-bots-and-asynchronous-environments for more info.\n",
            "\n",
            "WARNING:praw:It appears that you are using PRAW in an asynchronous environment.\n",
            "It is strongly recommended to use Async PRAW: https://asyncpraw.readthedocs.io.\n",
            "See https://praw.readthedocs.io/en/latest/getting_started/multiple_instances.html#discord-bots-and-asynchronous-environments for more info.\n",
            "\n",
            "WARNING:praw:It appears that you are using PRAW in an asynchronous environment.\n",
            "It is strongly recommended to use Async PRAW: https://asyncpraw.readthedocs.io.\n",
            "See https://praw.readthedocs.io/en/latest/getting_started/multiple_instances.html#discord-bots-and-asynchronous-environments for more info.\n",
            "\n",
            "WARNING:praw:It appears that you are using PRAW in an asynchronous environment.\n",
            "It is strongly recommended to use Async PRAW: https://asyncpraw.readthedocs.io.\n",
            "See https://praw.readthedocs.io/en/latest/getting_started/multiple_instances.html#discord-bots-and-asynchronous-environments for more info.\n",
            "\n",
            "WARNING:praw:It appears that you are using PRAW in an asynchronous environment.\n",
            "It is strongly recommended to use Async PRAW: https://asyncpraw.readthedocs.io.\n",
            "See https://praw.readthedocs.io/en/latest/getting_started/multiple_instances.html#discord-bots-and-asynchronous-environments for more info.\n",
            "\n",
            "WARNING:praw:It appears that you are using PRAW in an asynchronous environment.\n",
            "It is strongly recommended to use Async PRAW: https://asyncpraw.readthedocs.io.\n",
            "See https://praw.readthedocs.io/en/latest/getting_started/multiple_instances.html#discord-bots-and-asynchronous-environments for more info.\n",
            "\n",
            "WARNING:praw:It appears that you are using PRAW in an asynchronous environment.\n",
            "It is strongly recommended to use Async PRAW: https://asyncpraw.readthedocs.io.\n",
            "See https://praw.readthedocs.io/en/latest/getting_started/multiple_instances.html#discord-bots-and-asynchronous-environments for more info.\n",
            "\n",
            "WARNING:praw:It appears that you are using PRAW in an asynchronous environment.\n",
            "It is strongly recommended to use Async PRAW: https://asyncpraw.readthedocs.io.\n",
            "See https://praw.readthedocs.io/en/latest/getting_started/multiple_instances.html#discord-bots-and-asynchronous-environments for more info.\n",
            "\n",
            "WARNING:praw:It appears that you are using PRAW in an asynchronous environment.\n",
            "It is strongly recommended to use Async PRAW: https://asyncpraw.readthedocs.io.\n",
            "See https://praw.readthedocs.io/en/latest/getting_started/multiple_instances.html#discord-bots-and-asynchronous-environments for more info.\n",
            "\n",
            "WARNING:praw:It appears that you are using PRAW in an asynchronous environment.\n",
            "It is strongly recommended to use Async PRAW: https://asyncpraw.readthedocs.io.\n",
            "See https://praw.readthedocs.io/en/latest/getting_started/multiple_instances.html#discord-bots-and-asynchronous-environments for more info.\n",
            "\n",
            "WARNING:praw:It appears that you are using PRAW in an asynchronous environment.\n",
            "It is strongly recommended to use Async PRAW: https://asyncpraw.readthedocs.io.\n",
            "See https://praw.readthedocs.io/en/latest/getting_started/multiple_instances.html#discord-bots-and-asynchronous-environments for more info.\n",
            "\n",
            "WARNING:praw:It appears that you are using PRAW in an asynchronous environment.\n",
            "It is strongly recommended to use Async PRAW: https://asyncpraw.readthedocs.io.\n",
            "See https://praw.readthedocs.io/en/latest/getting_started/multiple_instances.html#discord-bots-and-asynchronous-environments for more info.\n",
            "\n",
            "WARNING:praw:It appears that you are using PRAW in an asynchronous environment.\n",
            "It is strongly recommended to use Async PRAW: https://asyncpraw.readthedocs.io.\n",
            "See https://praw.readthedocs.io/en/latest/getting_started/multiple_instances.html#discord-bots-and-asynchronous-environments for more info.\n",
            "\n",
            "WARNING:praw:It appears that you are using PRAW in an asynchronous environment.\n",
            "It is strongly recommended to use Async PRAW: https://asyncpraw.readthedocs.io.\n",
            "See https://praw.readthedocs.io/en/latest/getting_started/multiple_instances.html#discord-bots-and-asynchronous-environments for more info.\n",
            "\n",
            "WARNING:praw:It appears that you are using PRAW in an asynchronous environment.\n",
            "It is strongly recommended to use Async PRAW: https://asyncpraw.readthedocs.io.\n",
            "See https://praw.readthedocs.io/en/latest/getting_started/multiple_instances.html#discord-bots-and-asynchronous-environments for more info.\n",
            "\n",
            "WARNING:praw:It appears that you are using PRAW in an asynchronous environment.\n",
            "It is strongly recommended to use Async PRAW: https://asyncpraw.readthedocs.io.\n",
            "See https://praw.readthedocs.io/en/latest/getting_started/multiple_instances.html#discord-bots-and-asynchronous-environments for more info.\n",
            "\n",
            "WARNING:praw:It appears that you are using PRAW in an asynchronous environment.\n",
            "It is strongly recommended to use Async PRAW: https://asyncpraw.readthedocs.io.\n",
            "See https://praw.readthedocs.io/en/latest/getting_started/multiple_instances.html#discord-bots-and-asynchronous-environments for more info.\n",
            "\n",
            "WARNING:praw:It appears that you are using PRAW in an asynchronous environment.\n",
            "It is strongly recommended to use Async PRAW: https://asyncpraw.readthedocs.io.\n",
            "See https://praw.readthedocs.io/en/latest/getting_started/multiple_instances.html#discord-bots-and-asynchronous-environments for more info.\n",
            "\n",
            "WARNING:praw:It appears that you are using PRAW in an asynchronous environment.\n",
            "It is strongly recommended to use Async PRAW: https://asyncpraw.readthedocs.io.\n",
            "See https://praw.readthedocs.io/en/latest/getting_started/multiple_instances.html#discord-bots-and-asynchronous-environments for more info.\n",
            "\n",
            "WARNING:praw:It appears that you are using PRAW in an asynchronous environment.\n",
            "It is strongly recommended to use Async PRAW: https://asyncpraw.readthedocs.io.\n",
            "See https://praw.readthedocs.io/en/latest/getting_started/multiple_instances.html#discord-bots-and-asynchronous-environments for more info.\n",
            "\n",
            "WARNING:praw:It appears that you are using PRAW in an asynchronous environment.\n",
            "It is strongly recommended to use Async PRAW: https://asyncpraw.readthedocs.io.\n",
            "See https://praw.readthedocs.io/en/latest/getting_started/multiple_instances.html#discord-bots-and-asynchronous-environments for more info.\n",
            "\n",
            "WARNING:praw:It appears that you are using PRAW in an asynchronous environment.\n",
            "It is strongly recommended to use Async PRAW: https://asyncpraw.readthedocs.io.\n",
            "See https://praw.readthedocs.io/en/latest/getting_started/multiple_instances.html#discord-bots-and-asynchronous-environments for more info.\n",
            "\n",
            "WARNING:praw:It appears that you are using PRAW in an asynchronous environment.\n",
            "It is strongly recommended to use Async PRAW: https://asyncpraw.readthedocs.io.\n",
            "See https://praw.readthedocs.io/en/latest/getting_started/multiple_instances.html#discord-bots-and-asynchronous-environments for more info.\n",
            "\n",
            "WARNING:praw:It appears that you are using PRAW in an asynchronous environment.\n",
            "It is strongly recommended to use Async PRAW: https://asyncpraw.readthedocs.io.\n",
            "See https://praw.readthedocs.io/en/latest/getting_started/multiple_instances.html#discord-bots-and-asynchronous-environments for more info.\n",
            "\n",
            "WARNING:praw:It appears that you are using PRAW in an asynchronous environment.\n",
            "It is strongly recommended to use Async PRAW: https://asyncpraw.readthedocs.io.\n",
            "See https://praw.readthedocs.io/en/latest/getting_started/multiple_instances.html#discord-bots-and-asynchronous-environments for more info.\n",
            "\n",
            "WARNING:praw:It appears that you are using PRAW in an asynchronous environment.\n",
            "It is strongly recommended to use Async PRAW: https://asyncpraw.readthedocs.io.\n",
            "See https://praw.readthedocs.io/en/latest/getting_started/multiple_instances.html#discord-bots-and-asynchronous-environments for more info.\n",
            "\n",
            "WARNING:praw:It appears that you are using PRAW in an asynchronous environment.\n",
            "It is strongly recommended to use Async PRAW: https://asyncpraw.readthedocs.io.\n",
            "See https://praw.readthedocs.io/en/latest/getting_started/multiple_instances.html#discord-bots-and-asynchronous-environments for more info.\n",
            "\n",
            "WARNING:praw:It appears that you are using PRAW in an asynchronous environment.\n",
            "It is strongly recommended to use Async PRAW: https://asyncpraw.readthedocs.io.\n",
            "See https://praw.readthedocs.io/en/latest/getting_started/multiple_instances.html#discord-bots-and-asynchronous-environments for more info.\n",
            "\n",
            "WARNING:praw:It appears that you are using PRAW in an asynchronous environment.\n",
            "It is strongly recommended to use Async PRAW: https://asyncpraw.readthedocs.io.\n",
            "See https://praw.readthedocs.io/en/latest/getting_started/multiple_instances.html#discord-bots-and-asynchronous-environments for more info.\n",
            "\n",
            "WARNING:praw:It appears that you are using PRAW in an asynchronous environment.\n",
            "It is strongly recommended to use Async PRAW: https://asyncpraw.readthedocs.io.\n",
            "See https://praw.readthedocs.io/en/latest/getting_started/multiple_instances.html#discord-bots-and-asynchronous-environments for more info.\n",
            "\n",
            "WARNING:praw:It appears that you are using PRAW in an asynchronous environment.\n",
            "It is strongly recommended to use Async PRAW: https://asyncpraw.readthedocs.io.\n",
            "See https://praw.readthedocs.io/en/latest/getting_started/multiple_instances.html#discord-bots-and-asynchronous-environments for more info.\n",
            "\n",
            "WARNING:praw:It appears that you are using PRAW in an asynchronous environment.\n",
            "It is strongly recommended to use Async PRAW: https://asyncpraw.readthedocs.io.\n",
            "See https://praw.readthedocs.io/en/latest/getting_started/multiple_instances.html#discord-bots-and-asynchronous-environments for more info.\n",
            "\n",
            "WARNING:praw:It appears that you are using PRAW in an asynchronous environment.\n",
            "It is strongly recommended to use Async PRAW: https://asyncpraw.readthedocs.io.\n",
            "See https://praw.readthedocs.io/en/latest/getting_started/multiple_instances.html#discord-bots-and-asynchronous-environments for more info.\n",
            "\n",
            "WARNING:praw:It appears that you are using PRAW in an asynchronous environment.\n",
            "It is strongly recommended to use Async PRAW: https://asyncpraw.readthedocs.io.\n",
            "See https://praw.readthedocs.io/en/latest/getting_started/multiple_instances.html#discord-bots-and-asynchronous-environments for more info.\n",
            "\n",
            "WARNING:praw:It appears that you are using PRAW in an asynchronous environment.\n",
            "It is strongly recommended to use Async PRAW: https://asyncpraw.readthedocs.io.\n",
            "See https://praw.readthedocs.io/en/latest/getting_started/multiple_instances.html#discord-bots-and-asynchronous-environments for more info.\n",
            "\n",
            "WARNING:praw:It appears that you are using PRAW in an asynchronous environment.\n",
            "It is strongly recommended to use Async PRAW: https://asyncpraw.readthedocs.io.\n",
            "See https://praw.readthedocs.io/en/latest/getting_started/multiple_instances.html#discord-bots-and-asynchronous-environments for more info.\n",
            "\n",
            "WARNING:praw:It appears that you are using PRAW in an asynchronous environment.\n",
            "It is strongly recommended to use Async PRAW: https://asyncpraw.readthedocs.io.\n",
            "See https://praw.readthedocs.io/en/latest/getting_started/multiple_instances.html#discord-bots-and-asynchronous-environments for more info.\n",
            "\n",
            "WARNING:praw:It appears that you are using PRAW in an asynchronous environment.\n",
            "It is strongly recommended to use Async PRAW: https://asyncpraw.readthedocs.io.\n",
            "See https://praw.readthedocs.io/en/latest/getting_started/multiple_instances.html#discord-bots-and-asynchronous-environments for more info.\n",
            "\n",
            "WARNING:praw:It appears that you are using PRAW in an asynchronous environment.\n",
            "It is strongly recommended to use Async PRAW: https://asyncpraw.readthedocs.io.\n",
            "See https://praw.readthedocs.io/en/latest/getting_started/multiple_instances.html#discord-bots-and-asynchronous-environments for more info.\n",
            "\n",
            "WARNING:praw:It appears that you are using PRAW in an asynchronous environment.\n",
            "It is strongly recommended to use Async PRAW: https://asyncpraw.readthedocs.io.\n",
            "See https://praw.readthedocs.io/en/latest/getting_started/multiple_instances.html#discord-bots-and-asynchronous-environments for more info.\n",
            "\n",
            "WARNING:praw:It appears that you are using PRAW in an asynchronous environment.\n",
            "It is strongly recommended to use Async PRAW: https://asyncpraw.readthedocs.io.\n",
            "See https://praw.readthedocs.io/en/latest/getting_started/multiple_instances.html#discord-bots-and-asynchronous-environments for more info.\n",
            "\n",
            "WARNING:praw:It appears that you are using PRAW in an asynchronous environment.\n",
            "It is strongly recommended to use Async PRAW: https://asyncpraw.readthedocs.io.\n",
            "See https://praw.readthedocs.io/en/latest/getting_started/multiple_instances.html#discord-bots-and-asynchronous-environments for more info.\n",
            "\n",
            "WARNING:praw:It appears that you are using PRAW in an asynchronous environment.\n",
            "It is strongly recommended to use Async PRAW: https://asyncpraw.readthedocs.io.\n",
            "See https://praw.readthedocs.io/en/latest/getting_started/multiple_instances.html#discord-bots-and-asynchronous-environments for more info.\n",
            "\n",
            "WARNING:praw:It appears that you are using PRAW in an asynchronous environment.\n",
            "It is strongly recommended to use Async PRAW: https://asyncpraw.readthedocs.io.\n",
            "See https://praw.readthedocs.io/en/latest/getting_started/multiple_instances.html#discord-bots-and-asynchronous-environments for more info.\n",
            "\n",
            "WARNING:praw:It appears that you are using PRAW in an asynchronous environment.\n",
            "It is strongly recommended to use Async PRAW: https://asyncpraw.readthedocs.io.\n",
            "See https://praw.readthedocs.io/en/latest/getting_started/multiple_instances.html#discord-bots-and-asynchronous-environments for more info.\n",
            "\n",
            "WARNING:praw:It appears that you are using PRAW in an asynchronous environment.\n",
            "It is strongly recommended to use Async PRAW: https://asyncpraw.readthedocs.io.\n",
            "See https://praw.readthedocs.io/en/latest/getting_started/multiple_instances.html#discord-bots-and-asynchronous-environments for more info.\n",
            "\n",
            "WARNING:praw:It appears that you are using PRAW in an asynchronous environment.\n",
            "It is strongly recommended to use Async PRAW: https://asyncpraw.readthedocs.io.\n",
            "See https://praw.readthedocs.io/en/latest/getting_started/multiple_instances.html#discord-bots-and-asynchronous-environments for more info.\n",
            "\n",
            "WARNING:praw:It appears that you are using PRAW in an asynchronous environment.\n",
            "It is strongly recommended to use Async PRAW: https://asyncpraw.readthedocs.io.\n",
            "See https://praw.readthedocs.io/en/latest/getting_started/multiple_instances.html#discord-bots-and-asynchronous-environments for more info.\n",
            "\n",
            "WARNING:praw:It appears that you are using PRAW in an asynchronous environment.\n",
            "It is strongly recommended to use Async PRAW: https://asyncpraw.readthedocs.io.\n",
            "See https://praw.readthedocs.io/en/latest/getting_started/multiple_instances.html#discord-bots-and-asynchronous-environments for more info.\n",
            "\n",
            "WARNING:praw:It appears that you are using PRAW in an asynchronous environment.\n",
            "It is strongly recommended to use Async PRAW: https://asyncpraw.readthedocs.io.\n",
            "See https://praw.readthedocs.io/en/latest/getting_started/multiple_instances.html#discord-bots-and-asynchronous-environments for more info.\n",
            "\n",
            "WARNING:praw:It appears that you are using PRAW in an asynchronous environment.\n",
            "It is strongly recommended to use Async PRAW: https://asyncpraw.readthedocs.io.\n",
            "See https://praw.readthedocs.io/en/latest/getting_started/multiple_instances.html#discord-bots-and-asynchronous-environments for more info.\n",
            "\n",
            "WARNING:praw:It appears that you are using PRAW in an asynchronous environment.\n",
            "It is strongly recommended to use Async PRAW: https://asyncpraw.readthedocs.io.\n",
            "See https://praw.readthedocs.io/en/latest/getting_started/multiple_instances.html#discord-bots-and-asynchronous-environments for more info.\n",
            "\n",
            "WARNING:praw:It appears that you are using PRAW in an asynchronous environment.\n",
            "It is strongly recommended to use Async PRAW: https://asyncpraw.readthedocs.io.\n",
            "See https://praw.readthedocs.io/en/latest/getting_started/multiple_instances.html#discord-bots-and-asynchronous-environments for more info.\n",
            "\n",
            "WARNING:praw:It appears that you are using PRAW in an asynchronous environment.\n",
            "It is strongly recommended to use Async PRAW: https://asyncpraw.readthedocs.io.\n",
            "See https://praw.readthedocs.io/en/latest/getting_started/multiple_instances.html#discord-bots-and-asynchronous-environments for more info.\n",
            "\n",
            "WARNING:praw:It appears that you are using PRAW in an asynchronous environment.\n",
            "It is strongly recommended to use Async PRAW: https://asyncpraw.readthedocs.io.\n",
            "See https://praw.readthedocs.io/en/latest/getting_started/multiple_instances.html#discord-bots-and-asynchronous-environments for more info.\n",
            "\n",
            "WARNING:praw:It appears that you are using PRAW in an asynchronous environment.\n",
            "It is strongly recommended to use Async PRAW: https://asyncpraw.readthedocs.io.\n",
            "See https://praw.readthedocs.io/en/latest/getting_started/multiple_instances.html#discord-bots-and-asynchronous-environments for more info.\n",
            "\n",
            "WARNING:praw:It appears that you are using PRAW in an asynchronous environment.\n",
            "It is strongly recommended to use Async PRAW: https://asyncpraw.readthedocs.io.\n",
            "See https://praw.readthedocs.io/en/latest/getting_started/multiple_instances.html#discord-bots-and-asynchronous-environments for more info.\n",
            "\n",
            "WARNING:praw:It appears that you are using PRAW in an asynchronous environment.\n",
            "It is strongly recommended to use Async PRAW: https://asyncpraw.readthedocs.io.\n",
            "See https://praw.readthedocs.io/en/latest/getting_started/multiple_instances.html#discord-bots-and-asynchronous-environments for more info.\n",
            "\n",
            "WARNING:praw:It appears that you are using PRAW in an asynchronous environment.\n",
            "It is strongly recommended to use Async PRAW: https://asyncpraw.readthedocs.io.\n",
            "See https://praw.readthedocs.io/en/latest/getting_started/multiple_instances.html#discord-bots-and-asynchronous-environments for more info.\n",
            "\n",
            "WARNING:praw:It appears that you are using PRAW in an asynchronous environment.\n",
            "It is strongly recommended to use Async PRAW: https://asyncpraw.readthedocs.io.\n",
            "See https://praw.readthedocs.io/en/latest/getting_started/multiple_instances.html#discord-bots-and-asynchronous-environments for more info.\n",
            "\n",
            "WARNING:praw:It appears that you are using PRAW in an asynchronous environment.\n",
            "It is strongly recommended to use Async PRAW: https://asyncpraw.readthedocs.io.\n",
            "See https://praw.readthedocs.io/en/latest/getting_started/multiple_instances.html#discord-bots-and-asynchronous-environments for more info.\n",
            "\n",
            "WARNING:praw:It appears that you are using PRAW in an asynchronous environment.\n",
            "It is strongly recommended to use Async PRAW: https://asyncpraw.readthedocs.io.\n",
            "See https://praw.readthedocs.io/en/latest/getting_started/multiple_instances.html#discord-bots-and-asynchronous-environments for more info.\n",
            "\n",
            "WARNING:praw:It appears that you are using PRAW in an asynchronous environment.\n",
            "It is strongly recommended to use Async PRAW: https://asyncpraw.readthedocs.io.\n",
            "See https://praw.readthedocs.io/en/latest/getting_started/multiple_instances.html#discord-bots-and-asynchronous-environments for more info.\n",
            "\n",
            "WARNING:praw:It appears that you are using PRAW in an asynchronous environment.\n",
            "It is strongly recommended to use Async PRAW: https://asyncpraw.readthedocs.io.\n",
            "See https://praw.readthedocs.io/en/latest/getting_started/multiple_instances.html#discord-bots-and-asynchronous-environments for more info.\n",
            "\n",
            "WARNING:praw:It appears that you are using PRAW in an asynchronous environment.\n",
            "It is strongly recommended to use Async PRAW: https://asyncpraw.readthedocs.io.\n",
            "See https://praw.readthedocs.io/en/latest/getting_started/multiple_instances.html#discord-bots-and-asynchronous-environments for more info.\n",
            "\n",
            "WARNING:praw:It appears that you are using PRAW in an asynchronous environment.\n",
            "It is strongly recommended to use Async PRAW: https://asyncpraw.readthedocs.io.\n",
            "See https://praw.readthedocs.io/en/latest/getting_started/multiple_instances.html#discord-bots-and-asynchronous-environments for more info.\n",
            "\n",
            "WARNING:praw:It appears that you are using PRAW in an asynchronous environment.\n",
            "It is strongly recommended to use Async PRAW: https://asyncpraw.readthedocs.io.\n",
            "See https://praw.readthedocs.io/en/latest/getting_started/multiple_instances.html#discord-bots-and-asynchronous-environments for more info.\n",
            "\n",
            "WARNING:praw:It appears that you are using PRAW in an asynchronous environment.\n",
            "It is strongly recommended to use Async PRAW: https://asyncpraw.readthedocs.io.\n",
            "See https://praw.readthedocs.io/en/latest/getting_started/multiple_instances.html#discord-bots-and-asynchronous-environments for more info.\n",
            "\n",
            "WARNING:praw:It appears that you are using PRAW in an asynchronous environment.\n",
            "It is strongly recommended to use Async PRAW: https://asyncpraw.readthedocs.io.\n",
            "See https://praw.readthedocs.io/en/latest/getting_started/multiple_instances.html#discord-bots-and-asynchronous-environments for more info.\n",
            "\n",
            "WARNING:praw:It appears that you are using PRAW in an asynchronous environment.\n",
            "It is strongly recommended to use Async PRAW: https://asyncpraw.readthedocs.io.\n",
            "See https://praw.readthedocs.io/en/latest/getting_started/multiple_instances.html#discord-bots-and-asynchronous-environments for more info.\n",
            "\n",
            "WARNING:praw:It appears that you are using PRAW in an asynchronous environment.\n",
            "It is strongly recommended to use Async PRAW: https://asyncpraw.readthedocs.io.\n",
            "See https://praw.readthedocs.io/en/latest/getting_started/multiple_instances.html#discord-bots-and-asynchronous-environments for more info.\n",
            "\n",
            "WARNING:praw:It appears that you are using PRAW in an asynchronous environment.\n",
            "It is strongly recommended to use Async PRAW: https://asyncpraw.readthedocs.io.\n",
            "See https://praw.readthedocs.io/en/latest/getting_started/multiple_instances.html#discord-bots-and-asynchronous-environments for more info.\n",
            "\n",
            "WARNING:praw:It appears that you are using PRAW in an asynchronous environment.\n",
            "It is strongly recommended to use Async PRAW: https://asyncpraw.readthedocs.io.\n",
            "See https://praw.readthedocs.io/en/latest/getting_started/multiple_instances.html#discord-bots-and-asynchronous-environments for more info.\n",
            "\n",
            "WARNING:praw:It appears that you are using PRAW in an asynchronous environment.\n",
            "It is strongly recommended to use Async PRAW: https://asyncpraw.readthedocs.io.\n",
            "See https://praw.readthedocs.io/en/latest/getting_started/multiple_instances.html#discord-bots-and-asynchronous-environments for more info.\n",
            "\n",
            "WARNING:praw:It appears that you are using PRAW in an asynchronous environment.\n",
            "It is strongly recommended to use Async PRAW: https://asyncpraw.readthedocs.io.\n",
            "See https://praw.readthedocs.io/en/latest/getting_started/multiple_instances.html#discord-bots-and-asynchronous-environments for more info.\n",
            "\n",
            "WARNING:praw:It appears that you are using PRAW in an asynchronous environment.\n",
            "It is strongly recommended to use Async PRAW: https://asyncpraw.readthedocs.io.\n",
            "See https://praw.readthedocs.io/en/latest/getting_started/multiple_instances.html#discord-bots-and-asynchronous-environments for more info.\n",
            "\n",
            "WARNING:praw:It appears that you are using PRAW in an asynchronous environment.\n",
            "It is strongly recommended to use Async PRAW: https://asyncpraw.readthedocs.io.\n",
            "See https://praw.readthedocs.io/en/latest/getting_started/multiple_instances.html#discord-bots-and-asynchronous-environments for more info.\n",
            "\n",
            "WARNING:praw:It appears that you are using PRAW in an asynchronous environment.\n",
            "It is strongly recommended to use Async PRAW: https://asyncpraw.readthedocs.io.\n",
            "See https://praw.readthedocs.io/en/latest/getting_started/multiple_instances.html#discord-bots-and-asynchronous-environments for more info.\n",
            "\n",
            "WARNING:praw:It appears that you are using PRAW in an asynchronous environment.\n",
            "It is strongly recommended to use Async PRAW: https://asyncpraw.readthedocs.io.\n",
            "See https://praw.readthedocs.io/en/latest/getting_started/multiple_instances.html#discord-bots-and-asynchronous-environments for more info.\n",
            "\n"
          ]
        },
        {
          "output_type": "stream",
          "name": "stdout",
          "text": [
            "Data saved to gaming_data.csv\n"
          ]
        }
      ]
    },
    {
      "cell_type": "code",
      "source": [
        "import praw\n",
        "import pandas as pd\n",
        "import time\n",
        "\n",
        "# Authenticate with Reddit API\n",
        "reddit = praw.Reddit(\n",
        "    client_id=\"WmREH0nLvamlBpQ4Bld3BA\",          # Your Client ID\n",
        "    client_secret=\"1XHJjI-aaU0xYkWQZ7lDkoW239TNbA\",  # Your Client Secret\n",
        "    user_agent=\"u/Fit_Menu8118\",                  # Your User Agent\n",
        "    username=\"Fit_Menu8118\",           # Your Reddit username\n",
        "    password=\"Gotla@2277\"                        # Your Reddit password\n",
        ")\n",
        "\n",
        "# Function to gather data from a subreddit\n",
        "def gather_data(subreddit_name, run_duration):\n",
        "    subreddit = reddit.subreddit(subreddit_name)\n",
        "    start_time = time.time()\n",
        "    data = []\n",
        "\n",
        "    print(f\"Collecting data from r/{subreddit_name} for {run_duration} seconds...\")\n",
        "\n",
        "    try:\n",
        "        for submission in subreddit.new(limit=100):  # Adjust limit as needed\n",
        "            if time.time() - start_time > run_duration:\n",
        "                break\n",
        "\n",
        "            submission.comments.replace_more(limit=0)  # Load only top-level comments\n",
        "            for comment in submission.comments.list():\n",
        "                data.append({\n",
        "                    \"subreddit\": subreddit_name,\n",
        "                    \"submission_id\": submission.id,\n",
        "                    \"comment_id\": comment.id,\n",
        "                    \"parent_id\": comment.parent_id,\n",
        "                    \"source_author\": comment.author.name if comment.author else \"[deleted]\",\n",
        "                    \"text\": comment.body,\n",
        "                    \"title\": submission.title,\n",
        "                    \"created_utc\": comment.created_utc\n",
        "                })\n",
        "\n",
        "    except Exception as e:\n",
        "        print(f\"Error gathering data from r/{subreddit_name}: {e}\")\n",
        "\n",
        "    save_data(data, subreddit_name)\n",
        "\n",
        "# Function to save data to CSV\n",
        "def save_data(data, subreddit_name):\n",
        "    if not data:\n",
        "        print(f\"No data collected for {subreddit_name}\")\n",
        "        return\n",
        "\n",
        "    df = pd.DataFrame(data)\n",
        "    filename = f\"{subreddit_name}_data.csv\"\n",
        "    df.to_csv(filename, index=False)\n",
        "    print(f\"Data saved to {filename}\")\n",
        "\n",
        "# Main function\n",
        "if __name__ == \"__main__\":\n",
        "    # Subreddit to scrape and duration (in seconds)\n",
        "    subreddit_name = \"gaming\"  # Replace with your target subreddit\n",
        "    run_duration = 60  # Duration to collect data (e.g., 60 seconds)\n",
        "\n",
        "    # Start data collection\n",
        "    gather_data(subreddit_name, run_duration)"
      ],
      "metadata": {
        "colab": {
          "base_uri": "https://localhost:8080/"
        },
        "id": "Mv17F7RCi86t",
        "outputId": "db585e98-f23a-416f-dcc1-de754beb8d21"
      },
      "execution_count": null,
      "outputs": [
        {
          "output_type": "stream",
          "name": "stdout",
          "text": [
            "Collecting data from r/gaming for 60 seconds...\n",
            "Data saved to gaming_data.csv\n"
          ]
        }
      ]
    },
    {
      "cell_type": "code",
      "source": [
        "import logging\n",
        "logging.getLogger(\"praw\").setLevel(logging.ERROR)"
      ],
      "metadata": {
        "id": "UWhZJx33ivw9"
      },
      "execution_count": null,
      "outputs": []
    },
    {
      "cell_type": "code",
      "source": [
        "import pandas as pd\n",
        "\n",
        "# Load the CSV file\n",
        "df = pd.read_csv(\"gaming_data.csv\")\n",
        "\n",
        "# Display the data\n",
        "df"
      ],
      "metadata": {
        "colab": {
          "base_uri": "https://localhost:8080/",
          "height": 1000
        },
        "id": "2TGE8AFOjR_7",
        "outputId": "a6a2b57b-0369-49b6-93f0-f16ec7027d69"
      },
      "execution_count": null,
      "outputs": [
        {
          "output_type": "execute_result",
          "data": {
            "text/plain": [
              "     subreddit submission_id comment_id   parent_id    source_author  \\\n",
              "0       gaming       1jc9yu7    mi0kbqq  t3_1jc9yu7   Pale_Many_9855   \n",
              "1       gaming       1jc9yu7    mi0l7ie  t3_1jc9yu7       bookers555   \n",
              "2       gaming       1jc9yu7    mi0k3rd  t3_1jc9yu7   KaldarTheBrave   \n",
              "3       gaming       1jc9yu7    mi0kmxe  t3_1jc9yu7      theSkareqro   \n",
              "4       gaming       1jc9yu7    mi0l366  t3_1jc9yu7             XPMR   \n",
              "...        ...           ...        ...         ...              ...   \n",
              "8723    gaming       1jalvdn    mhmqvxw  t1_mhmppgb       PORK-LAZER   \n",
              "8724    gaming       1jalvdn    mhmpafi  t1_mhmonkg  TheUnforgiven54   \n",
              "8725    gaming       1jalvdn    mhq2po5  t1_mhn63fr            daniu   \n",
              "8726    gaming       1jalvdn    mhmsjmy  t1_mhmqhxq         willerBG   \n",
              "8727    gaming       1jalvdn    mhmsc71  t1_mhmqvxw    MalfeasantOwl   \n",
              "\n",
              "                                                   text  \\\n",
              "0     I might check it out when there's a good sale....   \n",
              "1     If it's good I'll get it around summer or so, ...   \n",
              "2                                                  Nope   \n",
              "3              Last AC I bought was AC2.. probably not.   \n",
              "4                                             Fuck yeah   \n",
              "...                                                 ...   \n",
              "8723                       Noitas a single player game?   \n",
              "8724  Welp, time for Mario Kart and Minecraft then, ...   \n",
              "8725  I would third, but it's called \"Lovers\", not \"...   \n",
              "8726           it have an excelent history, trust on me   \n",
              "8727  Pfff I’m an idiot. Didn’t notice local co-op. ...   \n",
              "\n",
              "                                                  title   created_utc  \n",
              "0              Are you buying Assassin's Creed Shadows?  1.742087e+09  \n",
              "1              Are you buying Assassin's Creed Shadows?  1.742087e+09  \n",
              "2              Are you buying Assassin's Creed Shadows?  1.742087e+09  \n",
              "3              Are you buying Assassin's Creed Shadows?  1.742087e+09  \n",
              "4              Are you buying Assassin's Creed Shadows?  1.742087e+09  \n",
              "...                                                 ...           ...  \n",
              "8723  Looking for good, lesser known local co-op games.  1.741899e+09  \n",
              "8724  Looking for good, lesser known local co-op games.  1.741898e+09  \n",
              "8725  Looking for good, lesser known local co-op games.  1.741948e+09  \n",
              "8726  Looking for good, lesser known local co-op games.  1.741899e+09  \n",
              "8727  Looking for good, lesser known local co-op games.  1.741899e+09  \n",
              "\n",
              "[8728 rows x 8 columns]"
            ],
            "text/html": [
              "\n",
              "  <div id=\"df-71001a9a-c09a-43d8-8352-4bb3c197a5ba\" class=\"colab-df-container\">\n",
              "    <div>\n",
              "<style scoped>\n",
              "    .dataframe tbody tr th:only-of-type {\n",
              "        vertical-align: middle;\n",
              "    }\n",
              "\n",
              "    .dataframe tbody tr th {\n",
              "        vertical-align: top;\n",
              "    }\n",
              "\n",
              "    .dataframe thead th {\n",
              "        text-align: right;\n",
              "    }\n",
              "</style>\n",
              "<table border=\"1\" class=\"dataframe\">\n",
              "  <thead>\n",
              "    <tr style=\"text-align: right;\">\n",
              "      <th></th>\n",
              "      <th>subreddit</th>\n",
              "      <th>submission_id</th>\n",
              "      <th>comment_id</th>\n",
              "      <th>parent_id</th>\n",
              "      <th>source_author</th>\n",
              "      <th>text</th>\n",
              "      <th>title</th>\n",
              "      <th>created_utc</th>\n",
              "    </tr>\n",
              "  </thead>\n",
              "  <tbody>\n",
              "    <tr>\n",
              "      <th>0</th>\n",
              "      <td>gaming</td>\n",
              "      <td>1jc9yu7</td>\n",
              "      <td>mi0kbqq</td>\n",
              "      <td>t3_1jc9yu7</td>\n",
              "      <td>Pale_Many_9855</td>\n",
              "      <td>I might check it out when there's a good sale....</td>\n",
              "      <td>Are you buying Assassin's Creed Shadows?</td>\n",
              "      <td>1.742087e+09</td>\n",
              "    </tr>\n",
              "    <tr>\n",
              "      <th>1</th>\n",
              "      <td>gaming</td>\n",
              "      <td>1jc9yu7</td>\n",
              "      <td>mi0l7ie</td>\n",
              "      <td>t3_1jc9yu7</td>\n",
              "      <td>bookers555</td>\n",
              "      <td>If it's good I'll get it around summer or so, ...</td>\n",
              "      <td>Are you buying Assassin's Creed Shadows?</td>\n",
              "      <td>1.742087e+09</td>\n",
              "    </tr>\n",
              "    <tr>\n",
              "      <th>2</th>\n",
              "      <td>gaming</td>\n",
              "      <td>1jc9yu7</td>\n",
              "      <td>mi0k3rd</td>\n",
              "      <td>t3_1jc9yu7</td>\n",
              "      <td>KaldarTheBrave</td>\n",
              "      <td>Nope</td>\n",
              "      <td>Are you buying Assassin's Creed Shadows?</td>\n",
              "      <td>1.742087e+09</td>\n",
              "    </tr>\n",
              "    <tr>\n",
              "      <th>3</th>\n",
              "      <td>gaming</td>\n",
              "      <td>1jc9yu7</td>\n",
              "      <td>mi0kmxe</td>\n",
              "      <td>t3_1jc9yu7</td>\n",
              "      <td>theSkareqro</td>\n",
              "      <td>Last AC I bought was AC2.. probably not.</td>\n",
              "      <td>Are you buying Assassin's Creed Shadows?</td>\n",
              "      <td>1.742087e+09</td>\n",
              "    </tr>\n",
              "    <tr>\n",
              "      <th>4</th>\n",
              "      <td>gaming</td>\n",
              "      <td>1jc9yu7</td>\n",
              "      <td>mi0l366</td>\n",
              "      <td>t3_1jc9yu7</td>\n",
              "      <td>XPMR</td>\n",
              "      <td>Fuck yeah</td>\n",
              "      <td>Are you buying Assassin's Creed Shadows?</td>\n",
              "      <td>1.742087e+09</td>\n",
              "    </tr>\n",
              "    <tr>\n",
              "      <th>...</th>\n",
              "      <td>...</td>\n",
              "      <td>...</td>\n",
              "      <td>...</td>\n",
              "      <td>...</td>\n",
              "      <td>...</td>\n",
              "      <td>...</td>\n",
              "      <td>...</td>\n",
              "      <td>...</td>\n",
              "    </tr>\n",
              "    <tr>\n",
              "      <th>8723</th>\n",
              "      <td>gaming</td>\n",
              "      <td>1jalvdn</td>\n",
              "      <td>mhmqvxw</td>\n",
              "      <td>t1_mhmppgb</td>\n",
              "      <td>PORK-LAZER</td>\n",
              "      <td>Noitas a single player game?</td>\n",
              "      <td>Looking for good, lesser known local co-op games.</td>\n",
              "      <td>1.741899e+09</td>\n",
              "    </tr>\n",
              "    <tr>\n",
              "      <th>8724</th>\n",
              "      <td>gaming</td>\n",
              "      <td>1jalvdn</td>\n",
              "      <td>mhmpafi</td>\n",
              "      <td>t1_mhmonkg</td>\n",
              "      <td>TheUnforgiven54</td>\n",
              "      <td>Welp, time for Mario Kart and Minecraft then, ...</td>\n",
              "      <td>Looking for good, lesser known local co-op games.</td>\n",
              "      <td>1.741898e+09</td>\n",
              "    </tr>\n",
              "    <tr>\n",
              "      <th>8725</th>\n",
              "      <td>gaming</td>\n",
              "      <td>1jalvdn</td>\n",
              "      <td>mhq2po5</td>\n",
              "      <td>t1_mhn63fr</td>\n",
              "      <td>daniu</td>\n",
              "      <td>I would third, but it's called \"Lovers\", not \"...</td>\n",
              "      <td>Looking for good, lesser known local co-op games.</td>\n",
              "      <td>1.741948e+09</td>\n",
              "    </tr>\n",
              "    <tr>\n",
              "      <th>8726</th>\n",
              "      <td>gaming</td>\n",
              "      <td>1jalvdn</td>\n",
              "      <td>mhmsjmy</td>\n",
              "      <td>t1_mhmqhxq</td>\n",
              "      <td>willerBG</td>\n",
              "      <td>it have an excelent history, trust on me</td>\n",
              "      <td>Looking for good, lesser known local co-op games.</td>\n",
              "      <td>1.741899e+09</td>\n",
              "    </tr>\n",
              "    <tr>\n",
              "      <th>8727</th>\n",
              "      <td>gaming</td>\n",
              "      <td>1jalvdn</td>\n",
              "      <td>mhmsc71</td>\n",
              "      <td>t1_mhmqvxw</td>\n",
              "      <td>MalfeasantOwl</td>\n",
              "      <td>Pfff I’m an idiot. Didn’t notice local co-op. ...</td>\n",
              "      <td>Looking for good, lesser known local co-op games.</td>\n",
              "      <td>1.741899e+09</td>\n",
              "    </tr>\n",
              "  </tbody>\n",
              "</table>\n",
              "<p>8728 rows × 8 columns</p>\n",
              "</div>\n",
              "    <div class=\"colab-df-buttons\">\n",
              "\n",
              "  <div class=\"colab-df-container\">\n",
              "    <button class=\"colab-df-convert\" onclick=\"convertToInteractive('df-71001a9a-c09a-43d8-8352-4bb3c197a5ba')\"\n",
              "            title=\"Convert this dataframe to an interactive table.\"\n",
              "            style=\"display:none;\">\n",
              "\n",
              "  <svg xmlns=\"http://www.w3.org/2000/svg\" height=\"24px\" viewBox=\"0 -960 960 960\">\n",
              "    <path d=\"M120-120v-720h720v720H120Zm60-500h600v-160H180v160Zm220 220h160v-160H400v160Zm0 220h160v-160H400v160ZM180-400h160v-160H180v160Zm440 0h160v-160H620v160ZM180-180h160v-160H180v160Zm440 0h160v-160H620v160Z\"/>\n",
              "  </svg>\n",
              "    </button>\n",
              "\n",
              "  <style>\n",
              "    .colab-df-container {\n",
              "      display:flex;\n",
              "      gap: 12px;\n",
              "    }\n",
              "\n",
              "    .colab-df-convert {\n",
              "      background-color: #E8F0FE;\n",
              "      border: none;\n",
              "      border-radius: 50%;\n",
              "      cursor: pointer;\n",
              "      display: none;\n",
              "      fill: #1967D2;\n",
              "      height: 32px;\n",
              "      padding: 0 0 0 0;\n",
              "      width: 32px;\n",
              "    }\n",
              "\n",
              "    .colab-df-convert:hover {\n",
              "      background-color: #E2EBFA;\n",
              "      box-shadow: 0px 1px 2px rgba(60, 64, 67, 0.3), 0px 1px 3px 1px rgba(60, 64, 67, 0.15);\n",
              "      fill: #174EA6;\n",
              "    }\n",
              "\n",
              "    .colab-df-buttons div {\n",
              "      margin-bottom: 4px;\n",
              "    }\n",
              "\n",
              "    [theme=dark] .colab-df-convert {\n",
              "      background-color: #3B4455;\n",
              "      fill: #D2E3FC;\n",
              "    }\n",
              "\n",
              "    [theme=dark] .colab-df-convert:hover {\n",
              "      background-color: #434B5C;\n",
              "      box-shadow: 0px 1px 3px 1px rgba(0, 0, 0, 0.15);\n",
              "      filter: drop-shadow(0px 1px 2px rgba(0, 0, 0, 0.3));\n",
              "      fill: #FFFFFF;\n",
              "    }\n",
              "  </style>\n",
              "\n",
              "    <script>\n",
              "      const buttonEl =\n",
              "        document.querySelector('#df-71001a9a-c09a-43d8-8352-4bb3c197a5ba button.colab-df-convert');\n",
              "      buttonEl.style.display =\n",
              "        google.colab.kernel.accessAllowed ? 'block' : 'none';\n",
              "\n",
              "      async function convertToInteractive(key) {\n",
              "        const element = document.querySelector('#df-71001a9a-c09a-43d8-8352-4bb3c197a5ba');\n",
              "        const dataTable =\n",
              "          await google.colab.kernel.invokeFunction('convertToInteractive',\n",
              "                                                    [key], {});\n",
              "        if (!dataTable) return;\n",
              "\n",
              "        const docLinkHtml = 'Like what you see? Visit the ' +\n",
              "          '<a target=\"_blank\" href=https://colab.research.google.com/notebooks/data_table.ipynb>data table notebook</a>'\n",
              "          + ' to learn more about interactive tables.';\n",
              "        element.innerHTML = '';\n",
              "        dataTable['output_type'] = 'display_data';\n",
              "        await google.colab.output.renderOutput(dataTable, element);\n",
              "        const docLink = document.createElement('div');\n",
              "        docLink.innerHTML = docLinkHtml;\n",
              "        element.appendChild(docLink);\n",
              "      }\n",
              "    </script>\n",
              "  </div>\n",
              "\n",
              "\n",
              "<div id=\"df-42666641-0996-4bf2-b005-ca9aea55dbc9\">\n",
              "  <button class=\"colab-df-quickchart\" onclick=\"quickchart('df-42666641-0996-4bf2-b005-ca9aea55dbc9')\"\n",
              "            title=\"Suggest charts\"\n",
              "            style=\"display:none;\">\n",
              "\n",
              "<svg xmlns=\"http://www.w3.org/2000/svg\" height=\"24px\"viewBox=\"0 0 24 24\"\n",
              "     width=\"24px\">\n",
              "    <g>\n",
              "        <path d=\"M19 3H5c-1.1 0-2 .9-2 2v14c0 1.1.9 2 2 2h14c1.1 0 2-.9 2-2V5c0-1.1-.9-2-2-2zM9 17H7v-7h2v7zm4 0h-2V7h2v10zm4 0h-2v-4h2v4z\"/>\n",
              "    </g>\n",
              "</svg>\n",
              "  </button>\n",
              "\n",
              "<style>\n",
              "  .colab-df-quickchart {\n",
              "      --bg-color: #E8F0FE;\n",
              "      --fill-color: #1967D2;\n",
              "      --hover-bg-color: #E2EBFA;\n",
              "      --hover-fill-color: #174EA6;\n",
              "      --disabled-fill-color: #AAA;\n",
              "      --disabled-bg-color: #DDD;\n",
              "  }\n",
              "\n",
              "  [theme=dark] .colab-df-quickchart {\n",
              "      --bg-color: #3B4455;\n",
              "      --fill-color: #D2E3FC;\n",
              "      --hover-bg-color: #434B5C;\n",
              "      --hover-fill-color: #FFFFFF;\n",
              "      --disabled-bg-color: #3B4455;\n",
              "      --disabled-fill-color: #666;\n",
              "  }\n",
              "\n",
              "  .colab-df-quickchart {\n",
              "    background-color: var(--bg-color);\n",
              "    border: none;\n",
              "    border-radius: 50%;\n",
              "    cursor: pointer;\n",
              "    display: none;\n",
              "    fill: var(--fill-color);\n",
              "    height: 32px;\n",
              "    padding: 0;\n",
              "    width: 32px;\n",
              "  }\n",
              "\n",
              "  .colab-df-quickchart:hover {\n",
              "    background-color: var(--hover-bg-color);\n",
              "    box-shadow: 0 1px 2px rgba(60, 64, 67, 0.3), 0 1px 3px 1px rgba(60, 64, 67, 0.15);\n",
              "    fill: var(--button-hover-fill-color);\n",
              "  }\n",
              "\n",
              "  .colab-df-quickchart-complete:disabled,\n",
              "  .colab-df-quickchart-complete:disabled:hover {\n",
              "    background-color: var(--disabled-bg-color);\n",
              "    fill: var(--disabled-fill-color);\n",
              "    box-shadow: none;\n",
              "  }\n",
              "\n",
              "  .colab-df-spinner {\n",
              "    border: 2px solid var(--fill-color);\n",
              "    border-color: transparent;\n",
              "    border-bottom-color: var(--fill-color);\n",
              "    animation:\n",
              "      spin 1s steps(1) infinite;\n",
              "  }\n",
              "\n",
              "  @keyframes spin {\n",
              "    0% {\n",
              "      border-color: transparent;\n",
              "      border-bottom-color: var(--fill-color);\n",
              "      border-left-color: var(--fill-color);\n",
              "    }\n",
              "    20% {\n",
              "      border-color: transparent;\n",
              "      border-left-color: var(--fill-color);\n",
              "      border-top-color: var(--fill-color);\n",
              "    }\n",
              "    30% {\n",
              "      border-color: transparent;\n",
              "      border-left-color: var(--fill-color);\n",
              "      border-top-color: var(--fill-color);\n",
              "      border-right-color: var(--fill-color);\n",
              "    }\n",
              "    40% {\n",
              "      border-color: transparent;\n",
              "      border-right-color: var(--fill-color);\n",
              "      border-top-color: var(--fill-color);\n",
              "    }\n",
              "    60% {\n",
              "      border-color: transparent;\n",
              "      border-right-color: var(--fill-color);\n",
              "    }\n",
              "    80% {\n",
              "      border-color: transparent;\n",
              "      border-right-color: var(--fill-color);\n",
              "      border-bottom-color: var(--fill-color);\n",
              "    }\n",
              "    90% {\n",
              "      border-color: transparent;\n",
              "      border-bottom-color: var(--fill-color);\n",
              "    }\n",
              "  }\n",
              "</style>\n",
              "\n",
              "  <script>\n",
              "    async function quickchart(key) {\n",
              "      const quickchartButtonEl =\n",
              "        document.querySelector('#' + key + ' button');\n",
              "      quickchartButtonEl.disabled = true;  // To prevent multiple clicks.\n",
              "      quickchartButtonEl.classList.add('colab-df-spinner');\n",
              "      try {\n",
              "        const charts = await google.colab.kernel.invokeFunction(\n",
              "            'suggestCharts', [key], {});\n",
              "      } catch (error) {\n",
              "        console.error('Error during call to suggestCharts:', error);\n",
              "      }\n",
              "      quickchartButtonEl.classList.remove('colab-df-spinner');\n",
              "      quickchartButtonEl.classList.add('colab-df-quickchart-complete');\n",
              "    }\n",
              "    (() => {\n",
              "      let quickchartButtonEl =\n",
              "        document.querySelector('#df-42666641-0996-4bf2-b005-ca9aea55dbc9 button');\n",
              "      quickchartButtonEl.style.display =\n",
              "        google.colab.kernel.accessAllowed ? 'block' : 'none';\n",
              "    })();\n",
              "  </script>\n",
              "</div>\n",
              "\n",
              "  <div id=\"id_e1f2fcb6-d33e-4f1b-98f8-8a2e79aab390\">\n",
              "    <style>\n",
              "      .colab-df-generate {\n",
              "        background-color: #E8F0FE;\n",
              "        border: none;\n",
              "        border-radius: 50%;\n",
              "        cursor: pointer;\n",
              "        display: none;\n",
              "        fill: #1967D2;\n",
              "        height: 32px;\n",
              "        padding: 0 0 0 0;\n",
              "        width: 32px;\n",
              "      }\n",
              "\n",
              "      .colab-df-generate:hover {\n",
              "        background-color: #E2EBFA;\n",
              "        box-shadow: 0px 1px 2px rgba(60, 64, 67, 0.3), 0px 1px 3px 1px rgba(60, 64, 67, 0.15);\n",
              "        fill: #174EA6;\n",
              "      }\n",
              "\n",
              "      [theme=dark] .colab-df-generate {\n",
              "        background-color: #3B4455;\n",
              "        fill: #D2E3FC;\n",
              "      }\n",
              "\n",
              "      [theme=dark] .colab-df-generate:hover {\n",
              "        background-color: #434B5C;\n",
              "        box-shadow: 0px 1px 3px 1px rgba(0, 0, 0, 0.15);\n",
              "        filter: drop-shadow(0px 1px 2px rgba(0, 0, 0, 0.3));\n",
              "        fill: #FFFFFF;\n",
              "      }\n",
              "    </style>\n",
              "    <button class=\"colab-df-generate\" onclick=\"generateWithVariable('df')\"\n",
              "            title=\"Generate code using this dataframe.\"\n",
              "            style=\"display:none;\">\n",
              "\n",
              "  <svg xmlns=\"http://www.w3.org/2000/svg\" height=\"24px\"viewBox=\"0 0 24 24\"\n",
              "       width=\"24px\">\n",
              "    <path d=\"M7,19H8.4L18.45,9,17,7.55,7,17.6ZM5,21V16.75L18.45,3.32a2,2,0,0,1,2.83,0l1.4,1.43a1.91,1.91,0,0,1,.58,1.4,1.91,1.91,0,0,1-.58,1.4L9.25,21ZM18.45,9,17,7.55Zm-12,3A5.31,5.31,0,0,0,4.9,8.1,5.31,5.31,0,0,0,1,6.5,5.31,5.31,0,0,0,4.9,4.9,5.31,5.31,0,0,0,6.5,1,5.31,5.31,0,0,0,8.1,4.9,5.31,5.31,0,0,0,12,6.5,5.46,5.46,0,0,0,6.5,12Z\"/>\n",
              "  </svg>\n",
              "    </button>\n",
              "    <script>\n",
              "      (() => {\n",
              "      const buttonEl =\n",
              "        document.querySelector('#id_e1f2fcb6-d33e-4f1b-98f8-8a2e79aab390 button.colab-df-generate');\n",
              "      buttonEl.style.display =\n",
              "        google.colab.kernel.accessAllowed ? 'block' : 'none';\n",
              "\n",
              "      buttonEl.onclick = () => {\n",
              "        google.colab.notebook.generateWithVariable('df');\n",
              "      }\n",
              "      })();\n",
              "    </script>\n",
              "  </div>\n",
              "\n",
              "    </div>\n",
              "  </div>\n"
            ],
            "application/vnd.google.colaboratory.intrinsic+json": {
              "type": "dataframe",
              "variable_name": "df",
              "summary": "{\n  \"name\": \"df\",\n  \"rows\": 8728,\n  \"fields\": [\n    {\n      \"column\": \"subreddit\",\n      \"properties\": {\n        \"dtype\": \"category\",\n        \"num_unique_values\": 1,\n        \"samples\": [\n          \"gaming\"\n        ],\n        \"semantic_type\": \"\",\n        \"description\": \"\"\n      }\n    },\n    {\n      \"column\": \"submission_id\",\n      \"properties\": {\n        \"dtype\": \"category\",\n        \"num_unique_values\": 97,\n        \"samples\": [\n          \"1jb7tlj\"\n        ],\n        \"semantic_type\": \"\",\n        \"description\": \"\"\n      }\n    },\n    {\n      \"column\": \"comment_id\",\n      \"properties\": {\n        \"dtype\": \"string\",\n        \"num_unique_values\": 8728,\n        \"samples\": [\n          \"mhyvbij\"\n        ],\n        \"semantic_type\": \"\",\n        \"description\": \"\"\n      }\n    },\n    {\n      \"column\": \"parent_id\",\n      \"properties\": {\n        \"dtype\": \"category\",\n        \"num_unique_values\": 2725,\n        \"samples\": [\n          \"t1_mhq4mr3\"\n        ],\n        \"semantic_type\": \"\",\n        \"description\": \"\"\n      }\n    },\n    {\n      \"column\": \"source_author\",\n      \"properties\": {\n        \"dtype\": \"string\",\n        \"num_unique_values\": 6129,\n        \"samples\": [\n          \"Rich-Ad-4674\"\n        ],\n        \"semantic_type\": \"\",\n        \"description\": \"\"\n      }\n    },\n    {\n      \"column\": \"text\",\n      \"properties\": {\n        \"dtype\": \"string\",\n        \"num_unique_values\": 8627,\n        \"samples\": [\n          \"My opinion is developers are emulating what is happening \\u201ccurrently\\u201d in warfare. It\\u2019s like how COD:MW was so huge in like 2007 (or w/e) bc folks were watching stuff about SF guys in NVGs smoking folks in the GWOT.\"\n        ],\n        \"semantic_type\": \"\",\n        \"description\": \"\"\n      }\n    },\n    {\n      \"column\": \"title\",\n      \"properties\": {\n        \"dtype\": \"category\",\n        \"num_unique_values\": 97,\n        \"samples\": [\n          \"What if Cyberpunk 2077 had AI artwork in it?\"\n        ],\n        \"semantic_type\": \"\",\n        \"description\": \"\"\n      }\n    },\n    {\n      \"column\": \"created_utc\",\n      \"properties\": {\n        \"dtype\": \"number\",\n        \"std\": 56270.4757205419,\n        \"min\": 1741897914.0,\n        \"max\": 1742088158.0,\n        \"num_unique_values\": 8459,\n        \"samples\": [\n          1741959532.0\n        ],\n        \"semantic_type\": \"\",\n        \"description\": \"\"\n      }\n    }\n  ]\n}"
            }
          },
          "metadata": {},
          "execution_count": 11
        }
      ]
    },
    {
      "cell_type": "code",
      "source": [
        "import os\n",
        "print(f\"File saved to: {os.path.abspath('gaming_data.csv')}\")"
      ],
      "metadata": {
        "colab": {
          "base_uri": "https://localhost:8080/"
        },
        "id": "FdOo4PTVkCQa",
        "outputId": "4bdf7b0a-5812-4840-a282-4b104bfba0ab"
      },
      "execution_count": null,
      "outputs": [
        {
          "output_type": "stream",
          "name": "stdout",
          "text": [
            "File saved to: /content/gaming_data.csv\n"
          ]
        }
      ]
    },
    {
      "cell_type": "code",
      "source": [
        "Data saved to gaming_data.csv"
      ],
      "metadata": {
        "colab": {
          "base_uri": "https://localhost:8080/",
          "height": 106
        },
        "id": "R4nw3odUkKRy",
        "outputId": "a1c22bd8-9e6e-4580-ad29-5fd968085e62"
      },
      "execution_count": null,
      "outputs": [
        {
          "output_type": "error",
          "ename": "SyntaxError",
          "evalue": "invalid syntax (<ipython-input-13-2c8f02411cc2>, line 1)",
          "traceback": [
            "\u001b[0;36m  File \u001b[0;32m\"<ipython-input-13-2c8f02411cc2>\"\u001b[0;36m, line \u001b[0;32m1\u001b[0m\n\u001b[0;31m    Data saved to gaming_data.csv\u001b[0m\n\u001b[0m         ^\u001b[0m\n\u001b[0;31mSyntaxError\u001b[0m\u001b[0;31m:\u001b[0m invalid syntax\n"
          ]
        }
      ]
    },
    {
      "cell_type": "code",
      "source": [
        "print(f\"Collected {len(data)} rows of data.\")"
      ],
      "metadata": {
        "colab": {
          "base_uri": "https://localhost:8080/",
          "height": 141
        },
        "id": "kLnar3RMkQeE",
        "outputId": "87167d2b-5e49-41eb-c35d-5881c8433b9f"
      },
      "execution_count": null,
      "outputs": [
        {
          "output_type": "error",
          "ename": "NameError",
          "evalue": "name 'data' is not defined",
          "traceback": [
            "\u001b[0;31m---------------------------------------------------------------------------\u001b[0m",
            "\u001b[0;31mNameError\u001b[0m                                 Traceback (most recent call last)",
            "\u001b[0;32m<ipython-input-14-b40a1a8919e3>\u001b[0m in \u001b[0;36m<cell line: 0>\u001b[0;34m()\u001b[0m\n\u001b[0;32m----> 1\u001b[0;31m \u001b[0mprint\u001b[0m\u001b[0;34m(\u001b[0m\u001b[0;34mf\"Collected {len(data)} rows of data.\"\u001b[0m\u001b[0;34m)\u001b[0m\u001b[0;34m\u001b[0m\u001b[0;34m\u001b[0m\u001b[0m\n\u001b[0m",
            "\u001b[0;31mNameError\u001b[0m: name 'data' is not defined"
          ]
        }
      ]
    },
    {
      "cell_type": "code",
      "source": [
        "import os\n",
        "\n",
        "def save_data(data, subreddit_name):\n",
        "    if not data:\n",
        "        print(f\"No data collected for {subreddit_name}\")\n",
        "        return\n",
        "\n",
        "    df = pd.DataFrame(data)\n",
        "    filename = f\"{subreddit_name}_data.csv\"\n",
        "    df.to_csv(filename, index=False)\n",
        "    print(f\"Data saved to {os.path.abspath(filename)}\")  # Print the full path of the file"
      ],
      "metadata": {
        "id": "kFlF13tJknfD"
      },
      "execution_count": null,
      "outputs": []
    },
    {
      "cell_type": "code",
      "source": [
        "import os\n",
        "\n",
        "def save_data(data, subreddit_name):\n",
        "    if not data:\n",
        "        print(f\"No data collected for {subreddit_name}\")\n",
        "        return\n",
        "\n",
        "    df = pd.DataFrame(data)\n",
        "    filename = f\"{subreddit_name}_data.csv\"\n",
        "    df.to_csv(filename, index=False)\n",
        "    print(f\"Data saved to {os.path.abspath(filename)}\")  # Print the full path of the file"
      ],
      "metadata": {
        "id": "C7qyh_CVkzob"
      },
      "execution_count": null,
      "outputs": []
    },
    {
      "cell_type": "code",
      "source": [
        "import os\n",
        "\n",
        "def save_data(data, subreddit_name):\n",
        "    if not data:\n",
        "        print(f\"No data collected for {subreddit_name}\")\n",
        "        return\n",
        "\n",
        "    df = pd.DataFrame(data)\n",
        "    filename = f\"{subreddit_name}_data.csv\"\n",
        "    df.to_csv(filename, index=False)\n",
        "    print(f\"Data saved to {os.path.abspath(filename)}\")  # Print the full path of the file"
      ],
      "metadata": {
        "id": "5eapDSbysHki"
      },
      "execution_count": null,
      "outputs": []
    },
    {
      "cell_type": "code",
      "source": [
        "import praw\n",
        "import pandas as pd\n",
        "import time\n",
        "import os\n",
        "\n",
        "# Authenticate with Reddit API\n",
        "try:\n",
        "    reddit = praw.Reddit(\n",
        "        client_id=\"WmREH0nLvamlBpQ4Bld3BA\",          # Your Client ID\n",
        "        client_secret=\"1XHJjI-aaU0xYkWQZ7lDkoW239TNbA\",  # Your Client Secret\n",
        "        user_agent=\"u/Fit_Menu8118\",                  # Your User Agent\n",
        "        username=\"shivasai0073@gmail.com\",           # Your Reddit username\n",
        "        password=\"Gotla@2277\"                        # Your Reddit password\n",
        "    )\n",
        "    print(\"Authentication successful!\")\n",
        "except Exception as e:\n",
        "    print(f\"Authentication failed: {e}\")\n",
        "    exit()\n",
        "\n",
        "# Function to gather data from a subreddit\n",
        "def gather_data(subreddit_name, run_duration):\n",
        "    subreddit = reddit.subreddit(subreddit_name)\n",
        "    start_time = time.time()\n",
        "    data = []\n",
        "\n",
        "    print(f\"Collecting data from r/{subreddit_name} for {run_duration} seconds...\")\n",
        "\n",
        "    try:\n",
        "        for submission in subreddit.new(limit=100):  # Adjust limit as needed\n",
        "            if time.time() - start_time > run_duration:\n",
        "                break\n",
        "\n",
        "            submission.comments.replace_more(limit=0)  # Load only top-level comments\n",
        "            for comment in submission.comments.list():\n",
        "                data.append({\n",
        "                    \"subreddit\": subreddit_name,\n",
        "                    \"submission_id\": submission.id,\n",
        "                    \"comment_id\": comment.id,\n",
        "                    \"parent_id\": comment.parent_id,\n",
        "                    \"source_author\": comment.author.name if comment.author else \"[deleted]\",\n",
        "                    \"text\": comment.body,\n",
        "                    \"title\": submission.title,\n",
        "                    \"created_utc\": comment.created_utc\n",
        "                })\n",
        "\n",
        "    except Exception as"
      ],
      "metadata": {
        "colab": {
          "base_uri": "https://localhost:8080/",
          "height": 106
        },
        "id": "5KFI_DC6saLI",
        "outputId": "657210da-3ff3-4a37-cd34-1c6996bf5212"
      },
      "execution_count": null,
      "outputs": [
        {
          "output_type": "error",
          "ename": "SyntaxError",
          "evalue": "invalid syntax (<ipython-input-19-4ec7c48f54ca>, line 46)",
          "traceback": [
            "\u001b[0;36m  File \u001b[0;32m\"<ipython-input-19-4ec7c48f54ca>\"\u001b[0;36m, line \u001b[0;32m46\u001b[0m\n\u001b[0;31m    except Exception as\u001b[0m\n\u001b[0m                       ^\u001b[0m\n\u001b[0;31mSyntaxError\u001b[0m\u001b[0;31m:\u001b[0m invalid syntax\n"
          ]
        }
      ]
    },
    {
      "cell_type": "code",
      "source": [
        "import praw\n",
        "import pandas as pd\n",
        "import time\n",
        "import os\n",
        "\n",
        "# Authenticate with Reddit API\n",
        "try:\n",
        "    reddit = praw.Reddit(\n",
        "        client_id=\"WmREH0nLvamlBpQ4Bld3BA\",          # Your Client ID\n",
        "        client_secret=\"1XHJjI-aaU0xYkWQZ7lDkoW239TNbA\",  # Your Client Secret\n",
        "        user_agent=\"u/Fit_Menu8118\",                  # Your User Agent\n",
        "        username=\"shivasai0073@gmail.com\",           # Your Reddit username\n",
        "        password=\"Gotla@2277\"                        # Your Reddit password\n",
        "    )\n",
        "    print(\"Authentication successful!\")\n",
        "except Exception as e:\n",
        "    print(f\"Authentication failed: {e}\")\n",
        "    exit()\n",
        "\n",
        "# Function to gather data from a subreddit\n",
        "def gather_data(subreddit_name, run_duration):\n",
        "    subreddit = reddit.subreddit(subreddit_name)\n",
        "    start_time = time.time()\n",
        "    data = []\n",
        "\n",
        "    print(f\"Collecting data from r/{subreddit_name} for {run_duration} seconds...\")\n",
        "\n",
        "    try:\n",
        "        for submission in subreddit.new(limit=100):  # Adjust limit as needed\n",
        "            if time.time() - start_time > run_duration:\n",
        "                break\n",
        "\n",
        "            submission.comments.replace_more(limit=0)  # Load only top-level comments\n",
        "            for comment in submission.comments.list():\n",
        "                data.append({\n",
        "                    \"subreddit\": subreddit_name,\n",
        "                    \"submission_id\": submission.id,\n",
        "                    \"comment_id\": comment.id,\n",
        "                    \"parent_id\": comment.parent_id,\n",
        "                    \"source_author\": comment.author.name if comment.author else \"[deleted]\",\n",
        "                    \"text\": comment.body,\n",
        "                    \"title\": submission.title,\n",
        "                    \"created_utc\": comment.created_utc\n",
        "                })\n",
        "\n",
        "    except Exception as e:\n",
        "        print(f\"Error gathering data from r/{subreddit_name}: {e}\")\n",
        "\n",
        "    save_data(data, subreddit_name)\n",
        "\n",
        "# Function to save data to CSV\n",
        "def save_data(data, subreddit_name):\n",
        "    if not data:\n",
        "        print(f\"No data collected for {subreddit_name}\")\n",
        "        return\n",
        "\n",
        "    df = pd.DataFrame(data)\n",
        "    filename = f\"{subreddit_name}_data.csv\"\n",
        "    df.to_csv(filename, index=False)\n",
        "    print(f\"Data saved to {os.path.abspath(filename)}\")  # Print the full path of the file\n",
        "\n",
        "# Main function\n",
        "if __name__ == \"__main__\":\n",
        "    # Subreddit to scrape and duration (in seconds)\n",
        "    subreddit_name = \"gaming\"  # Replace with your target subreddit\n",
        "    run_duration = 60  # Duration to collect data (e.g., 60 seconds)\n",
        "\n",
        "    # Start data collection\n",
        "    gather_data(subreddit_name, run_duration)"
      ],
      "metadata": {
        "colab": {
          "base_uri": "https://localhost:8080/"
        },
        "id": "kfs1BO0lse9j",
        "outputId": "3c7610eb-c6f8-4f75-8989-8278bd678ad3"
      },
      "execution_count": null,
      "outputs": [
        {
          "output_type": "stream",
          "name": "stdout",
          "text": [
            "Authentication successful!\n",
            "Collecting data from r/gaming for 60 seconds...\n",
            "Error gathering data from r/gaming: invalid_grant error processing request\n",
            "No data collected for gaming\n"
          ]
        }
      ]
    },
    {
      "cell_type": "code",
      "source": [
        "import praw\n",
        "import pandas as pd\n",
        "import time\n",
        "\n",
        "# Authenticate with Reddit API\n",
        "try:\n",
        "    reddit = praw.Reddit(\n",
        "        client_id=\"WmREH0nLvamlBpQ4Bld3BA\",          # Your Client ID\n",
        "        client_secret=\"1XHJjI-aaU0xYkWQZ7lDkoW239TNbA\",  # Your Client Secret\n",
        "        user_agent=\"u/Fit_Menu8118\",                  # Your User Agent\n",
        "        username=\"Fit_Menu8118\",           # Your Reddit username\n",
        "        password=\"Gotla@2277\"                        # Your Reddit password\n",
        "    )\n",
        "    print(\"Authentication successful!\")\n",
        "except Exception as e:\n",
        "    print(f\"Authentication failed: {e}\")\n",
        "    exit()\n",
        "\n",
        "# Function to gather data from a subreddit\n",
        "def gather_data(subreddit_name, run_duration):\n",
        "    subreddit = reddit.subreddit(subreddit_name)\n",
        "    start_time = time.time()\n",
        "    data = []\n",
        "\n",
        "    print(f\"Collecting data from r/{subreddit_name} for {run_duration} seconds...\")\n",
        "\n",
        "    try:\n",
        "        for submission in subreddit.new(limit=100):  # Adjust limit as needed\n",
        "            if time.time() - start_time > run_duration:\n",
        "                break\n",
        "\n",
        "            submission.comments.replace_more(limit=0)  # Load only top-level comments\n",
        "            for comment in submission.comments.list():\n",
        "                data.append({\n",
        "                    \"subreddit\": subreddit_name,\n",
        "                    \"submission_id\": submission.id,\n",
        "                    \"comment_id\": comment.id,\n",
        "                    \"parent_id\": comment.parent_id,\n",
        "                    \"source_author\": comment.author.name if comment.author else \"[deleted]\",\n",
        "                    \"text\": comment.body,\n",
        "                    \"title\": submission.title,\n",
        "                    \"created_utc\": comment.created_utc\n",
        "                })\n",
        "\n",
        "    except Exception as e:\n",
        "        print(f\"Error gathering data from r/{subreddit_name}: {e}\")\n",
        "\n",
        "    save_data(data, subreddit_name)\n",
        "\n",
        "# Function to save data to CSV\n",
        "def save_data(data, subreddit_name):\n",
        "    if not data:\n",
        "        print(f\"No data collected for {subreddit_name}\")\n",
        "        return\n",
        "\n",
        "    df = pd.DataFrame(data)\n",
        "    filename = f\"{subreddit_name}_data.csv\"\n",
        "    df.to_csv(filename, index=False)\n",
        "    print(f\"Data saved to {filename}\")\n",
        "\n",
        "# Main function\n",
        "if __name__ == \"__main__\":\n",
        "    # Subreddit to scrape and duration (in seconds)\n",
        "    subreddit_name = \"gaming\"  # Replace with your target subreddit\n",
        "    run_duration = 60  # Duration to collect data (e.g.,"
      ],
      "metadata": {
        "colab": {
          "base_uri": "https://localhost:8080/"
        },
        "id": "ygpwXrAIsvTf",
        "outputId": "3f91a93d-48a0-4326-ec1c-99d9c613df04"
      },
      "execution_count": null,
      "outputs": [
        {
          "output_type": "stream",
          "name": "stdout",
          "text": [
            "Authentication successful!\n"
          ]
        }
      ]
    },
    {
      "cell_type": "code",
      "source": [
        "import praw\n",
        "import pandas as pd\n",
        "import time\n",
        "\n",
        "# Authenticate with Reddit API\n",
        "try:\n",
        "    reddit = praw.Reddit(\n",
        "        client_id=\"WmREH0nLvamlBpQ4Bld3BA\",          # Your Client ID\n",
        "        client_secret=\"1XHJjI-aaU0xYkWQZ7lDkoW239TNbA\",  # Your Client Secret\n",
        "        user_agent=\"u/Fit_Menu8118\",                  # Your User Agent\n",
        "        username=\"Fit_Menu8118\",           # Your Reddit username\n",
        "        password=\"Gotla@2277\"                        # Your Reddit password\n",
        "    )\n",
        "    print(\"Authentication successful!\")\n",
        "except Exception as e:\n",
        "    print(f\"Authentication failed: {e}\")\n",
        "    exit()\n",
        "\n",
        "# Function to gather data from a subreddit\n",
        "def gather_data(subreddit_name, run_duration):\n",
        "    subreddit = reddit.subreddit(subreddit_name)\n",
        "    start_time = time.time()\n",
        "    data = []\n",
        "\n",
        "    print(f\"Collecting data from r/{subreddit_name} for {run_duration} seconds...\")\n",
        "\n",
        "    try:\n",
        "        for submission in subreddit.new(limit=100):  # Adjust limit as needed\n",
        "            if time.time() - start_time > run_duration:\n",
        "                break\n",
        "\n",
        "            submission.comments.replace_more(limit=0)  # Load only top-level comments\n",
        "            for comment in submission.comments.list():\n",
        "                data.append({\n",
        "                    \"subreddit\": subreddit_name,\n",
        "                    \"submission_id\": submission.id,\n",
        "                    \"comment_id\": comment.id,\n",
        "                    \"parent_id\": comment.parent_id,\n",
        "                    \"source_author\": comment.author.name if comment.author else \"[deleted]\",\n",
        "                    \"text\": comment.body,\n",
        "                    \"title\": submission.title,\n",
        "                    \"created_utc\": comment.created_utc\n",
        "                })\n",
        "\n",
        "    except Exception as e:\n",
        "        print(f\"Error gathering data from r/{subreddit_name}: {e}\")\n",
        "\n",
        "    save_data(data, subreddit_name)\n",
        "\n",
        "# Function to save data to CSV\n",
        "def save_data(data, subreddit_name):\n",
        "    if not data:\n",
        "        print(f\"No data collected for {subreddit_name}\")\n",
        "        return\n",
        "\n",
        "    df = pd.DataFrame(data)\n",
        "    filename = f\"{subreddit_name}_data.csv\"\n",
        "    df.to_csv(filename, index=False)\n",
        "    print(f\"Data saved to {filename}\")\n",
        "\n",
        "# Main function\n",
        "if __name__ == \"__main__\":\n",
        "    # Subreddit to scrape and duration (in seconds)\n",
        "    subreddit_name = \"gaming\"  # Replace with your target subreddit\n",
        "    run_duration = 60  # Duration to collect data (e.g.,"
      ],
      "metadata": {
        "colab": {
          "base_uri": "https://localhost:8080/"
        },
        "id": "1BHWW7U9tGSg",
        "outputId": "03def659-3d65-4841-b07f-3783a563f375"
      },
      "execution_count": null,
      "outputs": [
        {
          "output_type": "stream",
          "name": "stdout",
          "text": [
            "Authentication successful!\n"
          ]
        }
      ]
    },
    {
      "cell_type": "code",
      "source": [
        "import praw\n",
        "import pandas as pd\n",
        "import time\n",
        "\n",
        "# Authenticate with Reddit API\n",
        "try:\n",
        "    reddit = praw.Reddit(\n",
        "        client_id=\"WmREH0nLvamlBpQ4Bld3BA\",          # Your Client ID\n",
        "        client_secret=\"1XHJjI-aaU0xYkWQZ7lDkoW239TNbA\",  # Your Client Secret\n",
        "        user_agent=\"u/Fit_Menu8118\",                  # Your User Agent\n",
        "        username=\"Fit_Menu8118\",                      # Your Reddit username\n",
        "        password=\"Gotla@2277\"                        # Your Reddit password\n",
        "    )\n",
        "    print(\"Authentication successful!\")\n",
        "    print(f\"Logged in as: {reddit.user.me()}\")  # Test authentication\n",
        "except Exception as e:\n",
        "    print(f\"Authentication failed: {e}\")\n",
        "    exit()\n",
        "\n",
        "# Function to gather data from a subreddit\n",
        "def gather_data(subreddit_name, run_duration):\n",
        "    subreddit = reddit.subreddit(subreddit_name)\n",
        "    start_time = time.time()\n",
        "    data = []\n",
        "\n",
        "    print(f\"Collecting data from r/{subreddit_name} for {run_duration} seconds...\")\n",
        "\n",
        "    try:\n",
        "        for submission in subreddit.new(limit=100):  # Adjust limit as needed\n",
        "            if time.time() - start_time > run_duration:\n",
        "                break\n",
        "\n",
        "            submission.comments.replace_more(limit=0)  # Load only top-level comments\n",
        "            for comment in submission.comments.list():\n",
        "                data.append({\n",
        "                    \"subreddit\": subreddit_name,\n",
        "                    \"submission_id\": submission.id,\n",
        "                    \"comment_id\": comment.id,\n",
        "                    \"parent_id\": comment.parent_id,\n",
        "                    \"source_author\": comment.author.name if comment.author else \"[deleted]\",\n",
        "                    \"text\": comment.body,\n",
        "                    \"title\": submission.title,\n",
        "                    \"created_utc\": comment.created_utc\n",
        "                })\n",
        "\n",
        "    except Exception as e:\n",
        "        print(f\"Error gathering data from r/{subreddit_name}: {e}\")\n",
        "\n",
        "    save_data(data, subreddit_name)\n",
        "\n",
        "# Function to save data to CSV\n",
        "def save_data(data, subreddit_name):\n",
        "    if not data:\n",
        "        print(f\"No data collected for {subreddit_name}\")\n",
        "        return\n",
        "\n",
        "    df = pd.DataFrame(data)\n",
        "    filename = f\"{subreddit_name}_data.csv\"\n",
        "    df.to_csv(filename, index=False)\n",
        "    print(f\"Data saved to {filename}\")\n",
        "\n",
        "# Main function\n",
        "if __name__ == \"__main__\":\n",
        "    # Subreddit to scrape and duration (in seconds)\n",
        "    subreddit_name = \"gaming\"  # Replace with your target subreddit\n",
        "    run_duration = 60  # Duration to collect data (e.g., 60 seconds)\n",
        "\n",
        "    # Start data collection\n",
        "    gather_data(subreddit_name, run_duration)"
      ],
      "metadata": {
        "colab": {
          "base_uri": "https://localhost:8080/"
        },
        "id": "ieVjlPd-t8qq",
        "outputId": "c21759af-c3f6-4522-fe7a-8ab8e01e25e1"
      },
      "execution_count": null,
      "outputs": [
        {
          "output_type": "stream",
          "name": "stdout",
          "text": [
            "Authentication successful!\n",
            "Logged in as: Fit_Menu8118\n",
            "Collecting data from r/gaming for 60 seconds...\n",
            "Data saved to gaming_data.csv\n"
          ]
        }
      ]
    },
    {
      "cell_type": "code",
      "source": [
        "import praw\n",
        "import pandas as pd\n",
        "import time\n",
        "\n",
        "# Authenticate with Reddit API\n",
        "try:\n",
        "    reddit = praw.Reddit(\n",
        "        client_id=\"WmREH0nLvamlBpQ4Bld3BA\",          # Your Client ID\n",
        "        client_secret=\"1XHJjI-aaU0xYkWQZ7lDkoW239TNbA\",  # Your Client Secret\n",
        "        user_agent=\"u/Fit_Menu8118\",                  # Your User Agent\n",
        "        username=\"Fit_Menu8118\",                      # Your Reddit username\n",
        "        password=\"Gotla@2277\"                        # Your Reddit password\n",
        "    )\n",
        "    print(\"Authentication successful!\")\n",
        "    print(f\"Logged in as: {reddit.user.me()}\")  # Test authentication\n",
        "except Exception as e:\n",
        "    print(f\"Authentication failed: {e}\")\n",
        "    exit()\n",
        "\n",
        "# Function to gather data from a subreddit\n",
        "def gather_data(subreddit_name, run_duration):\n",
        "    subreddit = reddit.subreddit(subreddit_name)\n",
        "    start_time = time.time()\n",
        "    data = []\n",
        "\n",
        "    print(f\"Collecting data from {subreddit_name} for {run_duration} seconds...\")\n",
        "\n",
        "    try:\n",
        "        for submission in subreddit.new(limit=100):  # Adjust limit as needed\n",
        "            if time.time() - start_time > run_duration:\n",
        "                break\n",
        "\n",
        "            submission.comments.replace_more(limit=0)  # Load only top-level comments\n",
        "            for comment in submission.comments.list():\n",
        "                data.append({\n",
        "                    \"subreddit\": subreddit_name,\n",
        "                    \"submission_id\": submission.id,\n",
        "                    \"comment_id\": comment.id,\n",
        "                    \"parent_id\": comment.parent_id,\n",
        "                    \"source_author\": comment.author.name if comment.author else \"[deleted]\",\n",
        "                    \"text\": comment.body,\n",
        "                    \"title\": submission.title,\n",
        "                    \"created_utc\": comment.created_utc\n",
        "                })\n",
        "\n",
        "    except Exception as e:\n",
        "        print(f\"Error gathering data from {subreddit_name}: {e}\")\n",
        "\n",
        "    save_data(data, subreddit_name)\n",
        "\n",
        "# Function to save data to CSV\n",
        "def save_data(data, subreddit_name):\n",
        "    if not data:\n",
        "        print(f\"No data collected for {subreddit_name}\")\n",
        "        return\n",
        "\n",
        "    df = pd.DataFrame(data)\n",
        "    filename = f\"{subreddit_name.replace('/', '_')}_data.csv\"  # Replace '/' with '_' in filename\n",
        "    df.to_csv(filename, index=False)\n",
        "    print(f\"Data saved to {filename}\")\n",
        "\n",
        "# Main function\n",
        "if __name__ == \"__main__\":\n",
        "    # Subreddit to scrape and duration (in seconds)\n",
        "    subreddit_name = \"r/roosterteeth\"  # Updated to include 'r/' prefix\n",
        "    run_duration = 60  # Duration to collect data (e.g., 60 seconds)\n",
        "\n",
        "    # Start data collection\n",
        "    gather_data(subreddit_name, run_duration)"
      ],
      "metadata": {
        "colab": {
          "base_uri": "https://localhost:8080/",
          "height": 384
        },
        "id": "QSqKg0zEBUKO",
        "outputId": "0d256439-d46d-4d93-9f2c-0a8ff6f53ef6"
      },
      "execution_count": null,
      "outputs": [
        {
          "output_type": "error",
          "ename": "ModuleNotFoundError",
          "evalue": "No module named 'praw'",
          "traceback": [
            "\u001b[0;31m---------------------------------------------------------------------------\u001b[0m",
            "\u001b[0;31mModuleNotFoundError\u001b[0m                       Traceback (most recent call last)",
            "\u001b[0;32m<ipython-input-4-eee34f8c8076>\u001b[0m in \u001b[0;36m<cell line: 0>\u001b[0;34m()\u001b[0m\n\u001b[0;32m----> 1\u001b[0;31m \u001b[0;32mimport\u001b[0m \u001b[0mpraw\u001b[0m\u001b[0;34m\u001b[0m\u001b[0;34m\u001b[0m\u001b[0m\n\u001b[0m\u001b[1;32m      2\u001b[0m \u001b[0;32mimport\u001b[0m \u001b[0mpandas\u001b[0m \u001b[0;32mas\u001b[0m \u001b[0mpd\u001b[0m\u001b[0;34m\u001b[0m\u001b[0;34m\u001b[0m\u001b[0m\n\u001b[1;32m      3\u001b[0m \u001b[0;32mimport\u001b[0m \u001b[0mtime\u001b[0m\u001b[0;34m\u001b[0m\u001b[0;34m\u001b[0m\u001b[0m\n\u001b[1;32m      4\u001b[0m \u001b[0;34m\u001b[0m\u001b[0m\n\u001b[1;32m      5\u001b[0m \u001b[0;31m# Authenticate with Reddit API\u001b[0m\u001b[0;34m\u001b[0m\u001b[0;34m\u001b[0m\u001b[0m\n",
            "\u001b[0;31mModuleNotFoundError\u001b[0m: No module named 'praw'",
            "",
            "\u001b[0;31m---------------------------------------------------------------------------\u001b[0;32m\nNOTE: If your import is failing due to a missing package, you can\nmanually install dependencies using either !pip or !apt.\n\nTo view examples of installing some common dependencies, click the\n\"Open Examples\" button below.\n\u001b[0;31m---------------------------------------------------------------------------\u001b[0m\n"
          ],
          "errorDetails": {
            "actions": [
              {
                "action": "open_url",
                "actionText": "Open Examples",
                "url": "/notebooks/snippets/importing_libraries.ipynb"
              }
            ]
          }
        }
      ]
    },
    {
      "cell_type": "code",
      "source": [
        "!pip install praw"
      ],
      "metadata": {
        "colab": {
          "base_uri": "https://localhost:8080/"
        },
        "id": "cwmXDmeqFfB2",
        "outputId": "479e0cf2-f592-4402-fde7-3bd90df27110"
      },
      "execution_count": null,
      "outputs": [
        {
          "output_type": "stream",
          "name": "stdout",
          "text": [
            "Collecting praw\n",
            "  Downloading praw-7.8.1-py3-none-any.whl.metadata (9.4 kB)\n",
            "Collecting prawcore<3,>=2.4 (from praw)\n",
            "  Downloading prawcore-2.4.0-py3-none-any.whl.metadata (5.0 kB)\n",
            "Collecting update_checker>=0.18 (from praw)\n",
            "  Downloading update_checker-0.18.0-py3-none-any.whl.metadata (2.3 kB)\n",
            "Requirement already satisfied: websocket-client>=0.54.0 in /usr/local/lib/python3.11/dist-packages (from praw) (1.8.0)\n",
            "Requirement already satisfied: requests<3.0,>=2.6.0 in /usr/local/lib/python3.11/dist-packages (from prawcore<3,>=2.4->praw) (2.32.3)\n",
            "Requirement already satisfied: charset-normalizer<4,>=2 in /usr/local/lib/python3.11/dist-packages (from requests<3.0,>=2.6.0->prawcore<3,>=2.4->praw) (3.4.1)\n",
            "Requirement already satisfied: idna<4,>=2.5 in /usr/local/lib/python3.11/dist-packages (from requests<3.0,>=2.6.0->prawcore<3,>=2.4->praw) (3.10)\n",
            "Requirement already satisfied: urllib3<3,>=1.21.1 in /usr/local/lib/python3.11/dist-packages (from requests<3.0,>=2.6.0->prawcore<3,>=2.4->praw) (2.3.0)\n",
            "Requirement already satisfied: certifi>=2017.4.17 in /usr/local/lib/python3.11/dist-packages (from requests<3.0,>=2.6.0->prawcore<3,>=2.4->praw) (2025.1.31)\n",
            "Downloading praw-7.8.1-py3-none-any.whl (189 kB)\n",
            "\u001b[2K   \u001b[90m━━━━━━━━━━━━━━━━━━━━━━━━━━━━━━━━━━━━━━━━\u001b[0m \u001b[32m189.3/189.3 kB\u001b[0m \u001b[31m8.4 MB/s\u001b[0m eta \u001b[36m0:00:00\u001b[0m\n",
            "\u001b[?25hDownloading prawcore-2.4.0-py3-none-any.whl (17 kB)\n",
            "Downloading update_checker-0.18.0-py3-none-any.whl (7.0 kB)\n",
            "Installing collected packages: update_checker, prawcore, praw\n",
            "Successfully installed praw-7.8.1 prawcore-2.4.0 update_checker-0.18.0\n"
          ]
        }
      ]
    },
    {
      "cell_type": "code",
      "source": [
        "try:\n",
        "    import praw\n",
        "    import pandas as pd\n",
        "    import time\n",
        "except ImportError as e:\n",
        "    print(f\"Error: {e}\")\n",
        "    print(\"Installing missing libraries...\")\n",
        "    import subprocess\n",
        "    subprocess.run([\"pip\", \"install\", \"praw\", \"pandas\"])\n",
        "    import praw\n",
        "    import pandas as pd\n",
        "    import time\n",
        "\n",
        "# Authenticate with Reddit API\n",
        "try:\n",
        "    reddit = praw.Reddit(\n",
        "        client_id=\"WmREH0nLvamlBpQ4Bld3BA\",          # Your Client ID\n",
        "        client_secret=\"1XHJjI-aaU0xYkWQZ7lDkoW239TNbA\",  # Your Client Secret\n",
        "        user_agent=\"u/Fit_Menu8118\",                  # Your User Agent\n",
        "        username=\"Fit_Menu8118\",                      # Your Reddit username\n",
        "        password=\"Gotla@2277\"                        # Your Reddit password\n",
        "    )\n",
        "    print(\"Authentication successful!\")\n",
        "    print(f\"Logged in as: {reddit.user.me()}\")  # Test authentication\n",
        "except Exception as e:\n",
        "    print(f\"Authentication failed: {e}\")\n",
        "    exit()\n",
        "\n",
        "# Function to gather data from a subreddit\n",
        "def gather_data(subreddit_name, run_duration):\n",
        "    subreddit = reddit.subreddit(subreddit_name)\n",
        "    start_time = time.time()\n",
        "    data = []\n",
        "\n",
        "    print(f\"Collecting data from {subreddit_name} for {run_duration} seconds...\")\n",
        "\n",
        "    try:\n",
        "        for submission in subreddit.new(limit=100):  # Adjust limit as needed\n",
        "            if time.time() - start_time > run_duration:\n",
        "                break\n",
        "\n",
        "            submission.comments.replace_more(limit=0)  # Load only top-level comments\n",
        "            for comment in submission.comments.list():\n",
        "                data.append({\n",
        "                    \"subreddit\": subreddit_name,\n",
        "                    \"submission_id\": submission.id,\n",
        "                    \"comment_id\": comment.id,\n",
        "                    \"parent_id\": comment.parent_id,\n",
        "                    \"source_author\": comment.author.name if comment.author else \"[deleted]\",\n",
        "                    \"text\": comment.body,\n",
        "                    \"title\": submission.title,\n",
        "                    \"created_utc\": comment.created_utc\n",
        "                })\n",
        "\n",
        "    except Exception as e:\n",
        "        print(f\"Error gathering data from {subreddit_name}: {e}\")\n",
        "\n",
        "    save_data(data, subreddit_name)\n",
        "\n",
        "# Function to save data to CSV\n",
        "def save_data(data, subreddit_name):\n",
        "    if not data:\n",
        "        print(f\"No data collected for {subreddit_name}\")\n",
        "        return\n",
        "\n",
        "    df = pd.DataFrame(data)\n",
        "    filename = f\"{subreddit_name.replace('/', '_')}_data.csv\"  # Replace '/' with '_' in filename\n",
        "    df.to_csv(filename, index=False)\n",
        "    print(f\"Data saved to {filename}\")\n",
        "\n",
        "# Main function\n",
        "if __name__ == \"__main__\":\n",
        "    # Subreddit to scrape and duration (in seconds)\n",
        "    subreddit_name = \"r/roosterteeth\"  # Updated to include 'r/' prefix\n",
        "    run_duration = 60  # Duration to collect data (e.g., 60 seconds)\n",
        "\n",
        "    # Start data collection\n",
        "    gather_data(subreddit_name, run_duration)"
      ],
      "metadata": {
        "colab": {
          "base_uri": "https://localhost:8080/"
        },
        "id": "Oyfhr8-sFkXc",
        "outputId": "f41d251b-31ce-4c5f-e3f8-6a906aeb22d0"
      },
      "execution_count": null,
      "outputs": [
        {
          "output_type": "stream",
          "name": "stderr",
          "text": [
            "WARNING:praw:It appears that you are using PRAW in an asynchronous environment.\n",
            "It is strongly recommended to use Async PRAW: https://asyncpraw.readthedocs.io.\n",
            "See https://praw.readthedocs.io/en/latest/getting_started/multiple_instances.html#discord-bots-and-asynchronous-environments for more info.\n",
            "\n"
          ]
        },
        {
          "output_type": "stream",
          "name": "stdout",
          "text": [
            "Authentication successful!\n"
          ]
        },
        {
          "output_type": "stream",
          "name": "stderr",
          "text": [
            "WARNING:praw:It appears that you are using PRAW in an asynchronous environment.\n",
            "It is strongly recommended to use Async PRAW: https://asyncpraw.readthedocs.io.\n",
            "See https://praw.readthedocs.io/en/latest/getting_started/multiple_instances.html#discord-bots-and-asynchronous-environments for more info.\n",
            "\n"
          ]
        },
        {
          "output_type": "stream",
          "name": "stdout",
          "text": [
            "Logged in as: Fit_Menu8118\n",
            "Collecting data from r/roosterteeth for 60 seconds...\n",
            "Error gathering data from r/roosterteeth: received 400 HTTP response\n",
            "No data collected for r/roosterteeth\n"
          ]
        }
      ]
    },
    {
      "cell_type": "code",
      "source": [
        "import asyncpraw\n",
        "import pandas as pd\n",
        "import time\n",
        "import asyncio\n",
        "\n",
        "# Authenticate with Reddit API\n",
        "async def authenticate_reddit():\n",
        "    try:\n",
        "        reddit = asyncpraw.Reddit(\n",
        "            client_id=\"WmREH0nLvamlBpQ4Bld3BA\",          # Your Client ID\n",
        "            client_secret=\"1XHJjI-aaU0xYkWQZ7lDkoW239TNbA\",  # Your Client Secret\n",
        "            user_agent=\"u/Fit_Menu8118\",                  # Your User Agent\n",
        "            username=\"Fit_Menu8118\",                      # Your Reddit username\n",
        "            password=\"Gotla@2277\"                        # Your Reddit password\n",
        "        )\n",
        "        print(\"Authentication successful!\")\n",
        "        print(f\"Logged in as: {await reddit.user.me()}\")  # Test authentication\n",
        "        return reddit\n",
        "    except Exception as e:\n",
        "        print(f\"Authentication failed: {e}\")\n",
        "        return None\n",
        "\n",
        "# Function to gather data from a subreddit\n",
        "async def gather_data(subreddit_name, run_duration):\n",
        "    reddit = await authenticate_reddit()\n",
        "    if not reddit:\n",
        "        return\n",
        "\n",
        "    subreddit = await reddit.subreddit(subreddit_name)\n",
        "    start_time = time.time()\n",
        "    data = []\n",
        "\n",
        "    print(f\"Collecting data from {subreddit_name} for {run_duration} seconds...\")\n",
        "\n",
        "    try:\n",
        "        async for submission in subreddit.new(limit=100):  # Adjust limit as needed\n",
        "            if time.time() - start_time > run_duration:\n",
        "                break\n",
        "\n",
        "            await submission.load()\n",
        "            submission.comments.replace_more(limit=0)  # Load only top-level comments\n",
        "            for comment in submission.comments.list():\n",
        "                data.append({\n",
        "                    \"subreddit\": subreddit_name,\n",
        "                    \"submission_id\": submission.id,\n",
        "                    \"comment_id\": comment.id,\n",
        "                    \"parent_id\": comment.parent_id,\n",
        "                    \"source_author\": comment.author.name if comment.author else \"[deleted]\",\n",
        "                    \"text\": comment.body,\n",
        "                    \"title\": submission.title,\n",
        "                    \"created_utc\": comment.created_utc\n",
        "                })\n",
        "\n",
        "            # Add a delay to avoid hitting rate limits\n",
        "            await asyncio.sleep(2)\n",
        "\n",
        "    except Exception as e:\n",
        "        print(f\"Error gathering data from {subreddit_name}: {e}\")\n",
        "\n",
        "    await reddit.close()\n",
        "    save_data(data, subreddit_name)\n",
        "\n",
        "# Function to save data to CSV\n",
        "def save_data(data, subreddit_name):\n",
        "    if not data:\n",
        "        print(f\"No data collected for {subreddit_name}\")\n",
        "        return\n",
        "\n",
        "    df = pd.DataFrame(data)\n",
        "    filename = f\"{subreddit_name.replace('/', '_')}_data.csv\"  # Replace '/' with '_' in filename\n",
        "    df.to_csv(filename, index=False)\n",
        "    print(f\"Data saved to {filename}\")\n",
        "\n",
        "# Main function\n",
        "async def main():\n",
        "    # Subreddit to scrape and duration (in seconds)\n",
        "    subreddit_name = \"roosterteeth\"  # Subreddit name without 'r/'\n",
        "    run_duration = 60  # Duration to collect data (e.g., 60 seconds)\n",
        "\n",
        "    # Start data collection\n",
        "    await gather_data(subreddit_name, run_duration)\n",
        "\n",
        "# Run the script\n",
        "if __name__ == \"__main__\":\n",
        "    asyncio.run(main())"
      ],
      "metadata": {
        "colab": {
          "base_uri": "https://localhost:8080/",
          "height": 384
        },
        "id": "BWvaQ9iSF_gh",
        "outputId": "7bcab349-b20f-4410-d43e-81bcf7d61474"
      },
      "execution_count": null,
      "outputs": [
        {
          "output_type": "error",
          "ename": "ModuleNotFoundError",
          "evalue": "No module named 'asyncpraw'",
          "traceback": [
            "\u001b[0;31m---------------------------------------------------------------------------\u001b[0m",
            "\u001b[0;31mModuleNotFoundError\u001b[0m                       Traceback (most recent call last)",
            "\u001b[0;32m<ipython-input-7-ad2b5c0ab290>\u001b[0m in \u001b[0;36m<cell line: 0>\u001b[0;34m()\u001b[0m\n\u001b[0;32m----> 1\u001b[0;31m \u001b[0;32mimport\u001b[0m \u001b[0masyncpraw\u001b[0m\u001b[0;34m\u001b[0m\u001b[0;34m\u001b[0m\u001b[0m\n\u001b[0m\u001b[1;32m      2\u001b[0m \u001b[0;32mimport\u001b[0m \u001b[0mpandas\u001b[0m \u001b[0;32mas\u001b[0m \u001b[0mpd\u001b[0m\u001b[0;34m\u001b[0m\u001b[0;34m\u001b[0m\u001b[0m\n\u001b[1;32m      3\u001b[0m \u001b[0;32mimport\u001b[0m \u001b[0mtime\u001b[0m\u001b[0;34m\u001b[0m\u001b[0;34m\u001b[0m\u001b[0m\n\u001b[1;32m      4\u001b[0m \u001b[0;32mimport\u001b[0m \u001b[0masyncio\u001b[0m\u001b[0;34m\u001b[0m\u001b[0;34m\u001b[0m\u001b[0m\n\u001b[1;32m      5\u001b[0m \u001b[0;34m\u001b[0m\u001b[0m\n",
            "\u001b[0;31mModuleNotFoundError\u001b[0m: No module named 'asyncpraw'",
            "",
            "\u001b[0;31m---------------------------------------------------------------------------\u001b[0;32m\nNOTE: If your import is failing due to a missing package, you can\nmanually install dependencies using either !pip or !apt.\n\nTo view examples of installing some common dependencies, click the\n\"Open Examples\" button below.\n\u001b[0;31m---------------------------------------------------------------------------\u001b[0m\n"
          ],
          "errorDetails": {
            "actions": [
              {
                "action": "open_url",
                "actionText": "Open Examples",
                "url": "/notebooks/snippets/importing_libraries.ipynb"
              }
            ]
          }
        }
      ]
    },
    {
      "cell_type": "code",
      "source": [
        "pip install asyncpraw"
      ],
      "metadata": {
        "colab": {
          "base_uri": "https://localhost:8080/"
        },
        "id": "jQk6VijUGCWU",
        "outputId": "8f9ad914-98d3-4929-e3d8-1bd30f9b95d8"
      },
      "execution_count": null,
      "outputs": [
        {
          "output_type": "stream",
          "name": "stdout",
          "text": [
            "Collecting asyncpraw\n",
            "  Downloading asyncpraw-7.8.1-py3-none-any.whl.metadata (9.0 kB)\n",
            "Collecting aiofiles (from asyncpraw)\n",
            "  Downloading aiofiles-24.1.0-py3-none-any.whl.metadata (10 kB)\n",
            "Requirement already satisfied: aiohttp<4 in /usr/local/lib/python3.11/dist-packages (from asyncpraw) (3.11.13)\n",
            "Collecting aiosqlite<=0.17.0 (from asyncpraw)\n",
            "  Downloading aiosqlite-0.17.0-py3-none-any.whl.metadata (4.1 kB)\n",
            "Collecting asyncprawcore<3,>=2.4 (from asyncpraw)\n",
            "  Downloading asyncprawcore-2.4.0-py3-none-any.whl.metadata (5.5 kB)\n",
            "Requirement already satisfied: update_checker>=0.18 in /usr/local/lib/python3.11/dist-packages (from asyncpraw) (0.18.0)\n",
            "Requirement already satisfied: aiohappyeyeballs>=2.3.0 in /usr/local/lib/python3.11/dist-packages (from aiohttp<4->asyncpraw) (2.6.1)\n",
            "Requirement already satisfied: aiosignal>=1.1.2 in /usr/local/lib/python3.11/dist-packages (from aiohttp<4->asyncpraw) (1.3.2)\n",
            "Requirement already satisfied: attrs>=17.3.0 in /usr/local/lib/python3.11/dist-packages (from aiohttp<4->asyncpraw) (25.3.0)\n",
            "Requirement already satisfied: frozenlist>=1.1.1 in /usr/local/lib/python3.11/dist-packages (from aiohttp<4->asyncpraw) (1.5.0)\n",
            "Requirement already satisfied: multidict<7.0,>=4.5 in /usr/local/lib/python3.11/dist-packages (from aiohttp<4->asyncpraw) (6.1.0)\n",
            "Requirement already satisfied: propcache>=0.2.0 in /usr/local/lib/python3.11/dist-packages (from aiohttp<4->asyncpraw) (0.3.0)\n",
            "Requirement already satisfied: yarl<2.0,>=1.17.0 in /usr/local/lib/python3.11/dist-packages (from aiohttp<4->asyncpraw) (1.18.3)\n",
            "Requirement already satisfied: typing_extensions>=3.7.2 in /usr/local/lib/python3.11/dist-packages (from aiosqlite<=0.17.0->asyncpraw) (4.12.2)\n",
            "Requirement already satisfied: requests>=2.3.0 in /usr/local/lib/python3.11/dist-packages (from update_checker>=0.18->asyncpraw) (2.32.3)\n",
            "Requirement already satisfied: charset-normalizer<4,>=2 in /usr/local/lib/python3.11/dist-packages (from requests>=2.3.0->update_checker>=0.18->asyncpraw) (3.4.1)\n",
            "Requirement already satisfied: idna<4,>=2.5 in /usr/local/lib/python3.11/dist-packages (from requests>=2.3.0->update_checker>=0.18->asyncpraw) (3.10)\n",
            "Requirement already satisfied: urllib3<3,>=1.21.1 in /usr/local/lib/python3.11/dist-packages (from requests>=2.3.0->update_checker>=0.18->asyncpraw) (2.3.0)\n",
            "Requirement already satisfied: certifi>=2017.4.17 in /usr/local/lib/python3.11/dist-packages (from requests>=2.3.0->update_checker>=0.18->asyncpraw) (2025.1.31)\n",
            "Downloading asyncpraw-7.8.1-py3-none-any.whl (196 kB)\n",
            "\u001b[2K   \u001b[90m━━━━━━━━━━━━━━━━━━━━━━━━━━━━━━━━━━━━━━━━\u001b[0m \u001b[32m196.4/196.4 kB\u001b[0m \u001b[31m8.6 MB/s\u001b[0m eta \u001b[36m0:00:00\u001b[0m\n",
            "\u001b[?25hDownloading aiosqlite-0.17.0-py3-none-any.whl (15 kB)\n",
            "Downloading asyncprawcore-2.4.0-py3-none-any.whl (19 kB)\n",
            "Downloading aiofiles-24.1.0-py3-none-any.whl (15 kB)\n",
            "Installing collected packages: aiosqlite, aiofiles, asyncprawcore, asyncpraw\n",
            "Successfully installed aiofiles-24.1.0 aiosqlite-0.17.0 asyncpraw-7.8.1 asyncprawcore-2.4.0\n"
          ]
        }
      ]
    },
    {
      "cell_type": "code",
      "source": [
        "import asyncpraw\n",
        "import pandas as pd\n",
        "import time\n",
        "import asyncio\n",
        "\n",
        "# Authenticate with Reddit API\n",
        "async def authenticate_reddit():\n",
        "    try:\n",
        "        reddit = asyncpraw.Reddit(\n",
        "            client_id=\"WmREH0nLvamlBpQ4Bld3BA\",          # Your Client ID\n",
        "            client_secret=\"1XHJjI-aaU0xYkWQZ7lDkoW239TNbA\",  # Your Client Secret\n",
        "            user_agent=\"u/Fit_Menu8118\",                  # Your User Agent\n",
        "            username=\"Fit_Menu8118\",                      # Your Reddit username\n",
        "            password=\"Gotla@2277\"                        # Your Reddit password\n",
        "        )\n",
        "        print(\"Authentication successful!\")\n",
        "        print(f\"Logged in as: {await reddit.user.me()}\")  # Test authentication\n",
        "        return reddit\n",
        "    except Exception as e:\n",
        "        print(f\"Authentication failed: {e}\")\n",
        "        return None\n",
        "\n",
        "# Function to gather data from a subreddit\n",
        "async def gather_data(subreddit_name, run_duration):\n",
        "    reddit = await authenticate_reddit()\n",
        "    if not reddit:\n",
        "        return\n",
        "\n",
        "    subreddit = await reddit.subreddit(subreddit_name)\n",
        "    start_time = time.time()\n",
        "    data = []\n",
        "\n",
        "    print(f\"Collecting data from {subreddit_name} for {run_duration} seconds...\")\n",
        "\n",
        "    try:\n",
        "        async for submission in subreddit.new(limit=100):  # Adjust limit as needed\n",
        "            if time.time() - start_time > run_duration:\n",
        "                break\n",
        "\n",
        "            await submission.load()\n",
        "            submission.comments.replace_more(limit=0)  # Load only top-level comments\n",
        "            for comment in submission.comments.list():\n",
        "                data.append({\n",
        "                    \"subreddit\": subreddit_name,\n",
        "                    \"submission_id\": submission.id,\n",
        "                    \"comment_id\": comment.id,\n",
        "                    \"parent_id\": comment.parent_id,\n",
        "                    \"source_author\": comment.author.name if comment.author else \"[deleted]\",\n",
        "                    \"text\": comment.body,\n",
        "                    \"title\": submission.title,\n",
        "                    \"created_utc\": comment.created_utc\n",
        "                })\n",
        "\n",
        "            # Add a delay to avoid hitting rate limits\n",
        "            await asyncio.sleep(2)\n",
        "\n",
        "    except Exception as e:\n",
        "        print(f\"Error gathering data from {subreddit_name}: {e}\")\n",
        "\n",
        "    await reddit.close()\n",
        "    save_data(data, subreddit_name)\n",
        "\n",
        "# Function to save data to CSV\n",
        "def save_data(data, subreddit_name):\n",
        "    if not data:\n",
        "        print(f\"No data collected for {subreddit_name}\")\n",
        "        return\n",
        "\n",
        "    df = pd.DataFrame(data)\n",
        "    filename = f\"{subreddit_name.replace('/', '_')}_data.csv\"  # Replace '/' with '_' in filename\n",
        "    df.to_csv(filename, index=False)\n",
        "    print(f\"Data saved to {filename}\")\n",
        "\n",
        "# Main function\n",
        "async def main():\n",
        "    # Subreddit to scrape and duration (in seconds)\n",
        "    subreddit_name = \"roosterteeth\"  # Subreddit name without 'r/'\n",
        "    run_duration = 60  # Duration to collect data (e.g., 60 seconds)\n",
        "\n",
        "    # Start data collection\n",
        "    await gather_data(subreddit_name, run_duration)\n",
        "\n",
        "# Run the script\n",
        "if __name__ == \"__main__\":\n",
        "    asyncio.run(main())"
      ],
      "metadata": {
        "colab": {
          "base_uri": "https://localhost:8080/",
          "height": 297
        },
        "id": "hUdJxcZrGJBs",
        "outputId": "3453709f-8e4c-4ff2-95b6-a44e72457a7e"
      },
      "execution_count": null,
      "outputs": [
        {
          "output_type": "error",
          "ename": "RuntimeError",
          "evalue": "asyncio.run() cannot be called from a running event loop",
          "traceback": [
            "\u001b[0;31m---------------------------------------------------------------------------\u001b[0m",
            "\u001b[0;31mRuntimeError\u001b[0m                              Traceback (most recent call last)",
            "\u001b[0;32m<ipython-input-9-ad2b5c0ab290>\u001b[0m in \u001b[0;36m<cell line: 0>\u001b[0;34m()\u001b[0m\n\u001b[1;32m     83\u001b[0m \u001b[0;31m# Run the script\u001b[0m\u001b[0;34m\u001b[0m\u001b[0;34m\u001b[0m\u001b[0m\n\u001b[1;32m     84\u001b[0m \u001b[0;32mif\u001b[0m \u001b[0m__name__\u001b[0m \u001b[0;34m==\u001b[0m \u001b[0;34m\"__main__\"\u001b[0m\u001b[0;34m:\u001b[0m\u001b[0;34m\u001b[0m\u001b[0;34m\u001b[0m\u001b[0m\n\u001b[0;32m---> 85\u001b[0;31m     \u001b[0masyncio\u001b[0m\u001b[0;34m.\u001b[0m\u001b[0mrun\u001b[0m\u001b[0;34m(\u001b[0m\u001b[0mmain\u001b[0m\u001b[0;34m(\u001b[0m\u001b[0;34m)\u001b[0m\u001b[0;34m)\u001b[0m\u001b[0;34m\u001b[0m\u001b[0;34m\u001b[0m\u001b[0m\n\u001b[0m",
            "\u001b[0;32m/usr/lib/python3.11/asyncio/runners.py\u001b[0m in \u001b[0;36mrun\u001b[0;34m(main, debug)\u001b[0m\n\u001b[1;32m    184\u001b[0m     \u001b[0;32mif\u001b[0m \u001b[0mevents\u001b[0m\u001b[0;34m.\u001b[0m\u001b[0m_get_running_loop\u001b[0m\u001b[0;34m(\u001b[0m\u001b[0;34m)\u001b[0m \u001b[0;32mis\u001b[0m \u001b[0;32mnot\u001b[0m \u001b[0;32mNone\u001b[0m\u001b[0;34m:\u001b[0m\u001b[0;34m\u001b[0m\u001b[0;34m\u001b[0m\u001b[0m\n\u001b[1;32m    185\u001b[0m         \u001b[0;31m# fail fast with short traceback\u001b[0m\u001b[0;34m\u001b[0m\u001b[0;34m\u001b[0m\u001b[0m\n\u001b[0;32m--> 186\u001b[0;31m         raise RuntimeError(\n\u001b[0m\u001b[1;32m    187\u001b[0m             \"asyncio.run() cannot be called from a running event loop\")\n\u001b[1;32m    188\u001b[0m \u001b[0;34m\u001b[0m\u001b[0m\n",
            "\u001b[0;31mRuntimeError\u001b[0m: asyncio.run() cannot be called from a running event loop"
          ]
        }
      ]
    },
    {
      "cell_type": "code",
      "source": [
        "await main()"
      ],
      "metadata": {
        "colab": {
          "base_uri": "https://localhost:8080/"
        },
        "id": "FH0N_XDGGXKc",
        "outputId": "09fe5ce4-e97c-4f8b-f55b-404a9c4881a8"
      },
      "execution_count": null,
      "outputs": [
        {
          "output_type": "stream",
          "name": "stdout",
          "text": [
            "Authentication successful!\n",
            "Logged in as: Fit_Menu8118\n",
            "Collecting data from roosterteeth for 60 seconds...\n"
          ]
        },
        {
          "output_type": "stream",
          "name": "stderr",
          "text": [
            "<ipython-input-9-ad2b5c0ab290>:41: RuntimeWarning: coroutine 'CommentForest.replace_more' was never awaited\n",
            "  submission.comments.replace_more(limit=0)  # Load only top-level comments\n",
            "RuntimeWarning: Enable tracemalloc to get the object allocation traceback\n"
          ]
        },
        {
          "output_type": "stream",
          "name": "stdout",
          "text": [
            "Data saved to roosterteeth_data.csv\n"
          ]
        }
      ]
    },
    {
      "cell_type": "code",
      "source": [
        "!pip install nest_asyncio"
      ],
      "metadata": {
        "colab": {
          "base_uri": "https://localhost:8080/"
        },
        "id": "14rGB1yKGZtH",
        "outputId": "40a90e1d-228a-402f-816f-3d2f48b7a688"
      },
      "execution_count": null,
      "outputs": [
        {
          "output_type": "stream",
          "name": "stdout",
          "text": [
            "Requirement already satisfied: nest_asyncio in /usr/local/lib/python3.11/dist-packages (1.6.0)\n"
          ]
        }
      ]
    },
    {
      "cell_type": "code",
      "source": [
        "import nest_asyncio\n",
        "nest_asyncio.apply()"
      ],
      "metadata": {
        "id": "WdHEmdfzGcHQ"
      },
      "execution_count": null,
      "outputs": []
    },
    {
      "cell_type": "code",
      "source": [
        "if __name__ == \"__main__\":\n",
        "    asyncio.run(main())"
      ],
      "metadata": {
        "colab": {
          "base_uri": "https://localhost:8080/"
        },
        "id": "Kz4KHXXRGd0t",
        "outputId": "7fb41280-e4b2-402b-d67b-e5cb6d2643dd"
      },
      "execution_count": null,
      "outputs": [
        {
          "output_type": "stream",
          "name": "stdout",
          "text": [
            "Authentication successful!\n",
            "Logged in as: Fit_Menu8118\n",
            "Collecting data from roosterteeth for 60 seconds...\n"
          ]
        },
        {
          "output_type": "stream",
          "name": "stderr",
          "text": [
            "<ipython-input-9-ad2b5c0ab290>:41: RuntimeWarning: coroutine 'CommentForest.replace_more' was never awaited\n",
            "  submission.comments.replace_more(limit=0)  # Load only top-level comments\n",
            "RuntimeWarning: Enable tracemalloc to get the object allocation traceback\n"
          ]
        },
        {
          "output_type": "stream",
          "name": "stdout",
          "text": [
            "Data saved to roosterteeth_data.csv\n"
          ]
        }
      ]
    },
    {
      "cell_type": "code",
      "source": [
        "import asyncpraw\n",
        "import pandas as pd\n",
        "import time\n",
        "import asyncio\n",
        "import nest_asyncio  # Import nest_asyncio\n",
        "\n",
        "# Apply nest_asyncio to allow re-entering the event loop\n",
        "nest_asyncio.apply()\n",
        "\n",
        "# Authenticate with Reddit API\n",
        "async def authenticate_reddit():\n",
        "    try:\n",
        "        reddit = asyncpraw.Reddit(\n",
        "            client_id=\"WmREH0nLvamlBpQ4Bld3BA\",          # Your Client ID\n",
        "            client_secret=\"1XHJjI-aaU0xYkWQZ7lDkoW239TNbA\",  # Your Client Secret\n",
        "            user_agent=\"u/Fit_Menu8118\",                  # Your User Agent\n",
        "            username=\"Fit_Menu8118\",                      # Your Reddit username\n",
        "            password=\"Gotla@2277\"                        # Your Reddit password\n",
        "        )\n",
        "        print(\"Authentication successful!\")\n",
        "        print(f\"Logged in as: {await reddit.user.me()}\")  # Test authentication\n",
        "        return reddit\n",
        "    except Exception as e:\n",
        "        print(f\"Authentication failed: {e}\")\n",
        "        return None\n",
        "\n",
        "# Function to gather data from a subreddit\n",
        "async def gather_data(subreddit_name, run_duration):\n",
        "    reddit = await authenticate_reddit()\n",
        "    if not reddit:\n",
        "        return\n",
        "\n",
        "    subreddit = await reddit.subreddit(subreddit_name)\n",
        "    start_time = time.time()\n",
        "    data = []\n",
        "\n",
        "    print(f\"Collecting data from {subreddit_name} for {run_duration} seconds...\")\n",
        "\n",
        "    try:\n",
        "        async for submission in subreddit.new(limit=100):  # Adjust limit as needed\n",
        "            if time.time() - start_time > run_duration:\n",
        "                break\n",
        "\n",
        "            await submission.load()\n",
        "            submission.comments.replace_more(limit=0)  # Load only top-level comments\n",
        "            for comment in submission.comments.list():\n",
        "                data.append({\n",
        "                    \"subreddit\": subreddit_name,\n",
        "                    \"submission_id\": submission.id,\n",
        "                    \"comment_id\": comment.id,\n",
        "                    \"parent_id\": comment.parent_id,\n",
        "                    \"source_author\": comment.author.name if comment.author else \"[deleted]\",\n",
        "                    \"text\": comment.body,\n",
        "                    \"title\": submission.title,\n",
        "                    \"created_utc\": comment.created_utc\n",
        "                })\n",
        "\n",
        "            # Add a delay to avoid hitting rate limits\n",
        "            await asyncio.sleep(2)\n",
        "\n",
        "    except Exception as e:\n",
        "        print(f\"Error gathering data from {subreddit_name}: {e}\")\n",
        "\n",
        "    await reddit.close()\n",
        "    save_data(data, subreddit_name)\n",
        "\n",
        "# Function to save data to CSV\n",
        "def save_data(data, subreddit_name):\n",
        "    if not data:\n",
        "        print(f\"No data collected for {subreddit_name}\")\n",
        "        return\n",
        "\n",
        "    df = pd.DataFrame(data)\n",
        "    filename = f\"{subreddit_name.replace('/', '_')}_data.csv\"  # Replace '/' with '_' in filename\n",
        "    df.to_csv(filename, index=False)\n",
        "    print(f\"Data saved to {filename}\")\n",
        "\n",
        "# Main function\n",
        "async def main():\n",
        "    # Subreddit to scrape and duration (in seconds)\n",
        "    subreddit_name = \"roosterteeth\"  # Subreddit name without 'r/'\n",
        "    run_duration = 60  # Duration to collect data (e.g., 60 seconds)\n",
        "\n",
        "    # Start data collection\n",
        "    await gather_data(subreddit_name, run_duration)\n",
        "\n",
        "# Run the script\n",
        "if __name__ == \"__main__\":\n",
        "    asyncio.run(main())"
      ],
      "metadata": {
        "colab": {
          "base_uri": "https://localhost:8080/"
        },
        "id": "3Jvs8kNEG0oE",
        "outputId": "a1c0ebcf-2ab2-4c16-c185-814a0cf41206"
      },
      "execution_count": null,
      "outputs": [
        {
          "output_type": "stream",
          "name": "stdout",
          "text": [
            "Authentication successful!\n",
            "Logged in as: Fit_Menu8118\n",
            "Collecting data from roosterteeth for 60 seconds...\n"
          ]
        },
        {
          "output_type": "stream",
          "name": "stderr",
          "text": [
            "<ipython-input-14-e64baabe9713>:45: RuntimeWarning: coroutine 'CommentForest.replace_more' was never awaited\n",
            "  submission.comments.replace_more(limit=0)  # Load only top-level comments\n",
            "RuntimeWarning: Enable tracemalloc to get the object allocation traceback\n"
          ]
        },
        {
          "output_type": "stream",
          "name": "stdout",
          "text": [
            "Data saved to roosterteeth_data.csv\n"
          ]
        }
      ]
    },
    {
      "cell_type": "code",
      "source": [
        "import asyncpraw\n",
        "import pandas as pd\n",
        "import time\n",
        "import asyncio\n",
        "import nest_asyncio  # Import nest_asyncio\n",
        "\n",
        "# Apply nest_asyncio to allow re-entering the event loop\n",
        "nest_asyncio.apply()\n",
        "\n",
        "# Authenticate with Reddit API\n",
        "async def authenticate_reddit():\n",
        "    try:\n",
        "        reddit = asyncpraw.Reddit(\n",
        "            client_id=\"WmREH0nLvamlBpQ4Bld3BA\",          # Your Client ID\n",
        "            client_secret=\"1XHJjI-aaU0xYkWQZ7lDkoW239TNbA\",  # Your Client Secret\n",
        "            user_agent=\"u/Fit_Menu8118\",                  # Your User Agent\n",
        "            username=\"Fit_Menu8118\",                      # Your Reddit username\n",
        "            password=\"Gotla@2277\"                        # Your Reddit password\n",
        "        )\n",
        "        print(\"Authentication successful!\")\n",
        "        print(f\"Logged in as: {await reddit.user.me()}\")  # Test authentication\n",
        "        return reddit\n",
        "    except Exception as e:\n",
        "        print(f\"Authentication failed: {e}\")\n",
        "        return None\n",
        "\n",
        "# Function to gather data from a subreddit\n",
        "async def gather_data(subreddit_name, run_duration):\n",
        "    reddit = await authenticate_reddit()\n",
        "    if not reddit:\n",
        "        return\n",
        "\n",
        "    subreddit = await reddit.subreddit(subreddit_name)\n",
        "    start_time = time.time()\n",
        "    data = []\n",
        "\n",
        "    print(f\"Collecting data from {subreddit_name} for {run_duration} seconds...\")\n",
        "\n",
        "    try:\n",
        "        async for submission in subreddit.new(limit=100):  # Adjust limit as needed\n",
        "            if time.time() - start_time > run_duration:\n",
        "                break\n",
        "\n",
        "            await submission.load()\n",
        "            await submission.comments.replace_more(limit=0)  # Await replace_more()\n",
        "            comments = submission.comments.list()\n",
        "            for comment in comments:\n",
        "                data.append({\n",
        "                    \"subreddit\": subreddit_name,\n",
        "                    \"submission_id\": submission.id,\n",
        "                    \"comment_id\": comment.id,\n",
        "                    \"parent_id\": comment.parent_id,\n",
        "                    \"source_author\": comment.author.name if comment.author else \"[deleted]\",\n",
        "                    \"text\": comment.body,\n",
        "                    \"title\": submission.title,\n",
        "                    \"created_utc\": comment.created_utc\n",
        "                })\n",
        "\n",
        "            # Add a delay to avoid hitting rate limits\n",
        "            await asyncio.sleep(2)\n",
        "\n",
        "    except Exception as e:\n",
        "        print(f\"Error gathering data from {subreddit_name}: {e}\")\n",
        "\n",
        "    await reddit.close()\n",
        "    save_data(data, subreddit_name)\n",
        "\n",
        "# Function to save data to CSV\n",
        "def save_data(data, subreddit_name):\n",
        "    if not data:\n",
        "        print(f\"No data collected for {subreddit_name}\")\n",
        "        return\n",
        "\n",
        "    df = pd.DataFrame(data)\n",
        "    filename = f\"{subreddit_name.replace('/', '_')}_data.csv\"  # Replace '/' with '_' in filename\n",
        "    df.to_csv(filename, index=False)\n",
        "    print(f\"Data saved to {filename}\")\n",
        "\n",
        "# Main function\n",
        "async def main():\n",
        "    # Subreddit to scrape and duration (in seconds)\n",
        "    subreddit_name = \"roosterteeth\"  # Subreddit name without 'r/'\n",
        "    run_duration = 60  # Duration to collect data (e.g., 60 seconds)\n",
        "\n",
        "    # Start data collection\n",
        "    await gather_data(subreddit_name, run_duration)\n",
        "\n",
        "# Run the script\n",
        "if __name__ == \"__main__\":\n",
        "    asyncio.run(main())"
      ],
      "metadata": {
        "colab": {
          "base_uri": "https://localhost:8080/"
        },
        "id": "uBqXj5JLHRy6",
        "outputId": "4e8636a0-3faf-40ba-9f32-4e9dc32a5303"
      },
      "execution_count": null,
      "outputs": [
        {
          "output_type": "stream",
          "name": "stdout",
          "text": [
            "Authentication successful!\n",
            "Logged in as: Fit_Menu8118\n",
            "Collecting data from roosterteeth for 60 seconds...\n",
            "Data saved to roosterteeth_data.csv\n"
          ]
        }
      ]
    },
    {
      "cell_type": "code",
      "source": [
        "import asyncpraw\n",
        "import pandas as pd\n",
        "import time\n",
        "import asyncio\n",
        "import nest_asyncio  # Import nest_asyncio\n",
        "\n",
        "# Apply nest_asyncio to allow re-entering the event loop\n",
        "nest_asyncio.apply()\n",
        "\n",
        "# Authenticate with Reddit API\n",
        "async def authenticate_reddit():\n",
        "    try:\n",
        "        reddit = asyncpraw.Reddit(\n",
        "            client_id=\"WmREH0nLvamlBpQ4Bld3BA\",          # Your Client ID\n",
        "            client_secret=\"1XHJjI-aaU0xYkWQZ7lDkoW239TNbA\",  # Your Client Secret\n",
        "            user_agent=\"u/Fit_Menu8118\",                  # Your User Agent\n",
        "            username=\"Fit_Menu8118\",                      # Your Reddit username\n",
        "            password=\"Gotla@2277\"                        # Your Reddit password\n",
        "        )\n",
        "        print(\"Authentication successful!\")\n",
        "        print(f\"Logged in as: {await reddit.user.me()}\")  # Test authentication\n",
        "        return reddit\n",
        "    except Exception as e:\n",
        "        print(f\"Authentication failed: {e}\")\n",
        "        return None\n",
        "\n",
        "# Function to gather data from a subreddit\n",
        "async def gather_data(subreddit_name, run_duration):\n",
        "    reddit = await authenticate_reddit()\n",
        "    if not reddit:\n",
        "        return\n",
        "\n",
        "    subreddit = await reddit.subreddit(subreddit_name)\n",
        "    start_time = time.time()\n",
        "    data = []\n",
        "\n",
        "    print(f\"Collecting data from {subreddit_name} for {run_duration} seconds...\")\n",
        "\n",
        "    try:\n",
        "        async for submission in subreddit.new(limit=100):  # Adjust limit as needed\n",
        "            if time.time() - start_time > run_duration:\n",
        "                break\n",
        "\n",
        "            print(f\"Processing submission: {submission.title}\")  # Debugging output\n",
        "            await submission.load()\n",
        "            await submission.comments.replace_more(limit=0)  # Await replace_more()\n",
        "            comments = submission.comments.list()\n",
        "            print(f\"Found {len(comments)} comments in this submission.\")  # Debugging output\n",
        "\n",
        "            for comment in comments:\n",
        "                data.append({\n",
        "                    \"subreddit\": subreddit_name,\n",
        "                    \"submission_id\": submission.id,\n",
        "                    \"comment_id\": comment.id,\n",
        "                    \"parent_id\": comment.parent_id,\n",
        "                    \"source_author\": comment.author.name if comment.author else \"[deleted]\",\n",
        "                    \"text\": comment.body,\n",
        "                    \"title\": submission.title,\n",
        "                    \"created_utc\": comment.created_utc\n",
        "                })\n",
        "\n",
        "            # Add a delay to avoid hitting rate limits\n",
        "            await asyncio.sleep(2)\n",
        "\n",
        "    except Exception as e:\n",
        "        print(f\"Error gathering data from {subreddit_name}: {e}\")\n",
        "\n",
        "    await reddit.close()\n",
        "    save_data(data, subreddit_name)\n",
        "\n",
        "# Function to save data to CSV\n",
        "def save_data(data, subreddit_name):\n",
        "    if not data:\n",
        "        print(f\"No data collected for {subreddit_name}\")\n",
        "        return\n",
        "\n",
        "    df = pd.DataFrame(data)\n",
        "    filename = f\"{subreddit_name.replace('/', '_')}_data.csv\"  # Replace '/' with '_' in filename\n",
        "    df.to_csv(filename, index=False)\n",
        "    print(f\"Data saved to {filename}\")\n",
        "\n",
        "# Main function\n",
        "async def main():\n",
        "    # Subreddit to scrape and duration (in seconds)\n",
        "    subreddit_name = \"roosterteeth\"  # Subreddit name without 'r/'\n",
        "    run_duration = 60  # Duration to collect data (e.g., 60 seconds)\n",
        "\n",
        "    # Start data collection\n",
        "    await gather_data(subreddit_name, run_duration)\n",
        "\n",
        "# Run the script\n",
        "if __name__ == \"__main__\":\n",
        "    asyncio.run(main())"
      ],
      "metadata": {
        "colab": {
          "base_uri": "https://localhost:8080/"
        },
        "id": "O_7WsOSbIRZf",
        "outputId": "618da476-4193-4df0-9c93-1c0f40cb56de"
      },
      "execution_count": null,
      "outputs": [
        {
          "output_type": "stream",
          "name": "stdout",
          "text": [
            "Authentication successful!\n",
            "Logged in as: Fit_Menu8118\n",
            "Collecting data from roosterteeth for 60 seconds...\n",
            "Processing submission: [Mega64] If A Streamer Took THE SUBSTANCE\n",
            "Found 0 comments in this submission.\n",
            "Processing submission: Miles and Ify joining the writing team for borderlands 4.\n",
            "Found 2 comments in this submission.\n",
            "Processing submission: What plans do you think Burnie has for Rooster Teeth\n",
            "Found 8 comments in this submission.\n",
            "Processing submission: Was searching for something to watch on my new iPad Pro and this came up….perfect way to end the night.\n",
            "Found 8 comments in this submission.\n",
            "Processing submission: Lazer team and other merch haul\n",
            "Found 2 comments in this submission.\n",
            "Processing submission: It has been over a month since last video upload\n",
            "Found 7 comments in this submission.\n",
            "Processing submission: Rooster Teeth podcast episode??\n",
            "Found 4 comments in this submission.\n",
            "Processing submission: Back on track for Rooster Teeth\n",
            "Found 0 comments in this submission.\n",
            "Processing submission: Still on the hunt...\n",
            "Found 0 comments in this submission.\n",
            "Processing submission: Gus\n",
            "Found 2 comments in this submission.\n",
            "Processing submission: RTAA & Source (Classic) - Gavin or Google #2: Dog Door Bells\n",
            "Found 0 comments in this submission.\n",
            "Processing submission: whoever keeps donating these thank youu\n",
            "Found 12 comments in this submission.\n",
            "Processing submission: Which RWBY girl would have the best smelling hair?\n",
            "Found 7 comments in this submission.\n",
            "Processing submission: Just got this off ebay\n",
            "Found 13 comments in this submission.\n",
            "Processing submission: Found an old shirt!\n",
            "Found 0 comments in this submission.\n",
            "Processing submission: Good Morning, Gustavo is Incredible\n",
            "Found 24 comments in this submission.\n",
            "Processing submission: RvB Real Life vs. the Internet PSA game preview DVD\n",
            "Found 5 comments in this submission.\n",
            "Processing submission: Deja vu\n",
            "Found 2 comments in this submission.\n",
            "Processing submission: The final Rooster Teeth podcast is back up after being unlisted\n",
            "Found 36 comments in this submission.\n",
            "Processing submission: A new channel that has long compilations of older let's plays from AH\n",
            "Found 0 comments in this submission.\n",
            "Processing submission: Help ID-ing Autographs\n",
            "Found 3 comments in this submission.\n",
            "Processing submission: Zombie army video\n",
            "Found 1 comments in this submission.\n",
            "Processing submission: Need help finding an RT podcast episode\n",
            "Found 1 comments in this submission.\n",
            "Processing submission: Suggestions for the Top of the top content to watch.\n",
            "Found 22 comments in this submission.\n",
            "Processing submission: My funniest RT memory\n",
            "Found 13 comments in this submission.\n",
            "Processing submission: Here's a playlist of all the compilations of the RTAA's so far\n",
            "Found 2 comments in this submission.\n",
            "Data saved to roosterteeth_data.csv\n"
          ]
        }
      ]
    },
    {
      "cell_type": "code",
      "source": [
        "import asyncpraw\n",
        "import pandas as pd\n",
        "import time\n",
        "import asyncio\n",
        "import nest_asyncio  # Import nest_asyncio\n",
        "\n",
        "# Apply nest_asyncio to allow re-entering the event loop\n",
        "nest_asyncio.apply()\n",
        "\n",
        "# Authenticate with Reddit API\n",
        "async def authenticate_reddit():\n",
        "    try:\n",
        "        reddit = asyncpraw.Reddit(\n",
        "            client_id=\"WmREH0nLvamlBpQ4Bld3BA\",          # Your Client ID\n",
        "            client_secret=\"1XHJjI-aaU0xYkWQZ7lDkoW239TNbA\",  # Your Client Secret\n",
        "            user_agent=\"u/Fit_Menu8118\",                  # Your User Agent\n",
        "            username=\"Fit_Menu8118\",                      # Your Reddit username\n",
        "            password=\"Gotla@2277\"                        # Your Reddit password\n",
        "        )\n",
        "        print(\"Authentication successful!\")\n",
        "        print(f\"Logged in as: {await reddit.user.me()}\")  # Test authentication\n",
        "        return reddit\n",
        "    except Exception as e:\n",
        "        print(f\"Authentication failed: {e}\")\n",
        "        return None\n",
        "\n",
        "# Function to gather data from a subreddit\n",
        "async def gather_data(subreddit_name, run_duration):\n",
        "    reddit = await authenticate_reddit()\n",
        "    if not reddit:\n",
        "        return\n",
        "\n",
        "    subreddit = await reddit.subreddit(subreddit_name)\n",
        "    start_time = time.time()\n",
        "    data = []\n",
        "\n",
        "    print(f\"Collecting data from {subreddit_name} for {run_duration} seconds...\")\n",
        "\n",
        "    try:\n",
        "        async for submission in subreddit.new(limit=100):  # Adjust limit as needed\n",
        "            if time.time() - start_time > run_duration:\n",
        "                break\n",
        "\n",
        "            print(f\"Processing submission: {submission.title}\")  # Debugging output\n",
        "            await submission.load()\n",
        "            await submission.comments.replace_more(limit=0)  # Await replace_more()\n",
        "            comments = submission.comments.list()\n",
        "            print(f\"Found {len(comments)} comments in this submission.\")  # Debugging output\n",
        "\n",
        "            for comment in comments:\n",
        "                data.append({\n",
        "                    \"subreddit\": subreddit_name,\n",
        "                    \"submission_id\": submission.id,\n",
        "                    \"comment_id\": comment.id,\n",
        "                    \"parent_id\": comment.parent_id,\n",
        "                    \"source_author\": comment.author.name if comment.author else \"[deleted]\",\n",
        "                    \"text\": comment.body,\n",
        "                    \"title\": submission.title,\n",
        "                    \"created_utc\": comment.created_utc\n",
        "                })\n",
        "\n",
        "            # Add a delay to avoid hitting rate limits\n",
        "            await asyncio.sleep(2)\n",
        "\n",
        "    except Exception as e:\n",
        "        print(f\"Error gathering data from {subreddit_name}: {e}\")\n",
        "\n",
        "    await reddit.close()\n",
        "    save_data(data, subreddit_name)\n",
        "\n",
        "# Function to save data to CSV\n",
        "def save_data(data, subreddit_name):\n",
        "    if not data:\n",
        "        print(f\"No data collected for {subreddit_name}\")\n",
        "        return\n",
        "\n",
        "    df = pd.DataFrame(data)\n",
        "    filename = f\"{subreddit_name.replace('/', '_')}_data.csv\"  # Replace '/' with '_' in filename\n",
        "    df.to_csv(filename, index=False)\n",
        "    print(f\"Data saved to {filename}\")\n",
        "\n",
        "# Main function\n",
        "async def main():\n",
        "    # Subreddit to scrape and duration (in seconds)\n",
        "    subreddit_name = \"roosterteeth\"  # Subreddit name without 'r/'\n",
        "    run_duration = 60  # Duration to collect data (e.g., 60 seconds)\n",
        "\n",
        "    # Start data collection\n",
        "    await gather_data(subreddit_name, run_duration)\n",
        "\n",
        "# Run the script\n",
        "if __name__ == \"__main__\":\n",
        "    asyncio.run(main())"
      ],
      "metadata": {
        "colab": {
          "base_uri": "https://localhost:8080/"
        },
        "id": "qCDuHGDcKYiD",
        "outputId": "279db1cf-6b12-4f9a-fb55-d2cfdc8e52a7"
      },
      "execution_count": null,
      "outputs": [
        {
          "output_type": "stream",
          "name": "stdout",
          "text": [
            "Authentication successful!\n",
            "Logged in as: Fit_Menu8118\n",
            "Collecting data from roosterteeth for 60 seconds...\n",
            "Processing submission: [Mega64] If A Streamer Took THE SUBSTANCE\n",
            "Found 0 comments in this submission.\n",
            "Processing submission: Miles and Ify joining the writing team for borderlands 4.\n",
            "Found 5 comments in this submission.\n",
            "Processing submission: What plans do you think Burnie has for Rooster Teeth\n",
            "Found 8 comments in this submission.\n",
            "Processing submission: Was searching for something to watch on my new iPad Pro and this came up….perfect way to end the night.\n",
            "Found 8 comments in this submission.\n",
            "Processing submission: Lazer team and other merch haul\n",
            "Found 2 comments in this submission.\n",
            "Processing submission: It has been over a month since last video upload\n",
            "Found 7 comments in this submission.\n",
            "Processing submission: Rooster Teeth podcast episode??\n",
            "Found 4 comments in this submission.\n",
            "Processing submission: Back on track for Rooster Teeth\n",
            "Found 0 comments in this submission.\n",
            "Processing submission: Still on the hunt...\n",
            "Found 0 comments in this submission.\n",
            "Processing submission: Gus\n",
            "Found 2 comments in this submission.\n",
            "Processing submission: RTAA & Source (Classic) - Gavin or Google #2: Dog Door Bells\n",
            "Found 0 comments in this submission.\n",
            "Processing submission: whoever keeps donating these thank youu\n",
            "Found 12 comments in this submission.\n",
            "Processing submission: Which RWBY girl would have the best smelling hair?\n",
            "Found 7 comments in this submission.\n",
            "Processing submission: Just got this off ebay\n",
            "Found 13 comments in this submission.\n",
            "Processing submission: Found an old shirt!\n",
            "Found 0 comments in this submission.\n",
            "Processing submission: Good Morning, Gustavo is Incredible\n",
            "Found 24 comments in this submission.\n",
            "Processing submission: RvB Real Life vs. the Internet PSA game preview DVD\n",
            "Found 5 comments in this submission.\n",
            "Processing submission: Deja vu\n",
            "Found 2 comments in this submission.\n",
            "Processing submission: The final Rooster Teeth podcast is back up after being unlisted\n",
            "Found 36 comments in this submission.\n",
            "Processing submission: A new channel that has long compilations of older let's plays from AH\n",
            "Found 0 comments in this submission.\n",
            "Processing submission: Help ID-ing Autographs\n",
            "Found 3 comments in this submission.\n",
            "Processing submission: Zombie army video\n",
            "Found 1 comments in this submission.\n",
            "Processing submission: Need help finding an RT podcast episode\n",
            "Found 1 comments in this submission.\n",
            "Processing submission: Suggestions for the Top of the top content to watch.\n",
            "Found 22 comments in this submission.\n",
            "Processing submission: My funniest RT memory\n",
            "Found 13 comments in this submission.\n",
            "Processing submission: Here's a playlist of all the compilations of the RTAA's so far\n",
            "Found 2 comments in this submission.\n",
            "Data saved to roosterteeth_data.csv\n"
          ]
        }
      ]
    },
    {
      "cell_type": "code",
      "source": [
        "!pip install praw pandas nltk python-dotenv"
      ],
      "metadata": {
        "colab": {
          "base_uri": "https://localhost:8080/"
        },
        "id": "pBfQQArxuM9X",
        "outputId": "6aafc0e8-fb5a-4e24-9d73-f358ac341445"
      },
      "execution_count": null,
      "outputs": [
        {
          "output_type": "stream",
          "name": "stdout",
          "text": [
            "Collecting praw\n",
            "  Downloading praw-7.8.1-py3-none-any.whl.metadata (9.4 kB)\n",
            "Requirement already satisfied: pandas in /usr/local/lib/python3.11/dist-packages (2.2.2)\n",
            "Requirement already satisfied: nltk in /usr/local/lib/python3.11/dist-packages (3.9.1)\n",
            "Collecting python-dotenv\n",
            "  Downloading python_dotenv-1.0.1-py3-none-any.whl.metadata (23 kB)\n",
            "Collecting prawcore<3,>=2.4 (from praw)\n",
            "  Downloading prawcore-2.4.0-py3-none-any.whl.metadata (5.0 kB)\n",
            "Collecting update_checker>=0.18 (from praw)\n",
            "  Downloading update_checker-0.18.0-py3-none-any.whl.metadata (2.3 kB)\n",
            "Requirement already satisfied: websocket-client>=0.54.0 in /usr/local/lib/python3.11/dist-packages (from praw) (1.8.0)\n",
            "Requirement already satisfied: numpy>=1.23.2 in /usr/local/lib/python3.11/dist-packages (from pandas) (2.0.2)\n",
            "Requirement already satisfied: python-dateutil>=2.8.2 in /usr/local/lib/python3.11/dist-packages (from pandas) (2.8.2)\n",
            "Requirement already satisfied: pytz>=2020.1 in /usr/local/lib/python3.11/dist-packages (from pandas) (2025.1)\n",
            "Requirement already satisfied: tzdata>=2022.7 in /usr/local/lib/python3.11/dist-packages (from pandas) (2025.1)\n",
            "Requirement already satisfied: click in /usr/local/lib/python3.11/dist-packages (from nltk) (8.1.8)\n",
            "Requirement already satisfied: joblib in /usr/local/lib/python3.11/dist-packages (from nltk) (1.4.2)\n",
            "Requirement already satisfied: regex>=2021.8.3 in /usr/local/lib/python3.11/dist-packages (from nltk) (2024.11.6)\n",
            "Requirement already satisfied: tqdm in /usr/local/lib/python3.11/dist-packages (from nltk) (4.67.1)\n",
            "Requirement already satisfied: requests<3.0,>=2.6.0 in /usr/local/lib/python3.11/dist-packages (from prawcore<3,>=2.4->praw) (2.32.3)\n",
            "Requirement already satisfied: six>=1.5 in /usr/local/lib/python3.11/dist-packages (from python-dateutil>=2.8.2->pandas) (1.17.0)\n",
            "Requirement already satisfied: charset-normalizer<4,>=2 in /usr/local/lib/python3.11/dist-packages (from requests<3.0,>=2.6.0->prawcore<3,>=2.4->praw) (3.4.1)\n",
            "Requirement already satisfied: idna<4,>=2.5 in /usr/local/lib/python3.11/dist-packages (from requests<3.0,>=2.6.0->prawcore<3,>=2.4->praw) (3.10)\n",
            "Requirement already satisfied: urllib3<3,>=1.21.1 in /usr/local/lib/python3.11/dist-packages (from requests<3.0,>=2.6.0->prawcore<3,>=2.4->praw) (2.3.0)\n",
            "Requirement already satisfied: certifi>=2017.4.17 in /usr/local/lib/python3.11/dist-packages (from requests<3.0,>=2.6.0->prawcore<3,>=2.4->praw) (2025.1.31)\n",
            "Downloading praw-7.8.1-py3-none-any.whl (189 kB)\n",
            "\u001b[2K   \u001b[90m━━━━━━━━━━━━━━━━━━━━━━━━━━━━━━━━━━━━━━━━\u001b[0m \u001b[32m189.3/189.3 kB\u001b[0m \u001b[31m5.7 MB/s\u001b[0m eta \u001b[36m0:00:00\u001b[0m\n",
            "\u001b[?25hDownloading python_dotenv-1.0.1-py3-none-any.whl (19 kB)\n",
            "Downloading prawcore-2.4.0-py3-none-any.whl (17 kB)\n",
            "Downloading update_checker-0.18.0-py3-none-any.whl (7.0 kB)\n",
            "Installing collected packages: python-dotenv, update_checker, prawcore, praw\n",
            "Successfully installed praw-7.8.1 prawcore-2.4.0 python-dotenv-1.0.1 update_checker-0.18.0\n"
          ]
        }
      ]
    },
    {
      "cell_type": "code",
      "source": [
        "import os\n",
        "\n",
        "# Set your Reddit API credentials as environment variables\n",
        "os.environ[\"REDDIT_CLIENT_ID\"] = \"WmREH0nLvamlBpQ4Bld3BA\"\n",
        "os.environ[\"REDDIT_CLIENT_SECRET\"] = \"1XHJjI-aaU0xYkWQZ7lDkoW239TNbA\"\n",
        "os.environ[\"REDDIT_USER_AGENT\"] = \"u/Fit_Menu8118\"\n",
        "os.environ[\"REDDIT_USERNAME\"] = \"Fit_Menu8118\"\n",
        "os.environ[\"REDDIT_PASSWORD\"] = \"Gotla@2277\""
      ],
      "metadata": {
        "id": "s3lB9YQluZZf"
      },
      "execution_count": null,
      "outputs": []
    },
    {
      "cell_type": "code",
      "source": [
        "import praw\n",
        "import pandas as pd\n",
        "from datetime import datetime\n",
        "from nltk.sentiment.vader import SentimentIntensityAnalyzer\n",
        "import nltk\n",
        "import os\n",
        "\n",
        "# Download VADER lexicon for sentiment analysis\n",
        "nltk.download('vader_lexicon')\n",
        "sia = SentimentIntensityAnalyzer()\n",
        "\n",
        "# Authenticate with Reddit API\n",
        "try:\n",
        "    reddit = praw.Reddit(\n",
        "        client_id=os.getenv(\"REDDIT_CLIENT_ID\"),          # Your Client ID\n",
        "        client_secret=os.getenv(\"REDDIT_CLIENT_SECRET\"),  # Your Client Secret\n",
        "        user_agent=os.getenv(\"REDDIT_USER_AGENT\"),       # Your User Agent\n",
        "        username=os.getenv(\"REDDIT_USERNAME\"),           # Your Reddit username\n",
        "        password=os.getenv(\"REDDIT_PASSWORD\")            # Your Reddit password\n",
        "    )\n",
        "    print(\"Authentication successful!\")\n",
        "    print(f\"Logged in as: {reddit.user.me()}\")  # Test authentication\n",
        "except Exception as e:\n",
        "    print(f\"Authentication failed: {e}\")\n",
        "    exit()\n",
        "\n",
        "# Define the date range\n",
        "start_date = datetime(2025, 1, 1, 0, 1)  # 00:01 on 1st January 2025\n",
        "end_date = datetime(2025, 3, 22, 23, 59)  # 23:59 on 22nd March 2025\n",
        "\n",
        "# Function to gather data from a subreddit within the specified date range\n",
        "def gather_data(subreddit_name):\n",
        "    subreddit = reddit.subreddit(subreddit_name)\n",
        "    data = []\n",
        "\n",
        "    print(f\"Collecting data from r/{subreddit_name} between {start_date} and {end_date}...\")\n",
        "\n",
        "    try:\n",
        "        # Fetch new submissions\n",
        "        for submission in subreddit.new(limit=1000):  # Adjust limit as needed\n",
        "            submission_created = datetime.utcfromtimestamp(submission.created_utc)\n",
        "            if start_date <= submission_created <= end_date:\n",
        "                print(f\"Fetched submission: {submission.title} (created: {submission_created})\")\n",
        "                submission.comments.replace_more(limit=0)  # Load only top-level comments\n",
        "                for comment in submission.comments.list():\n",
        "                    comment_created = datetime.utcfromtimestamp(comment.created_utc)\n",
        "                    if start_date <= comment_created <= end_date:\n",
        "                        data.append({\n",
        "                            \"subreddit\": subreddit_name,\n",
        "                            \"submission_id\": submission.id,\n",
        "                            \"comment_id\": comment.id,\n",
        "                            \"parent_id\": comment.parent_id,\n",
        "                            \"source_author\": comment.author.name if comment.author else \"[deleted]\",\n",
        "                            \"text\": comment.body,\n",
        "                            \"title\": submission.title,\n",
        "                            \"post_author\": submission.author.name if submission.author else \"[deleted]\",\n",
        "                            \"post_score\": submission.score,\n",
        "                            \"comment_score\": comment.score,\n",
        "                            \"url\": f\"https://www.reddit.com{submission.permalink}\",\n",
        "                            \"created_utc\": comment_created.strftime('%Y-%m-%d %H:%M:%S'),\n",
        "                            \"sentiment_score\": round(sia.polarity_scores(comment.body)[\"compound\"], 2),\n",
        "                            \"target_author\": comment.parent().author.name if comment.parent().author else \"[deleted]\"\n",
        "                        })\n",
        "\n",
        "    except Exception as e:\n",
        "        print(f\"Error gathering data from r/{subreddit_name}: {e}\")\n",
        "\n",
        "    save_data(data, subreddit_name)\n",
        "\n",
        "# Function to save data to CSV\n",
        "def save_data(data, subreddit_name):\n",
        "    if not data:\n",
        "        print(f\"No data collected for {subreddit_name}\")\n",
        "        return\n",
        "\n",
        "    df = pd.DataFrame(data)\n",
        "    filename = f\"{subreddit_name}_data_2025_Jan_to_Mar.csv\"\n",
        "    df.to_csv(filename, index=False)\n",
        "    print(f\"Data saved to {filename}\")\n",
        "\n",
        "# Main function\n",
        "if __name__ == \"__main__\":\n",
        "    # Subreddit to scrape\n",
        "    subreddit_name = \"roosterteeth\"  # Replace with your target subreddit\n",
        "\n",
        "    # Start data collection\n",
        "    gather_data(subreddit_name)"
      ],
      "metadata": {
        "colab": {
          "base_uri": "https://localhost:8080/"
        },
        "id": "8j_WVRpou9hC",
        "outputId": "cc1dd3fd-aa64-4a24-9ebc-7445c3022654"
      },
      "execution_count": null,
      "outputs": [
        {
          "output_type": "stream",
          "name": "stderr",
          "text": [
            "[nltk_data] Downloading package vader_lexicon to /root/nltk_data...\n",
            "[nltk_data]   Package vader_lexicon is already up-to-date!\n",
            "WARNING:praw:It appears that you are using PRAW in an asynchronous environment.\n",
            "It is strongly recommended to use Async PRAW: https://asyncpraw.readthedocs.io.\n",
            "See https://praw.readthedocs.io/en/latest/getting_started/multiple_instances.html#discord-bots-and-asynchronous-environments for more info.\n",
            "\n"
          ]
        },
        {
          "output_type": "stream",
          "name": "stdout",
          "text": [
            "Authentication successful!\n"
          ]
        },
        {
          "output_type": "stream",
          "name": "stderr",
          "text": [
            "WARNING:praw:It appears that you are using PRAW in an asynchronous environment.\n",
            "It is strongly recommended to use Async PRAW: https://asyncpraw.readthedocs.io.\n",
            "See https://praw.readthedocs.io/en/latest/getting_started/multiple_instances.html#discord-bots-and-asynchronous-environments for more info.\n",
            "\n"
          ]
        },
        {
          "output_type": "stream",
          "name": "stdout",
          "text": [
            "Logged in as: Fit_Menu8118\n",
            "Collecting data from r/roosterteeth between 2025-01-01 00:01:00 and 2025-03-22 23:59:00...\n"
          ]
        },
        {
          "output_type": "stream",
          "name": "stderr",
          "text": [
            "WARNING:praw:It appears that you are using PRAW in an asynchronous environment.\n",
            "It is strongly recommended to use Async PRAW: https://asyncpraw.readthedocs.io.\n",
            "See https://praw.readthedocs.io/en/latest/getting_started/multiple_instances.html#discord-bots-and-asynchronous-environments for more info.\n",
            "\n",
            "WARNING:praw:It appears that you are using PRAW in an asynchronous environment.\n",
            "It is strongly recommended to use Async PRAW: https://asyncpraw.readthedocs.io.\n",
            "See https://praw.readthedocs.io/en/latest/getting_started/multiple_instances.html#discord-bots-and-asynchronous-environments for more info.\n",
            "\n"
          ]
        },
        {
          "output_type": "stream",
          "name": "stdout",
          "text": [
            "Fetched submission: RWBY Evil Oscar Salem Rap Song (created: 2025-03-22 02:26:28)\n",
            "Fetched submission: Things that aged like milk (created: 2025-03-21 19:42:28)\n"
          ]
        },
        {
          "output_type": "stream",
          "name": "stderr",
          "text": [
            "WARNING:praw:It appears that you are using PRAW in an asynchronous environment.\n",
            "It is strongly recommended to use Async PRAW: https://asyncpraw.readthedocs.io.\n",
            "See https://praw.readthedocs.io/en/latest/getting_started/multiple_instances.html#discord-bots-and-asynchronous-environments for more info.\n",
            "\n",
            "WARNING:praw:It appears that you are using PRAW in an asynchronous environment.\n",
            "It is strongly recommended to use Async PRAW: https://asyncpraw.readthedocs.io.\n",
            "See https://praw.readthedocs.io/en/latest/getting_started/multiple_instances.html#discord-bots-and-asynchronous-environments for more info.\n",
            "\n"
          ]
        },
        {
          "output_type": "stream",
          "name": "stdout",
          "text": [
            "Fetched submission: Last one laughing UK (created: 2025-03-21 17:43:58)\n",
            "Fetched submission: RTAA & Source (Classic) - Benjamin's Secret Bar (created: 2025-03-21 12:21:54)\n"
          ]
        },
        {
          "output_type": "stream",
          "name": "stderr",
          "text": [
            "WARNING:praw:It appears that you are using PRAW in an asynchronous environment.\n",
            "It is strongly recommended to use Async PRAW: https://asyncpraw.readthedocs.io.\n",
            "See https://praw.readthedocs.io/en/latest/getting_started/multiple_instances.html#discord-bots-and-asynchronous-environments for more info.\n",
            "\n"
          ]
        },
        {
          "output_type": "stream",
          "name": "stdout",
          "text": [
            "Fetched submission: Is this correct? I thought that Geoff served in the Army, not the Navy (created: 2025-03-21 00:45:36)\n"
          ]
        },
        {
          "output_type": "stream",
          "name": "stderr",
          "text": [
            "WARNING:praw:It appears that you are using PRAW in an asynchronous environment.\n",
            "It is strongly recommended to use Async PRAW: https://asyncpraw.readthedocs.io.\n",
            "See https://praw.readthedocs.io/en/latest/getting_started/multiple_instances.html#discord-bots-and-asynchronous-environments for more info.\n",
            "\n",
            "WARNING:praw:It appears that you are using PRAW in an asynchronous environment.\n",
            "It is strongly recommended to use Async PRAW: https://asyncpraw.readthedocs.io.\n",
            "See https://praw.readthedocs.io/en/latest/getting_started/multiple_instances.html#discord-bots-and-asynchronous-environments for more info.\n",
            "\n"
          ]
        },
        {
          "output_type": "stream",
          "name": "stdout",
          "text": [
            "Fetched submission: Old Merch For Sale? (created: 2025-03-21 00:35:52)\n",
            "Fetched submission: Answer for It! James Willems Birthday Edition on April 6th (created: 2025-03-20 23:12:13)\n"
          ]
        },
        {
          "output_type": "stream",
          "name": "stderr",
          "text": [
            "WARNING:praw:It appears that you are using PRAW in an asynchronous environment.\n",
            "It is strongly recommended to use Async PRAW: https://asyncpraw.readthedocs.io.\n",
            "See https://praw.readthedocs.io/en/latest/getting_started/multiple_instances.html#discord-bots-and-asynchronous-environments for more info.\n",
            "\n"
          ]
        },
        {
          "output_type": "stream",
          "name": "stdout",
          "text": [
            "Fetched submission: Miles is writing for Borderlands 4! (created: 2025-03-20 18:31:27)\n",
            "Fetched submission: Kerry here! I'm not dead! I'm playing a video game! (created: 2025-03-20 17:41:43)\n"
          ]
        },
        {
          "output_type": "stream",
          "name": "stderr",
          "text": [
            "WARNING:praw:It appears that you are using PRAW in an asynchronous environment.\n",
            "It is strongly recommended to use Async PRAW: https://asyncpraw.readthedocs.io.\n",
            "See https://praw.readthedocs.io/en/latest/getting_started/multiple_instances.html#discord-bots-and-asynchronous-environments for more info.\n",
            "\n",
            "WARNING:praw:It appears that you are using PRAW in an asynchronous environment.\n",
            "It is strongly recommended to use Async PRAW: https://asyncpraw.readthedocs.io.\n",
            "See https://praw.readthedocs.io/en/latest/getting_started/multiple_instances.html#discord-bots-and-asynchronous-environments for more info.\n",
            "\n"
          ]
        },
        {
          "output_type": "stream",
          "name": "stdout",
          "text": [
            "Fetched submission: Jersey Mikes! (created: 2025-03-20 17:10:48)\n"
          ]
        },
        {
          "output_type": "stream",
          "name": "stderr",
          "text": [
            "WARNING:praw:It appears that you are using PRAW in an asynchronous environment.\n",
            "It is strongly recommended to use Async PRAW: https://asyncpraw.readthedocs.io.\n",
            "See https://praw.readthedocs.io/en/latest/getting_started/multiple_instances.html#discord-bots-and-asynchronous-environments for more info.\n",
            "\n",
            "WARNING:praw:It appears that you are using PRAW in an asynchronous environment.\n",
            "It is strongly recommended to use Async PRAW: https://asyncpraw.readthedocs.io.\n",
            "See https://praw.readthedocs.io/en/latest/getting_started/multiple_instances.html#discord-bots-and-asynchronous-environments for more info.\n",
            "\n"
          ]
        },
        {
          "output_type": "stream",
          "name": "stdout",
          "text": [
            "Fetched submission: Need to downsize so I'm selling my RT merch (created: 2025-03-20 03:56:48)\n",
            "Fetched submission: Remember that time we would all watch RVB AMVs? I made a new one for Restoration! It's been 11 years since my last RVB video, I thought this was a fitting homage! (created: 2025-03-20 05:29:51)\n"
          ]
        },
        {
          "output_type": "stream",
          "name": "stderr",
          "text": [
            "WARNING:praw:It appears that you are using PRAW in an asynchronous environment.\n",
            "It is strongly recommended to use Async PRAW: https://asyncpraw.readthedocs.io.\n",
            "See https://praw.readthedocs.io/en/latest/getting_started/multiple_instances.html#discord-bots-and-asynchronous-environments for more info.\n",
            "\n"
          ]
        },
        {
          "output_type": "stream",
          "name": "stdout",
          "text": [
            "Fetched submission: Jack here! I'm not dead! I'm working on a video game! (created: 2025-03-19 15:11:24)\n"
          ]
        },
        {
          "output_type": "stream",
          "name": "stderr",
          "text": [
            "WARNING:praw:It appears that you are using PRAW in an asynchronous environment.\n",
            "It is strongly recommended to use Async PRAW: https://asyncpraw.readthedocs.io.\n",
            "See https://praw.readthedocs.io/en/latest/getting_started/multiple_instances.html#discord-bots-and-asynchronous-environments for more info.\n",
            "\n"
          ]
        },
        {
          "output_type": "stream",
          "name": "stdout",
          "text": [
            "Fetched submission: Is this not gavin in 20 years? (created: 2025-03-19 11:52:23)\n"
          ]
        },
        {
          "output_type": "stream",
          "name": "stderr",
          "text": [
            "WARNING:praw:It appears that you are using PRAW in an asynchronous environment.\n",
            "It is strongly recommended to use Async PRAW: https://asyncpraw.readthedocs.io.\n",
            "See https://praw.readthedocs.io/en/latest/getting_started/multiple_instances.html#discord-bots-and-asynchronous-environments for more info.\n",
            "\n"
          ]
        },
        {
          "output_type": "stream",
          "name": "stdout",
          "text": [
            "Fetched submission: Who had better animation RoosterTeeth or Adult Swim (created: 2025-03-19 04:35:17)\n"
          ]
        },
        {
          "output_type": "stream",
          "name": "stderr",
          "text": [
            "WARNING:praw:It appears that you are using PRAW in an asynchronous environment.\n",
            "It is strongly recommended to use Async PRAW: https://asyncpraw.readthedocs.io.\n",
            "See https://praw.readthedocs.io/en/latest/getting_started/multiple_instances.html#discord-bots-and-asynchronous-environments for more info.\n",
            "\n"
          ]
        },
        {
          "output_type": "stream",
          "name": "stdout",
          "text": [
            "Fetched submission: Life After Rooster Teeth (with Jack Pattillo) - Kinda Funny Podcast (created: 2025-03-19 06:31:18)\n"
          ]
        },
        {
          "output_type": "stream",
          "name": "stderr",
          "text": [
            "WARNING:praw:It appears that you are using PRAW in an asynchronous environment.\n",
            "It is strongly recommended to use Async PRAW: https://asyncpraw.readthedocs.io.\n",
            "See https://praw.readthedocs.io/en/latest/getting_started/multiple_instances.html#discord-bots-and-asynchronous-environments for more info.\n",
            "\n"
          ]
        },
        {
          "output_type": "stream",
          "name": "stdout",
          "text": [
            "Fetched submission: At what point do you add the salad dressing.. (created: 2025-03-19 04:59:45)\n"
          ]
        },
        {
          "output_type": "stream",
          "name": "stderr",
          "text": [
            "WARNING:praw:It appears that you are using PRAW in an asynchronous environment.\n",
            "It is strongly recommended to use Async PRAW: https://asyncpraw.readthedocs.io.\n",
            "See https://praw.readthedocs.io/en/latest/getting_started/multiple_instances.html#discord-bots-and-asynchronous-environments for more info.\n",
            "\n"
          ]
        },
        {
          "output_type": "stream",
          "name": "stdout",
          "text": [
            "Fetched submission: How much do you think Burnie payed for rooster teeth? (created: 2025-03-17 22:25:51)\n",
            "Fetched submission: [Mega64] If A Streamer Took THE SUBSTANCE (created: 2025-03-17 21:40:25)\n"
          ]
        },
        {
          "output_type": "stream",
          "name": "stderr",
          "text": [
            "WARNING:praw:It appears that you are using PRAW in an asynchronous environment.\n",
            "It is strongly recommended to use Async PRAW: https://asyncpraw.readthedocs.io.\n",
            "See https://praw.readthedocs.io/en/latest/getting_started/multiple_instances.html#discord-bots-and-asynchronous-environments for more info.\n",
            "\n",
            "WARNING:praw:It appears that you are using PRAW in an asynchronous environment.\n",
            "It is strongly recommended to use Async PRAW: https://asyncpraw.readthedocs.io.\n",
            "See https://praw.readthedocs.io/en/latest/getting_started/multiple_instances.html#discord-bots-and-asynchronous-environments for more info.\n",
            "\n"
          ]
        },
        {
          "output_type": "stream",
          "name": "stdout",
          "text": [
            "Fetched submission: Miles and Ify joining the writing team for borderlands 4. (created: 2025-03-17 21:33:53)\n"
          ]
        },
        {
          "output_type": "stream",
          "name": "stderr",
          "text": [
            "WARNING:praw:It appears that you are using PRAW in an asynchronous environment.\n",
            "It is strongly recommended to use Async PRAW: https://asyncpraw.readthedocs.io.\n",
            "See https://praw.readthedocs.io/en/latest/getting_started/multiple_instances.html#discord-bots-and-asynchronous-environments for more info.\n",
            "\n",
            "WARNING:praw:It appears that you are using PRAW in an asynchronous environment.\n",
            "It is strongly recommended to use Async PRAW: https://asyncpraw.readthedocs.io.\n",
            "See https://praw.readthedocs.io/en/latest/getting_started/multiple_instances.html#discord-bots-and-asynchronous-environments for more info.\n",
            "\n"
          ]
        },
        {
          "output_type": "stream",
          "name": "stdout",
          "text": [
            "Fetched submission: What plans do you think Burnie has for Rooster Teeth (created: 2025-03-17 06:37:39)\n",
            "Fetched submission: Was searching for something to watch on my new iPad Pro and this came up….perfect way to end the night. (created: 2025-03-16 01:06:48)\n"
          ]
        },
        {
          "output_type": "stream",
          "name": "stderr",
          "text": [
            "WARNING:praw:It appears that you are using PRAW in an asynchronous environment.\n",
            "It is strongly recommended to use Async PRAW: https://asyncpraw.readthedocs.io.\n",
            "See https://praw.readthedocs.io/en/latest/getting_started/multiple_instances.html#discord-bots-and-asynchronous-environments for more info.\n",
            "\n",
            "WARNING:praw:It appears that you are using PRAW in an asynchronous environment.\n",
            "It is strongly recommended to use Async PRAW: https://asyncpraw.readthedocs.io.\n",
            "See https://praw.readthedocs.io/en/latest/getting_started/multiple_instances.html#discord-bots-and-asynchronous-environments for more info.\n",
            "\n"
          ]
        },
        {
          "output_type": "stream",
          "name": "stdout",
          "text": [
            "Fetched submission: Lazer team and other merch haul (created: 2025-03-15 19:08:32)\n",
            "Fetched submission: It has been over a month since last video upload (created: 2025-03-15 18:06:21)\n"
          ]
        },
        {
          "output_type": "stream",
          "name": "stderr",
          "text": [
            "WARNING:praw:It appears that you are using PRAW in an asynchronous environment.\n",
            "It is strongly recommended to use Async PRAW: https://asyncpraw.readthedocs.io.\n",
            "See https://praw.readthedocs.io/en/latest/getting_started/multiple_instances.html#discord-bots-and-asynchronous-environments for more info.\n",
            "\n",
            "WARNING:praw:It appears that you are using PRAW in an asynchronous environment.\n",
            "It is strongly recommended to use Async PRAW: https://asyncpraw.readthedocs.io.\n",
            "See https://praw.readthedocs.io/en/latest/getting_started/multiple_instances.html#discord-bots-and-asynchronous-environments for more info.\n",
            "\n"
          ]
        },
        {
          "output_type": "stream",
          "name": "stdout",
          "text": [
            "Fetched submission: Rooster Teeth podcast episode?? (created: 2025-03-15 14:54:44)\n",
            "Fetched submission: Still on the hunt... (created: 2025-03-15 08:40:47)\n"
          ]
        },
        {
          "output_type": "stream",
          "name": "stderr",
          "text": [
            "WARNING:praw:It appears that you are using PRAW in an asynchronous environment.\n",
            "It is strongly recommended to use Async PRAW: https://asyncpraw.readthedocs.io.\n",
            "See https://praw.readthedocs.io/en/latest/getting_started/multiple_instances.html#discord-bots-and-asynchronous-environments for more info.\n",
            "\n"
          ]
        },
        {
          "output_type": "stream",
          "name": "stdout",
          "text": [
            "Fetched submission: RTAA & Source (Classic) - Gavin or Google #2: Dog Door Bells (created: 2025-03-15 02:23:33)\n"
          ]
        },
        {
          "output_type": "stream",
          "name": "stderr",
          "text": [
            "WARNING:praw:It appears that you are using PRAW in an asynchronous environment.\n",
            "It is strongly recommended to use Async PRAW: https://asyncpraw.readthedocs.io.\n",
            "See https://praw.readthedocs.io/en/latest/getting_started/multiple_instances.html#discord-bots-and-asynchronous-environments for more info.\n",
            "\n"
          ]
        },
        {
          "output_type": "stream",
          "name": "stdout",
          "text": [
            "Fetched submission: whoever keeps donating these thank youu (created: 2025-03-14 10:02:38)\n"
          ]
        },
        {
          "output_type": "stream",
          "name": "stderr",
          "text": [
            "WARNING:praw:It appears that you are using PRAW in an asynchronous environment.\n",
            "It is strongly recommended to use Async PRAW: https://asyncpraw.readthedocs.io.\n",
            "See https://praw.readthedocs.io/en/latest/getting_started/multiple_instances.html#discord-bots-and-asynchronous-environments for more info.\n",
            "\n"
          ]
        },
        {
          "output_type": "stream",
          "name": "stdout",
          "text": [
            "Fetched submission: Which RWBY girl would have the best smelling hair? (created: 2025-03-14 04:08:39)\n"
          ]
        },
        {
          "output_type": "stream",
          "name": "stderr",
          "text": [
            "WARNING:praw:It appears that you are using PRAW in an asynchronous environment.\n",
            "It is strongly recommended to use Async PRAW: https://asyncpraw.readthedocs.io.\n",
            "See https://praw.readthedocs.io/en/latest/getting_started/multiple_instances.html#discord-bots-and-asynchronous-environments for more info.\n",
            "\n"
          ]
        },
        {
          "output_type": "stream",
          "name": "stdout",
          "text": [
            "Fetched submission: Just got this off ebay (created: 2025-03-13 22:11:46)\n"
          ]
        },
        {
          "output_type": "stream",
          "name": "stderr",
          "text": [
            "WARNING:praw:It appears that you are using PRAW in an asynchronous environment.\n",
            "It is strongly recommended to use Async PRAW: https://asyncpraw.readthedocs.io.\n",
            "See https://praw.readthedocs.io/en/latest/getting_started/multiple_instances.html#discord-bots-and-asynchronous-environments for more info.\n",
            "\n",
            "WARNING:praw:It appears that you are using PRAW in an asynchronous environment.\n",
            "It is strongly recommended to use Async PRAW: https://asyncpraw.readthedocs.io.\n",
            "See https://praw.readthedocs.io/en/latest/getting_started/multiple_instances.html#discord-bots-and-asynchronous-environments for more info.\n",
            "\n"
          ]
        },
        {
          "output_type": "stream",
          "name": "stdout",
          "text": [
            "Fetched submission: Found an old shirt! (created: 2025-03-13 18:09:33)\n",
            "Fetched submission: Good Morning, Gustavo is Incredible (created: 2025-03-13 05:55:16)\n"
          ]
        },
        {
          "output_type": "stream",
          "name": "stderr",
          "text": [
            "WARNING:praw:It appears that you are using PRAW in an asynchronous environment.\n",
            "It is strongly recommended to use Async PRAW: https://asyncpraw.readthedocs.io.\n",
            "See https://praw.readthedocs.io/en/latest/getting_started/multiple_instances.html#discord-bots-and-asynchronous-environments for more info.\n",
            "\n",
            "WARNING:praw:It appears that you are using PRAW in an asynchronous environment.\n",
            "It is strongly recommended to use Async PRAW: https://asyncpraw.readthedocs.io.\n",
            "See https://praw.readthedocs.io/en/latest/getting_started/multiple_instances.html#discord-bots-and-asynchronous-environments for more info.\n",
            "\n"
          ]
        },
        {
          "output_type": "stream",
          "name": "stdout",
          "text": [
            "Fetched submission: RvB Real Life vs. the Internet PSA game preview DVD (created: 2025-03-13 00:09:14)\n",
            "Fetched submission: Deja vu (created: 2025-03-12 22:43:10)\n"
          ]
        },
        {
          "output_type": "stream",
          "name": "stderr",
          "text": [
            "WARNING:praw:It appears that you are using PRAW in an asynchronous environment.\n",
            "It is strongly recommended to use Async PRAW: https://asyncpraw.readthedocs.io.\n",
            "See https://praw.readthedocs.io/en/latest/getting_started/multiple_instances.html#discord-bots-and-asynchronous-environments for more info.\n",
            "\n"
          ]
        },
        {
          "output_type": "stream",
          "name": "stdout",
          "text": [
            "Fetched submission: The final Rooster Teeth podcast is back up after being unlisted (created: 2025-03-12 17:16:17)\n"
          ]
        },
        {
          "output_type": "stream",
          "name": "stderr",
          "text": [
            "WARNING:praw:It appears that you are using PRAW in an asynchronous environment.\n",
            "It is strongly recommended to use Async PRAW: https://asyncpraw.readthedocs.io.\n",
            "See https://praw.readthedocs.io/en/latest/getting_started/multiple_instances.html#discord-bots-and-asynchronous-environments for more info.\n",
            "\n",
            "WARNING:praw:It appears that you are using PRAW in an asynchronous environment.\n",
            "It is strongly recommended to use Async PRAW: https://asyncpraw.readthedocs.io.\n",
            "See https://praw.readthedocs.io/en/latest/getting_started/multiple_instances.html#discord-bots-and-asynchronous-environments for more info.\n",
            "\n"
          ]
        },
        {
          "output_type": "stream",
          "name": "stdout",
          "text": [
            "Fetched submission: A new channel that has long compilations of older let's plays from AH (created: 2025-03-12 13:19:31)\n",
            "Fetched submission: Help ID-ing Autographs (created: 2025-03-12 04:55:24)\n"
          ]
        },
        {
          "output_type": "stream",
          "name": "stderr",
          "text": [
            "WARNING:praw:It appears that you are using PRAW in an asynchronous environment.\n",
            "It is strongly recommended to use Async PRAW: https://asyncpraw.readthedocs.io.\n",
            "See https://praw.readthedocs.io/en/latest/getting_started/multiple_instances.html#discord-bots-and-asynchronous-environments for more info.\n",
            "\n",
            "WARNING:praw:It appears that you are using PRAW in an asynchronous environment.\n",
            "It is strongly recommended to use Async PRAW: https://asyncpraw.readthedocs.io.\n",
            "See https://praw.readthedocs.io/en/latest/getting_started/multiple_instances.html#discord-bots-and-asynchronous-environments for more info.\n",
            "\n"
          ]
        },
        {
          "output_type": "stream",
          "name": "stdout",
          "text": [
            "Fetched submission: Zombie army video (created: 2025-03-11 22:53:18)\n",
            "Fetched submission: Need help finding an RT podcast episode (created: 2025-03-11 19:58:28)\n"
          ]
        },
        {
          "output_type": "stream",
          "name": "stderr",
          "text": [
            "WARNING:praw:It appears that you are using PRAW in an asynchronous environment.\n",
            "It is strongly recommended to use Async PRAW: https://asyncpraw.readthedocs.io.\n",
            "See https://praw.readthedocs.io/en/latest/getting_started/multiple_instances.html#discord-bots-and-asynchronous-environments for more info.\n",
            "\n"
          ]
        },
        {
          "output_type": "stream",
          "name": "stdout",
          "text": [
            "Fetched submission: Suggestions for the Top of the top content to watch. (created: 2025-03-11 19:01:59)\n"
          ]
        },
        {
          "output_type": "stream",
          "name": "stderr",
          "text": [
            "WARNING:praw:It appears that you are using PRAW in an asynchronous environment.\n",
            "It is strongly recommended to use Async PRAW: https://asyncpraw.readthedocs.io.\n",
            "See https://praw.readthedocs.io/en/latest/getting_started/multiple_instances.html#discord-bots-and-asynchronous-environments for more info.\n",
            "\n",
            "WARNING:praw:It appears that you are using PRAW in an asynchronous environment.\n",
            "It is strongly recommended to use Async PRAW: https://asyncpraw.readthedocs.io.\n",
            "See https://praw.readthedocs.io/en/latest/getting_started/multiple_instances.html#discord-bots-and-asynchronous-environments for more info.\n",
            "\n"
          ]
        },
        {
          "output_type": "stream",
          "name": "stdout",
          "text": [
            "Fetched submission: My funniest RT memory (created: 2025-03-11 18:25:31)\n",
            "Fetched submission: Here's a playlist of all the compilations of the RTAA's so far (created: 2025-03-11 07:03:03)\n"
          ]
        },
        {
          "output_type": "stream",
          "name": "stderr",
          "text": [
            "WARNING:praw:It appears that you are using PRAW in an asynchronous environment.\n",
            "It is strongly recommended to use Async PRAW: https://asyncpraw.readthedocs.io.\n",
            "See https://praw.readthedocs.io/en/latest/getting_started/multiple_instances.html#discord-bots-and-asynchronous-environments for more info.\n",
            "\n"
          ]
        },
        {
          "output_type": "stream",
          "name": "stdout",
          "text": [
            "Fetched submission: Salem really got out of hand huh (created: 2025-03-11 05:06:47)\n"
          ]
        },
        {
          "output_type": "stream",
          "name": "stderr",
          "text": [
            "WARNING:praw:It appears that you are using PRAW in an asynchronous environment.\n",
            "It is strongly recommended to use Async PRAW: https://asyncpraw.readthedocs.io.\n",
            "See https://praw.readthedocs.io/en/latest/getting_started/multiple_instances.html#discord-bots-and-asynchronous-environments for more info.\n",
            "\n"
          ]
        },
        {
          "output_type": "stream",
          "name": "stdout",
          "text": [
            "Fetched submission: Identifying this shirt. (created: 2025-03-11 05:00:06)\n"
          ]
        },
        {
          "output_type": "stream",
          "name": "stderr",
          "text": [
            "WARNING:praw:It appears that you are using PRAW in an asynchronous environment.\n",
            "It is strongly recommended to use Async PRAW: https://asyncpraw.readthedocs.io.\n",
            "See https://praw.readthedocs.io/en/latest/getting_started/multiple_instances.html#discord-bots-and-asynchronous-environments for more info.\n",
            "\n"
          ]
        },
        {
          "output_type": "stream",
          "name": "stdout",
          "text": [
            "Fetched submission: Andrew Panton (created: 2025-03-10 22:59:57)\n"
          ]
        },
        {
          "output_type": "stream",
          "name": "stderr",
          "text": [
            "WARNING:praw:It appears that you are using PRAW in an asynchronous environment.\n",
            "It is strongly recommended to use Async PRAW: https://asyncpraw.readthedocs.io.\n",
            "See https://praw.readthedocs.io/en/latest/getting_started/multiple_instances.html#discord-bots-and-asynchronous-environments for more info.\n",
            "\n",
            "WARNING:praw:It appears that you are using PRAW in an asynchronous environment.\n",
            "It is strongly recommended to use Async PRAW: https://asyncpraw.readthedocs.io.\n",
            "See https://praw.readthedocs.io/en/latest/getting_started/multiple_instances.html#discord-bots-and-asynchronous-environments for more info.\n",
            "\n"
          ]
        },
        {
          "output_type": "stream",
          "name": "stdout",
          "text": [
            "Fetched submission: The Return of [Redacted] (created: 2025-03-10 21:51:14)\n",
            "Fetched submission: Geoff Ramsey The Deer Whisperer That Kills Them (created: 2025-03-10 18:44:04)\n"
          ]
        },
        {
          "output_type": "stream",
          "name": "stderr",
          "text": [
            "WARNING:praw:It appears that you are using PRAW in an asynchronous environment.\n",
            "It is strongly recommended to use Async PRAW: https://asyncpraw.readthedocs.io.\n",
            "See https://praw.readthedocs.io/en/latest/getting_started/multiple_instances.html#discord-bots-and-asynchronous-environments for more info.\n",
            "\n",
            "WARNING:praw:It appears that you are using PRAW in an asynchronous environment.\n",
            "It is strongly recommended to use Async PRAW: https://asyncpraw.readthedocs.io.\n",
            "See https://praw.readthedocs.io/en/latest/getting_started/multiple_instances.html#discord-bots-and-asynchronous-environments for more info.\n",
            "\n"
          ]
        },
        {
          "output_type": "stream",
          "name": "stdout",
          "text": [
            "Fetched submission: Second thought (created: 2025-03-10 12:26:45)\n",
            "Fetched submission: Do you agree that Camp Camp will make an official comeback? (created: 2025-03-10 09:23:27)\n"
          ]
        },
        {
          "output_type": "stream",
          "name": "stderr",
          "text": [
            "WARNING:praw:It appears that you are using PRAW in an asynchronous environment.\n",
            "It is strongly recommended to use Async PRAW: https://asyncpraw.readthedocs.io.\n",
            "See https://praw.readthedocs.io/en/latest/getting_started/multiple_instances.html#discord-bots-and-asynchronous-environments for more info.\n",
            "\n"
          ]
        },
        {
          "output_type": "stream",
          "name": "stdout",
          "text": [
            "Fetched submission: Made the pilgrimage (created: 2025-03-09 19:46:02)\n"
          ]
        },
        {
          "output_type": "stream",
          "name": "stderr",
          "text": [
            "WARNING:praw:It appears that you are using PRAW in an asynchronous environment.\n",
            "It is strongly recommended to use Async PRAW: https://asyncpraw.readthedocs.io.\n",
            "See https://praw.readthedocs.io/en/latest/getting_started/multiple_instances.html#discord-bots-and-asynchronous-environments for more info.\n",
            "\n",
            "WARNING:praw:It appears that you are using PRAW in an asynchronous environment.\n",
            "It is strongly recommended to use Async PRAW: https://asyncpraw.readthedocs.io.\n",
            "See https://praw.readthedocs.io/en/latest/getting_started/multiple_instances.html#discord-bots-and-asynchronous-environments for more info.\n",
            "\n"
          ]
        },
        {
          "output_type": "stream",
          "name": "stdout",
          "text": [
            "Fetched submission: Time to hoist the Jolly Roger!! Setting up my new home office and had to hang up this bad boy. (created: 2025-03-09 17:36:48)\n",
            "Fetched submission: I hope everyone learned their lesson from the first failure (created: 2025-03-09 07:07:22)\n"
          ]
        },
        {
          "output_type": "stream",
          "name": "stderr",
          "text": [
            "WARNING:praw:It appears that you are using PRAW in an asynchronous environment.\n",
            "It is strongly recommended to use Async PRAW: https://asyncpraw.readthedocs.io.\n",
            "See https://praw.readthedocs.io/en/latest/getting_started/multiple_instances.html#discord-bots-and-asynchronous-environments for more info.\n",
            "\n"
          ]
        },
        {
          "output_type": "stream",
          "name": "stdout",
          "text": [
            "Fetched submission: Spotted something familiar in an ad for my local antique mall. (created: 2025-03-09 04:56:40)\n"
          ]
        },
        {
          "output_type": "stream",
          "name": "stderr",
          "text": [
            "WARNING:praw:It appears that you are using PRAW in an asynchronous environment.\n",
            "It is strongly recommended to use Async PRAW: https://asyncpraw.readthedocs.io.\n",
            "See https://praw.readthedocs.io/en/latest/getting_started/multiple_instances.html#discord-bots-and-asynchronous-environments for more info.\n",
            "\n",
            "WARNING:praw:It appears that you are using PRAW in an asynchronous environment.\n",
            "It is strongly recommended to use Async PRAW: https://asyncpraw.readthedocs.io.\n",
            "See https://praw.readthedocs.io/en/latest/getting_started/multiple_instances.html#discord-bots-and-asynchronous-environments for more info.\n",
            "\n"
          ]
        },
        {
          "output_type": "stream",
          "name": "stdout",
          "text": [
            "Fetched submission: Was just listening to the discussion about whether you stand or sit to wipe too. Dont quite agree (created: 2025-03-09 04:39:20)\n",
            "Fetched submission: Bargain pick up (created: 2025-03-08 20:44:22)\n"
          ]
        },
        {
          "output_type": "stream",
          "name": "stderr",
          "text": [
            "WARNING:praw:It appears that you are using PRAW in an asynchronous environment.\n",
            "It is strongly recommended to use Async PRAW: https://asyncpraw.readthedocs.io.\n",
            "See https://praw.readthedocs.io/en/latest/getting_started/multiple_instances.html#discord-bots-and-asynchronous-environments for more info.\n",
            "\n",
            "WARNING:praw:It appears that you are using PRAW in an asynchronous environment.\n",
            "It is strongly recommended to use Async PRAW: https://asyncpraw.readthedocs.io.\n",
            "See https://praw.readthedocs.io/en/latest/getting_started/multiple_instances.html#discord-bots-and-asynchronous-environments for more info.\n",
            "\n"
          ]
        },
        {
          "output_type": "stream",
          "name": "stdout",
          "text": [
            "Fetched submission: My favorite RT merch: RvB Recollection DVD signed by... (created: 2025-03-08 20:17:23)\n",
            "Fetched submission: Podcast important list (created: 2025-03-08 18:47:25)\n"
          ]
        },
        {
          "output_type": "stream",
          "name": "stderr",
          "text": [
            "WARNING:praw:It appears that you are using PRAW in an asynchronous environment.\n",
            "It is strongly recommended to use Async PRAW: https://asyncpraw.readthedocs.io.\n",
            "See https://praw.readthedocs.io/en/latest/getting_started/multiple_instances.html#discord-bots-and-asynchronous-environments for more info.\n",
            "\n"
          ]
        },
        {
          "output_type": "stream",
          "name": "stdout",
          "text": [
            "Fetched submission: I wonder where I got my names from (created: 2025-03-08 18:01:38)\n"
          ]
        },
        {
          "output_type": "stream",
          "name": "stderr",
          "text": [
            "WARNING:praw:It appears that you are using PRAW in an asynchronous environment.\n",
            "It is strongly recommended to use Async PRAW: https://asyncpraw.readthedocs.io.\n",
            "See https://praw.readthedocs.io/en/latest/getting_started/multiple_instances.html#discord-bots-and-asynchronous-environments for more info.\n",
            "\n",
            "WARNING:praw:It appears that you are using PRAW in an asynchronous environment.\n",
            "It is strongly recommended to use Async PRAW: https://asyncpraw.readthedocs.io.\n",
            "See https://praw.readthedocs.io/en/latest/getting_started/multiple_instances.html#discord-bots-and-asynchronous-environments for more info.\n",
            "\n"
          ]
        },
        {
          "output_type": "stream",
          "name": "stdout",
          "text": [
            "Fetched submission: Place in Austin (created: 2025-03-08 04:59:50)\n",
            "Fetched submission: BZC Animated Adventures (Fan Made) (created: 2025-03-07 23:25:25)\n"
          ]
        },
        {
          "output_type": "stream",
          "name": "stderr",
          "text": [
            "WARNING:praw:It appears that you are using PRAW in an asynchronous environment.\n",
            "It is strongly recommended to use Async PRAW: https://asyncpraw.readthedocs.io.\n",
            "See https://praw.readthedocs.io/en/latest/getting_started/multiple_instances.html#discord-bots-and-asynchronous-environments for more info.\n",
            "\n",
            "WARNING:praw:It appears that you are using PRAW in an asynchronous environment.\n",
            "It is strongly recommended to use Async PRAW: https://asyncpraw.readthedocs.io.\n",
            "See https://praw.readthedocs.io/en/latest/getting_started/multiple_instances.html#discord-bots-and-asynchronous-environments for more info.\n",
            "\n"
          ]
        },
        {
          "output_type": "stream",
          "name": "stdout",
          "text": [
            "Fetched submission: Was Burnie right about the iPhone's? (5 and the 5c?) (created: 2025-03-07 23:07:53)\n",
            "Fetched submission: RTAA & Source (Classic) - A Selfie With Burnie (created: 2025-03-07 20:45:08)\n"
          ]
        },
        {
          "output_type": "stream",
          "name": "stderr",
          "text": [
            "WARNING:praw:It appears that you are using PRAW in an asynchronous environment.\n",
            "It is strongly recommended to use Async PRAW: https://asyncpraw.readthedocs.io.\n",
            "See https://praw.readthedocs.io/en/latest/getting_started/multiple_instances.html#discord-bots-and-asynchronous-environments for more info.\n",
            "\n"
          ]
        },
        {
          "output_type": "stream",
          "name": "stdout",
          "text": [
            "Fetched submission: The Last Caretaker: The First 9 Minutes of Gameplay [VO by Jack Pattillo] (created: 2025-03-07 17:02:22)\n"
          ]
        },
        {
          "output_type": "stream",
          "name": "stderr",
          "text": [
            "WARNING:praw:It appears that you are using PRAW in an asynchronous environment.\n",
            "It is strongly recommended to use Async PRAW: https://asyncpraw.readthedocs.io.\n",
            "See https://praw.readthedocs.io/en/latest/getting_started/multiple_instances.html#discord-bots-and-asynchronous-environments for more info.\n",
            "\n",
            "WARNING:praw:It appears that you are using PRAW in an asynchronous environment.\n",
            "It is strongly recommended to use Async PRAW: https://asyncpraw.readthedocs.io.\n",
            "See https://praw.readthedocs.io/en/latest/getting_started/multiple_instances.html#discord-bots-and-asynchronous-environments for more info.\n",
            "\n"
          ]
        },
        {
          "output_type": "stream",
          "name": "stdout",
          "text": [
            "Fetched submission: help me find an episode? (created: 2025-03-06 22:43:39)\n",
            "Fetched submission: Will there be any Q&As soon? (created: 2025-03-06 21:52:50)\n"
          ]
        },
        {
          "output_type": "stream",
          "name": "stderr",
          "text": [
            "WARNING:praw:It appears that you are using PRAW in an asynchronous environment.\n",
            "It is strongly recommended to use Async PRAW: https://asyncpraw.readthedocs.io.\n",
            "See https://praw.readthedocs.io/en/latest/getting_started/multiple_instances.html#discord-bots-and-asynchronous-environments for more info.\n",
            "\n"
          ]
        },
        {
          "output_type": "stream",
          "name": "stdout",
          "text": [
            "Fetched submission: Who is \"How are we today\" for? (created: 2025-03-06 18:12:20)\n"
          ]
        },
        {
          "output_type": "stream",
          "name": "stderr",
          "text": [
            "WARNING:praw:It appears that you are using PRAW in an asynchronous environment.\n",
            "It is strongly recommended to use Async PRAW: https://asyncpraw.readthedocs.io.\n",
            "See https://praw.readthedocs.io/en/latest/getting_started/multiple_instances.html#discord-bots-and-asynchronous-environments for more info.\n",
            "\n",
            "WARNING:praw:It appears that you are using PRAW in an asynchronous environment.\n",
            "It is strongly recommended to use Async PRAW: https://asyncpraw.readthedocs.io.\n",
            "See https://praw.readthedocs.io/en/latest/getting_started/multiple_instances.html#discord-bots-and-asynchronous-environments for more info.\n",
            "\n"
          ]
        },
        {
          "output_type": "stream",
          "name": "stdout",
          "text": [
            "Fetched submission: Was doing some cleaning and came across these and wanted to share. (created: 2025-03-06 17:25:41)\n",
            "Fetched submission: When you realize that a 5-minute Rooster Teeth podcast turns into a 2-hour deep dive... (created: 2025-03-06 15:30:11)\n"
          ]
        },
        {
          "output_type": "stream",
          "name": "stderr",
          "text": [
            "WARNING:praw:It appears that you are using PRAW in an asynchronous environment.\n",
            "It is strongly recommended to use Async PRAW: https://asyncpraw.readthedocs.io.\n",
            "See https://praw.readthedocs.io/en/latest/getting_started/multiple_instances.html#discord-bots-and-asynchronous-environments for more info.\n",
            "\n"
          ]
        },
        {
          "output_type": "stream",
          "name": "stdout",
          "text": [
            "Fetched submission: What show would you like brought back? (created: 2025-03-06 12:21:44)\n"
          ]
        },
        {
          "output_type": "stream",
          "name": "stderr",
          "text": [
            "WARNING:praw:It appears that you are using PRAW in an asynchronous environment.\n",
            "It is strongly recommended to use Async PRAW: https://asyncpraw.readthedocs.io.\n",
            "See https://praw.readthedocs.io/en/latest/getting_started/multiple_instances.html#discord-bots-and-asynchronous-environments for more info.\n",
            "\n"
          ]
        },
        {
          "output_type": "stream",
          "name": "stdout",
          "text": [
            "Fetched submission: *Gavin gagging noises* (created: 2025-03-06 02:01:35)\n",
            "Fetched submission: Memory's (created: 2025-03-05 11:58:29)\n"
          ]
        },
        {
          "output_type": "stream",
          "name": "stderr",
          "text": [
            "WARNING:praw:It appears that you are using PRAW in an asynchronous environment.\n",
            "It is strongly recommended to use Async PRAW: https://asyncpraw.readthedocs.io.\n",
            "See https://praw.readthedocs.io/en/latest/getting_started/multiple_instances.html#discord-bots-and-asynchronous-environments for more info.\n",
            "\n",
            "WARNING:praw:It appears that you are using PRAW in an asynchronous environment.\n",
            "It is strongly recommended to use Async PRAW: https://asyncpraw.readthedocs.io.\n",
            "See https://praw.readthedocs.io/en/latest/getting_started/multiple_instances.html#discord-bots-and-asynchronous-environments for more info.\n",
            "\n"
          ]
        },
        {
          "output_type": "stream",
          "name": "stdout",
          "text": [
            "Fetched submission: Gavin and Barbara have been life long friends? (created: 2025-03-05 11:05:07)\n"
          ]
        },
        {
          "output_type": "stream",
          "name": "stderr",
          "text": [
            "WARNING:praw:It appears that you are using PRAW in an asynchronous environment.\n",
            "It is strongly recommended to use Async PRAW: https://asyncpraw.readthedocs.io.\n",
            "See https://praw.readthedocs.io/en/latest/getting_started/multiple_instances.html#discord-bots-and-asynchronous-environments for more info.\n",
            "\n"
          ]
        },
        {
          "output_type": "stream",
          "name": "stdout",
          "text": [
            "Fetched submission: Gus’ keyboard? Kind of a deep cut (created: 2025-03-05 01:52:08)\n"
          ]
        },
        {
          "output_type": "stream",
          "name": "stderr",
          "text": [
            "WARNING:praw:It appears that you are using PRAW in an asynchronous environment.\n",
            "It is strongly recommended to use Async PRAW: https://asyncpraw.readthedocs.io.\n",
            "See https://praw.readthedocs.io/en/latest/getting_started/multiple_instances.html#discord-bots-and-asynchronous-environments for more info.\n",
            "\n"
          ]
        },
        {
          "output_type": "stream",
          "name": "stdout",
          "text": [
            "Fetched submission: Anyone know if buying/obtaining Sugar Pine 7 Merch is even possible anymore? (created: 2025-03-05 00:57:29)\n"
          ]
        },
        {
          "output_type": "stream",
          "name": "stderr",
          "text": [
            "WARNING:praw:It appears that you are using PRAW in an asynchronous environment.\n",
            "It is strongly recommended to use Async PRAW: https://asyncpraw.readthedocs.io.\n",
            "See https://praw.readthedocs.io/en/latest/getting_started/multiple_instances.html#discord-bots-and-asynchronous-environments for more info.\n",
            "\n"
          ]
        },
        {
          "output_type": "stream",
          "name": "stdout",
          "text": [
            "Fetched submission: Can anyone help me find this podcast ep? (created: 2025-03-04 14:31:43)\n"
          ]
        },
        {
          "output_type": "stream",
          "name": "stderr",
          "text": [
            "WARNING:praw:It appears that you are using PRAW in an asynchronous environment.\n",
            "It is strongly recommended to use Async PRAW: https://asyncpraw.readthedocs.io.\n",
            "See https://praw.readthedocs.io/en/latest/getting_started/multiple_instances.html#discord-bots-and-asynchronous-environments for more info.\n",
            "\n"
          ]
        },
        {
          "output_type": "stream",
          "name": "stdout",
          "text": [
            "Fetched submission: Happy Pancake Day! What are your favourite Pancake podcast moments? (created: 2025-03-04 06:44:25)\n"
          ]
        },
        {
          "output_type": "stream",
          "name": "stderr",
          "text": [
            "WARNING:praw:It appears that you are using PRAW in an asynchronous environment.\n",
            "It is strongly recommended to use Async PRAW: https://asyncpraw.readthedocs.io.\n",
            "See https://praw.readthedocs.io/en/latest/getting_started/multiple_instances.html#discord-bots-and-asynchronous-environments for more info.\n",
            "\n"
          ]
        },
        {
          "output_type": "stream",
          "name": "stdout",
          "text": [
            "Fetched submission: Old merch? (created: 2025-03-03 23:47:59)\n"
          ]
        },
        {
          "output_type": "stream",
          "name": "stderr",
          "text": [
            "WARNING:praw:It appears that you are using PRAW in an asynchronous environment.\n",
            "It is strongly recommended to use Async PRAW: https://asyncpraw.readthedocs.io.\n",
            "See https://praw.readthedocs.io/en/latest/getting_started/multiple_instances.html#discord-bots-and-asynchronous-environments for more info.\n",
            "\n"
          ]
        },
        {
          "output_type": "stream",
          "name": "stdout",
          "text": [
            "Fetched submission: Did Anyone Warm Up To This Logo? I Still Have Not (created: 2025-03-02 16:22:44)\n"
          ]
        },
        {
          "output_type": "stream",
          "name": "stderr",
          "text": [
            "WARNING:praw:It appears that you are using PRAW in an asynchronous environment.\n",
            "It is strongly recommended to use Async PRAW: https://asyncpraw.readthedocs.io.\n",
            "See https://praw.readthedocs.io/en/latest/getting_started/multiple_instances.html#discord-bots-and-asynchronous-environments for more info.\n",
            "\n"
          ]
        },
        {
          "output_type": "stream",
          "name": "stdout",
          "text": [
            "Fetched submission: Bernie's Old College Football Website (created: 2025-03-02 09:36:35)\n"
          ]
        },
        {
          "output_type": "stream",
          "name": "stderr",
          "text": [
            "WARNING:praw:It appears that you are using PRAW in an asynchronous environment.\n",
            "It is strongly recommended to use Async PRAW: https://asyncpraw.readthedocs.io.\n",
            "See https://praw.readthedocs.io/en/latest/getting_started/multiple_instances.html#discord-bots-and-asynchronous-environments for more info.\n",
            "\n",
            "WARNING:praw:It appears that you are using PRAW in an asynchronous environment.\n",
            "It is strongly recommended to use Async PRAW: https://asyncpraw.readthedocs.io.\n",
            "See https://praw.readthedocs.io/en/latest/getting_started/multiple_instances.html#discord-bots-and-asynchronous-environments for more info.\n",
            "\n"
          ]
        },
        {
          "output_type": "stream",
          "name": "stdout",
          "text": [
            "Fetched submission: WHY video???? (created: 2025-03-02 09:36:19)\n",
            "Fetched submission: Watching the Oreo Tier list (created: 2025-03-02 07:06:34)\n"
          ]
        },
        {
          "output_type": "stream",
          "name": "stderr",
          "text": [
            "WARNING:praw:It appears that you are using PRAW in an asynchronous environment.\n",
            "It is strongly recommended to use Async PRAW: https://asyncpraw.readthedocs.io.\n",
            "See https://praw.readthedocs.io/en/latest/getting_started/multiple_instances.html#discord-bots-and-asynchronous-environments for more info.\n",
            "\n",
            "WARNING:praw:It appears that you are using PRAW in an asynchronous environment.\n",
            "It is strongly recommended to use Async PRAW: https://asyncpraw.readthedocs.io.\n",
            "See https://praw.readthedocs.io/en/latest/getting_started/multiple_instances.html#discord-bots-and-asynchronous-environments for more info.\n",
            "\n"
          ]
        },
        {
          "output_type": "stream",
          "name": "stdout",
          "text": [
            "Fetched submission: Catching up on FaceJam (created: 2025-03-02 00:01:41)\n",
            "Fetched submission: Check out my pin collection (created: 2025-03-01 23:23:33)\n"
          ]
        },
        {
          "output_type": "stream",
          "name": "stderr",
          "text": [
            "WARNING:praw:It appears that you are using PRAW in an asynchronous environment.\n",
            "It is strongly recommended to use Async PRAW: https://asyncpraw.readthedocs.io.\n",
            "See https://praw.readthedocs.io/en/latest/getting_started/multiple_instances.html#discord-bots-and-asynchronous-environments for more info.\n",
            "\n"
          ]
        },
        {
          "output_type": "stream",
          "name": "stdout",
          "text": [
            "Fetched submission: Did Jeremy Every Officially Leave AH? (created: 2025-03-01 22:59:35)\n"
          ]
        },
        {
          "output_type": "stream",
          "name": "stderr",
          "text": [
            "WARNING:praw:It appears that you are using PRAW in an asynchronous environment.\n",
            "It is strongly recommended to use Async PRAW: https://asyncpraw.readthedocs.io.\n",
            "See https://praw.readthedocs.io/en/latest/getting_started/multiple_instances.html#discord-bots-and-asynchronous-environments for more info.\n",
            "\n"
          ]
        },
        {
          "output_type": "stream",
          "name": "stdout",
          "text": [
            "Fetched submission: When I was 15 I got my first job just to buy RT merch (created: 2025-03-01 17:05:13)\n"
          ]
        },
        {
          "output_type": "stream",
          "name": "stderr",
          "text": [
            "WARNING:praw:It appears that you are using PRAW in an asynchronous environment.\n",
            "It is strongly recommended to use Async PRAW: https://asyncpraw.readthedocs.io.\n",
            "See https://praw.readthedocs.io/en/latest/getting_started/multiple_instances.html#discord-bots-and-asynchronous-environments for more info.\n",
            "\n"
          ]
        },
        {
          "output_type": "stream",
          "name": "stdout",
          "text": [
            "Fetched submission: One last treasure <3 (created: 2025-03-01 16:13:42)\n"
          ]
        },
        {
          "output_type": "stream",
          "name": "stderr",
          "text": [
            "WARNING:praw:It appears that you are using PRAW in an asynchronous environment.\n",
            "It is strongly recommended to use Async PRAW: https://asyncpraw.readthedocs.io.\n",
            "See https://praw.readthedocs.io/en/latest/getting_started/multiple_instances.html#discord-bots-and-asynchronous-environments for more info.\n",
            "\n",
            "WARNING:praw:It appears that you are using PRAW in an asynchronous environment.\n",
            "It is strongly recommended to use Async PRAW: https://asyncpraw.readthedocs.io.\n",
            "See https://praw.readthedocs.io/en/latest/getting_started/multiple_instances.html#discord-bots-and-asynchronous-environments for more info.\n",
            "\n"
          ]
        },
        {
          "output_type": "stream",
          "name": "stdout",
          "text": [
            "Fetched submission: Lets watch movie list (created: 2025-03-01 13:44:33)\n",
            "Fetched submission: Bruce Greene new gameplay-Porch Pirate: Sea of Mail Thieves (created: 2025-03-01 02:07:23)\n"
          ]
        },
        {
          "output_type": "stream",
          "name": "stderr",
          "text": [
            "WARNING:praw:It appears that you are using PRAW in an asynchronous environment.\n",
            "It is strongly recommended to use Async PRAW: https://asyncpraw.readthedocs.io.\n",
            "See https://praw.readthedocs.io/en/latest/getting_started/multiple_instances.html#discord-bots-and-asynchronous-environments for more info.\n",
            "\n",
            "WARNING:praw:It appears that you are using PRAW in an asynchronous environment.\n",
            "It is strongly recommended to use Async PRAW: https://asyncpraw.readthedocs.io.\n",
            "See https://praw.readthedocs.io/en/latest/getting_started/multiple_instances.html#discord-bots-and-asynchronous-environments for more info.\n",
            "\n"
          ]
        },
        {
          "output_type": "stream",
          "name": "stdout",
          "text": [
            "Fetched submission: this seems familiar... (created: 2025-02-28 22:26:58)\n",
            "Fetched submission: How's Gavin gonna talk to his grandad now? (created: 2025-02-28 22:09:06)\n"
          ]
        },
        {
          "output_type": "stream",
          "name": "stderr",
          "text": [
            "WARNING:praw:It appears that you are using PRAW in an asynchronous environment.\n",
            "It is strongly recommended to use Async PRAW: https://asyncpraw.readthedocs.io.\n",
            "See https://praw.readthedocs.io/en/latest/getting_started/multiple_instances.html#discord-bots-and-asynchronous-environments for more info.\n",
            "\n"
          ]
        },
        {
          "output_type": "stream",
          "name": "stdout",
          "text": [
            "Fetched submission: Another lovely find while cleaning. (created: 2025-02-28 19:41:22)\n"
          ]
        },
        {
          "output_type": "stream",
          "name": "stderr",
          "text": [
            "WARNING:praw:It appears that you are using PRAW in an asynchronous environment.\n",
            "It is strongly recommended to use Async PRAW: https://asyncpraw.readthedocs.io.\n",
            "See https://praw.readthedocs.io/en/latest/getting_started/multiple_instances.html#discord-bots-and-asynchronous-environments for more info.\n",
            "\n"
          ]
        },
        {
          "output_type": "stream",
          "name": "stdout",
          "text": [
            "Fetched submission: Happy to be here! (created: 2025-02-28 19:09:21)\n"
          ]
        },
        {
          "output_type": "stream",
          "name": "stderr",
          "text": [
            "WARNING:praw:It appears that you are using PRAW in an asynchronous environment.\n",
            "It is strongly recommended to use Async PRAW: https://asyncpraw.readthedocs.io.\n",
            "See https://praw.readthedocs.io/en/latest/getting_started/multiple_instances.html#discord-bots-and-asynchronous-environments for more info.\n",
            "\n"
          ]
        },
        {
          "output_type": "stream",
          "name": "stdout",
          "text": [
            "Fetched submission: What is going to happen to gen:LOCK? (created: 2025-02-28 01:55:47)\n"
          ]
        },
        {
          "output_type": "stream",
          "name": "stderr",
          "text": [
            "WARNING:praw:It appears that you are using PRAW in an asynchronous environment.\n",
            "It is strongly recommended to use Async PRAW: https://asyncpraw.readthedocs.io.\n",
            "See https://praw.readthedocs.io/en/latest/getting_started/multiple_instances.html#discord-bots-and-asynchronous-environments for more info.\n",
            "\n",
            "WARNING:praw:It appears that you are using PRAW in an asynchronous environment.\n",
            "It is strongly recommended to use Async PRAW: https://asyncpraw.readthedocs.io.\n",
            "See https://praw.readthedocs.io/en/latest/getting_started/multiple_instances.html#discord-bots-and-asynchronous-environments for more info.\n",
            "\n"
          ]
        },
        {
          "output_type": "stream",
          "name": "stdout",
          "text": [
            "Fetched submission: Looks familiar (created: 2025-02-27 22:42:14)\n",
            "Fetched submission: \"Was that the desk he made with his dad?\" 😮😆 (created: 2025-02-27 19:19:50)\n"
          ]
        },
        {
          "output_type": "stream",
          "name": "stderr",
          "text": [
            "WARNING:praw:It appears that you are using PRAW in an asynchronous environment.\n",
            "It is strongly recommended to use Async PRAW: https://asyncpraw.readthedocs.io.\n",
            "See https://praw.readthedocs.io/en/latest/getting_started/multiple_instances.html#discord-bots-and-asynchronous-environments for more info.\n",
            "\n"
          ]
        },
        {
          "output_type": "stream",
          "name": "stdout",
          "text": [
            "Fetched submission: Look what I found! (created: 2025-02-27 18:10:18)\n"
          ]
        },
        {
          "output_type": "stream",
          "name": "stderr",
          "text": [
            "WARNING:praw:It appears that you are using PRAW in an asynchronous environment.\n",
            "It is strongly recommended to use Async PRAW: https://asyncpraw.readthedocs.io.\n",
            "See https://praw.readthedocs.io/en/latest/getting_started/multiple_instances.html#discord-bots-and-asynchronous-environments for more info.\n",
            "\n"
          ]
        },
        {
          "output_type": "stream",
          "name": "stdout",
          "text": [
            "Fetched submission: My Current Rooster Teeth Collection (created: 2025-02-27 17:08:44)\n"
          ]
        },
        {
          "output_type": "stream",
          "name": "stderr",
          "text": [
            "WARNING:praw:It appears that you are using PRAW in an asynchronous environment.\n",
            "It is strongly recommended to use Async PRAW: https://asyncpraw.readthedocs.io.\n",
            "See https://praw.readthedocs.io/en/latest/getting_started/multiple_instances.html#discord-bots-and-asynchronous-environments for more info.\n",
            "\n"
          ]
        },
        {
          "output_type": "stream",
          "name": "stdout",
          "text": [
            "Fetched submission: Andrew Rosas as JFK on Good Morning From Hell (created: 2025-02-27 02:52:41)\n"
          ]
        },
        {
          "output_type": "stream",
          "name": "stderr",
          "text": [
            "WARNING:praw:It appears that you are using PRAW in an asynchronous environment.\n",
            "It is strongly recommended to use Async PRAW: https://asyncpraw.readthedocs.io.\n",
            "See https://praw.readthedocs.io/en/latest/getting_started/multiple_instances.html#discord-bots-and-asynchronous-environments for more info.\n",
            "\n"
          ]
        },
        {
          "output_type": "stream",
          "name": "stdout",
          "text": [
            "Fetched submission: What’s a RWBY song you know by heart? (created: 2025-02-26 19:42:34)\n"
          ]
        },
        {
          "output_type": "stream",
          "name": "stderr",
          "text": [
            "WARNING:praw:It appears that you are using PRAW in an asynchronous environment.\n",
            "It is strongly recommended to use Async PRAW: https://asyncpraw.readthedocs.io.\n",
            "See https://praw.readthedocs.io/en/latest/getting_started/multiple_instances.html#discord-bots-and-asynchronous-environments for more info.\n",
            "\n"
          ]
        },
        {
          "output_type": "stream",
          "name": "stdout",
          "text": [
            "Fetched submission: RvB Spartan Helmet Pin (created: 2025-02-27 00:13:21)\n"
          ]
        },
        {
          "output_type": "stream",
          "name": "stderr",
          "text": [
            "WARNING:praw:It appears that you are using PRAW in an asynchronous environment.\n",
            "It is strongly recommended to use Async PRAW: https://asyncpraw.readthedocs.io.\n",
            "See https://praw.readthedocs.io/en/latest/getting_started/multiple_instances.html#discord-bots-and-asynchronous-environments for more info.\n",
            "\n",
            "WARNING:praw:It appears that you are using PRAW in an asynchronous environment.\n",
            "It is strongly recommended to use Async PRAW: https://asyncpraw.readthedocs.io.\n",
            "See https://praw.readthedocs.io/en/latest/getting_started/multiple_instances.html#discord-bots-and-asynchronous-environments for more info.\n",
            "\n",
            "WARNING:praw:It appears that you are using PRAW in an asynchronous environment.\n",
            "It is strongly recommended to use Async PRAW: https://asyncpraw.readthedocs.io.\n",
            "See https://praw.readthedocs.io/en/latest/getting_started/multiple_instances.html#discord-bots-and-asynchronous-environments for more info.\n",
            "\n"
          ]
        },
        {
          "output_type": "stream",
          "name": "stdout",
          "text": [
            "Fetched submission: RWBY Funko Pops with a Bonus!! (created: 2025-02-26 15:24:42)\n",
            "Fetched submission: Kydelius \"Kyborg\" Everwinter (created: 2025-02-26 12:10:28)\n"
          ]
        },
        {
          "output_type": "stream",
          "name": "stderr",
          "text": [
            "WARNING:praw:It appears that you are using PRAW in an asynchronous environment.\n",
            "It is strongly recommended to use Async PRAW: https://asyncpraw.readthedocs.io.\n",
            "See https://praw.readthedocs.io/en/latest/getting_started/multiple_instances.html#discord-bots-and-asynchronous-environments for more info.\n",
            "\n",
            "WARNING:praw:It appears that you are using PRAW in an asynchronous environment.\n",
            "It is strongly recommended to use Async PRAW: https://asyncpraw.readthedocs.io.\n",
            "See https://praw.readthedocs.io/en/latest/getting_started/multiple_instances.html#discord-bots-and-asynchronous-environments for more info.\n",
            "\n"
          ]
        },
        {
          "output_type": "stream",
          "name": "stdout",
          "text": [
            "Fetched submission: Original Red vs Blue “This doesn’t seem physically possible!” Tee Size Large. Offers/value? (created: 2025-02-26 01:28:16)\n",
            "Fetched submission: Burnie Bobble Head!! (created: 2025-02-25 23:20:40)\n"
          ]
        },
        {
          "output_type": "stream",
          "name": "stderr",
          "text": [
            "WARNING:praw:It appears that you are using PRAW in an asynchronous environment.\n",
            "It is strongly recommended to use Async PRAW: https://asyncpraw.readthedocs.io.\n",
            "See https://praw.readthedocs.io/en/latest/getting_started/multiple_instances.html#discord-bots-and-asynchronous-environments for more info.\n",
            "\n"
          ]
        },
        {
          "output_type": "stream",
          "name": "stdout",
          "text": [
            "Fetched submission: Rooster Teeth alums are bringing their new Mental Health show to Austin PBS (created: 2025-02-25 16:47:14)\n"
          ]
        },
        {
          "output_type": "stream",
          "name": "stderr",
          "text": [
            "WARNING:praw:It appears that you are using PRAW in an asynchronous environment.\n",
            "It is strongly recommended to use Async PRAW: https://asyncpraw.readthedocs.io.\n",
            "See https://praw.readthedocs.io/en/latest/getting_started/multiple_instances.html#discord-bots-and-asynchronous-environments for more info.\n",
            "\n",
            "WARNING:praw:It appears that you are using PRAW in an asynchronous environment.\n",
            "It is strongly recommended to use Async PRAW: https://asyncpraw.readthedocs.io.\n",
            "See https://praw.readthedocs.io/en/latest/getting_started/multiple_instances.html#discord-bots-and-asynchronous-environments for more info.\n",
            "\n"
          ]
        },
        {
          "output_type": "stream",
          "name": "stdout",
          "text": [
            "Fetched submission: Tower of Pimps Mark II (created: 2025-02-25 12:01:37)\n",
            "Fetched submission: Orange Monkey Eagle (created: 2025-02-25 05:14:51)\n"
          ]
        },
        {
          "output_type": "stream",
          "name": "stderr",
          "text": [
            "WARNING:praw:It appears that you are using PRAW in an asynchronous environment.\n",
            "It is strongly recommended to use Async PRAW: https://asyncpraw.readthedocs.io.\n",
            "See https://praw.readthedocs.io/en/latest/getting_started/multiple_instances.html#discord-bots-and-asynchronous-environments for more info.\n",
            "\n"
          ]
        },
        {
          "output_type": "stream",
          "name": "stdout",
          "text": [
            "Fetched submission: Comments had exactly what I was looking for (created: 2025-02-24 21:02:28)\n"
          ]
        },
        {
          "output_type": "stream",
          "name": "stderr",
          "text": [
            "WARNING:praw:It appears that you are using PRAW in an asynchronous environment.\n",
            "It is strongly recommended to use Async PRAW: https://asyncpraw.readthedocs.io.\n",
            "See https://praw.readthedocs.io/en/latest/getting_started/multiple_instances.html#discord-bots-and-asynchronous-environments for more info.\n",
            "\n"
          ]
        },
        {
          "output_type": "stream",
          "name": "stdout",
          "text": [
            "Fetched submission: Tower of Pimps I 3D Printed. (created: 2025-02-24 11:05:39)\n"
          ]
        },
        {
          "output_type": "stream",
          "name": "stderr",
          "text": [
            "WARNING:praw:It appears that you are using PRAW in an asynchronous environment.\n",
            "It is strongly recommended to use Async PRAW: https://asyncpraw.readthedocs.io.\n",
            "See https://praw.readthedocs.io/en/latest/getting_started/multiple_instances.html#discord-bots-and-asynchronous-environments for more info.\n",
            "\n",
            "WARNING:praw:It appears that you are using PRAW in an asynchronous environment.\n",
            "It is strongly recommended to use Async PRAW: https://asyncpraw.readthedocs.io.\n",
            "See https://praw.readthedocs.io/en/latest/getting_started/multiple_instances.html#discord-bots-and-asynchronous-environments for more info.\n",
            "\n"
          ]
        },
        {
          "output_type": "stream",
          "name": "stdout",
          "text": [
            "Fetched submission: Achievement hunter GTA Enamel pins (created: 2025-02-24 09:20:02)\n",
            "Fetched submission: Posters I don’t know what to do with. (created: 2025-02-24 04:18:36)\n"
          ]
        },
        {
          "output_type": "stream",
          "name": "stderr",
          "text": [
            "WARNING:praw:It appears that you are using PRAW in an asynchronous environment.\n",
            "It is strongly recommended to use Async PRAW: https://asyncpraw.readthedocs.io.\n",
            "See https://praw.readthedocs.io/en/latest/getting_started/multiple_instances.html#discord-bots-and-asynchronous-environments for more info.\n",
            "\n"
          ]
        },
        {
          "output_type": "stream",
          "name": "stdout",
          "text": [
            "Fetched submission: Old merch (created: 2025-02-23 23:58:45)\n",
            "Fetched submission: Who is your favorite villain from Rooster Teeth (created: 2025-02-23 16:10:51)\n"
          ]
        },
        {
          "output_type": "stream",
          "name": "stderr",
          "text": [
            "WARNING:praw:It appears that you are using PRAW in an asynchronous environment.\n",
            "It is strongly recommended to use Async PRAW: https://asyncpraw.readthedocs.io.\n",
            "See https://praw.readthedocs.io/en/latest/getting_started/multiple_instances.html#discord-bots-and-asynchronous-environments for more info.\n",
            "\n",
            "WARNING:praw:It appears that you are using PRAW in an asynchronous environment.\n",
            "It is strongly recommended to use Async PRAW: https://asyncpraw.readthedocs.io.\n",
            "See https://praw.readthedocs.io/en/latest/getting_started/multiple_instances.html#discord-bots-and-asynchronous-environments for more info.\n",
            "\n"
          ]
        },
        {
          "output_type": "stream",
          "name": "stdout",
          "text": [
            "Fetched submission: I met Burnie at the Live reveal of Destiny 2 event 2017 (created: 2025-02-23 13:22:33)\n"
          ]
        },
        {
          "output_type": "stream",
          "name": "stderr",
          "text": [
            "WARNING:praw:It appears that you are using PRAW in an asynchronous environment.\n",
            "It is strongly recommended to use Async PRAW: https://asyncpraw.readthedocs.io.\n",
            "See https://praw.readthedocs.io/en/latest/getting_started/multiple_instances.html#discord-bots-and-asynchronous-environments for more info.\n",
            "\n"
          ]
        },
        {
          "output_type": "stream",
          "name": "stdout",
          "text": [
            "Fetched submission: Somebody needs to show Bernie (created: 2025-02-23 10:33:35)\n"
          ]
        },
        {
          "output_type": "stream",
          "name": "stderr",
          "text": [
            "WARNING:praw:It appears that you are using PRAW in an asynchronous environment.\n",
            "It is strongly recommended to use Async PRAW: https://asyncpraw.readthedocs.io.\n",
            "See https://praw.readthedocs.io/en/latest/getting_started/multiple_instances.html#discord-bots-and-asynchronous-environments for more info.\n",
            "\n"
          ]
        },
        {
          "output_type": "stream",
          "name": "stdout",
          "text": [
            "Fetched submission: Mr. Wonderful knows its always time to diddle (created: 2025-02-22 21:10:30)\n"
          ]
        },
        {
          "output_type": "stream",
          "name": "stderr",
          "text": [
            "WARNING:praw:It appears that you are using PRAW in an asynchronous environment.\n",
            "It is strongly recommended to use Async PRAW: https://asyncpraw.readthedocs.io.\n",
            "See https://praw.readthedocs.io/en/latest/getting_started/multiple_instances.html#discord-bots-and-asynchronous-environments for more info.\n",
            "\n",
            "WARNING:praw:It appears that you are using PRAW in an asynchronous environment.\n",
            "It is strongly recommended to use Async PRAW: https://asyncpraw.readthedocs.io.\n",
            "See https://praw.readthedocs.io/en/latest/getting_started/multiple_instances.html#discord-bots-and-asynchronous-environments for more info.\n",
            "\n"
          ]
        },
        {
          "output_type": "stream",
          "name": "stdout",
          "text": [
            "Fetched submission: Celebrating by Reading Your Comments (created: 2025-02-22 19:22:01)\n",
            "Fetched submission: TheGamer's 10 Best Rooster Teeth Shows Of All Time List (created: 2025-02-22 17:04:48)\n"
          ]
        },
        {
          "output_type": "stream",
          "name": "stderr",
          "text": [
            "WARNING:praw:It appears that you are using PRAW in an asynchronous environment.\n",
            "It is strongly recommended to use Async PRAW: https://asyncpraw.readthedocs.io.\n",
            "See https://praw.readthedocs.io/en/latest/getting_started/multiple_instances.html#discord-bots-and-asynchronous-environments for more info.\n",
            "\n",
            "WARNING:praw:It appears that you are using PRAW in an asynchronous environment.\n",
            "It is strongly recommended to use Async PRAW: https://asyncpraw.readthedocs.io.\n",
            "See https://praw.readthedocs.io/en/latest/getting_started/multiple_instances.html#discord-bots-and-asynchronous-environments for more info.\n",
            "\n"
          ]
        },
        {
          "output_type": "stream",
          "name": "stdout",
          "text": [
            "Fetched submission: Happy National Gus Day (created: 2025-02-22 12:51:36)\n",
            "Fetched submission: Return of the App? (created: 2025-02-22 12:16:33)\n"
          ]
        },
        {
          "output_type": "stream",
          "name": "stderr",
          "text": [
            "WARNING:praw:It appears that you are using PRAW in an asynchronous environment.\n",
            "It is strongly recommended to use Async PRAW: https://asyncpraw.readthedocs.io.\n",
            "See https://praw.readthedocs.io/en/latest/getting_started/multiple_instances.html#discord-bots-and-asynchronous-environments for more info.\n",
            "\n"
          ]
        },
        {
          "output_type": "stream",
          "name": "stdout",
          "text": [
            "Fetched submission: Is Camp Camp coming back? (created: 2025-02-21 12:39:04)\n",
            "Fetched submission: Latest pick up (created: 2025-02-21 10:57:14)\n"
          ]
        },
        {
          "output_type": "stream",
          "name": "stderr",
          "text": [
            "WARNING:praw:It appears that you are using PRAW in an asynchronous environment.\n",
            "It is strongly recommended to use Async PRAW: https://asyncpraw.readthedocs.io.\n",
            "See https://praw.readthedocs.io/en/latest/getting_started/multiple_instances.html#discord-bots-and-asynchronous-environments for more info.\n",
            "\n",
            "WARNING:praw:It appears that you are using PRAW in an asynchronous environment.\n",
            "It is strongly recommended to use Async PRAW: https://asyncpraw.readthedocs.io.\n",
            "See https://praw.readthedocs.io/en/latest/getting_started/multiple_instances.html#discord-bots-and-asynchronous-environments for more info.\n",
            "\n"
          ]
        },
        {
          "output_type": "stream",
          "name": "stdout",
          "text": [
            "Fetched submission: Strangerhood season 3? (created: 2025-02-21 03:04:39)\n"
          ]
        },
        {
          "output_type": "stream",
          "name": "stderr",
          "text": [
            "WARNING:praw:It appears that you are using PRAW in an asynchronous environment.\n",
            "It is strongly recommended to use Async PRAW: https://asyncpraw.readthedocs.io.\n",
            "See https://praw.readthedocs.io/en/latest/getting_started/multiple_instances.html#discord-bots-and-asynchronous-environments for more info.\n",
            "\n"
          ]
        },
        {
          "output_type": "stream",
          "name": "stdout",
          "text": [
            "Fetched submission: Your feeling on the comeback? (created: 2025-02-20 18:57:29)\n"
          ]
        },
        {
          "output_type": "stream",
          "name": "stderr",
          "text": [
            "WARNING:praw:It appears that you are using PRAW in an asynchronous environment.\n",
            "It is strongly recommended to use Async PRAW: https://asyncpraw.readthedocs.io.\n",
            "See https://praw.readthedocs.io/en/latest/getting_started/multiple_instances.html#discord-bots-and-asynchronous-environments for more info.\n",
            "\n"
          ]
        },
        {
          "output_type": "stream",
          "name": "stdout",
          "text": [
            "Fetched submission: Always Be Prepared 🫡 (created: 2025-02-20 17:27:23)\n"
          ]
        },
        {
          "output_type": "stream",
          "name": "stderr",
          "text": [
            "WARNING:praw:It appears that you are using PRAW in an asynchronous environment.\n",
            "It is strongly recommended to use Async PRAW: https://asyncpraw.readthedocs.io.\n",
            "See https://praw.readthedocs.io/en/latest/getting_started/multiple_instances.html#discord-bots-and-asynchronous-environments for more info.\n",
            "\n"
          ]
        },
        {
          "output_type": "stream",
          "name": "stdout",
          "text": [
            "Fetched submission: Classic RT Podcast (created: 2025-02-20 14:25:52)\n"
          ]
        },
        {
          "output_type": "stream",
          "name": "stderr",
          "text": [
            "WARNING:praw:It appears that you are using PRAW in an asynchronous environment.\n",
            "It is strongly recommended to use Async PRAW: https://asyncpraw.readthedocs.io.\n",
            "See https://praw.readthedocs.io/en/latest/getting_started/multiple_instances.html#discord-bots-and-asynchronous-environments for more info.\n",
            "\n"
          ]
        },
        {
          "output_type": "stream",
          "name": "stdout",
          "text": [
            "Fetched submission: The Logo redesign evolution! (created: 2025-02-19 16:58:24)\n"
          ]
        },
        {
          "output_type": "stream",
          "name": "stderr",
          "text": [
            "WARNING:praw:It appears that you are using PRAW in an asynchronous environment.\n",
            "It is strongly recommended to use Async PRAW: https://asyncpraw.readthedocs.io.\n",
            "See https://praw.readthedocs.io/en/latest/getting_started/multiple_instances.html#discord-bots-and-asynchronous-environments for more info.\n",
            "\n"
          ]
        },
        {
          "output_type": "stream",
          "name": "stdout",
          "text": [
            "Fetched submission: x-ray cosplay (created: 2025-02-19 05:01:09)\n",
            "Fetched submission: This Channel Has Made a Total Drama Island Parody with Content Creators (Their Likeness, Not the Actual People) and Barbara Dunkelman is One!!! (created: 2025-02-19 01:18:39)\n"
          ]
        },
        {
          "output_type": "stream",
          "name": "stderr",
          "text": [
            "WARNING:praw:It appears that you are using PRAW in an asynchronous environment.\n",
            "It is strongly recommended to use Async PRAW: https://asyncpraw.readthedocs.io.\n",
            "See https://praw.readthedocs.io/en/latest/getting_started/multiple_instances.html#discord-bots-and-asynchronous-environments for more info.\n",
            "\n",
            "WARNING:praw:It appears that you are using PRAW in an asynchronous environment.\n",
            "It is strongly recommended to use Async PRAW: https://asyncpraw.readthedocs.io.\n",
            "See https://praw.readthedocs.io/en/latest/getting_started/multiple_instances.html#discord-bots-and-asynchronous-environments for more info.\n",
            "\n"
          ]
        },
        {
          "output_type": "stream",
          "name": "stdout",
          "text": [
            "Fetched submission: What made you feel a part of the Rooster Teeth Community? (created: 2025-02-18 23:21:51)\n"
          ]
        },
        {
          "output_type": "stream",
          "name": "stderr",
          "text": [
            "WARNING:praw:It appears that you are using PRAW in an asynchronous environment.\n",
            "It is strongly recommended to use Async PRAW: https://asyncpraw.readthedocs.io.\n",
            "See https://praw.readthedocs.io/en/latest/getting_started/multiple_instances.html#discord-bots-and-asynchronous-environments for more info.\n",
            "\n"
          ]
        },
        {
          "output_type": "stream",
          "name": "stdout",
          "text": [
            "Fetched submission: So I was right? (created: 2025-02-18 14:56:33)\n"
          ]
        },
        {
          "output_type": "stream",
          "name": "stderr",
          "text": [
            "WARNING:praw:It appears that you are using PRAW in an asynchronous environment.\n",
            "It is strongly recommended to use Async PRAW: https://asyncpraw.readthedocs.io.\n",
            "See https://praw.readthedocs.io/en/latest/getting_started/multiple_instances.html#discord-bots-and-asynchronous-environments for more info.\n",
            "\n"
          ]
        },
        {
          "output_type": "stream",
          "name": "stdout",
          "text": [
            "Fetched submission: I forgot what year the achievement hunter wallets came out but I still have mine and use it daily (created: 2025-02-17 10:10:34)\n"
          ]
        },
        {
          "output_type": "stream",
          "name": "stderr",
          "text": [
            "WARNING:praw:It appears that you are using PRAW in an asynchronous environment.\n",
            "It is strongly recommended to use Async PRAW: https://asyncpraw.readthedocs.io.\n",
            "See https://praw.readthedocs.io/en/latest/getting_started/multiple_instances.html#discord-bots-and-asynchronous-environments for more info.\n",
            "\n",
            "WARNING:praw:It appears that you are using PRAW in an asynchronous environment.\n",
            "It is strongly recommended to use Async PRAW: https://asyncpraw.readthedocs.io.\n",
            "See https://praw.readthedocs.io/en/latest/getting_started/multiple_instances.html#discord-bots-and-asynchronous-environments for more info.\n",
            "\n"
          ]
        },
        {
          "output_type": "stream",
          "name": "stdout",
          "text": [
            "Fetched submission: Vessyl (created: 2025-02-17 09:02:21)\n",
            "Fetched submission: Xbox App (created: 2025-02-17 04:58:28)\n"
          ]
        },
        {
          "output_type": "stream",
          "name": "stderr",
          "text": [
            "WARNING:praw:It appears that you are using PRAW in an asynchronous environment.\n",
            "It is strongly recommended to use Async PRAW: https://asyncpraw.readthedocs.io.\n",
            "See https://praw.readthedocs.io/en/latest/getting_started/multiple_instances.html#discord-bots-and-asynchronous-environments for more info.\n",
            "\n",
            "WARNING:praw:It appears that you are using PRAW in an asynchronous environment.\n",
            "It is strongly recommended to use Async PRAW: https://asyncpraw.readthedocs.io.\n",
            "See https://praw.readthedocs.io/en/latest/getting_started/multiple_instances.html#discord-bots-and-asynchronous-environments for more info.\n",
            "\n"
          ]
        },
        {
          "output_type": "stream",
          "name": "stdout",
          "text": [
            "Fetched submission: Looking for a reason to toss some views to the RT YouTube Channel? Here's the playlist for their 2016 Rooster Teeth Animated Adventures. (created: 2025-02-17 02:47:20)\n",
            "Fetched submission: out with the old, in with the new (and cooler, emphasized with sunglasses) (created: 2025-02-17 01:23:42)\n"
          ]
        },
        {
          "output_type": "stream",
          "name": "stderr",
          "text": [
            "WARNING:praw:It appears that you are using PRAW in an asynchronous environment.\n",
            "It is strongly recommended to use Async PRAW: https://asyncpraw.readthedocs.io.\n",
            "See https://praw.readthedocs.io/en/latest/getting_started/multiple_instances.html#discord-bots-and-asynchronous-environments for more info.\n",
            "\n",
            "WARNING:praw:It appears that you are using PRAW in an asynchronous environment.\n",
            "It is strongly recommended to use Async PRAW: https://asyncpraw.readthedocs.io.\n",
            "See https://praw.readthedocs.io/en/latest/getting_started/multiple_instances.html#discord-bots-and-asynchronous-environments for more info.\n",
            "\n"
          ]
        },
        {
          "output_type": "stream",
          "name": "stdout",
          "text": [
            "Fetched submission: Gus in Blood Fest (created: 2025-02-16 14:12:36)\n",
            "Fetched submission: RvB mentioned in the season of Love is Blind (created: 2025-02-16 07:42:32)\n"
          ]
        },
        {
          "output_type": "stream",
          "name": "stderr",
          "text": [
            "WARNING:praw:It appears that you are using PRAW in an asynchronous environment.\n",
            "It is strongly recommended to use Async PRAW: https://asyncpraw.readthedocs.io.\n",
            "See https://praw.readthedocs.io/en/latest/getting_started/multiple_instances.html#discord-bots-and-asynchronous-environments for more info.\n",
            "\n"
          ]
        },
        {
          "output_type": "stream",
          "name": "stdout",
          "text": [
            "Fetched submission: do we know which past roosterteeth members are coming back? (created: 2025-02-15 23:29:15)\n"
          ]
        },
        {
          "output_type": "stream",
          "name": "stderr",
          "text": [
            "WARNING:praw:It appears that you are using PRAW in an asynchronous environment.\n",
            "It is strongly recommended to use Async PRAW: https://asyncpraw.readthedocs.io.\n",
            "See https://praw.readthedocs.io/en/latest/getting_started/multiple_instances.html#discord-bots-and-asynchronous-environments for more info.\n",
            "\n"
          ]
        },
        {
          "output_type": "stream",
          "name": "stdout",
          "text": [
            "Fetched submission: Found RvB Restoration at Barnes & Noble! (created: 2025-02-15 22:04:00)\n"
          ]
        },
        {
          "output_type": "stream",
          "name": "stderr",
          "text": [
            "WARNING:praw:It appears that you are using PRAW in an asynchronous environment.\n",
            "It is strongly recommended to use Async PRAW: https://asyncpraw.readthedocs.io.\n",
            "See https://praw.readthedocs.io/en/latest/getting_started/multiple_instances.html#discord-bots-and-asynchronous-environments for more info.\n",
            "\n",
            "WARNING:praw:It appears that you are using PRAW in an asynchronous environment.\n",
            "It is strongly recommended to use Async PRAW: https://asyncpraw.readthedocs.io.\n",
            "See https://praw.readthedocs.io/en/latest/getting_started/multiple_instances.html#discord-bots-and-asynchronous-environments for more info.\n",
            "\n"
          ]
        },
        {
          "output_type": "stream",
          "name": "stdout",
          "text": [
            "Fetched submission: Restoration purchase (created: 2025-02-15 18:00:46)\n",
            "Fetched submission: What is your Rooster Teeth Origin Story? (created: 2025-02-15 16:22:17)\n"
          ]
        },
        {
          "output_type": "stream",
          "name": "stderr",
          "text": [
            "WARNING:praw:It appears that you are using PRAW in an asynchronous environment.\n",
            "It is strongly recommended to use Async PRAW: https://asyncpraw.readthedocs.io.\n",
            "See https://praw.readthedocs.io/en/latest/getting_started/multiple_instances.html#discord-bots-and-asynchronous-environments for more info.\n",
            "\n",
            "WARNING:praw:It appears that you are using PRAW in an asynchronous environment.\n",
            "It is strongly recommended to use Async PRAW: https://asyncpraw.readthedocs.io.\n",
            "See https://praw.readthedocs.io/en/latest/getting_started/multiple_instances.html#discord-bots-and-asynchronous-environments for more info.\n",
            "\n"
          ]
        },
        {
          "output_type": "stream",
          "name": "stdout",
          "text": [
            "Fetched submission: Best RT Community Moment? (created: 2025-02-15 02:09:59)\n",
            "Fetched submission: Golden (created: 2025-02-15 01:20:45)\n"
          ]
        },
        {
          "output_type": "stream",
          "name": "stderr",
          "text": [
            "WARNING:praw:It appears that you are using PRAW in an asynchronous environment.\n",
            "It is strongly recommended to use Async PRAW: https://asyncpraw.readthedocs.io.\n",
            "See https://praw.readthedocs.io/en/latest/getting_started/multiple_instances.html#discord-bots-and-asynchronous-environments for more info.\n",
            "\n"
          ]
        },
        {
          "output_type": "stream",
          "name": "stdout",
          "text": [
            "Fetched submission: Announcing RvBTO: From Ashes. 20th anniversary of the the original fan event. Celebrate Rooster Teeth and the community we all love. (created: 2025-02-14 14:19:53)\n"
          ]
        },
        {
          "output_type": "stream",
          "name": "stderr",
          "text": [
            "WARNING:praw:It appears that you are using PRAW in an asynchronous environment.\n",
            "It is strongly recommended to use Async PRAW: https://asyncpraw.readthedocs.io.\n",
            "See https://praw.readthedocs.io/en/latest/getting_started/multiple_instances.html#discord-bots-and-asynchronous-environments for more info.\n",
            "\n"
          ]
        },
        {
          "output_type": "stream",
          "name": "stdout",
          "text": [
            "Fetched submission: Rooster Teeth Fan Events? (created: 2025-02-13 16:51:27)\n"
          ]
        },
        {
          "output_type": "stream",
          "name": "stderr",
          "text": [
            "WARNING:praw:It appears that you are using PRAW in an asynchronous environment.\n",
            "It is strongly recommended to use Async PRAW: https://asyncpraw.readthedocs.io.\n",
            "See https://praw.readthedocs.io/en/latest/getting_started/multiple_instances.html#discord-bots-and-asynchronous-environments for more info.\n",
            "\n",
            "WARNING:praw:It appears that you are using PRAW in an asynchronous environment.\n",
            "It is strongly recommended to use Async PRAW: https://asyncpraw.readthedocs.io.\n",
            "See https://praw.readthedocs.io/en/latest/getting_started/multiple_instances.html#discord-bots-and-asynchronous-environments for more info.\n",
            "\n"
          ]
        },
        {
          "output_type": "stream",
          "name": "stdout",
          "text": [
            "Fetched submission: i just rewatched gavin’s sweet revenge (created: 2025-02-13 04:25:21)\n",
            "Fetched submission: Where is RvB Season 2 (And others)? (created: 2025-02-13 02:45:14)\n"
          ]
        },
        {
          "output_type": "stream",
          "name": "stderr",
          "text": [
            "WARNING:praw:It appears that you are using PRAW in an asynchronous environment.\n",
            "It is strongly recommended to use Async PRAW: https://asyncpraw.readthedocs.io.\n",
            "See https://praw.readthedocs.io/en/latest/getting_started/multiple_instances.html#discord-bots-and-asynchronous-environments for more info.\n",
            "\n"
          ]
        },
        {
          "output_type": "stream",
          "name": "stdout",
          "text": [
            "Fetched submission: Petition to bring back this totally not stolen logo they had (created: 2025-02-13 01:39:43)\n"
          ]
        },
        {
          "output_type": "stream",
          "name": "stderr",
          "text": [
            "WARNING:praw:It appears that you are using PRAW in an asynchronous environment.\n",
            "It is strongly recommended to use Async PRAW: https://asyncpraw.readthedocs.io.\n",
            "See https://praw.readthedocs.io/en/latest/getting_started/multiple_instances.html#discord-bots-and-asynchronous-environments for more info.\n",
            "\n"
          ]
        },
        {
          "output_type": "stream",
          "name": "stdout",
          "text": [
            "Fetched submission: Same Vibes (created: 2025-02-12 22:28:15)\n"
          ]
        },
        {
          "output_type": "stream",
          "name": "stderr",
          "text": [
            "WARNING:praw:It appears that you are using PRAW in an asynchronous environment.\n",
            "It is strongly recommended to use Async PRAW: https://asyncpraw.readthedocs.io.\n",
            "See https://praw.readthedocs.io/en/latest/getting_started/multiple_instances.html#discord-bots-and-asynchronous-environments for more info.\n",
            "\n"
          ]
        },
        {
          "output_type": "stream",
          "name": "stdout",
          "text": [
            "Fetched submission: Y’all should remember the iconic appearances of Steve Dildarian, Byron Bowers, and Todd Glass at RTX 2022. Nobody should forget this. (created: 2025-02-12 21:31:40)\n"
          ]
        },
        {
          "output_type": "stream",
          "name": "stderr",
          "text": [
            "WARNING:praw:It appears that you are using PRAW in an asynchronous environment.\n",
            "It is strongly recommended to use Async PRAW: https://asyncpraw.readthedocs.io.\n",
            "See https://praw.readthedocs.io/en/latest/getting_started/multiple_instances.html#discord-bots-and-asynchronous-environments for more info.\n",
            "\n"
          ]
        },
        {
          "output_type": "stream",
          "name": "stdout",
          "text": [
            "Fetched submission: Post-AMA Thoughts (created: 2025-02-12 21:00:05)\n"
          ]
        },
        {
          "output_type": "stream",
          "name": "stderr",
          "text": [
            "WARNING:praw:It appears that you are using PRAW in an asynchronous environment.\n",
            "It is strongly recommended to use Async PRAW: https://asyncpraw.readthedocs.io.\n",
            "See https://praw.readthedocs.io/en/latest/getting_started/multiple_instances.html#discord-bots-and-asynchronous-environments for more info.\n",
            "\n"
          ]
        },
        {
          "output_type": "stream",
          "name": "stdout",
          "text": [
            "Fetched submission: First video of new RT (created: 2025-02-12 19:36:17)\n"
          ]
        },
        {
          "output_type": "stream",
          "name": "stderr",
          "text": [
            "WARNING:praw:It appears that you are using PRAW in an asynchronous environment.\n",
            "It is strongly recommended to use Async PRAW: https://asyncpraw.readthedocs.io.\n",
            "See https://praw.readthedocs.io/en/latest/getting_started/multiple_instances.html#discord-bots-and-asynchronous-environments for more info.\n",
            "\n"
          ]
        },
        {
          "output_type": "stream",
          "name": "stdout",
          "text": [
            "Fetched submission: does Frank do any other DnD production? he was so good! (created: 2025-02-12 18:26:13)\n"
          ]
        },
        {
          "output_type": "stream",
          "name": "stderr",
          "text": [
            "WARNING:praw:It appears that you are using PRAW in an asynchronous environment.\n",
            "It is strongly recommended to use Async PRAW: https://asyncpraw.readthedocs.io.\n",
            "See https://praw.readthedocs.io/en/latest/getting_started/multiple_instances.html#discord-bots-and-asynchronous-environments for more info.\n",
            "\n"
          ]
        },
        {
          "output_type": "stream",
          "name": "stdout",
          "text": [
            "Fetched submission: A drawing a JUST finished lmao mr diddles shall return (created: 2025-02-12 12:32:01)\n"
          ]
        },
        {
          "output_type": "stream",
          "name": "stderr",
          "text": [
            "WARNING:praw:It appears that you are using PRAW in an asynchronous environment.\n",
            "It is strongly recommended to use Async PRAW: https://asyncpraw.readthedocs.io.\n",
            "See https://praw.readthedocs.io/en/latest/getting_started/multiple_instances.html#discord-bots-and-asynchronous-environments for more info.\n",
            "\n"
          ]
        },
        {
          "output_type": "stream",
          "name": "stdout",
          "text": [
            "Fetched submission: Gus called Gulf of America in 2010 (created: 2025-02-12 11:30:51)\n"
          ]
        },
        {
          "output_type": "stream",
          "name": "stderr",
          "text": [
            "WARNING:praw:It appears that you are using PRAW in an asynchronous environment.\n",
            "It is strongly recommended to use Async PRAW: https://asyncpraw.readthedocs.io.\n",
            "See https://praw.readthedocs.io/en/latest/getting_started/multiple_instances.html#discord-bots-and-asynchronous-environments for more info.\n",
            "\n"
          ]
        },
        {
          "output_type": "stream",
          "name": "stdout",
          "text": [
            "Fetched submission: Spooky Co-Op Game for Stinkuary...A Fan Made One-Page Comic (created: 2025-02-12 09:47:23)\n"
          ]
        },
        {
          "output_type": "stream",
          "name": "stderr",
          "text": [
            "WARNING:praw:It appears that you are using PRAW in an asynchronous environment.\n",
            "It is strongly recommended to use Async PRAW: https://asyncpraw.readthedocs.io.\n",
            "See https://praw.readthedocs.io/en/latest/getting_started/multiple_instances.html#discord-bots-and-asynchronous-environments for more info.\n",
            "\n",
            "WARNING:praw:It appears that you are using PRAW in an asynchronous environment.\n",
            "It is strongly recommended to use Async PRAW: https://asyncpraw.readthedocs.io.\n",
            "See https://praw.readthedocs.io/en/latest/getting_started/multiple_instances.html#discord-bots-and-asynchronous-environments for more info.\n",
            "\n"
          ]
        },
        {
          "output_type": "stream",
          "name": "stdout",
          "text": [
            "Fetched submission: Now that Rooster Teeth is back i want to share a concept I had for Red vs. Blue timeline that the movie takes place in. It wont hold the name RvB but a similar concept of Zero. It will take place after. Hopefully even if not now its seen in the future of RT. Pls read below for more. (created: 2025-02-12 03:23:17)\n",
            "Fetched submission: Looking for the Grifball Journal (created: 2025-02-12 00:36:29)\n"
          ]
        },
        {
          "output_type": "stream",
          "name": "stderr",
          "text": [
            "WARNING:praw:It appears that you are using PRAW in an asynchronous environment.\n",
            "It is strongly recommended to use Async PRAW: https://asyncpraw.readthedocs.io.\n",
            "See https://praw.readthedocs.io/en/latest/getting_started/multiple_instances.html#discord-bots-and-asynchronous-environments for more info.\n",
            "\n",
            "WARNING:praw:It appears that you are using PRAW in an asynchronous environment.\n",
            "It is strongly recommended to use Async PRAW: https://asyncpraw.readthedocs.io.\n",
            "See https://praw.readthedocs.io/en/latest/getting_started/multiple_instances.html#discord-bots-and-asynchronous-environments for more info.\n",
            "\n"
          ]
        },
        {
          "output_type": "stream",
          "name": "stdout",
          "text": [
            "Fetched submission: PSA: Burnie's RT Acquisition AMA is up for free on his Patreon. (created: 2025-02-12 01:46:34)\n",
            "Fetched submission: I’ve heard rooster teeth is back and I was wondering… (created: 2025-02-12 01:01:04)\n"
          ]
        },
        {
          "output_type": "stream",
          "name": "stderr",
          "text": [
            "WARNING:praw:It appears that you are using PRAW in an asynchronous environment.\n",
            "It is strongly recommended to use Async PRAW: https://asyncpraw.readthedocs.io.\n",
            "See https://praw.readthedocs.io/en/latest/getting_started/multiple_instances.html#discord-bots-and-asynchronous-environments for more info.\n",
            "\n"
          ]
        },
        {
          "output_type": "stream",
          "name": "stdout",
          "text": [
            "Fetched submission: While we have RT back (created: 2025-02-12 00:00:38)\n"
          ]
        },
        {
          "output_type": "stream",
          "name": "stderr",
          "text": [
            "WARNING:praw:It appears that you are using PRAW in an asynchronous environment.\n",
            "It is strongly recommended to use Async PRAW: https://asyncpraw.readthedocs.io.\n",
            "See https://praw.readthedocs.io/en/latest/getting_started/multiple_instances.html#discord-bots-and-asynchronous-environments for more info.\n",
            "\n"
          ]
        },
        {
          "output_type": "stream",
          "name": "stdout",
          "text": [
            "Fetched submission: James from Cow Chop/Creatures reacts to Rooster Teeth coming back (created: 2025-02-11 22:43:09)\n"
          ]
        },
        {
          "output_type": "stream",
          "name": "stderr",
          "text": [
            "WARNING:praw:It appears that you are using PRAW in an asynchronous environment.\n",
            "It is strongly recommended to use Async PRAW: https://asyncpraw.readthedocs.io.\n",
            "See https://praw.readthedocs.io/en/latest/getting_started/multiple_instances.html#discord-bots-and-asynchronous-environments for more info.\n",
            "\n",
            "WARNING:praw:It appears that you are using PRAW in an asynchronous environment.\n",
            "It is strongly recommended to use Async PRAW: https://asyncpraw.readthedocs.io.\n",
            "See https://praw.readthedocs.io/en/latest/getting_started/multiple_instances.html#discord-bots-and-asynchronous-environments for more info.\n",
            "\n"
          ]
        },
        {
          "output_type": "stream",
          "name": "stdout",
          "text": [
            "Fetched submission: Still rocking my Stage 5 Beanie! (created: 2025-02-11 20:39:39)\n",
            "Fetched submission: Rooster Teeth AMA on the Morning Somewhere podcast with Burnie and Ashley, now open to all (created: 2025-02-11 13:19:29)\n"
          ]
        },
        {
          "output_type": "stream",
          "name": "stderr",
          "text": [
            "WARNING:praw:It appears that you are using PRAW in an asynchronous environment.\n",
            "It is strongly recommended to use Async PRAW: https://asyncpraw.readthedocs.io.\n",
            "See https://praw.readthedocs.io/en/latest/getting_started/multiple_instances.html#discord-bots-and-asynchronous-environments for more info.\n",
            "\n"
          ]
        },
        {
          "output_type": "stream",
          "name": "stdout",
          "text": [
            "Fetched submission: About the acquisition (created: 2025-02-11 12:59:47)\n"
          ]
        },
        {
          "output_type": "stream",
          "name": "stderr",
          "text": [
            "WARNING:praw:It appears that you are using PRAW in an asynchronous environment.\n",
            "It is strongly recommended to use Async PRAW: https://asyncpraw.readthedocs.io.\n",
            "See https://praw.readthedocs.io/en/latest/getting_started/multiple_instances.html#discord-bots-and-asynchronous-environments for more info.\n",
            "\n"
          ]
        },
        {
          "output_type": "stream",
          "name": "stdout",
          "text": [
            "Fetched submission: Was watching a unusual memes comps with friends and this gem came on 😂 (created: 2025-02-11 09:59:20)\n"
          ]
        },
        {
          "output_type": "stream",
          "name": "stderr",
          "text": [
            "WARNING:praw:It appears that you are using PRAW in an asynchronous environment.\n",
            "It is strongly recommended to use Async PRAW: https://asyncpraw.readthedocs.io.\n",
            "See https://praw.readthedocs.io/en/latest/getting_started/multiple_instances.html#discord-bots-and-asynchronous-environments for more info.\n",
            "\n",
            "WARNING:praw:It appears that you are using PRAW in an asynchronous environment.\n",
            "It is strongly recommended to use Async PRAW: https://asyncpraw.readthedocs.io.\n",
            "See https://praw.readthedocs.io/en/latest/getting_started/multiple_instances.html#discord-bots-and-asynchronous-environments for more info.\n",
            "\n"
          ]
        },
        {
          "output_type": "stream",
          "name": "stdout",
          "text": [
            "Fetched submission: Off Topic Podcast Theme? (created: 2025-02-11 02:53:49)\n",
            "Fetched submission: so... where can I watch RWBY now? (created: 2025-02-11 02:11:26)\n"
          ]
        },
        {
          "output_type": "stream",
          "name": "stderr",
          "text": [
            "WARNING:praw:It appears that you are using PRAW in an asynchronous environment.\n",
            "It is strongly recommended to use Async PRAW: https://asyncpraw.readthedocs.io.\n",
            "See https://praw.readthedocs.io/en/latest/getting_started/multiple_instances.html#discord-bots-and-asynchronous-environments for more info.\n",
            "\n"
          ]
        },
        {
          "output_type": "stream",
          "name": "stdout",
          "text": [
            "Fetched submission: The subtle differences between the original and new Logo (created: 2025-02-11 01:28:23)\n"
          ]
        },
        {
          "output_type": "stream",
          "name": "stderr",
          "text": [
            "WARNING:praw:It appears that you are using PRAW in an asynchronous environment.\n",
            "It is strongly recommended to use Async PRAW: https://asyncpraw.readthedocs.io.\n",
            "See https://praw.readthedocs.io/en/latest/getting_started/multiple_instances.html#discord-bots-and-asynchronous-environments for more info.\n",
            "\n",
            "WARNING:praw:It appears that you are using PRAW in an asynchronous environment.\n",
            "It is strongly recommended to use Async PRAW: https://asyncpraw.readthedocs.io.\n",
            "See https://praw.readthedocs.io/en/latest/getting_started/multiple_instances.html#discord-bots-and-asynchronous-environments for more info.\n",
            "\n"
          ]
        },
        {
          "output_type": "stream",
          "name": "stdout",
          "text": [
            "Fetched submission: More supreme surrender when? (created: 2025-02-11 00:22:03)\n",
            "Fetched submission: Minecraft let’s play/block island (created: 2025-02-11 00:04:24)\n"
          ]
        },
        {
          "output_type": "stream",
          "name": "stderr",
          "text": [
            "WARNING:praw:It appears that you are using PRAW in an asynchronous environment.\n",
            "It is strongly recommended to use Async PRAW: https://asyncpraw.readthedocs.io.\n",
            "See https://praw.readthedocs.io/en/latest/getting_started/multiple_instances.html#discord-bots-and-asynchronous-environments for more info.\n",
            "\n",
            "WARNING:praw:It appears that you are using PRAW in an asynchronous environment.\n",
            "It is strongly recommended to use Async PRAW: https://asyncpraw.readthedocs.io.\n",
            "See https://praw.readthedocs.io/en/latest/getting_started/multiple_instances.html#discord-bots-and-asynchronous-environments for more info.\n",
            "\n"
          ]
        },
        {
          "output_type": "stream",
          "name": "stdout",
          "text": [
            "Fetched submission: Breaking Down What's Happening with Burnie's Acquisition of RT (created: 2025-02-10 18:58:55)\n",
            "Fetched submission: Million Dollars, But... Game Anime (created: 2025-02-10 18:19:25)\n"
          ]
        },
        {
          "output_type": "stream",
          "name": "stderr",
          "text": [
            "WARNING:praw:It appears that you are using PRAW in an asynchronous environment.\n",
            "It is strongly recommended to use Async PRAW: https://asyncpraw.readthedocs.io.\n",
            "See https://praw.readthedocs.io/en/latest/getting_started/multiple_instances.html#discord-bots-and-asynchronous-environments for more info.\n",
            "\n"
          ]
        },
        {
          "output_type": "stream",
          "name": "stdout",
          "text": [
            "Fetched submission: When will the AMA with Burnie go public? (created: 2025-02-10 15:47:58)\n"
          ]
        },
        {
          "output_type": "stream",
          "name": "stderr",
          "text": [
            "WARNING:praw:It appears that you are using PRAW in an asynchronous environment.\n",
            "It is strongly recommended to use Async PRAW: https://asyncpraw.readthedocs.io.\n",
            "See https://praw.readthedocs.io/en/latest/getting_started/multiple_instances.html#discord-bots-and-asynchronous-environments for more info.\n",
            "\n",
            "WARNING:praw:It appears that you are using PRAW in an asynchronous environment.\n",
            "It is strongly recommended to use Async PRAW: https://asyncpraw.readthedocs.io.\n",
            "See https://praw.readthedocs.io/en/latest/getting_started/multiple_instances.html#discord-bots-and-asynchronous-environments for more info.\n",
            "\n"
          ]
        },
        {
          "output_type": "stream",
          "name": "stdout",
          "text": [
            "Fetched submission: The new company should be Rooster Teeth 2: Electric Boogaloo (created: 2025-02-10 07:35:48)\n",
            "Fetched submission: Guess it’s a good thing I haven’t turned my Xbox on in six months lol (created: 2025-02-10 04:12:53)\n"
          ]
        },
        {
          "output_type": "stream",
          "name": "stderr",
          "text": [
            "WARNING:praw:It appears that you are using PRAW in an asynchronous environment.\n",
            "It is strongly recommended to use Async PRAW: https://asyncpraw.readthedocs.io.\n",
            "See https://praw.readthedocs.io/en/latest/getting_started/multiple_instances.html#discord-bots-and-asynchronous-environments for more info.\n",
            "\n",
            "WARNING:praw:It appears that you are using PRAW in an asynchronous environment.\n",
            "It is strongly recommended to use Async PRAW: https://asyncpraw.readthedocs.io.\n",
            "See https://praw.readthedocs.io/en/latest/getting_started/multiple_instances.html#discord-bots-and-asynchronous-environments for more info.\n",
            "\n"
          ]
        },
        {
          "output_type": "stream",
          "name": "stdout",
          "text": [
            "Fetched submission: Hello and welcome back to another edition of The Barbara Dunkelman Pun Saga (created: 2025-02-10 00:43:26)\n",
            "Fetched submission: So this happened to me this morning…. (created: 2025-02-09 23:21:09)\n"
          ]
        },
        {
          "output_type": "stream",
          "name": "stderr",
          "text": [
            "WARNING:praw:It appears that you are using PRAW in an asynchronous environment.\n",
            "It is strongly recommended to use Async PRAW: https://asyncpraw.readthedocs.io.\n",
            "See https://praw.readthedocs.io/en/latest/getting_started/multiple_instances.html#discord-bots-and-asynchronous-environments for more info.\n",
            "\n"
          ]
        },
        {
          "output_type": "stream",
          "name": "stdout",
          "text": [
            "Fetched submission: Wow been four days they've fallen (created: 2025-02-09 23:13:56)\n"
          ]
        },
        {
          "output_type": "stream",
          "name": "stderr",
          "text": [
            "WARNING:praw:It appears that you are using PRAW in an asynchronous environment.\n",
            "It is strongly recommended to use Async PRAW: https://asyncpraw.readthedocs.io.\n",
            "See https://praw.readthedocs.io/en/latest/getting_started/multiple_instances.html#discord-bots-and-asynchronous-environments for more info.\n",
            "\n"
          ]
        },
        {
          "output_type": "stream",
          "name": "stdout",
          "text": [
            "Fetched submission: Old rt shirt collection (created: 2025-02-09 18:03:02)\n",
            "Fetched submission: Never should have deleted the bookmark. (created: 2025-02-09 13:55:25)\n"
          ]
        },
        {
          "output_type": "stream",
          "name": "stderr",
          "text": [
            "WARNING:praw:It appears that you are using PRAW in an asynchronous environment.\n",
            "It is strongly recommended to use Async PRAW: https://asyncpraw.readthedocs.io.\n",
            "See https://praw.readthedocs.io/en/latest/getting_started/multiple_instances.html#discord-bots-and-asynchronous-environments for more info.\n",
            "\n",
            "WARNING:praw:It appears that you are using PRAW in an asynchronous environment.\n",
            "It is strongly recommended to use Async PRAW: https://asyncpraw.readthedocs.io.\n",
            "See https://praw.readthedocs.io/en/latest/getting_started/multiple_instances.html#discord-bots-and-asynchronous-environments for more info.\n",
            "\n",
            "WARNING:praw:It appears that you are using PRAW in an asynchronous environment.\n",
            "It is strongly recommended to use Async PRAW: https://asyncpraw.readthedocs.io.\n",
            "See https://praw.readthedocs.io/en/latest/getting_started/multiple_instances.html#discord-bots-and-asynchronous-environments for more info.\n",
            "\n"
          ]
        },
        {
          "output_type": "stream",
          "name": "stdout",
          "text": [
            "Fetched submission: A feeling I've never felt. - A Thank You letter to the past and future of Rooster Teeth (created: 2025-02-09 09:03:34)\n",
            "Fetched submission: Soo Elizabeth Maxwell, the voice of Nikki, said she doesn’t know what shows are coming back. Considering Burnie Burns is an executive producer of Camp Camp, i think it's a safe bet it'll be back. Maybe not today, maybe not tomorrow, it might take a few years, but it'll be back. (created: 2025-02-08 21:07:07)\n"
          ]
        },
        {
          "output_type": "stream",
          "name": "stderr",
          "text": [
            "WARNING:praw:It appears that you are using PRAW in an asynchronous environment.\n",
            "It is strongly recommended to use Async PRAW: https://asyncpraw.readthedocs.io.\n",
            "See https://praw.readthedocs.io/en/latest/getting_started/multiple_instances.html#discord-bots-and-asynchronous-environments for more info.\n",
            "\n",
            "WARNING:praw:It appears that you are using PRAW in an asynchronous environment.\n",
            "It is strongly recommended to use Async PRAW: https://asyncpraw.readthedocs.io.\n",
            "See https://praw.readthedocs.io/en/latest/getting_started/multiple_instances.html#discord-bots-and-asynchronous-environments for more info.\n",
            "\n"
          ]
        },
        {
          "output_type": "stream",
          "name": "stdout",
          "text": [
            "Fetched submission: The Big Game (created: 2025-02-09 02:10:57)\n",
            "Fetched submission: Hey guys, LOOK! Church is back with the Milk (created: 2025-02-09 00:50:00)\n"
          ]
        },
        {
          "output_type": "stream",
          "name": "stderr",
          "text": [
            "WARNING:praw:It appears that you are using PRAW in an asynchronous environment.\n",
            "It is strongly recommended to use Async PRAW: https://asyncpraw.readthedocs.io.\n",
            "See https://praw.readthedocs.io/en/latest/getting_started/multiple_instances.html#discord-bots-and-asynchronous-environments for more info.\n",
            "\n",
            "WARNING:praw:It appears that you are using PRAW in an asynchronous environment.\n",
            "It is strongly recommended to use Async PRAW: https://asyncpraw.readthedocs.io.\n",
            "See https://praw.readthedocs.io/en/latest/getting_started/multiple_instances.html#discord-bots-and-asynchronous-environments for more info.\n",
            "\n"
          ]
        },
        {
          "output_type": "stream",
          "name": "stdout",
          "text": [
            "Fetched submission: Ray simulating the Super Bowl (created: 2025-02-09 00:05:29)\n",
            "Fetched submission: Incase 'Rooster Teeth' or 'Rooster Teeth 2' are copywrited or can't be used, may I present the unlawsuitable and un-DMCA-able.. (created: 2025-02-08 22:37:08)\n"
          ]
        },
        {
          "output_type": "stream",
          "name": "stderr",
          "text": [
            "WARNING:praw:It appears that you are using PRAW in an asynchronous environment.\n",
            "It is strongly recommended to use Async PRAW: https://asyncpraw.readthedocs.io.\n",
            "See https://praw.readthedocs.io/en/latest/getting_started/multiple_instances.html#discord-bots-and-asynchronous-environments for more info.\n",
            "\n",
            "WARNING:praw:It appears that you are using PRAW in an asynchronous environment.\n",
            "It is strongly recommended to use Async PRAW: https://asyncpraw.readthedocs.io.\n",
            "See https://praw.readthedocs.io/en/latest/getting_started/multiple_instances.html#discord-bots-and-asynchronous-environments for more info.\n",
            "\n"
          ]
        },
        {
          "output_type": "stream",
          "name": "stdout",
          "text": [
            "Fetched submission: Anyone looking to sell monsters hoodie from the Geoff line in size L or larger? Mines gotten real worn out (created: 2025-02-08 22:18:16)\n",
            "Fetched submission: Podcast Order Playlists (Fan & Company) (created: 2025-02-08 22:05:25)\n"
          ]
        },
        {
          "output_type": "stream",
          "name": "stderr",
          "text": [
            "WARNING:praw:It appears that you are using PRAW in an asynchronous environment.\n",
            "It is strongly recommended to use Async PRAW: https://asyncpraw.readthedocs.io.\n",
            "See https://praw.readthedocs.io/en/latest/getting_started/multiple_instances.html#discord-bots-and-asynchronous-environments for more info.\n",
            "\n",
            "WARNING:praw:It appears that you are using PRAW in an asynchronous environment.\n",
            "It is strongly recommended to use Async PRAW: https://asyncpraw.readthedocs.io.\n",
            "See https://praw.readthedocs.io/en/latest/getting_started/multiple_instances.html#discord-bots-and-asynchronous-environments for more info.\n",
            "\n"
          ]
        },
        {
          "output_type": "stream",
          "name": "stdout",
          "text": [
            "Fetched submission: Y’all got footage or pics of the Animation Fest 2022 at the Hilton? (created: 2025-02-08 20:20:30)\n",
            "Fetched submission: Title (created: 2025-02-08 16:43:58)\n"
          ]
        },
        {
          "output_type": "stream",
          "name": "stderr",
          "text": [
            "WARNING:praw:It appears that you are using PRAW in an asynchronous environment.\n",
            "It is strongly recommended to use Async PRAW: https://asyncpraw.readthedocs.io.\n",
            "See https://praw.readthedocs.io/en/latest/getting_started/multiple_instances.html#discord-bots-and-asynchronous-environments for more info.\n",
            "\n"
          ]
        },
        {
          "output_type": "stream",
          "name": "stdout",
          "text": [
            "Fetched submission: FINALLY something good out of 2025! (created: 2025-02-08 16:04:22)\n"
          ]
        },
        {
          "output_type": "stream",
          "name": "stderr",
          "text": [
            "WARNING:praw:It appears that you are using PRAW in an asynchronous environment.\n",
            "It is strongly recommended to use Async PRAW: https://asyncpraw.readthedocs.io.\n",
            "See https://praw.readthedocs.io/en/latest/getting_started/multiple_instances.html#discord-bots-and-asynchronous-environments for more info.\n",
            "\n"
          ]
        },
        {
          "output_type": "stream",
          "name": "stdout",
          "text": [
            "Fetched submission: As it’s Super Bowl weekend who misses AH predictions (created: 2025-02-08 15:30:08)\n"
          ]
        },
        {
          "output_type": "stream",
          "name": "stderr",
          "text": [
            "WARNING:praw:It appears that you are using PRAW in an asynchronous environment.\n",
            "It is strongly recommended to use Async PRAW: https://asyncpraw.readthedocs.io.\n",
            "See https://praw.readthedocs.io/en/latest/getting_started/multiple_instances.html#discord-bots-and-asynchronous-environments for more info.\n",
            "\n"
          ]
        },
        {
          "output_type": "stream",
          "name": "stdout",
          "text": [
            "Fetched submission: With the rebirth of RoosterTeeth, what about Pongo? (created: 2025-02-08 11:57:16)\n"
          ]
        },
        {
          "output_type": "stream",
          "name": "stderr",
          "text": [
            "WARNING:praw:It appears that you are using PRAW in an asynchronous environment.\n",
            "It is strongly recommended to use Async PRAW: https://asyncpraw.readthedocs.io.\n",
            "See https://praw.readthedocs.io/en/latest/getting_started/multiple_instances.html#discord-bots-and-asynchronous-environments for more info.\n",
            "\n",
            "WARNING:praw:It appears that you are using PRAW in an asynchronous environment.\n",
            "It is strongly recommended to use Async PRAW: https://asyncpraw.readthedocs.io.\n",
            "See https://praw.readthedocs.io/en/latest/getting_started/multiple_instances.html#discord-bots-and-asynchronous-environments for more info.\n",
            "\n"
          ]
        },
        {
          "output_type": "stream",
          "name": "stdout",
          "text": [
            "Fetched submission: First Take/Rough Draft/Etc. (created: 2025-02-08 05:38:06)\n",
            "Fetched submission: Best of Burnie Burns Compilation. (created: 2025-02-08 04:56:20)\n"
          ]
        },
        {
          "output_type": "stream",
          "name": "stderr",
          "text": [
            "WARNING:praw:It appears that you are using PRAW in an asynchronous environment.\n",
            "It is strongly recommended to use Async PRAW: https://asyncpraw.readthedocs.io.\n",
            "See https://praw.readthedocs.io/en/latest/getting_started/multiple_instances.html#discord-bots-and-asynchronous-environments for more info.\n",
            "\n",
            "WARNING:praw:It appears that you are using PRAW in an asynchronous environment.\n",
            "It is strongly recommended to use Async PRAW: https://asyncpraw.readthedocs.io.\n",
            "See https://praw.readthedocs.io/en/latest/getting_started/multiple_instances.html#discord-bots-and-asynchronous-environments for more info.\n",
            "\n"
          ]
        },
        {
          "output_type": "stream",
          "name": "stdout",
          "text": [
            "Fetched submission: Matt Hullum’s Dream Jersey Mike’s Experience… (created: 2025-02-08 04:01:50)\n",
            "Fetched submission: Don’t let the good news make you forget the good fight. (created: 2025-02-08 02:30:19)\n"
          ]
        },
        {
          "output_type": "stream",
          "name": "stderr",
          "text": [
            "WARNING:praw:It appears that you are using PRAW in an asynchronous environment.\n",
            "It is strongly recommended to use Async PRAW: https://asyncpraw.readthedocs.io.\n",
            "See https://praw.readthedocs.io/en/latest/getting_started/multiple_instances.html#discord-bots-and-asynchronous-environments for more info.\n",
            "\n",
            "WARNING:praw:It appears that you are using PRAW in an asynchronous environment.\n",
            "It is strongly recommended to use Async PRAW: https://asyncpraw.readthedocs.io.\n",
            "See https://praw.readthedocs.io/en/latest/getting_started/multiple_instances.html#discord-bots-and-asynchronous-environments for more info.\n",
            "\n"
          ]
        },
        {
          "output_type": "stream",
          "name": "stdout",
          "text": [
            "Fetched submission: Warner bros never had the makings of a varsity athlete (created: 2025-02-08 01:27:09)\n"
          ]
        },
        {
          "output_type": "stream",
          "name": "stderr",
          "text": [
            "WARNING:praw:It appears that you are using PRAW in an asynchronous environment.\n",
            "It is strongly recommended to use Async PRAW: https://asyncpraw.readthedocs.io.\n",
            "See https://praw.readthedocs.io/en/latest/getting_started/multiple_instances.html#discord-bots-and-asynchronous-environments for more info.\n",
            "\n"
          ]
        },
        {
          "output_type": "stream",
          "name": "stdout",
          "text": [
            "Fetched submission: Have Burnie’s opinions on Elon Musk changed over the years? (created: 2025-02-08 01:05:28)\n"
          ]
        },
        {
          "output_type": "stream",
          "name": "stderr",
          "text": [
            "WARNING:praw:It appears that you are using PRAW in an asynchronous environment.\n",
            "It is strongly recommended to use Async PRAW: https://asyncpraw.readthedocs.io.\n",
            "See https://praw.readthedocs.io/en/latest/getting_started/multiple_instances.html#discord-bots-and-asynchronous-environments for more info.\n",
            "\n"
          ]
        },
        {
          "output_type": "stream",
          "name": "stdout",
          "text": [
            "Fetched submission: Our savior, everybody. (created: 2025-02-08 00:37:20)\n"
          ]
        },
        {
          "output_type": "stream",
          "name": "stderr",
          "text": [
            "WARNING:praw:It appears that you are using PRAW in an asynchronous environment.\n",
            "It is strongly recommended to use Async PRAW: https://asyncpraw.readthedocs.io.\n",
            "See https://praw.readthedocs.io/en/latest/getting_started/multiple_instances.html#discord-bots-and-asynchronous-environments for more info.\n",
            "\n",
            "WARNING:praw:It appears that you are using PRAW in an asynchronous environment.\n",
            "It is strongly recommended to use Async PRAW: https://asyncpraw.readthedocs.io.\n",
            "See https://praw.readthedocs.io/en/latest/getting_started/multiple_instances.html#discord-bots-and-asynchronous-environments for more info.\n",
            "\n"
          ]
        },
        {
          "output_type": "stream",
          "name": "stdout",
          "text": [
            "Fetched submission: RWBY Fan Song: Breaking Free. A Tribute to Weiss Schnee. Fanwork by The Demented Ferrets (created: 2025-02-07 21:45:29)\n",
            "Fetched submission: Is there a compilation of all the times Xbox Live messages have distracted Achievement Hunters? (created: 2025-02-07 21:12:23)\n"
          ]
        },
        {
          "output_type": "stream",
          "name": "stderr",
          "text": [
            "WARNING:praw:It appears that you are using PRAW in an asynchronous environment.\n",
            "It is strongly recommended to use Async PRAW: https://asyncpraw.readthedocs.io.\n",
            "See https://praw.readthedocs.io/en/latest/getting_started/multiple_instances.html#discord-bots-and-asynchronous-environments for more info.\n",
            "\n"
          ]
        },
        {
          "output_type": "stream",
          "name": "stdout",
          "text": [
            "Fetched submission: I did not find out until just now that rooster teeth is back. I’m happy happier than I thought I would be. (created: 2025-02-07 18:41:18)\n"
          ]
        },
        {
          "output_type": "stream",
          "name": "stderr",
          "text": [
            "WARNING:praw:It appears that you are using PRAW in an asynchronous environment.\n",
            "It is strongly recommended to use Async PRAW: https://asyncpraw.readthedocs.io.\n",
            "See https://praw.readthedocs.io/en/latest/getting_started/multiple_instances.html#discord-bots-and-asynchronous-environments for more info.\n",
            "\n",
            "WARNING:praw:It appears that you are using PRAW in an asynchronous environment.\n",
            "It is strongly recommended to use Async PRAW: https://asyncpraw.readthedocs.io.\n",
            "See https://praw.readthedocs.io/en/latest/getting_started/multiple_instances.html#discord-bots-and-asynchronous-environments for more info.\n",
            "\n"
          ]
        },
        {
          "output_type": "stream",
          "name": "stdout",
          "text": [
            "Fetched submission: Executive Something (created: 2025-02-07 16:13:16)\n",
            "Fetched submission: I’ll ask the real question (created: 2025-02-07 15:40:09)\n"
          ]
        },
        {
          "output_type": "stream",
          "name": "stderr",
          "text": [
            "WARNING:praw:It appears that you are using PRAW in an asynchronous environment.\n",
            "It is strongly recommended to use Async PRAW: https://asyncpraw.readthedocs.io.\n",
            "See https://praw.readthedocs.io/en/latest/getting_started/multiple_instances.html#discord-bots-and-asynchronous-environments for more info.\n",
            "\n",
            "WARNING:praw:It appears that you are using PRAW in an asynchronous environment.\n",
            "It is strongly recommended to use Async PRAW: https://asyncpraw.readthedocs.io.\n",
            "See https://praw.readthedocs.io/en/latest/getting_started/multiple_instances.html#discord-bots-and-asynchronous-environments for more info.\n",
            "\n"
          ]
        },
        {
          "output_type": "stream",
          "name": "stdout",
          "text": [
            "Fetched submission: How can I watch old FIRST videos? (created: 2025-02-07 15:12:44)\n",
            "Fetched submission: It's all well and good but will the company finally employ roosters? (created: 2025-02-07 13:33:19)\n"
          ]
        },
        {
          "output_type": "stream",
          "name": "stderr",
          "text": [
            "WARNING:praw:It appears that you are using PRAW in an asynchronous environment.\n",
            "It is strongly recommended to use Async PRAW: https://asyncpraw.readthedocs.io.\n",
            "See https://praw.readthedocs.io/en/latest/getting_started/multiple_instances.html#discord-bots-and-asynchronous-environments for more info.\n",
            "\n",
            "WARNING:praw:It appears that you are using PRAW in an asynchronous environment.\n",
            "It is strongly recommended to use Async PRAW: https://asyncpraw.readthedocs.io.\n",
            "See https://praw.readthedocs.io/en/latest/getting_started/multiple_instances.html#discord-bots-and-asynchronous-environments for more info.\n",
            "\n"
          ]
        },
        {
          "output_type": "stream",
          "name": "stdout",
          "text": [
            "Fetched submission: RTAA & Source (Classic) - Burnie and the Name Game (created: 2025-02-07 12:41:44)\n",
            "Fetched submission: I flew to Austin to mourn Rooster Teeth. Now I’m celebrating its return 😂 (created: 2025-02-07 09:08:30)\n"
          ]
        },
        {
          "output_type": "stream",
          "name": "stderr",
          "text": [
            "WARNING:praw:It appears that you are using PRAW in an asynchronous environment.\n",
            "It is strongly recommended to use Async PRAW: https://asyncpraw.readthedocs.io.\n",
            "See https://praw.readthedocs.io/en/latest/getting_started/multiple_instances.html#discord-bots-and-asynchronous-environments for more info.\n",
            "\n",
            "WARNING:praw:It appears that you are using PRAW in an asynchronous environment.\n",
            "It is strongly recommended to use Async PRAW: https://asyncpraw.readthedocs.io.\n",
            "See https://praw.readthedocs.io/en/latest/getting_started/multiple_instances.html#discord-bots-and-asynchronous-environments for more info.\n",
            "\n"
          ]
        },
        {
          "output_type": "stream",
          "name": "stdout",
          "text": [
            "Fetched submission: I make no apologies for this image i did in paint (Though i imagine Barbara would love the pun) (created: 2025-02-07 08:45:55)\n",
            "Fetched submission: Roosterteeth app (created: 2025-02-07 08:03:00)\n"
          ]
        },
        {
          "output_type": "stream",
          "name": "stderr",
          "text": [
            "WARNING:praw:It appears that you are using PRAW in an asynchronous environment.\n",
            "It is strongly recommended to use Async PRAW: https://asyncpraw.readthedocs.io.\n",
            "See https://praw.readthedocs.io/en/latest/getting_started/multiple_instances.html#discord-bots-and-asynchronous-environments for more info.\n",
            "\n",
            "WARNING:praw:It appears that you are using PRAW in an asynchronous environment.\n",
            "It is strongly recommended to use Async PRAW: https://asyncpraw.readthedocs.io.\n",
            "See https://praw.readthedocs.io/en/latest/getting_started/multiple_instances.html#discord-bots-and-asynchronous-environments for more info.\n",
            "\n"
          ]
        },
        {
          "output_type": "stream",
          "name": "stdout",
          "text": [
            "Fetched submission: No one's asking the real question (created: 2025-02-07 07:33:10)\n",
            "Fetched submission: We're heading into an age where Camp Camp could be given more of a focus over RWBY and perhaps even RVB by Rooster Teeth! RWBY has been sold and Red vs is finished, Camp Camp is their biggest remaining show, if they release anything, probably Camp Camp. (created: 2025-02-07 06:02:50)\n"
          ]
        },
        {
          "output_type": "stream",
          "name": "stderr",
          "text": [
            "WARNING:praw:It appears that you are using PRAW in an asynchronous environment.\n",
            "It is strongly recommended to use Async PRAW: https://asyncpraw.readthedocs.io.\n",
            "See https://praw.readthedocs.io/en/latest/getting_started/multiple_instances.html#discord-bots-and-asynchronous-environments for more info.\n",
            "\n",
            "WARNING:praw:It appears that you are using PRAW in an asynchronous environment.\n",
            "It is strongly recommended to use Async PRAW: https://asyncpraw.readthedocs.io.\n",
            "See https://praw.readthedocs.io/en/latest/getting_started/multiple_instances.html#discord-bots-and-asynchronous-environments for more info.\n",
            "\n"
          ]
        },
        {
          "output_type": "stream",
          "name": "stdout",
          "text": [
            "Fetched submission: They're back alright (created: 2025-02-07 05:16:51)\n",
            "Fetched submission: My ideas for the Rooster Teeth comeback (created: 2025-02-07 03:46:50)\n"
          ]
        },
        {
          "output_type": "stream",
          "name": "stderr",
          "text": [
            "WARNING:praw:It appears that you are using PRAW in an asynchronous environment.\n",
            "It is strongly recommended to use Async PRAW: https://asyncpraw.readthedocs.io.\n",
            "See https://praw.readthedocs.io/en/latest/getting_started/multiple_instances.html#discord-bots-and-asynchronous-environments for more info.\n",
            "\n"
          ]
        },
        {
          "output_type": "stream",
          "name": "stdout",
          "text": [
            "Fetched submission: My Collection Grows (created: 2025-02-07 02:31:41)\n"
          ]
        },
        {
          "output_type": "stream",
          "name": "stderr",
          "text": [
            "WARNING:praw:It appears that you are using PRAW in an asynchronous environment.\n",
            "It is strongly recommended to use Async PRAW: https://asyncpraw.readthedocs.io.\n",
            "See https://praw.readthedocs.io/en/latest/getting_started/multiple_instances.html#discord-bots-and-asynchronous-environments for more info.\n",
            "\n",
            "WARNING:praw:It appears that you are using PRAW in an asynchronous environment.\n",
            "It is strongly recommended to use Async PRAW: https://asyncpraw.readthedocs.io.\n",
            "See https://praw.readthedocs.io/en/latest/getting_started/multiple_instances.html#discord-bots-and-asynchronous-environments for more info.\n",
            "\n"
          ]
        },
        {
          "output_type": "stream",
          "name": "stdout",
          "text": [
            "Fetched submission: *ahem* I have an idea. (created: 2025-02-07 01:34:34)\n",
            "Fetched submission: So weird and funny (created: 2025-02-07 01:07:19)\n"
          ]
        },
        {
          "output_type": "stream",
          "name": "stderr",
          "text": [
            "WARNING:praw:It appears that you are using PRAW in an asynchronous environment.\n",
            "It is strongly recommended to use Async PRAW: https://asyncpraw.readthedocs.io.\n",
            "See https://praw.readthedocs.io/en/latest/getting_started/multiple_instances.html#discord-bots-and-asynchronous-environments for more info.\n",
            "\n"
          ]
        },
        {
          "output_type": "stream",
          "name": "stdout",
          "text": [
            "Fetched submission: Rocco is leaving Rooster Teeth (created: 2025-02-06 23:58:08)\n"
          ]
        },
        {
          "output_type": "stream",
          "name": "stderr",
          "text": [
            "WARNING:praw:It appears that you are using PRAW in an asynchronous environment.\n",
            "It is strongly recommended to use Async PRAW: https://asyncpraw.readthedocs.io.\n",
            "See https://praw.readthedocs.io/en/latest/getting_started/multiple_instances.html#discord-bots-and-asynchronous-environments for more info.\n",
            "\n",
            "WARNING:praw:It appears that you are using PRAW in an asynchronous environment.\n",
            "It is strongly recommended to use Async PRAW: https://asyncpraw.readthedocs.io.\n",
            "See https://praw.readthedocs.io/en/latest/getting_started/multiple_instances.html#discord-bots-and-asynchronous-environments for more info.\n",
            "\n"
          ]
        },
        {
          "output_type": "stream",
          "name": "stdout",
          "text": [
            "Fetched submission: Burnies new baby is 1 month premature. (created: 2025-02-06 23:46:41)\n",
            "Fetched submission: I don’t care what they do (created: 2025-02-06 22:47:38)\n"
          ]
        },
        {
          "output_type": "stream",
          "name": "stderr",
          "text": [
            "WARNING:praw:It appears that you are using PRAW in an asynchronous environment.\n",
            "It is strongly recommended to use Async PRAW: https://asyncpraw.readthedocs.io.\n",
            "See https://praw.readthedocs.io/en/latest/getting_started/multiple_instances.html#discord-bots-and-asynchronous-environments for more info.\n",
            "\n",
            "WARNING:praw:It appears that you are using PRAW in an asynchronous environment.\n",
            "It is strongly recommended to use Async PRAW: https://asyncpraw.readthedocs.io.\n",
            "See https://praw.readthedocs.io/en/latest/getting_started/multiple_instances.html#discord-bots-and-asynchronous-environments for more info.\n",
            "\n"
          ]
        },
        {
          "output_type": "stream",
          "name": "stdout",
          "text": [
            "Fetched submission: So what old properties does RT still own? (created: 2025-02-06 22:34:34)\n",
            "Fetched submission: Content ideas? (created: 2025-02-06 21:02:23)\n"
          ]
        },
        {
          "output_type": "stream",
          "name": "stderr",
          "text": [
            "WARNING:praw:It appears that you are using PRAW in an asynchronous environment.\n",
            "It is strongly recommended to use Async PRAW: https://asyncpraw.readthedocs.io.\n",
            "See https://praw.readthedocs.io/en/latest/getting_started/multiple_instances.html#discord-bots-and-asynchronous-environments for more info.\n",
            "\n"
          ]
        },
        {
          "output_type": "stream",
          "name": "stdout",
          "text": [
            "Fetched submission: Aleks from Cowchop Currently Reacting to RT news (created: 2025-02-06 20:39:24)\n"
          ]
        },
        {
          "output_type": "stream",
          "name": "stderr",
          "text": [
            "WARNING:praw:It appears that you are using PRAW in an asynchronous environment.\n",
            "It is strongly recommended to use Async PRAW: https://asyncpraw.readthedocs.io.\n",
            "See https://praw.readthedocs.io/en/latest/getting_started/multiple_instances.html#discord-bots-and-asynchronous-environments for more info.\n",
            "\n"
          ]
        },
        {
          "output_type": "stream",
          "name": "stdout",
          "text": [
            "Fetched submission: Ray would be so proud (created: 2025-02-06 19:55:09)\n"
          ]
        },
        {
          "output_type": "stream",
          "name": "stderr",
          "text": [
            "WARNING:praw:It appears that you are using PRAW in an asynchronous environment.\n",
            "It is strongly recommended to use Async PRAW: https://asyncpraw.readthedocs.io.\n",
            "See https://praw.readthedocs.io/en/latest/getting_started/multiple_instances.html#discord-bots-and-asynchronous-environments for more info.\n",
            "\n"
          ]
        },
        {
          "output_type": "stream",
          "name": "stdout",
          "text": [
            "Fetched submission: Jeremy's response to RT coming back (created: 2025-02-06 19:49:31)\n"
          ]
        },
        {
          "output_type": "stream",
          "name": "stderr",
          "text": [
            "WARNING:praw:It appears that you are using PRAW in an asynchronous environment.\n",
            "It is strongly recommended to use Async PRAW: https://asyncpraw.readthedocs.io.\n",
            "See https://praw.readthedocs.io/en/latest/getting_started/multiple_instances.html#discord-bots-and-asynchronous-environments for more info.\n",
            "\n"
          ]
        },
        {
          "output_type": "stream",
          "name": "stdout",
          "text": [
            "Fetched submission: Not anymore we are so back (created: 2025-02-06 17:26:11)\n",
            "Fetched submission: New favorite meme about RT’s return (created: 2025-02-06 15:22:44)\n"
          ]
        },
        {
          "output_type": "stream",
          "name": "stderr",
          "text": [
            "WARNING:praw:It appears that you are using PRAW in an asynchronous environment.\n",
            "It is strongly recommended to use Async PRAW: https://asyncpraw.readthedocs.io.\n",
            "See https://praw.readthedocs.io/en/latest/getting_started/multiple_instances.html#discord-bots-and-asynchronous-environments for more info.\n",
            "\n",
            "WARNING:praw:It appears that you are using PRAW in an asynchronous environment.\n",
            "It is strongly recommended to use Async PRAW: https://asyncpraw.readthedocs.io.\n",
            "See https://praw.readthedocs.io/en/latest/getting_started/multiple_instances.html#discord-bots-and-asynchronous-environments for more info.\n",
            "\n"
          ]
        },
        {
          "output_type": "stream",
          "name": "stdout",
          "text": [
            "Fetched submission: Expect nothing, demand nothing, just enjoy the moment. (created: 2025-02-06 14:37:28)\n"
          ]
        },
        {
          "output_type": "stream",
          "name": "stderr",
          "text": [
            "WARNING:praw:It appears that you are using PRAW in an asynchronous environment.\n",
            "It is strongly recommended to use Async PRAW: https://asyncpraw.readthedocs.io.\n",
            "See https://praw.readthedocs.io/en/latest/getting_started/multiple_instances.html#discord-bots-and-asynchronous-environments for more info.\n",
            "\n",
            "WARNING:praw:It appears that you are using PRAW in an asynchronous environment.\n",
            "It is strongly recommended to use Async PRAW: https://asyncpraw.readthedocs.io.\n",
            "See https://praw.readthedocs.io/en/latest/getting_started/multiple_instances.html#discord-bots-and-asynchronous-environments for more info.\n",
            "\n"
          ]
        },
        {
          "output_type": "stream",
          "name": "stdout",
          "text": [
            "Fetched submission: RWBY SHIRT FOR SALE? (created: 2025-02-06 14:35:14)\n",
            "Fetched submission: Don’t believe it until this updates (created: 2025-02-06 13:38:56)\n"
          ]
        },
        {
          "output_type": "stream",
          "name": "stderr",
          "text": [
            "WARNING:praw:It appears that you are using PRAW in an asynchronous environment.\n",
            "It is strongly recommended to use Async PRAW: https://asyncpraw.readthedocs.io.\n",
            "See https://praw.readthedocs.io/en/latest/getting_started/multiple_instances.html#discord-bots-and-asynchronous-environments for more info.\n",
            "\n",
            "WARNING:praw:It appears that you are using PRAW in an asynchronous environment.\n",
            "It is strongly recommended to use Async PRAW: https://asyncpraw.readthedocs.io.\n",
            "See https://praw.readthedocs.io/en/latest/getting_started/multiple_instances.html#discord-bots-and-asynchronous-environments for more info.\n",
            "\n"
          ]
        },
        {
          "output_type": "stream",
          "name": "stdout",
          "text": [
            "Fetched submission: Rooster Teeth (created: 2025-02-06 09:30:15)\n",
            "Fetched submission: Raise what’s left of the flag for me (created: 2025-02-06 07:06:53)\n"
          ]
        },
        {
          "output_type": "stream",
          "name": "stderr",
          "text": [
            "WARNING:praw:It appears that you are using PRAW in an asynchronous environment.\n",
            "It is strongly recommended to use Async PRAW: https://asyncpraw.readthedocs.io.\n",
            "See https://praw.readthedocs.io/en/latest/getting_started/multiple_instances.html#discord-bots-and-asynchronous-environments for more info.\n",
            "\n"
          ]
        },
        {
          "output_type": "stream",
          "name": "stdout",
          "text": [
            "Fetched submission: The return may not mean new content, please temper your expectations (created: 2025-02-06 06:50:35)\n"
          ]
        },
        {
          "output_type": "stream",
          "name": "stderr",
          "text": [
            "WARNING:praw:It appears that you are using PRAW in an asynchronous environment.\n",
            "It is strongly recommended to use Async PRAW: https://asyncpraw.readthedocs.io.\n",
            "See https://praw.readthedocs.io/en/latest/getting_started/multiple_instances.html#discord-bots-and-asynchronous-environments for more info.\n",
            "\n",
            "WARNING:praw:It appears that you are using PRAW in an asynchronous environment.\n",
            "It is strongly recommended to use Async PRAW: https://asyncpraw.readthedocs.io.\n",
            "See https://praw.readthedocs.io/en/latest/getting_started/multiple_instances.html#discord-bots-and-asynchronous-environments for more info.\n",
            "\n"
          ]
        },
        {
          "output_type": "stream",
          "name": "stdout",
          "text": [
            "Fetched submission: Amazing race but with twitch streamers. (created: 2025-02-06 06:43:14)\n",
            "Fetched submission: Our Official Statement about the Rooster Teeth News (created: 2025-02-06 06:28:42)\n"
          ]
        },
        {
          "output_type": "stream",
          "name": "stderr",
          "text": [
            "WARNING:praw:It appears that you are using PRAW in an asynchronous environment.\n",
            "It is strongly recommended to use Async PRAW: https://asyncpraw.readthedocs.io.\n",
            "See https://praw.readthedocs.io/en/latest/getting_started/multiple_instances.html#discord-bots-and-asynchronous-environments for more info.\n",
            "\n",
            "WARNING:praw:It appears that you are using PRAW in an asynchronous environment.\n",
            "It is strongly recommended to use Async PRAW: https://asyncpraw.readthedocs.io.\n",
            "See https://praw.readthedocs.io/en/latest/getting_started/multiple_instances.html#discord-bots-and-asynchronous-environments for more info.\n",
            "\n"
          ]
        },
        {
          "output_type": "stream",
          "name": "stdout",
          "text": [
            "Fetched submission: The vibes rn (created: 2025-02-06 06:25:00)\n",
            "Fetched submission: My dream was to work at Roosterteeth (created: 2025-02-06 05:19:37)\n"
          ]
        },
        {
          "output_type": "stream",
          "name": "stderr",
          "text": [
            "WARNING:praw:It appears that you are using PRAW in an asynchronous environment.\n",
            "It is strongly recommended to use Async PRAW: https://asyncpraw.readthedocs.io.\n",
            "See https://praw.readthedocs.io/en/latest/getting_started/multiple_instances.html#discord-bots-and-asynchronous-environments for more info.\n",
            "\n",
            "WARNING:praw:It appears that you are using PRAW in an asynchronous environment.\n",
            "It is strongly recommended to use Async PRAW: https://asyncpraw.readthedocs.io.\n",
            "See https://praw.readthedocs.io/en/latest/getting_started/multiple_instances.html#discord-bots-and-asynchronous-environments for more info.\n",
            "\n"
          ]
        },
        {
          "output_type": "stream",
          "name": "stdout",
          "text": [
            "Fetched submission: This was not on my 2025 Bingo Card (created: 2025-02-06 04:14:57)\n",
            "Fetched submission: the whole ass internet rn be like (created: 2025-02-06 03:53:23)\n"
          ]
        },
        {
          "output_type": "stream",
          "name": "stderr",
          "text": [
            "WARNING:praw:It appears that you are using PRAW in an asynchronous environment.\n",
            "It is strongly recommended to use Async PRAW: https://asyncpraw.readthedocs.io.\n",
            "See https://praw.readthedocs.io/en/latest/getting_started/multiple_instances.html#discord-bots-and-asynchronous-environments for more info.\n",
            "\n",
            "WARNING:praw:It appears that you are using PRAW in an asynchronous environment.\n",
            "It is strongly recommended to use Async PRAW: https://asyncpraw.readthedocs.io.\n",
            "See https://praw.readthedocs.io/en/latest/getting_started/multiple_instances.html#discord-bots-and-asynchronous-environments for more info.\n",
            "\n"
          ]
        },
        {
          "output_type": "stream",
          "name": "stdout",
          "text": [
            "Fetched submission: a 2nd rooster teeth has hit the internet (created: 2025-02-06 03:49:10)\n",
            "Fetched submission: It's good to see so much activity on this sub again. (created: 2025-02-06 03:43:17)\n"
          ]
        },
        {
          "output_type": "stream",
          "name": "stderr",
          "text": [
            "WARNING:praw:It appears that you are using PRAW in an asynchronous environment.\n",
            "It is strongly recommended to use Async PRAW: https://asyncpraw.readthedocs.io.\n",
            "See https://praw.readthedocs.io/en/latest/getting_started/multiple_instances.html#discord-bots-and-asynchronous-environments for more info.\n",
            "\n"
          ]
        },
        {
          "output_type": "stream",
          "name": "stdout",
          "text": [
            "Fetched submission: Now everyone gets to join in Ray's fun (created: 2025-02-06 03:37:15)\n"
          ]
        },
        {
          "output_type": "stream",
          "name": "stderr",
          "text": [
            "WARNING:praw:It appears that you are using PRAW in an asynchronous environment.\n",
            "It is strongly recommended to use Async PRAW: https://asyncpraw.readthedocs.io.\n",
            "See https://praw.readthedocs.io/en/latest/getting_started/multiple_instances.html#discord-bots-and-asynchronous-environments for more info.\n",
            "\n",
            "WARNING:praw:It appears that you are using PRAW in an asynchronous environment.\n",
            "It is strongly recommended to use Async PRAW: https://asyncpraw.readthedocs.io.\n",
            "See https://praw.readthedocs.io/en/latest/getting_started/multiple_instances.html#discord-bots-and-asynchronous-environments for more info.\n",
            "\n"
          ]
        },
        {
          "output_type": "stream",
          "name": "stdout",
          "text": [
            "Fetched submission: I hope they start and remain small (created: 2025-02-06 03:36:49)\n",
            "Fetched submission: Nobody Said 21 Years Was Quitting Time (created: 2025-02-06 03:17:19)\n"
          ]
        },
        {
          "output_type": "stream",
          "name": "stderr",
          "text": [
            "WARNING:praw:It appears that you are using PRAW in an asynchronous environment.\n",
            "It is strongly recommended to use Async PRAW: https://asyncpraw.readthedocs.io.\n",
            "See https://praw.readthedocs.io/en/latest/getting_started/multiple_instances.html#discord-bots-and-asynchronous-environments for more info.\n",
            "\n",
            "WARNING:praw:It appears that you are using PRAW in an asynchronous environment.\n",
            "It is strongly recommended to use Async PRAW: https://asyncpraw.readthedocs.io.\n",
            "See https://praw.readthedocs.io/en/latest/getting_started/multiple_instances.html#discord-bots-and-asynchronous-environments for more info.\n",
            "\n"
          ]
        },
        {
          "output_type": "stream",
          "name": "stdout",
          "text": [
            "Fetched submission: Our man saw an opportunity and seized it! (created: 2025-02-06 03:07:29)\n",
            "Fetched submission: Why the recent news regarding my rooster teeth has me concerned about the future of RWBY (created: 2025-02-06 03:03:43)\n"
          ]
        },
        {
          "output_type": "stream",
          "name": "stderr",
          "text": [
            "WARNING:praw:It appears that you are using PRAW in an asynchronous environment.\n",
            "It is strongly recommended to use Async PRAW: https://asyncpraw.readthedocs.io.\n",
            "See https://praw.readthedocs.io/en/latest/getting_started/multiple_instances.html#discord-bots-and-asynchronous-environments for more info.\n",
            "\n",
            "WARNING:praw:It appears that you are using PRAW in an asynchronous environment.\n",
            "It is strongly recommended to use Async PRAW: https://asyncpraw.readthedocs.io.\n",
            "See https://praw.readthedocs.io/en/latest/getting_started/multiple_instances.html#discord-bots-and-asynchronous-environments for more info.\n",
            "\n"
          ]
        },
        {
          "output_type": "stream",
          "name": "stdout",
          "text": [
            "Fetched submission: So Camp Camp will probably return? Like for realsies? revived for the 2rd time! (created: 2025-02-06 02:46:41)\n",
            "Fetched submission: The Strangerhood needs a remastered version (created: 2025-02-06 02:29:19)\n"
          ]
        },
        {
          "output_type": "stream",
          "name": "stderr",
          "text": [
            "WARNING:praw:It appears that you are using PRAW in an asynchronous environment.\n",
            "It is strongly recommended to use Async PRAW: https://asyncpraw.readthedocs.io.\n",
            "See https://praw.readthedocs.io/en/latest/getting_started/multiple_instances.html#discord-bots-and-asynchronous-environments for more info.\n",
            "\n",
            "WARNING:praw:It appears that you are using PRAW in an asynchronous environment.\n",
            "It is strongly recommended to use Async PRAW: https://asyncpraw.readthedocs.io.\n",
            "See https://praw.readthedocs.io/en/latest/getting_started/multiple_instances.html#discord-bots-and-asynchronous-environments for more info.\n",
            "\n"
          ]
        },
        {
          "output_type": "stream",
          "name": "stdout",
          "text": [
            "Fetched submission: Y’all got pics and/or footage of the Ten Year Old Tom crew at RTX? (created: 2025-02-06 01:57:56)\n",
            "Fetched submission: What do you want to see from the new Rooster Teeth under Burnie Burns? What do you think it might end looking like? (created: 2025-02-06 01:34:04)\n"
          ]
        },
        {
          "output_type": "stream",
          "name": "stderr",
          "text": [
            "WARNING:praw:It appears that you are using PRAW in an asynchronous environment.\n",
            "It is strongly recommended to use Async PRAW: https://asyncpraw.readthedocs.io.\n",
            "See https://praw.readthedocs.io/en/latest/getting_started/multiple_instances.html#discord-bots-and-asynchronous-environments for more info.\n",
            "\n",
            "WARNING:praw:It appears that you are using PRAW in an asynchronous environment.\n",
            "It is strongly recommended to use Async PRAW: https://asyncpraw.readthedocs.io.\n",
            "See https://praw.readthedocs.io/en/latest/getting_started/multiple_instances.html#discord-bots-and-asynchronous-environments for more info.\n",
            "\n"
          ]
        },
        {
          "output_type": "stream",
          "name": "stdout",
          "text": [
            "Fetched submission: Nothing to see here... (created: 2025-02-06 01:02:33)\n",
            "Fetched submission: Same Vibes (created: 2025-02-05 23:55:12)\n"
          ]
        },
        {
          "output_type": "stream",
          "name": "stderr",
          "text": [
            "WARNING:praw:It appears that you are using PRAW in an asynchronous environment.\n",
            "It is strongly recommended to use Async PRAW: https://asyncpraw.readthedocs.io.\n",
            "See https://praw.readthedocs.io/en/latest/getting_started/multiple_instances.html#discord-bots-and-asynchronous-environments for more info.\n",
            "\n",
            "WARNING:praw:It appears that you are using PRAW in an asynchronous environment.\n",
            "It is strongly recommended to use Async PRAW: https://asyncpraw.readthedocs.io.\n",
            "See https://praw.readthedocs.io/en/latest/getting_started/multiple_instances.html#discord-bots-and-asynchronous-environments for more info.\n",
            "\n"
          ]
        },
        {
          "output_type": "stream",
          "name": "stdout",
          "text": [
            "Fetched submission: Mikey & Fredo,\n",
            "Backwardz Compatible,\n",
            "Regulation Gameplay, (created: 2025-02-05 23:40:58)\n",
            "Fetched submission: Photoshop or Art Request - please have the newly unveiled logo returning to town (created: 2025-02-05 23:32:24)\n"
          ]
        },
        {
          "output_type": "stream",
          "name": "stderr",
          "text": [
            "WARNING:praw:It appears that you are using PRAW in an asynchronous environment.\n",
            "It is strongly recommended to use Async PRAW: https://asyncpraw.readthedocs.io.\n",
            "See https://praw.readthedocs.io/en/latest/getting_started/multiple_instances.html#discord-bots-and-asynchronous-environments for more info.\n",
            "\n",
            "WARNING:praw:It appears that you are using PRAW in an asynchronous environment.\n",
            "It is strongly recommended to use Async PRAW: https://asyncpraw.readthedocs.io.\n",
            "See https://praw.readthedocs.io/en/latest/getting_started/multiple_instances.html#discord-bots-and-asynchronous-environments for more info.\n",
            "\n"
          ]
        },
        {
          "output_type": "stream",
          "name": "stdout",
          "text": [
            "Fetched submission: Bring back the rooster teeth polos!!!! (created: 2025-02-05 23:21:02)\n",
            "Fetched submission: They have the biggest opportunity to do something now that they're back (Especially because they're independent again) (created: 2025-02-05 23:16:36)\n"
          ]
        },
        {
          "output_type": "stream",
          "name": "stderr",
          "text": [
            "WARNING:praw:It appears that you are using PRAW in an asynchronous environment.\n",
            "It is strongly recommended to use Async PRAW: https://asyncpraw.readthedocs.io.\n",
            "See https://praw.readthedocs.io/en/latest/getting_started/multiple_instances.html#discord-bots-and-asynchronous-environments for more info.\n",
            "\n",
            "WARNING:praw:It appears that you are using PRAW in an asynchronous environment.\n",
            "It is strongly recommended to use Async PRAW: https://asyncpraw.readthedocs.io.\n",
            "See https://praw.readthedocs.io/en/latest/getting_started/multiple_instances.html#discord-bots-and-asynchronous-environments for more info.\n",
            "\n"
          ]
        },
        {
          "output_type": "stream",
          "name": "stdout",
          "text": [
            "Fetched submission: We are so back. (created: 2025-02-05 23:06:18)\n",
            "Fetched submission: From Burnie's Instagram (created: 2025-02-05 22:55:24)\n"
          ]
        },
        {
          "output_type": "stream",
          "name": "stderr",
          "text": [
            "WARNING:praw:It appears that you are using PRAW in an asynchronous environment.\n",
            "It is strongly recommended to use Async PRAW: https://asyncpraw.readthedocs.io.\n",
            "See https://praw.readthedocs.io/en/latest/getting_started/multiple_instances.html#discord-bots-and-asynchronous-environments for more info.\n",
            "\n"
          ]
        },
        {
          "output_type": "stream",
          "name": "stdout",
          "text": [
            "Fetched submission: Possibly unpopular opinion: I really hope this isn't them trying to recreate what RT used to be. It should be something new. They don't need to \"Bring everyone back.\" I'm completely okay if most of the people who started their own thing don't come back. (created: 2025-02-05 22:30:16)\n"
          ]
        },
        {
          "output_type": "stream",
          "name": "stderr",
          "text": [
            "WARNING:praw:It appears that you are using PRAW in an asynchronous environment.\n",
            "It is strongly recommended to use Async PRAW: https://asyncpraw.readthedocs.io.\n",
            "See https://praw.readthedocs.io/en/latest/getting_started/multiple_instances.html#discord-bots-and-asynchronous-environments for more info.\n",
            "\n"
          ]
        },
        {
          "output_type": "stream",
          "name": "stdout",
          "text": [
            "Fetched submission: Just posting to confirm this is still the case. (created: 2025-02-05 22:19:49)\n"
          ]
        },
        {
          "output_type": "stream",
          "name": "stderr",
          "text": [
            "WARNING:praw:It appears that you are using PRAW in an asynchronous environment.\n",
            "It is strongly recommended to use Async PRAW: https://asyncpraw.readthedocs.io.\n",
            "See https://praw.readthedocs.io/en/latest/getting_started/multiple_instances.html#discord-bots-and-asynchronous-environments for more info.\n",
            "\n",
            "WARNING:praw:It appears that you are using PRAW in an asynchronous environment.\n",
            "It is strongly recommended to use Async PRAW: https://asyncpraw.readthedocs.io.\n",
            "See https://praw.readthedocs.io/en/latest/getting_started/multiple_instances.html#discord-bots-and-asynchronous-environments for more info.\n",
            "\n"
          ]
        },
        {
          "output_type": "stream",
          "name": "stdout",
          "text": [
            "Fetched submission: Long Live RT (created: 2025-02-05 22:16:41)\n",
            "Fetched submission: Burnie purchased back Rooster Teeth for one simple reason. (created: 2025-02-05 22:15:19)\n"
          ]
        },
        {
          "output_type": "stream",
          "name": "stderr",
          "text": [
            "WARNING:praw:It appears that you are using PRAW in an asynchronous environment.\n",
            "It is strongly recommended to use Async PRAW: https://asyncpraw.readthedocs.io.\n",
            "See https://praw.readthedocs.io/en/latest/getting_started/multiple_instances.html#discord-bots-and-asynchronous-environments for more info.\n",
            "\n",
            "WARNING:praw:It appears that you are using PRAW in an asynchronous environment.\n",
            "It is strongly recommended to use Async PRAW: https://asyncpraw.readthedocs.io.\n",
            "See https://praw.readthedocs.io/en/latest/getting_started/multiple_instances.html#discord-bots-and-asynchronous-environments for more info.\n",
            "\n"
          ]
        },
        {
          "output_type": "stream",
          "name": "stdout",
          "text": [
            "Fetched submission: What are the chances... (created: 2025-02-05 22:10:26)\n",
            "Fetched submission: It fits so well (created: 2025-02-05 22:02:53)\n"
          ]
        },
        {
          "output_type": "stream",
          "name": "stderr",
          "text": [
            "WARNING:praw:It appears that you are using PRAW in an asynchronous environment.\n",
            "It is strongly recommended to use Async PRAW: https://asyncpraw.readthedocs.io.\n",
            "See https://praw.readthedocs.io/en/latest/getting_started/multiple_instances.html#discord-bots-and-asynchronous-environments for more info.\n",
            "\n",
            "WARNING:praw:It appears that you are using PRAW in an asynchronous environment.\n",
            "It is strongly recommended to use Async PRAW: https://asyncpraw.readthedocs.io.\n",
            "See https://praw.readthedocs.io/en/latest/getting_started/multiple_instances.html#discord-bots-and-asynchronous-environments for more info.\n",
            "\n"
          ]
        },
        {
          "output_type": "stream",
          "name": "stdout",
          "text": [
            "Fetched submission: We’re so back (created: 2025-02-05 20:48:20)\n",
            "Fetched submission: What are the chances he gets RWBY back and makes a season 10? (created: 2025-02-05 20:16:48)\n"
          ]
        },
        {
          "output_type": "stream",
          "name": "stderr",
          "text": [
            "WARNING:praw:It appears that you are using PRAW in an asynchronous environment.\n",
            "It is strongly recommended to use Async PRAW: https://asyncpraw.readthedocs.io.\n",
            "See https://praw.readthedocs.io/en/latest/getting_started/multiple_instances.html#discord-bots-and-asynchronous-environments for more info.\n",
            "\n"
          ]
        },
        {
          "output_type": "stream",
          "name": "stdout",
          "text": [
            "Fetched submission: I love the juxtaposition of the last tweet from Rooster Teeth 1.0 and the first tweet since Burnie resumed control of the brand (created: 2025-02-05 20:14:26)\n"
          ]
        },
        {
          "output_type": "stream",
          "name": "stderr",
          "text": [
            "WARNING:praw:It appears that you are using PRAW in an asynchronous environment.\n",
            "It is strongly recommended to use Async PRAW: https://asyncpraw.readthedocs.io.\n",
            "See https://praw.readthedocs.io/en/latest/getting_started/multiple_instances.html#discord-bots-and-asynchronous-environments for more info.\n",
            "\n",
            "WARNING:praw:It appears that you are using PRAW in an asynchronous environment.\n",
            "It is strongly recommended to use Async PRAW: https://asyncpraw.readthedocs.io.\n",
            "See https://praw.readthedocs.io/en/latest/getting_started/multiple_instances.html#discord-bots-and-asynchronous-environments for more info.\n",
            "\n"
          ]
        },
        {
          "output_type": "stream",
          "name": "stdout",
          "text": [
            "Fetched submission: I speak for many when I say: (created: 2025-02-05 20:12:04)\n",
            "Fetched submission: RT coming back was not something I expected, but I am so happy to see it return (created: 2025-02-05 20:01:46)\n"
          ]
        },
        {
          "output_type": "stream",
          "name": "stderr",
          "text": [
            "WARNING:praw:It appears that you are using PRAW in an asynchronous environment.\n",
            "It is strongly recommended to use Async PRAW: https://asyncpraw.readthedocs.io.\n",
            "See https://praw.readthedocs.io/en/latest/getting_started/multiple_instances.html#discord-bots-and-asynchronous-environments for more info.\n",
            "\n",
            "WARNING:praw:It appears that you are using PRAW in an asynchronous environment.\n",
            "It is strongly recommended to use Async PRAW: https://asyncpraw.readthedocs.io.\n",
            "See https://praw.readthedocs.io/en/latest/getting_started/multiple_instances.html#discord-bots-and-asynchronous-environments for more info.\n",
            "\n"
          ]
        },
        {
          "output_type": "stream",
          "name": "stdout",
          "text": [
            "Fetched submission: Geoff’s Live Stream (created: 2025-02-05 19:28:16)\n",
            "Fetched submission: Will the lads be back? (created: 2025-02-05 19:28:06)\n"
          ]
        },
        {
          "output_type": "stream",
          "name": "stderr",
          "text": [
            "WARNING:praw:It appears that you are using PRAW in an asynchronous environment.\n",
            "It is strongly recommended to use Async PRAW: https://asyncpraw.readthedocs.io.\n",
            "See https://praw.readthedocs.io/en/latest/getting_started/multiple_instances.html#discord-bots-and-asynchronous-environments for more info.\n",
            "\n"
          ]
        },
        {
          "output_type": "stream",
          "name": "stdout",
          "text": [
            "Fetched submission: Ray Responds to RT's Return (created: 2025-02-05 19:16:19)\n"
          ]
        },
        {
          "output_type": "stream",
          "name": "stderr",
          "text": [
            "WARNING:praw:It appears that you are using PRAW in an asynchronous environment.\n",
            "It is strongly recommended to use Async PRAW: https://asyncpraw.readthedocs.io.\n",
            "See https://praw.readthedocs.io/en/latest/getting_started/multiple_instances.html#discord-bots-and-asynchronous-environments for more info.\n",
            "\n",
            "WARNING:praw:It appears that you are using PRAW in an asynchronous environment.\n",
            "It is strongly recommended to use Async PRAW: https://asyncpraw.readthedocs.io.\n",
            "See https://praw.readthedocs.io/en/latest/getting_started/multiple_instances.html#discord-bots-and-asynchronous-environments for more info.\n",
            "\n"
          ]
        },
        {
          "output_type": "stream",
          "name": "stdout",
          "text": [
            "Fetched submission: Brought my old bag to the office this morning and now it feels downright prescient. (created: 2025-02-05 19:02:13)\n",
            "Fetched submission: Can’t believe it and I’m excited (created: 2025-02-05 18:56:18)\n"
          ]
        },
        {
          "output_type": "stream",
          "name": "stderr",
          "text": [
            "WARNING:praw:It appears that you are using PRAW in an asynchronous environment.\n",
            "It is strongly recommended to use Async PRAW: https://asyncpraw.readthedocs.io.\n",
            "See https://praw.readthedocs.io/en/latest/getting_started/multiple_instances.html#discord-bots-and-asynchronous-environments for more info.\n",
            "\n",
            "WARNING:praw:It appears that you are using PRAW in an asynchronous environment.\n",
            "It is strongly recommended to use Async PRAW: https://asyncpraw.readthedocs.io.\n",
            "See https://praw.readthedocs.io/en/latest/getting_started/multiple_instances.html#discord-bots-and-asynchronous-environments for more info.\n",
            "\n"
          ]
        },
        {
          "output_type": "stream",
          "name": "stdout",
          "text": [
            "Fetched submission: “You could not live with your own failure. Where here did that bring you?” (created: 2025-02-05 18:45:47)\n",
            "Fetched submission: How it feels right now (created: 2025-02-05 18:38:57)\n"
          ]
        },
        {
          "output_type": "stream",
          "name": "stderr",
          "text": [
            "WARNING:praw:It appears that you are using PRAW in an asynchronous environment.\n",
            "It is strongly recommended to use Async PRAW: https://asyncpraw.readthedocs.io.\n",
            "See https://praw.readthedocs.io/en/latest/getting_started/multiple_instances.html#discord-bots-and-asynchronous-environments for more info.\n",
            "\n"
          ]
        },
        {
          "output_type": "stream",
          "name": "stdout",
          "text": [
            "Fetched submission: Keep Your Expectations In Check (created: 2025-02-05 18:24:53)\n"
          ]
        },
        {
          "output_type": "stream",
          "name": "stderr",
          "text": [
            "WARNING:praw:It appears that you are using PRAW in an asynchronous environment.\n",
            "It is strongly recommended to use Async PRAW: https://asyncpraw.readthedocs.io.\n",
            "See https://praw.readthedocs.io/en/latest/getting_started/multiple_instances.html#discord-bots-and-asynchronous-environments for more info.\n",
            "\n",
            "WARNING:praw:It appears that you are using PRAW in an asynchronous environment.\n",
            "It is strongly recommended to use Async PRAW: https://asyncpraw.readthedocs.io.\n",
            "See https://praw.readthedocs.io/en/latest/getting_started/multiple_instances.html#discord-bots-and-asynchronous-environments for more info.\n",
            "\n"
          ]
        },
        {
          "output_type": "stream",
          "name": "stdout",
          "text": [
            "Fetched submission: RT is back baby! (created: 2025-02-05 18:14:50)\n",
            "Fetched submission: One thing that I'm happy about, probably above all else (created: 2025-02-05 18:00:55)\n"
          ]
        },
        {
          "output_type": "stream",
          "name": "stderr",
          "text": [
            "WARNING:praw:It appears that you are using PRAW in an asynchronous environment.\n",
            "It is strongly recommended to use Async PRAW: https://asyncpraw.readthedocs.io.\n",
            "See https://praw.readthedocs.io/en/latest/getting_started/multiple_instances.html#discord-bots-and-asynchronous-environments for more info.\n",
            "\n",
            "WARNING:praw:It appears that you are using PRAW in an asynchronous environment.\n",
            "It is strongly recommended to use Async PRAW: https://asyncpraw.readthedocs.io.\n",
            "See https://praw.readthedocs.io/en/latest/getting_started/multiple_instances.html#discord-bots-and-asynchronous-environments for more info.\n",
            "\n"
          ]
        },
        {
          "output_type": "stream",
          "name": "stdout",
          "text": [
            "Fetched submission: We’re so back (created: 2025-02-05 17:51:38)\n",
            "Fetched submission: What brand had the best quality merch? (created: 2025-02-05 17:29:59)\n"
          ]
        },
        {
          "output_type": "stream",
          "name": "stderr",
          "text": [
            "WARNING:praw:It appears that you are using PRAW in an asynchronous environment.\n",
            "It is strongly recommended to use Async PRAW: https://asyncpraw.readthedocs.io.\n",
            "See https://praw.readthedocs.io/en/latest/getting_started/multiple_instances.html#discord-bots-and-asynchronous-environments for more info.\n",
            "\n"
          ]
        },
        {
          "output_type": "stream",
          "name": "stdout",
          "text": [
            "Fetched submission: This might be a little early to ask, but which production do you want to see get a revival in Rooster Teeth 2.0? (created: 2025-02-05 17:22:12)\n"
          ]
        },
        {
          "output_type": "stream",
          "name": "stderr",
          "text": [
            "WARNING:praw:It appears that you are using PRAW in an asynchronous environment.\n",
            "It is strongly recommended to use Async PRAW: https://asyncpraw.readthedocs.io.\n",
            "See https://praw.readthedocs.io/en/latest/getting_started/multiple_instances.html#discord-bots-and-asynchronous-environments for more info.\n",
            "\n",
            "WARNING:praw:It appears that you are using PRAW in an asynchronous environment.\n",
            "It is strongly recommended to use Async PRAW: https://asyncpraw.readthedocs.io.\n",
            "See https://praw.readthedocs.io/en/latest/getting_started/multiple_instances.html#discord-bots-and-asynchronous-environments for more info.\n",
            "\n"
          ]
        },
        {
          "output_type": "stream",
          "name": "stdout",
          "text": [
            "Fetched submission: Hope the new Rooster Teeth management comes with fanfare (created: 2025-02-05 17:21:54)\n",
            "Fetched submission: Post aged like wine (created: 2025-02-05 16:59:21)\n"
          ]
        },
        {
          "output_type": "stream",
          "name": "stderr",
          "text": [
            "WARNING:praw:It appears that you are using PRAW in an asynchronous environment.\n",
            "It is strongly recommended to use Async PRAW: https://asyncpraw.readthedocs.io.\n",
            "See https://praw.readthedocs.io/en/latest/getting_started/multiple_instances.html#discord-bots-and-asynchronous-environments for more info.\n",
            "\n",
            "WARNING:praw:It appears that you are using PRAW in an asynchronous environment.\n",
            "It is strongly recommended to use Async PRAW: https://asyncpraw.readthedocs.io.\n",
            "See https://praw.readthedocs.io/en/latest/getting_started/multiple_instances.html#discord-bots-and-asynchronous-environments for more info.\n",
            "\n"
          ]
        },
        {
          "output_type": "stream",
          "name": "stdout",
          "text": [
            "Fetched submission: I'm honestly shocked it may be coming back (created: 2025-02-05 16:55:34)\n",
            "Fetched submission: A bit of good news (created: 2025-02-05 16:35:16)\n"
          ]
        },
        {
          "output_type": "stream",
          "name": "stderr",
          "text": [
            "WARNING:praw:It appears that you are using PRAW in an asynchronous environment.\n",
            "It is strongly recommended to use Async PRAW: https://asyncpraw.readthedocs.io.\n",
            "See https://praw.readthedocs.io/en/latest/getting_started/multiple_instances.html#discord-bots-and-asynchronous-environments for more info.\n",
            "\n",
            "WARNING:praw:It appears that you are using PRAW in an asynchronous environment.\n",
            "It is strongly recommended to use Async PRAW: https://asyncpraw.readthedocs.io.\n",
            "See https://praw.readthedocs.io/en/latest/getting_started/multiple_instances.html#discord-bots-and-asynchronous-environments for more info.\n",
            "\n"
          ]
        },
        {
          "output_type": "stream",
          "name": "stdout",
          "text": [
            "Fetched submission: Alright, let's do this one more time. (created: 2025-02-05 16:22:51)\n",
            "Fetched submission: BLUE TEAM FLAG RETURNED (created: 2025-02-05 16:19:12)\n"
          ]
        },
        {
          "output_type": "stream",
          "name": "stderr",
          "text": [
            "WARNING:praw:It appears that you are using PRAW in an asynchronous environment.\n",
            "It is strongly recommended to use Async PRAW: https://asyncpraw.readthedocs.io.\n",
            "See https://praw.readthedocs.io/en/latest/getting_started/multiple_instances.html#discord-bots-and-asynchronous-environments for more info.\n",
            "\n",
            "WARNING:praw:It appears that you are using PRAW in an asynchronous environment.\n",
            "It is strongly recommended to use Async PRAW: https://asyncpraw.readthedocs.io.\n",
            "See https://praw.readthedocs.io/en/latest/getting_started/multiple_instances.html#discord-bots-and-asynchronous-environments for more info.\n",
            "\n"
          ]
        },
        {
          "output_type": "stream",
          "name": "stdout",
          "text": [
            "Fetched submission: Burnie's New Production Company - Box Canyon Productions - Has some high quality stuff he's worked on! (created: 2025-02-05 16:10:43)\n",
            "Fetched submission: The Rooster Teeth 2! (created: 2025-02-05 16:02:15)\n"
          ]
        },
        {
          "output_type": "stream",
          "name": "stderr",
          "text": [
            "WARNING:praw:It appears that you are using PRAW in an asynchronous environment.\n",
            "It is strongly recommended to use Async PRAW: https://asyncpraw.readthedocs.io.\n",
            "See https://praw.readthedocs.io/en/latest/getting_started/multiple_instances.html#discord-bots-and-asynchronous-environments for more info.\n",
            "\n",
            "WARNING:praw:It appears that you are using PRAW in an asynchronous environment.\n",
            "It is strongly recommended to use Async PRAW: https://asyncpraw.readthedocs.io.\n",
            "See https://praw.readthedocs.io/en/latest/getting_started/multiple_instances.html#discord-bots-and-asynchronous-environments for more info.\n",
            "\n"
          ]
        },
        {
          "output_type": "stream",
          "name": "stdout",
          "text": [
            "Fetched submission: People Still Like Grapes! (created: 2025-02-05 15:49:54)\n",
            "Fetched submission: What a way to start a Wednesday (created: 2025-02-05 15:44:39)\n"
          ]
        },
        {
          "output_type": "stream",
          "name": "stderr",
          "text": [
            "WARNING:praw:It appears that you are using PRAW in an asynchronous environment.\n",
            "It is strongly recommended to use Async PRAW: https://asyncpraw.readthedocs.io.\n",
            "See https://praw.readthedocs.io/en/latest/getting_started/multiple_instances.html#discord-bots-and-asynchronous-environments for more info.\n",
            "\n",
            "WARNING:praw:It appears that you are using PRAW in an asynchronous environment.\n",
            "It is strongly recommended to use Async PRAW: https://asyncpraw.readthedocs.io.\n",
            "See https://praw.readthedocs.io/en/latest/getting_started/multiple_instances.html#discord-bots-and-asynchronous-environments for more info.\n",
            "\n"
          ]
        },
        {
          "output_type": "stream",
          "name": "stdout",
          "text": [
            "Fetched submission: Burnies new title after the acquisition. We are so back. (created: 2025-02-05 15:38:26)\n",
            "Fetched submission: A surprise, to be sure, but a welcome one (created: 2025-02-05 15:32:45)\n"
          ]
        },
        {
          "output_type": "stream",
          "name": "stderr",
          "text": [
            "WARNING:praw:It appears that you are using PRAW in an asynchronous environment.\n",
            "It is strongly recommended to use Async PRAW: https://asyncpraw.readthedocs.io.\n",
            "See https://praw.readthedocs.io/en/latest/getting_started/multiple_instances.html#discord-bots-and-asynchronous-environments for more info.\n",
            "\n",
            "WARNING:praw:It appears that you are using PRAW in an asynchronous environment.\n",
            "It is strongly recommended to use Async PRAW: https://asyncpraw.readthedocs.io.\n",
            "See https://praw.readthedocs.io/en/latest/getting_started/multiple_instances.html#discord-bots-and-asynchronous-environments for more info.\n",
            "\n"
          ]
        },
        {
          "output_type": "stream",
          "name": "stdout",
          "text": [
            "Fetched submission: This sub after the announcement (created: 2025-02-05 15:31:52)\n",
            "Fetched submission: Looking to get into more RoosterTeeth as a wider community, what would you recommend I watch? (created: 2025-02-05 15:13:15)\n"
          ]
        },
        {
          "output_type": "stream",
          "name": "stderr",
          "text": [
            "WARNING:praw:It appears that you are using PRAW in an asynchronous environment.\n",
            "It is strongly recommended to use Async PRAW: https://asyncpraw.readthedocs.io.\n",
            "See https://praw.readthedocs.io/en/latest/getting_started/multiple_instances.html#discord-bots-and-asynchronous-environments for more info.\n",
            "\n",
            "WARNING:praw:It appears that you are using PRAW in an asynchronous environment.\n",
            "It is strongly recommended to use Async PRAW: https://asyncpraw.readthedocs.io.\n",
            "See https://praw.readthedocs.io/en/latest/getting_started/multiple_instances.html#discord-bots-and-asynchronous-environments for more info.\n",
            "\n"
          ]
        },
        {
          "output_type": "stream",
          "name": "stdout",
          "text": [
            "Fetched submission: Excited for the future (created: 2025-02-05 15:05:47)\n"
          ]
        },
        {
          "output_type": "stream",
          "name": "stderr",
          "text": [
            "WARNING:praw:It appears that you are using PRAW in an asynchronous environment.\n",
            "It is strongly recommended to use Async PRAW: https://asyncpraw.readthedocs.io.\n",
            "See https://praw.readthedocs.io/en/latest/getting_started/multiple_instances.html#discord-bots-and-asynchronous-environments for more info.\n",
            "\n",
            "WARNING:praw:It appears that you are using PRAW in an asynchronous environment.\n",
            "It is strongly recommended to use Async PRAW: https://asyncpraw.readthedocs.io.\n",
            "See https://praw.readthedocs.io/en/latest/getting_started/multiple_instances.html#discord-bots-and-asynchronous-environments for more info.\n",
            "\n"
          ]
        },
        {
          "output_type": "stream",
          "name": "stdout",
          "text": [
            "Fetched submission: So...is Burnie going to go let Ben out to the closet now or.... (created: 2025-02-05 14:58:38)\n",
            "Fetched submission: Time for work! (created: 2025-02-05 14:51:11)\n"
          ]
        },
        {
          "output_type": "stream",
          "name": "stderr",
          "text": [
            "WARNING:praw:It appears that you are using PRAW in an asynchronous environment.\n",
            "It is strongly recommended to use Async PRAW: https://asyncpraw.readthedocs.io.\n",
            "See https://praw.readthedocs.io/en/latest/getting_started/multiple_instances.html#discord-bots-and-asynchronous-environments for more info.\n",
            "\n",
            "WARNING:praw:It appears that you are using PRAW in an asynchronous environment.\n",
            "It is strongly recommended to use Async PRAW: https://asyncpraw.readthedocs.io.\n",
            "See https://praw.readthedocs.io/en/latest/getting_started/multiple_instances.html#discord-bots-and-asynchronous-environments for more info.\n",
            "\n"
          ]
        },
        {
          "output_type": "stream",
          "name": "stdout",
          "text": [
            "Fetched submission: It’s back baby (created: 2025-02-05 14:41:28)\n",
            "Fetched submission: Roosterteeth being owned by Burnie calms my soul. (created: 2025-02-05 14:37:38)\n"
          ]
        },
        {
          "output_type": "stream",
          "name": "stderr",
          "text": [
            "WARNING:praw:It appears that you are using PRAW in an asynchronous environment.\n",
            "It is strongly recommended to use Async PRAW: https://asyncpraw.readthedocs.io.\n",
            "See https://praw.readthedocs.io/en/latest/getting_started/multiple_instances.html#discord-bots-and-asynchronous-environments for more info.\n",
            "\n"
          ]
        },
        {
          "output_type": "stream",
          "name": "stdout",
          "text": [
            "Fetched submission: What could the missing tooth mean…? 🤔 (created: 2025-02-05 14:17:48)\n"
          ]
        },
        {
          "output_type": "stream",
          "name": "stderr",
          "text": [
            "WARNING:praw:It appears that you are using PRAW in an asynchronous environment.\n",
            "It is strongly recommended to use Async PRAW: https://asyncpraw.readthedocs.io.\n",
            "See https://praw.readthedocs.io/en/latest/getting_started/multiple_instances.html#discord-bots-and-asynchronous-environments for more info.\n",
            "\n",
            "WARNING:praw:It appears that you are using PRAW in an asynchronous environment.\n",
            "It is strongly recommended to use Async PRAW: https://asyncpraw.readthedocs.io.\n",
            "See https://praw.readthedocs.io/en/latest/getting_started/multiple_instances.html#discord-bots-and-asynchronous-environments for more info.\n",
            "\n"
          ]
        },
        {
          "output_type": "stream",
          "name": "stdout",
          "text": [
            "Fetched submission: I wonder if Rooster Teeth will acquire CRASH: A Halo Machinima (created: 2025-02-05 13:55:54)\n",
            "Fetched submission: We're back, baby (created: 2025-02-05 13:54:51)\n"
          ]
        },
        {
          "output_type": "stream",
          "name": "stderr",
          "text": [
            "WARNING:praw:It appears that you are using PRAW in an asynchronous environment.\n",
            "It is strongly recommended to use Async PRAW: https://asyncpraw.readthedocs.io.\n",
            "See https://praw.readthedocs.io/en/latest/getting_started/multiple_instances.html#discord-bots-and-asynchronous-environments for more info.\n",
            "\n"
          ]
        },
        {
          "output_type": "stream",
          "name": "stdout",
          "text": [
            "Fetched submission: Current RT shows as of February 2025 (created: 2025-02-05 13:51:57)\n"
          ]
        },
        {
          "output_type": "stream",
          "name": "stderr",
          "text": [
            "WARNING:praw:It appears that you are using PRAW in an asynchronous environment.\n",
            "It is strongly recommended to use Async PRAW: https://asyncpraw.readthedocs.io.\n",
            "See https://praw.readthedocs.io/en/latest/getting_started/multiple_instances.html#discord-bots-and-asynchronous-environments for more info.\n",
            "\n"
          ]
        },
        {
          "output_type": "stream",
          "name": "stdout",
          "text": [
            "Fetched submission: Wasted no time. (created: 2025-02-05 13:46:09)\n"
          ]
        },
        {
          "output_type": "stream",
          "name": "stderr",
          "text": [
            "WARNING:praw:It appears that you are using PRAW in an asynchronous environment.\n",
            "It is strongly recommended to use Async PRAW: https://asyncpraw.readthedocs.io.\n",
            "See https://praw.readthedocs.io/en/latest/getting_started/multiple_instances.html#discord-bots-and-asynchronous-environments for more info.\n",
            "\n",
            "WARNING:praw:It appears that you are using PRAW in an asynchronous environment.\n",
            "It is strongly recommended to use Async PRAW: https://asyncpraw.readthedocs.io.\n",
            "See https://praw.readthedocs.io/en/latest/getting_started/multiple_instances.html#discord-bots-and-asynchronous-environments for more info.\n",
            "\n"
          ]
        },
        {
          "output_type": "stream",
          "name": "stdout",
          "text": [
            "Fetched submission: Literally everyone right now (created: 2025-02-05 13:45:15)\n",
            "Fetched submission: [Theory] is this why GMG never changed their parent company like every other pod? Is “ANMA” still under RT and that’s why it took so long for the episodes to come out? (created: 2025-02-05 13:30:24)\n"
          ]
        },
        {
          "output_type": "stream",
          "name": "stderr",
          "text": [
            "WARNING:praw:It appears that you are using PRAW in an asynchronous environment.\n",
            "It is strongly recommended to use Async PRAW: https://asyncpraw.readthedocs.io.\n",
            "See https://praw.readthedocs.io/en/latest/getting_started/multiple_instances.html#discord-bots-and-asynchronous-environments for more info.\n",
            "\n"
          ]
        },
        {
          "output_type": "stream",
          "name": "stdout",
          "text": [
            "Fetched submission: What questions would you like to ask for the upcoming Morning Somewhere Q&A? (created: 2025-02-05 13:08:42)\n"
          ]
        },
        {
          "output_type": "stream",
          "name": "stderr",
          "text": [
            "WARNING:praw:It appears that you are using PRAW in an asynchronous environment.\n",
            "It is strongly recommended to use Async PRAW: https://asyncpraw.readthedocs.io.\n",
            "See https://praw.readthedocs.io/en/latest/getting_started/multiple_instances.html#discord-bots-and-asynchronous-environments for more info.\n",
            "\n",
            "WARNING:praw:It appears that you are using PRAW in an asynchronous environment.\n",
            "It is strongly recommended to use Async PRAW: https://asyncpraw.readthedocs.io.\n",
            "See https://praw.readthedocs.io/en/latest/getting_started/multiple_instances.html#discord-bots-and-asynchronous-environments for more info.\n",
            "\n"
          ]
        },
        {
          "output_type": "stream",
          "name": "stdout",
          "text": [
            "Fetched submission: An Announcement (created: 2025-02-05 12:49:02)\n",
            "Fetched submission: Want to know the funniest thing? (created: 2025-02-05 12:36:44)\n"
          ]
        },
        {
          "output_type": "stream",
          "name": "stderr",
          "text": [
            "WARNING:praw:It appears that you are using PRAW in an asynchronous environment.\n",
            "It is strongly recommended to use Async PRAW: https://asyncpraw.readthedocs.io.\n",
            "See https://praw.readthedocs.io/en/latest/getting_started/multiple_instances.html#discord-bots-and-asynchronous-environments for more info.\n",
            "\n"
          ]
        },
        {
          "output_type": "stream",
          "name": "stdout",
          "text": [
            "Fetched submission: Rooster Teeth press release about the acquisition (created: 2025-02-05 12:31:35)\n"
          ]
        },
        {
          "output_type": "stream",
          "name": "stderr",
          "text": [
            "WARNING:praw:It appears that you are using PRAW in an asynchronous environment.\n",
            "It is strongly recommended to use Async PRAW: https://asyncpraw.readthedocs.io.\n",
            "See https://praw.readthedocs.io/en/latest/getting_started/multiple_instances.html#discord-bots-and-asynchronous-environments for more info.\n",
            "\n"
          ]
        },
        {
          "output_type": "stream",
          "name": "stdout",
          "text": [
            "Fetched submission: Homecoming (created: 2025-02-05 12:31:25)\n"
          ]
        },
        {
          "output_type": "stream",
          "name": "stderr",
          "text": [
            "WARNING:praw:It appears that you are using PRAW in an asynchronous environment.\n",
            "It is strongly recommended to use Async PRAW: https://asyncpraw.readthedocs.io.\n",
            "See https://praw.readthedocs.io/en/latest/getting_started/multiple_instances.html#discord-bots-and-asynchronous-environments for more info.\n",
            "\n"
          ]
        },
        {
          "output_type": "stream",
          "name": "stdout",
          "text": [
            "Fetched submission: I'm so glad that Burnie owns Rosterteeth again (created: 2025-02-05 12:19:46)\n"
          ]
        },
        {
          "output_type": "stream",
          "name": "stderr",
          "text": [
            "WARNING:praw:It appears that you are using PRAW in an asynchronous environment.\n",
            "It is strongly recommended to use Async PRAW: https://asyncpraw.readthedocs.io.\n",
            "See https://praw.readthedocs.io/en/latest/getting_started/multiple_instances.html#discord-bots-and-asynchronous-environments for more info.\n",
            "\n"
          ]
        },
        {
          "output_type": "stream",
          "name": "stdout",
          "text": [
            "Fetched submission: Message from Burnie: Don't harass former employees about the reboot! (created: 2025-02-05 12:15:28)\n"
          ]
        },
        {
          "output_type": "stream",
          "name": "stderr",
          "text": [
            "WARNING:praw:It appears that you are using PRAW in an asynchronous environment.\n",
            "It is strongly recommended to use Async PRAW: https://asyncpraw.readthedocs.io.\n",
            "See https://praw.readthedocs.io/en/latest/getting_started/multiple_instances.html#discord-bots-and-asynchronous-environments for more info.\n",
            "\n",
            "WARNING:praw:It appears that you are using PRAW in an asynchronous environment.\n",
            "It is strongly recommended to use Async PRAW: https://asyncpraw.readthedocs.io.\n",
            "See https://praw.readthedocs.io/en/latest/getting_started/multiple_instances.html#discord-bots-and-asynchronous-environments for more info.\n",
            "\n"
          ]
        },
        {
          "output_type": "stream",
          "name": "stdout",
          "text": [
            "Fetched submission: They're.....back!? (created: 2025-02-05 12:08:34)\n",
            "Fetched submission: Well, that's something i did not expect... (created: 2025-02-05 12:02:18)\n"
          ]
        },
        {
          "output_type": "stream",
          "name": "stderr",
          "text": [
            "WARNING:praw:It appears that you are using PRAW in an asynchronous environment.\n",
            "It is strongly recommended to use Async PRAW: https://asyncpraw.readthedocs.io.\n",
            "See https://praw.readthedocs.io/en/latest/getting_started/multiple_instances.html#discord-bots-and-asynchronous-environments for more info.\n",
            "\n"
          ]
        },
        {
          "output_type": "stream",
          "name": "stdout",
          "text": [
            "Fetched submission: RT is back (created: 2025-02-05 11:58:27)\n"
          ]
        },
        {
          "output_type": "stream",
          "name": "stderr",
          "text": [
            "WARNING:praw:It appears that you are using PRAW in an asynchronous environment.\n",
            "It is strongly recommended to use Async PRAW: https://asyncpraw.readthedocs.io.\n",
            "See https://praw.readthedocs.io/en/latest/getting_started/multiple_instances.html#discord-bots-and-asynchronous-environments for more info.\n",
            "\n"
          ]
        },
        {
          "output_type": "stream",
          "name": "stdout",
          "text": [
            "Fetched submission: Well... (created: 2025-02-05 11:57:24)\n"
          ]
        },
        {
          "output_type": "stream",
          "name": "stderr",
          "text": [
            "WARNING:praw:It appears that you are using PRAW in an asynchronous environment.\n",
            "It is strongly recommended to use Async PRAW: https://asyncpraw.readthedocs.io.\n",
            "See https://praw.readthedocs.io/en/latest/getting_started/multiple_instances.html#discord-bots-and-asynchronous-environments for more info.\n",
            "\n"
          ]
        },
        {
          "output_type": "stream",
          "name": "stdout",
          "text": [
            "Fetched submission: WE'RE BACK BABAY (created: 2025-02-05 11:56:36)\n"
          ]
        },
        {
          "output_type": "stream",
          "name": "stderr",
          "text": [
            "WARNING:praw:It appears that you are using PRAW in an asynchronous environment.\n",
            "It is strongly recommended to use Async PRAW: https://asyncpraw.readthedocs.io.\n",
            "See https://praw.readthedocs.io/en/latest/getting_started/multiple_instances.html#discord-bots-and-asynchronous-environments for more info.\n",
            "\n"
          ]
        },
        {
          "output_type": "stream",
          "name": "stdout",
          "text": [
            "Fetched submission: Any one else miss Gus explaining plane disasters? (created: 2025-02-04 15:55:44)\n"
          ]
        },
        {
          "output_type": "stream",
          "name": "stderr",
          "text": [
            "WARNING:praw:It appears that you are using PRAW in an asynchronous environment.\n",
            "It is strongly recommended to use Async PRAW: https://asyncpraw.readthedocs.io.\n",
            "See https://praw.readthedocs.io/en/latest/getting_started/multiple_instances.html#discord-bots-and-asynchronous-environments for more info.\n",
            "\n",
            "WARNING:praw:It appears that you are using PRAW in an asynchronous environment.\n",
            "It is strongly recommended to use Async PRAW: https://asyncpraw.readthedocs.io.\n",
            "See https://praw.readthedocs.io/en/latest/getting_started/multiple_instances.html#discord-bots-and-asynchronous-environments for more info.\n",
            "\n"
          ]
        },
        {
          "output_type": "stream",
          "name": "stdout",
          "text": [
            "Fetched submission: Forza Horizon Race? (created: 2025-02-04 10:44:56)\n",
            "Fetched submission: need help “finding” an extra life tank top (created: 2025-02-03 17:50:03)\n"
          ]
        },
        {
          "output_type": "stream",
          "name": "stderr",
          "text": [
            "WARNING:praw:It appears that you are using PRAW in an asynchronous environment.\n",
            "It is strongly recommended to use Async PRAW: https://asyncpraw.readthedocs.io.\n",
            "See https://praw.readthedocs.io/en/latest/getting_started/multiple_instances.html#discord-bots-and-asynchronous-environments for more info.\n",
            "\n"
          ]
        },
        {
          "output_type": "stream",
          "name": "stdout",
          "text": [
            "Fetched submission: Never forgotten (created: 2025-02-02 04:12:57)\n"
          ]
        },
        {
          "output_type": "stream",
          "name": "stderr",
          "text": [
            "WARNING:praw:It appears that you are using PRAW in an asynchronous environment.\n",
            "It is strongly recommended to use Async PRAW: https://asyncpraw.readthedocs.io.\n",
            "See https://praw.readthedocs.io/en/latest/getting_started/multiple_instances.html#discord-bots-and-asynchronous-environments for more info.\n",
            "\n"
          ]
        },
        {
          "output_type": "stream",
          "name": "stdout",
          "text": [
            "Fetched submission: This is the last photo of web based animator Monty Oum.  He passed away from an allergic reaction at 33 after being in a coma for several weeks. 10 years ago today (created: 2025-02-02 00:07:15)\n"
          ]
        },
        {
          "output_type": "stream",
          "name": "stderr",
          "text": [
            "WARNING:praw:It appears that you are using PRAW in an asynchronous environment.\n",
            "It is strongly recommended to use Async PRAW: https://asyncpraw.readthedocs.io.\n",
            "See https://praw.readthedocs.io/en/latest/getting_started/multiple_instances.html#discord-bots-and-asynchronous-environments for more info.\n",
            "\n",
            "WARNING:praw:It appears that you are using PRAW in an asynchronous environment.\n",
            "It is strongly recommended to use Async PRAW: https://asyncpraw.readthedocs.io.\n",
            "See https://praw.readthedocs.io/en/latest/getting_started/multiple_instances.html#discord-bots-and-asynchronous-environments for more info.\n",
            "\n"
          ]
        },
        {
          "output_type": "stream",
          "name": "stdout",
          "text": [
            "Fetched submission: Need some help finding some content (created: 2025-02-01 10:45:15)\n",
            "Fetched submission: How are we today? | Season 1 trailer (created: 2025-01-31 16:07:34)\n"
          ]
        },
        {
          "output_type": "stream",
          "name": "stderr",
          "text": [
            "WARNING:praw:It appears that you are using PRAW in an asynchronous environment.\n",
            "It is strongly recommended to use Async PRAW: https://asyncpraw.readthedocs.io.\n",
            "See https://praw.readthedocs.io/en/latest/getting_started/multiple_instances.html#discord-bots-and-asynchronous-environments for more info.\n",
            "\n",
            "WARNING:praw:It appears that you are using PRAW in an asynchronous environment.\n",
            "It is strongly recommended to use Async PRAW: https://asyncpraw.readthedocs.io.\n",
            "See https://praw.readthedocs.io/en/latest/getting_started/multiple_instances.html#discord-bots-and-asynchronous-environments for more info.\n",
            "\n"
          ]
        },
        {
          "output_type": "stream",
          "name": "stdout",
          "text": [
            "Fetched submission: Dvd and bluray help (created: 2025-01-31 13:22:59)\n",
            "Fetched submission: Replaying Red Dead 2 (created: 2025-01-31 08:38:17)\n"
          ]
        },
        {
          "output_type": "stream",
          "name": "stderr",
          "text": [
            "WARNING:praw:It appears that you are using PRAW in an asynchronous environment.\n",
            "It is strongly recommended to use Async PRAW: https://asyncpraw.readthedocs.io.\n",
            "See https://praw.readthedocs.io/en/latest/getting_started/multiple_instances.html#discord-bots-and-asynchronous-environments for more info.\n",
            "\n"
          ]
        },
        {
          "output_type": "stream",
          "name": "stdout",
          "text": [
            "Fetched submission: camp camp platypus mug (created: 2025-01-31 06:34:49)\n"
          ]
        },
        {
          "output_type": "stream",
          "name": "stderr",
          "text": [
            "WARNING:praw:It appears that you are using PRAW in an asynchronous environment.\n",
            "It is strongly recommended to use Async PRAW: https://asyncpraw.readthedocs.io.\n",
            "See https://praw.readthedocs.io/en/latest/getting_started/multiple_instances.html#discord-bots-and-asynchronous-environments for more info.\n",
            "\n"
          ]
        },
        {
          "output_type": "stream",
          "name": "stdout",
          "text": [
            "Fetched submission: If you're in need of a pick-me-up, may I suggest the most recent Slow Mo Guys video? (created: 2025-01-31 04:01:02)\n"
          ]
        },
        {
          "output_type": "stream",
          "name": "stderr",
          "text": [
            "WARNING:praw:It appears that you are using PRAW in an asynchronous environment.\n",
            "It is strongly recommended to use Async PRAW: https://asyncpraw.readthedocs.io.\n",
            "See https://praw.readthedocs.io/en/latest/getting_started/multiple_instances.html#discord-bots-and-asynchronous-environments for more info.\n",
            "\n",
            "WARNING:praw:It appears that you are using PRAW in an asynchronous environment.\n",
            "It is strongly recommended to use Async PRAW: https://asyncpraw.readthedocs.io.\n",
            "See https://praw.readthedocs.io/en/latest/getting_started/multiple_instances.html#discord-bots-and-asynchronous-environments for more info.\n",
            "\n"
          ]
        },
        {
          "output_type": "stream",
          "name": "stdout",
          "text": [
            "Fetched submission: Anyone have the 4k version of RWBY from Youtube? (created: 2025-01-30 19:17:37)\n",
            "Fetched submission: Discussion About the Series Called \"Recorded by Arizal\" (created: 2025-01-30 04:54:25)\n"
          ]
        },
        {
          "output_type": "stream",
          "name": "stderr",
          "text": [
            "WARNING:praw:It appears that you are using PRAW in an asynchronous environment.\n",
            "It is strongly recommended to use Async PRAW: https://asyncpraw.readthedocs.io.\n",
            "See https://praw.readthedocs.io/en/latest/getting_started/multiple_instances.html#discord-bots-and-asynchronous-environments for more info.\n",
            "\n"
          ]
        },
        {
          "output_type": "stream",
          "name": "stdout",
          "text": [
            "Fetched submission: Old Email Treasure (created: 2025-01-29 21:15:36)\n"
          ]
        },
        {
          "output_type": "stream",
          "name": "stderr",
          "text": [
            "WARNING:praw:It appears that you are using PRAW in an asynchronous environment.\n",
            "It is strongly recommended to use Async PRAW: https://asyncpraw.readthedocs.io.\n",
            "See https://praw.readthedocs.io/en/latest/getting_started/multiple_instances.html#discord-bots-and-asynchronous-environments for more info.\n",
            "\n"
          ]
        },
        {
          "output_type": "stream",
          "name": "stdout",
          "text": [
            "Fetched submission: Old RT fan - found this in my room (created: 2025-01-29 18:48:52)\n"
          ]
        },
        {
          "output_type": "stream",
          "name": "stderr",
          "text": [
            "WARNING:praw:It appears that you are using PRAW in an asynchronous environment.\n",
            "It is strongly recommended to use Async PRAW: https://asyncpraw.readthedocs.io.\n",
            "See https://praw.readthedocs.io/en/latest/getting_started/multiple_instances.html#discord-bots-and-asynchronous-environments for more info.\n",
            "\n"
          ]
        },
        {
          "output_type": "stream",
          "name": "stdout",
          "text": [
            "Fetched submission: Actual real Ray Narvaez Jr. quote that has no deeper context to it (at all). (created: 2025-01-29 09:47:31)\n"
          ]
        },
        {
          "output_type": "stream",
          "name": "stderr",
          "text": [
            "WARNING:praw:It appears that you are using PRAW in an asynchronous environment.\n",
            "It is strongly recommended to use Async PRAW: https://asyncpraw.readthedocs.io.\n",
            "See https://praw.readthedocs.io/en/latest/getting_started/multiple_instances.html#discord-bots-and-asynchronous-environments for more info.\n",
            "\n"
          ]
        },
        {
          "output_type": "stream",
          "name": "stdout",
          "text": [
            "Fetched submission: Immortal (Part 2) (created: 2025-01-29 08:07:49)\n"
          ]
        },
        {
          "output_type": "stream",
          "name": "stderr",
          "text": [
            "WARNING:praw:It appears that you are using PRAW in an asynchronous environment.\n",
            "It is strongly recommended to use Async PRAW: https://asyncpraw.readthedocs.io.\n",
            "See https://praw.readthedocs.io/en/latest/getting_started/multiple_instances.html#discord-bots-and-asynchronous-environments for more info.\n",
            "\n"
          ]
        },
        {
          "output_type": "stream",
          "name": "stdout",
          "text": [
            "Fetched submission: I’m finally mourning. (created: 2025-01-29 04:26:43)\n"
          ]
        },
        {
          "output_type": "stream",
          "name": "stderr",
          "text": [
            "WARNING:praw:It appears that you are using PRAW in an asynchronous environment.\n",
            "It is strongly recommended to use Async PRAW: https://asyncpraw.readthedocs.io.\n",
            "See https://praw.readthedocs.io/en/latest/getting_started/multiple_instances.html#discord-bots-and-asynchronous-environments for more info.\n",
            "\n",
            "WARNING:praw:It appears that you are using PRAW in an asynchronous environment.\n",
            "It is strongly recommended to use Async PRAW: https://asyncpraw.readthedocs.io.\n",
            "See https://praw.readthedocs.io/en/latest/getting_started/multiple_instances.html#discord-bots-and-asynchronous-environments for more info.\n",
            "\n"
          ]
        },
        {
          "output_type": "stream",
          "name": "stdout",
          "text": [
            "Fetched submission: Desperately trying to find some drinking/ pint glasses (created: 2025-01-28 15:01:04)\n",
            "Fetched submission: How dare you? (created: 2025-01-28 02:18:07)\n"
          ]
        },
        {
          "output_type": "stream",
          "name": "stderr",
          "text": [
            "WARNING:praw:It appears that you are using PRAW in an asynchronous environment.\n",
            "It is strongly recommended to use Async PRAW: https://asyncpraw.readthedocs.io.\n",
            "See https://praw.readthedocs.io/en/latest/getting_started/multiple_instances.html#discord-bots-and-asynchronous-environments for more info.\n",
            "\n"
          ]
        },
        {
          "output_type": "stream",
          "name": "stdout",
          "text": [
            "Fetched submission: Good Morning, Gustavo is out now! (created: 2025-01-27 18:33:16)\n"
          ]
        },
        {
          "output_type": "stream",
          "name": "stderr",
          "text": [
            "WARNING:praw:It appears that you are using PRAW in an asynchronous environment.\n",
            "It is strongly recommended to use Async PRAW: https://asyncpraw.readthedocs.io.\n",
            "See https://praw.readthedocs.io/en/latest/getting_started/multiple_instances.html#discord-bots-and-asynchronous-environments for more info.\n",
            "\n",
            "WARNING:praw:It appears that you are using PRAW in an asynchronous environment.\n",
            "It is strongly recommended to use Async PRAW: https://asyncpraw.readthedocs.io.\n",
            "See https://praw.readthedocs.io/en/latest/getting_started/multiple_instances.html#discord-bots-and-asynchronous-environments for more info.\n",
            "\n"
          ]
        },
        {
          "output_type": "stream",
          "name": "stdout",
          "text": [
            "Fetched submission: lazer team thrift find (created: 2025-01-27 17:45:28)\n",
            "Fetched submission: Rwby Christmas Onesie XL-XXL (created: 2025-01-27 04:14:19)\n"
          ]
        },
        {
          "output_type": "stream",
          "name": "stderr",
          "text": [
            "WARNING:praw:It appears that you are using PRAW in an asynchronous environment.\n",
            "It is strongly recommended to use Async PRAW: https://asyncpraw.readthedocs.io.\n",
            "See https://praw.readthedocs.io/en/latest/getting_started/multiple_instances.html#discord-bots-and-asynchronous-environments for more info.\n",
            "\n",
            "WARNING:praw:It appears that you are using PRAW in an asynchronous environment.\n",
            "It is strongly recommended to use Async PRAW: https://asyncpraw.readthedocs.io.\n",
            "See https://praw.readthedocs.io/en/latest/getting_started/multiple_instances.html#discord-bots-and-asynchronous-environments for more info.\n",
            "\n"
          ]
        },
        {
          "output_type": "stream",
          "name": "stdout",
          "text": [
            "Fetched submission: The Alamo Drafthouse RvB psas (created: 2025-01-26 22:43:01)\n",
            "Fetched submission: The OT Pod where Michael does Jack's \"Rollercoaster face\" (created: 2025-01-26 13:55:56)\n"
          ]
        },
        {
          "output_type": "stream",
          "name": "stderr",
          "text": [
            "WARNING:praw:It appears that you are using PRAW in an asynchronous environment.\n",
            "It is strongly recommended to use Async PRAW: https://asyncpraw.readthedocs.io.\n",
            "See https://praw.readthedocs.io/en/latest/getting_started/multiple_instances.html#discord-bots-and-asynchronous-environments for more info.\n",
            "\n",
            "WARNING:praw:It appears that you are using PRAW in an asynchronous environment.\n",
            "It is strongly recommended to use Async PRAW: https://asyncpraw.readthedocs.io.\n",
            "See https://praw.readthedocs.io/en/latest/getting_started/multiple_instances.html#discord-bots-and-asynchronous-environments for more info.\n",
            "\n"
          ]
        },
        {
          "output_type": "stream",
          "name": "stdout",
          "text": [
            "Fetched submission: Where to watch old content? (created: 2025-01-25 23:08:02)\n",
            "Fetched submission: Around 13 minutes in the guys talk about all the domains they would snatch up if it was used in a joke. What one's did you guys visit? (created: 2025-01-25 22:04:11)\n"
          ]
        },
        {
          "output_type": "stream",
          "name": "stderr",
          "text": [
            "WARNING:praw:It appears that you are using PRAW in an asynchronous environment.\n",
            "It is strongly recommended to use Async PRAW: https://asyncpraw.readthedocs.io.\n",
            "See https://praw.readthedocs.io/en/latest/getting_started/multiple_instances.html#discord-bots-and-asynchronous-environments for more info.\n",
            "\n",
            "WARNING:praw:It appears that you are using PRAW in an asynchronous environment.\n",
            "It is strongly recommended to use Async PRAW: https://asyncpraw.readthedocs.io.\n",
            "See https://praw.readthedocs.io/en/latest/getting_started/multiple_instances.html#discord-bots-and-asynchronous-environments for more info.\n",
            "\n"
          ]
        },
        {
          "output_type": "stream",
          "name": "stdout",
          "text": [
            "Fetched submission: Look what I found at my local Salvation Army (created: 2025-01-25 20:24:36)\n",
            "Fetched submission: Something new just showed up in my RSS feed (created: 2025-01-25 19:55:00)\n"
          ]
        },
        {
          "output_type": "stream",
          "name": "stderr",
          "text": [
            "WARNING:praw:It appears that you are using PRAW in an asynchronous environment.\n",
            "It is strongly recommended to use Async PRAW: https://asyncpraw.readthedocs.io.\n",
            "See https://praw.readthedocs.io/en/latest/getting_started/multiple_instances.html#discord-bots-and-asynchronous-environments for more info.\n",
            "\n"
          ]
        },
        {
          "output_type": "stream",
          "name": "stdout",
          "text": [
            "Fetched submission: I got my pilots license this week! Thank you Gus (created: 2025-01-25 07:36:59)\n"
          ]
        },
        {
          "output_type": "stream",
          "name": "stderr",
          "text": [
            "WARNING:praw:It appears that you are using PRAW in an asynchronous environment.\n",
            "It is strongly recommended to use Async PRAW: https://asyncpraw.readthedocs.io.\n",
            "See https://praw.readthedocs.io/en/latest/getting_started/multiple_instances.html#discord-bots-and-asynchronous-environments for more info.\n",
            "\n"
          ]
        },
        {
          "output_type": "stream",
          "name": "stdout",
          "text": [
            "Fetched submission: ANMA on Spotify is now Good Morning Gus (created: 2025-01-24 21:15:28)\n"
          ]
        },
        {
          "output_type": "stream",
          "name": "stderr",
          "text": [
            "WARNING:praw:It appears that you are using PRAW in an asynchronous environment.\n",
            "It is strongly recommended to use Async PRAW: https://asyncpraw.readthedocs.io.\n",
            "See https://praw.readthedocs.io/en/latest/getting_started/multiple_instances.html#discord-bots-and-asynchronous-environments for more info.\n",
            "\n"
          ]
        },
        {
          "output_type": "stream",
          "name": "stdout",
          "text": [
            "Fetched submission: Did someone say The Strangerhood? (created: 2025-01-24 06:13:49)\n"
          ]
        },
        {
          "output_type": "stream",
          "name": "stderr",
          "text": [
            "WARNING:praw:It appears that you are using PRAW in an asynchronous environment.\n",
            "It is strongly recommended to use Async PRAW: https://asyncpraw.readthedocs.io.\n",
            "See https://praw.readthedocs.io/en/latest/getting_started/multiple_instances.html#discord-bots-and-asynchronous-environments for more info.\n",
            "\n"
          ]
        },
        {
          "output_type": "stream",
          "name": "stdout",
          "text": [
            "Fetched submission: First Physical Piece of RT Media (created: 2025-01-24 04:45:29)\n"
          ]
        },
        {
          "output_type": "stream",
          "name": "stderr",
          "text": [
            "WARNING:praw:It appears that you are using PRAW in an asynchronous environment.\n",
            "It is strongly recommended to use Async PRAW: https://asyncpraw.readthedocs.io.\n",
            "See https://praw.readthedocs.io/en/latest/getting_started/multiple_instances.html#discord-bots-and-asynchronous-environments for more info.\n",
            "\n",
            "WARNING:praw:It appears that you are using PRAW in an asynchronous environment.\n",
            "It is strongly recommended to use Async PRAW: https://asyncpraw.readthedocs.io.\n",
            "See https://praw.readthedocs.io/en/latest/getting_started/multiple_instances.html#discord-bots-and-asynchronous-environments for more info.\n",
            "\n"
          ]
        },
        {
          "output_type": "stream",
          "name": "stdout",
          "text": [
            "Fetched submission: The Salem Earrings (created: 2025-01-23 20:01:52)\n",
            "Fetched submission: I bumped into the one and only Mr. Ramsey (created: 2025-01-23 15:52:19)\n"
          ]
        },
        {
          "output_type": "stream",
          "name": "stderr",
          "text": [
            "WARNING:praw:It appears that you are using PRAW in an asynchronous environment.\n",
            "It is strongly recommended to use Async PRAW: https://asyncpraw.readthedocs.io.\n",
            "See https://praw.readthedocs.io/en/latest/getting_started/multiple_instances.html#discord-bots-and-asynchronous-environments for more info.\n",
            "\n"
          ]
        },
        {
          "output_type": "stream",
          "name": "stdout",
          "text": [
            "Fetched submission: I watched the \"Honest Holiday Car Commercial\" video from Rooster Teeth on YouTube and I saw an Airblown Inflatable cameo in the background (created: 2025-01-22 02:56:43)\n"
          ]
        },
        {
          "output_type": "stream",
          "name": "stderr",
          "text": [
            "WARNING:praw:It appears that you are using PRAW in an asynchronous environment.\n",
            "It is strongly recommended to use Async PRAW: https://asyncpraw.readthedocs.io.\n",
            "See https://praw.readthedocs.io/en/latest/getting_started/multiple_instances.html#discord-bots-and-asynchronous-environments for more info.\n",
            "\n"
          ]
        },
        {
          "output_type": "stream",
          "name": "stdout",
          "text": [
            "Fetched submission: Loser team (created: 2025-01-22 02:46:05)\n"
          ]
        },
        {
          "output_type": "stream",
          "name": "stderr",
          "text": [
            "WARNING:praw:It appears that you are using PRAW in an asynchronous environment.\n",
            "It is strongly recommended to use Async PRAW: https://asyncpraw.readthedocs.io.\n",
            "See https://praw.readthedocs.io/en/latest/getting_started/multiple_instances.html#discord-bots-and-asynchronous-environments for more info.\n",
            "\n",
            "WARNING:praw:It appears that you are using PRAW in an asynchronous environment.\n",
            "It is strongly recommended to use Async PRAW: https://asyncpraw.readthedocs.io.\n",
            "See https://praw.readthedocs.io/en/latest/getting_started/multiple_instances.html#discord-bots-and-asynchronous-environments for more info.\n",
            "\n"
          ]
        },
        {
          "output_type": "stream",
          "name": "stdout",
          "text": [
            "Fetched submission: What better way to use a Roosterteeth scarf than when it snows in Florida. (created: 2025-01-21 23:32:41)\n",
            "Fetched submission: Howdy Campers! Here's another scan for your from the RT Box. (created: 2025-01-21 22:49:38)\n"
          ]
        },
        {
          "output_type": "stream",
          "name": "stderr",
          "text": [
            "WARNING:praw:It appears that you are using PRAW in an asynchronous environment.\n",
            "It is strongly recommended to use Async PRAW: https://asyncpraw.readthedocs.io.\n",
            "See https://praw.readthedocs.io/en/latest/getting_started/multiple_instances.html#discord-bots-and-asynchronous-environments for more info.\n",
            "\n"
          ]
        },
        {
          "output_type": "stream",
          "name": "stdout",
          "text": [
            "Fetched submission: Day Five (created: 2025-01-21 19:40:30)\n"
          ]
        },
        {
          "output_type": "stream",
          "name": "stderr",
          "text": [
            "WARNING:praw:It appears that you are using PRAW in an asynchronous environment.\n",
            "It is strongly recommended to use Async PRAW: https://asyncpraw.readthedocs.io.\n",
            "See https://praw.readthedocs.io/en/latest/getting_started/multiple_instances.html#discord-bots-and-asynchronous-environments for more info.\n",
            "\n",
            "WARNING:praw:It appears that you are using PRAW in an asynchronous environment.\n",
            "It is strongly recommended to use Async PRAW: https://asyncpraw.readthedocs.io.\n",
            "See https://praw.readthedocs.io/en/latest/getting_started/multiple_instances.html#discord-bots-and-asynchronous-environments for more info.\n",
            "\n"
          ]
        },
        {
          "output_type": "stream",
          "name": "stdout",
          "text": [
            "Fetched submission: Throwback to Lets Play Live New York City 2016, specifically this segment by Cow Chop, for no reason. (created: 2025-01-21 06:18:44)\n",
            "Fetched submission: It's snowing in south Louisiana (created: 2025-01-21 18:12:32)\n"
          ]
        },
        {
          "output_type": "stream",
          "name": "stderr",
          "text": [
            "WARNING:praw:It appears that you are using PRAW in an asynchronous environment.\n",
            "It is strongly recommended to use Async PRAW: https://asyncpraw.readthedocs.io.\n",
            "See https://praw.readthedocs.io/en/latest/getting_started/multiple_instances.html#discord-bots-and-asynchronous-environments for more info.\n",
            "\n"
          ]
        },
        {
          "output_type": "stream",
          "name": "stdout",
          "text": [
            "Fetched submission: Thought you guys might enjoy these. I scanned some RT Postcards for posterity. (created: 2025-01-21 01:13:00)\n",
            "Fetched submission: Grand Theft Hamlet (created: 2025-01-20 20:35:15)\n"
          ]
        },
        {
          "output_type": "stream",
          "name": "stderr",
          "text": [
            "WARNING:praw:It appears that you are using PRAW in an asynchronous environment.\n",
            "It is strongly recommended to use Async PRAW: https://asyncpraw.readthedocs.io.\n",
            "See https://praw.readthedocs.io/en/latest/getting_started/multiple_instances.html#discord-bots-and-asynchronous-environments for more info.\n",
            "\n",
            "WARNING:praw:It appears that you are using PRAW in an asynchronous environment.\n",
            "It is strongly recommended to use Async PRAW: https://asyncpraw.readthedocs.io.\n",
            "See https://praw.readthedocs.io/en/latest/getting_started/multiple_instances.html#discord-bots-and-asynchronous-environments for more info.\n",
            "\n"
          ]
        },
        {
          "output_type": "stream",
          "name": "stdout",
          "text": [
            "Fetched submission: Custom Funko Pop of Weiss Schnee.  (created: 2025-01-20 01:02:52)\n"
          ]
        },
        {
          "output_type": "stream",
          "name": "stderr",
          "text": [
            "WARNING:praw:It appears that you are using PRAW in an asynchronous environment.\n",
            "It is strongly recommended to use Async PRAW: https://asyncpraw.readthedocs.io.\n",
            "See https://praw.readthedocs.io/en/latest/getting_started/multiple_instances.html#discord-bots-and-asynchronous-environments for more info.\n",
            "\n"
          ]
        },
        {
          "output_type": "stream",
          "name": "stdout",
          "text": [
            "Fetched submission: Found this at the bottom of a box in my closet (created: 2025-01-19 21:45:07)\n"
          ]
        },
        {
          "output_type": "stream",
          "name": "stderr",
          "text": [
            "WARNING:praw:It appears that you are using PRAW in an asynchronous environment.\n",
            "It is strongly recommended to use Async PRAW: https://asyncpraw.readthedocs.io.\n",
            "See https://praw.readthedocs.io/en/latest/getting_started/multiple_instances.html#discord-bots-and-asynchronous-environments for more info.\n",
            "\n"
          ]
        },
        {
          "output_type": "stream",
          "name": "stdout",
          "text": [
            "Fetched submission: It's ok TikTok, you're in good company 💔 (created: 2025-01-18 22:42:31)\n"
          ]
        },
        {
          "output_type": "stream",
          "name": "stderr",
          "text": [
            "WARNING:praw:It appears that you are using PRAW in an asynchronous environment.\n",
            "It is strongly recommended to use Async PRAW: https://asyncpraw.readthedocs.io.\n",
            "See https://praw.readthedocs.io/en/latest/getting_started/multiple_instances.html#discord-bots-and-asynchronous-environments for more info.\n",
            "\n"
          ]
        },
        {
          "output_type": "stream",
          "name": "stdout",
          "text": [
            "Fetched submission: Happy Birthday Chris Demarais and Emmy Nominated Burnie Burns (created: 2025-01-18 08:52:11)\n"
          ]
        },
        {
          "output_type": "stream",
          "name": "stderr",
          "text": [
            "WARNING:praw:It appears that you are using PRAW in an asynchronous environment.\n",
            "It is strongly recommended to use Async PRAW: https://asyncpraw.readthedocs.io.\n",
            "See https://praw.readthedocs.io/en/latest/getting_started/multiple_instances.html#discord-bots-and-asynchronous-environments for more info.\n",
            "\n"
          ]
        },
        {
          "output_type": "stream",
          "name": "stdout",
          "text": [
            "Fetched submission: If you had to describe the studio’s purpose, how would you best explain it? (created: 2025-01-18 07:15:35)\n"
          ]
        },
        {
          "output_type": "stream",
          "name": "stderr",
          "text": [
            "WARNING:praw:It appears that you are using PRAW in an asynchronous environment.\n",
            "It is strongly recommended to use Async PRAW: https://asyncpraw.readthedocs.io.\n",
            "See https://praw.readthedocs.io/en/latest/getting_started/multiple_instances.html#discord-bots-and-asynchronous-environments for more info.\n",
            "\n",
            "WARNING:praw:It appears that you are using PRAW in an asynchronous environment.\n",
            "It is strongly recommended to use Async PRAW: https://asyncpraw.readthedocs.io.\n",
            "See https://praw.readthedocs.io/en/latest/getting_started/multiple_instances.html#discord-bots-and-asynchronous-environments for more info.\n",
            "\n"
          ]
        },
        {
          "output_type": "stream",
          "name": "stdout",
          "text": [
            "Fetched submission: RTAA & Source (Classic) - The Edamame Power Play (created: 2025-01-18 02:53:37)\n",
            "Fetched submission: Do the RT Podcast link dumps still exist anywhere? (created: 2025-01-17 19:57:13)\n"
          ]
        },
        {
          "output_type": "stream",
          "name": "stderr",
          "text": [
            "WARNING:praw:It appears that you are using PRAW in an asynchronous environment.\n",
            "It is strongly recommended to use Async PRAW: https://asyncpraw.readthedocs.io.\n",
            "See https://praw.readthedocs.io/en/latest/getting_started/multiple_instances.html#discord-bots-and-asynchronous-environments for more info.\n",
            "\n",
            "WARNING:praw:It appears that you are using PRAW in an asynchronous environment.\n",
            "It is strongly recommended to use Async PRAW: https://asyncpraw.readthedocs.io.\n",
            "See https://praw.readthedocs.io/en/latest/getting_started/multiple_instances.html#discord-bots-and-asynchronous-environments for more info.\n",
            "\n"
          ]
        },
        {
          "output_type": "stream",
          "name": "stdout",
          "text": [
            "Fetched submission: Burnie Burns shoutout in Helluva Boss? (created: 2025-01-17 07:02:29)\n",
            "Fetched submission: Michael quote question (created: 2025-01-17 06:49:55)\n"
          ]
        },
        {
          "output_type": "stream",
          "name": "stderr",
          "text": [
            "WARNING:praw:It appears that you are using PRAW in an asynchronous environment.\n",
            "It is strongly recommended to use Async PRAW: https://asyncpraw.readthedocs.io.\n",
            "See https://praw.readthedocs.io/en/latest/getting_started/multiple_instances.html#discord-bots-and-asynchronous-environments for more info.\n",
            "\n"
          ]
        },
        {
          "output_type": "stream",
          "name": "stdout",
          "text": [
            "Fetched submission: Geoff reprised his role as Grif for a call in to EZ Does It Radio, an in-universe radio station for the CRASH machinima series (created: 2025-01-16 20:37:55)\n"
          ]
        },
        {
          "output_type": "stream",
          "name": "stderr",
          "text": [
            "WARNING:praw:It appears that you are using PRAW in an asynchronous environment.\n",
            "It is strongly recommended to use Async PRAW: https://asyncpraw.readthedocs.io.\n",
            "See https://praw.readthedocs.io/en/latest/getting_started/multiple_instances.html#discord-bots-and-asynchronous-environments for more info.\n",
            "\n"
          ]
        },
        {
          "output_type": "stream",
          "name": "stdout",
          "text": [
            "Fetched submission: I miss ANMA :/ (created: 2025-01-16 17:43:46)\n"
          ]
        },
        {
          "output_type": "stream",
          "name": "stderr",
          "text": [
            "WARNING:praw:It appears that you are using PRAW in an asynchronous environment.\n",
            "It is strongly recommended to use Async PRAW: https://asyncpraw.readthedocs.io.\n",
            "See https://praw.readthedocs.io/en/latest/getting_started/multiple_instances.html#discord-bots-and-asynchronous-environments for more info.\n",
            "\n"
          ]
        },
        {
          "output_type": "stream",
          "name": "stdout",
          "text": [
            "Fetched submission: Are they slowly deleting the catalogue? Or did they delete all the stuff after Time Warner (AT&T) bought the company?  (created: 2025-01-16 06:41:42)\n"
          ]
        },
        {
          "output_type": "stream",
          "name": "stderr",
          "text": [
            "WARNING:praw:It appears that you are using PRAW in an asynchronous environment.\n",
            "It is strongly recommended to use Async PRAW: https://asyncpraw.readthedocs.io.\n",
            "See https://praw.readthedocs.io/en/latest/getting_started/multiple_instances.html#discord-bots-and-asynchronous-environments for more info.\n",
            "\n",
            "WARNING:praw:It appears that you are using PRAW in an asynchronous environment.\n",
            "It is strongly recommended to use Async PRAW: https://asyncpraw.readthedocs.io.\n",
            "See https://praw.readthedocs.io/en/latest/getting_started/multiple_instances.html#discord-bots-and-asynchronous-environments for more info.\n",
            "\n"
          ]
        },
        {
          "output_type": "stream",
          "name": "stdout",
          "text": [
            "Fetched submission: Best & Worst Podcast Thumbnails (created: 2025-01-16 05:11:02)\n",
            "Fetched submission: I guess my History Professor is a RT Fan? (created: 2025-01-15 19:24:02)\n"
          ]
        },
        {
          "output_type": "stream",
          "name": "stderr",
          "text": [
            "WARNING:praw:It appears that you are using PRAW in an asynchronous environment.\n",
            "It is strongly recommended to use Async PRAW: https://asyncpraw.readthedocs.io.\n",
            "See https://praw.readthedocs.io/en/latest/getting_started/multiple_instances.html#discord-bots-and-asynchronous-environments for more info.\n",
            "\n"
          ]
        },
        {
          "output_type": "stream",
          "name": "stdout",
          "text": [
            "Fetched submission: Any interest in Cowchop merch? (created: 2025-01-15 15:08:33)\n"
          ]
        },
        {
          "output_type": "stream",
          "name": "stderr",
          "text": [
            "WARNING:praw:It appears that you are using PRAW in an asynchronous environment.\n",
            "It is strongly recommended to use Async PRAW: https://asyncpraw.readthedocs.io.\n",
            "See https://praw.readthedocs.io/en/latest/getting_started/multiple_instances.html#discord-bots-and-asynchronous-environments for more info.\n",
            "\n"
          ]
        },
        {
          "output_type": "stream",
          "name": "stdout",
          "text": [
            "Fetched submission: Imagine showing this Gus he was in Squad Team Force go to 17:00 (created: 2025-01-14 20:33:37)\n"
          ]
        },
        {
          "output_type": "stream",
          "name": "stderr",
          "text": [
            "WARNING:praw:It appears that you are using PRAW in an asynchronous environment.\n",
            "It is strongly recommended to use Async PRAW: https://asyncpraw.readthedocs.io.\n",
            "See https://praw.readthedocs.io/en/latest/getting_started/multiple_instances.html#discord-bots-and-asynchronous-environments for more info.\n",
            "\n"
          ]
        },
        {
          "output_type": "stream",
          "name": "stdout",
          "text": [
            "Fetched submission: Confused don't hate me  (created: 2025-01-14 16:56:48)\n"
          ]
        },
        {
          "output_type": "stream",
          "name": "stderr",
          "text": [
            "WARNING:praw:It appears that you are using PRAW in an asynchronous environment.\n",
            "It is strongly recommended to use Async PRAW: https://asyncpraw.readthedocs.io.\n",
            "See https://praw.readthedocs.io/en/latest/getting_started/multiple_instances.html#discord-bots-and-asynchronous-environments for more info.\n",
            "\n",
            "WARNING:praw:It appears that you are using PRAW in an asynchronous environment.\n",
            "It is strongly recommended to use Async PRAW: https://asyncpraw.readthedocs.io.\n",
            "See https://praw.readthedocs.io/en/latest/getting_started/multiple_instances.html#discord-bots-and-asynchronous-environments for more info.\n",
            "\n"
          ]
        },
        {
          "output_type": "stream",
          "name": "stdout",
          "text": [
            "Fetched submission: Found this beanie while packing! 💚🖤 (created: 2025-01-14 16:38:56)\n",
            "Fetched submission: Remnants of the past… (created: 2025-01-14 16:30:55)\n"
          ]
        },
        {
          "output_type": "stream",
          "name": "stderr",
          "text": [
            "WARNING:praw:It appears that you are using PRAW in an asynchronous environment.\n",
            "It is strongly recommended to use Async PRAW: https://asyncpraw.readthedocs.io.\n",
            "See https://praw.readthedocs.io/en/latest/getting_started/multiple_instances.html#discord-bots-and-asynchronous-environments for more info.\n",
            "\n"
          ]
        },
        {
          "output_type": "stream",
          "name": "stdout",
          "text": [
            "Fetched submission: The Ocarina of Time randomizer is so good.  (created: 2025-01-14 01:31:45)\n"
          ]
        },
        {
          "output_type": "stream",
          "name": "stderr",
          "text": [
            "WARNING:praw:It appears that you are using PRAW in an asynchronous environment.\n",
            "It is strongly recommended to use Async PRAW: https://asyncpraw.readthedocs.io.\n",
            "See https://praw.readthedocs.io/en/latest/getting_started/multiple_instances.html#discord-bots-and-asynchronous-environments for more info.\n",
            "\n",
            "WARNING:praw:It appears that you are using PRAW in an asynchronous environment.\n",
            "It is strongly recommended to use Async PRAW: https://asyncpraw.readthedocs.io.\n",
            "See https://praw.readthedocs.io/en/latest/getting_started/multiple_instances.html#discord-bots-and-asynchronous-environments for more info.\n",
            "\n"
          ]
        },
        {
          "output_type": "stream",
          "name": "stdout",
          "text": [
            "Fetched submission: Custom Funko Pop of Yang Xiaolong.  (created: 2025-01-13 21:36:26)\n",
            "Fetched submission: What's the ideal possible future for Camp Camp?\n",
            " (created: 2025-01-13 21:34:34)\n"
          ]
        },
        {
          "output_type": "stream",
          "name": "stderr",
          "text": [
            "WARNING:praw:It appears that you are using PRAW in an asynchronous environment.\n",
            "It is strongly recommended to use Async PRAW: https://asyncpraw.readthedocs.io.\n",
            "See https://praw.readthedocs.io/en/latest/getting_started/multiple_instances.html#discord-bots-and-asynchronous-environments for more info.\n",
            "\n",
            "WARNING:praw:It appears that you are using PRAW in an asynchronous environment.\n",
            "It is strongly recommended to use Async PRAW: https://asyncpraw.readthedocs.io.\n",
            "See https://praw.readthedocs.io/en/latest/getting_started/multiple_instances.html#discord-bots-and-asynchronous-environments for more info.\n",
            "\n"
          ]
        },
        {
          "output_type": "stream",
          "name": "stdout",
          "text": [
            "Fetched submission: Custom Funko Pops of Blake Belladonna. (created: 2025-01-13 21:33:41)\n",
            "Fetched submission: There are days where I wonder what various achievement hunter panel folk are doing nowadays. (created: 2025-01-13 14:59:51)\n"
          ]
        },
        {
          "output_type": "stream",
          "name": "stderr",
          "text": [
            "WARNING:praw:It appears that you are using PRAW in an asynchronous environment.\n",
            "It is strongly recommended to use Async PRAW: https://asyncpraw.readthedocs.io.\n",
            "See https://praw.readthedocs.io/en/latest/getting_started/multiple_instances.html#discord-bots-and-asynchronous-environments for more info.\n",
            "\n"
          ]
        },
        {
          "output_type": "stream",
          "name": "stdout",
          "text": [
            "Fetched submission: Seeking an ancient Ray sound bite (created: 2025-01-13 02:13:35)\n"
          ]
        },
        {
          "output_type": "stream",
          "name": "stderr",
          "text": [
            "WARNING:praw:It appears that you are using PRAW in an asynchronous environment.\n",
            "It is strongly recommended to use Async PRAW: https://asyncpraw.readthedocs.io.\n",
            "See https://praw.readthedocs.io/en/latest/getting_started/multiple_instances.html#discord-bots-and-asynchronous-environments for more info.\n",
            "\n",
            "WARNING:praw:It appears that you are using PRAW in an asynchronous environment.\n",
            "It is strongly recommended to use Async PRAW: https://asyncpraw.readthedocs.io.\n",
            "See https://praw.readthedocs.io/en/latest/getting_started/multiple_instances.html#discord-bots-and-asynchronous-environments for more info.\n",
            "\n"
          ]
        },
        {
          "output_type": "stream",
          "name": "stdout",
          "text": [
            "Fetched submission: Trying to find a video involving miles luna  (created: 2025-01-12 01:52:29)\n",
            "Fetched submission: Closet cleaning (created: 2025-01-11 16:33:35)\n"
          ]
        },
        {
          "output_type": "stream",
          "name": "stderr",
          "text": [
            "WARNING:praw:It appears that you are using PRAW in an asynchronous environment.\n",
            "It is strongly recommended to use Async PRAW: https://asyncpraw.readthedocs.io.\n",
            "See https://praw.readthedocs.io/en/latest/getting_started/multiple_instances.html#discord-bots-and-asynchronous-environments for more info.\n",
            "\n",
            "WARNING:praw:It appears that you are using PRAW in an asynchronous environment.\n",
            "It is strongly recommended to use Async PRAW: https://asyncpraw.readthedocs.io.\n",
            "See https://praw.readthedocs.io/en/latest/getting_started/multiple_instances.html#discord-bots-and-asynchronous-environments for more info.\n",
            "\n"
          ]
        },
        {
          "output_type": "stream",
          "name": "stdout",
          "text": [
            "Fetched submission: Beware of a scammer spotted in your sub! (created: 2025-01-11 08:48:37)\n",
            "Fetched submission: The old mural from studio 636 can be seen in the new Slow Mo Guys video (created: 2025-01-11 06:13:50)\n"
          ]
        },
        {
          "output_type": "stream",
          "name": "stderr",
          "text": [
            "WARNING:praw:It appears that you are using PRAW in an asynchronous environment.\n",
            "It is strongly recommended to use Async PRAW: https://asyncpraw.readthedocs.io.\n",
            "See https://praw.readthedocs.io/en/latest/getting_started/multiple_instances.html#discord-bots-and-asynchronous-environments for more info.\n",
            "\n",
            "WARNING:praw:It appears that you are using PRAW in an asynchronous environment.\n",
            "It is strongly recommended to use Async PRAW: https://asyncpraw.readthedocs.io.\n",
            "See https://praw.readthedocs.io/en/latest/getting_started/multiple_instances.html#discord-bots-and-asynchronous-environments for more info.\n",
            "\n"
          ]
        },
        {
          "output_type": "stream",
          "name": "stdout",
          "text": [
            "Fetched submission: RTAA & Source (Classic) - Chris Cooks Fish (created: 2025-01-10 17:08:57)\n",
            "Fetched submission: Came for a video about Irish people trying burgers. Found a Funhaus fan. (created: 2025-01-10 08:19:04)\n"
          ]
        },
        {
          "output_type": "stream",
          "name": "stderr",
          "text": [
            "WARNING:praw:It appears that you are using PRAW in an asynchronous environment.\n",
            "It is strongly recommended to use Async PRAW: https://asyncpraw.readthedocs.io.\n",
            "See https://praw.readthedocs.io/en/latest/getting_started/multiple_instances.html#discord-bots-and-asynchronous-environments for more info.\n",
            "\n"
          ]
        },
        {
          "output_type": "stream",
          "name": "stdout",
          "text": [
            "Fetched submission: What happened on the Achievement Hunter channel? (created: 2025-01-10 01:53:07)\n"
          ]
        },
        {
          "output_type": "stream",
          "name": "stderr",
          "text": [
            "WARNING:praw:It appears that you are using PRAW in an asynchronous environment.\n",
            "It is strongly recommended to use Async PRAW: https://asyncpraw.readthedocs.io.\n",
            "See https://praw.readthedocs.io/en/latest/getting_started/multiple_instances.html#discord-bots-and-asynchronous-environments for more info.\n",
            "\n",
            "WARNING:praw:It appears that you are using PRAW in an asynchronous environment.\n",
            "It is strongly recommended to use Async PRAW: https://asyncpraw.readthedocs.io.\n",
            "See https://praw.readthedocs.io/en/latest/getting_started/multiple_instances.html#discord-bots-and-asynchronous-environments for more info.\n",
            "\n"
          ]
        },
        {
          "output_type": "stream",
          "name": "stdout",
          "text": [
            "Fetched submission: LIFETIME Sponsorship? (created: 2025-01-09 23:22:08)\n"
          ]
        },
        {
          "output_type": "stream",
          "name": "stderr",
          "text": [
            "WARNING:praw:It appears that you are using PRAW in an asynchronous environment.\n",
            "It is strongly recommended to use Async PRAW: https://asyncpraw.readthedocs.io.\n",
            "See https://praw.readthedocs.io/en/latest/getting_started/multiple_instances.html#discord-bots-and-asynchronous-environments for more info.\n",
            "\n"
          ]
        },
        {
          "output_type": "stream",
          "name": "stdout",
          "text": [
            "Fetched submission: Vsauce talking about a classic RT/AH argument (the coin debate) (created: 2025-01-09 02:06:51)\n"
          ]
        },
        {
          "output_type": "stream",
          "name": "stderr",
          "text": [
            "WARNING:praw:It appears that you are using PRAW in an asynchronous environment.\n",
            "It is strongly recommended to use Async PRAW: https://asyncpraw.readthedocs.io.\n",
            "See https://praw.readthedocs.io/en/latest/getting_started/multiple_instances.html#discord-bots-and-asynchronous-environments for more info.\n",
            "\n"
          ]
        },
        {
          "output_type": "stream",
          "name": "stdout",
          "text": [
            "Fetched submission: Jon Favreau on a podcast?? (created: 2025-01-08 20:19:38)\n"
          ]
        },
        {
          "output_type": "stream",
          "name": "stderr",
          "text": [
            "WARNING:praw:It appears that you are using PRAW in an asynchronous environment.\n",
            "It is strongly recommended to use Async PRAW: https://asyncpraw.readthedocs.io.\n",
            "See https://praw.readthedocs.io/en/latest/getting_started/multiple_instances.html#discord-bots-and-asynchronous-environments for more info.\n",
            "\n",
            "WARNING:praw:It appears that you are using PRAW in an asynchronous environment.\n",
            "It is strongly recommended to use Async PRAW: https://asyncpraw.readthedocs.io.\n",
            "See https://praw.readthedocs.io/en/latest/getting_started/multiple_instances.html#discord-bots-and-asynchronous-environments for more info.\n",
            "\n"
          ]
        },
        {
          "output_type": "stream",
          "name": "stdout",
          "text": [
            "Fetched submission: Geoff is streaming right now (created: 2025-01-08 22:52:10)\n",
            "Fetched submission: Backwardz Compatible Miles and Kyle - The Cabin Factory (created: 2025-01-07 23:16:50)\n"
          ]
        },
        {
          "output_type": "stream",
          "name": "stderr",
          "text": [
            "WARNING:praw:It appears that you are using PRAW in an asynchronous environment.\n",
            "It is strongly recommended to use Async PRAW: https://asyncpraw.readthedocs.io.\n",
            "See https://praw.readthedocs.io/en/latest/getting_started/multiple_instances.html#discord-bots-and-asynchronous-environments for more info.\n",
            "\n",
            "WARNING:praw:It appears that you are using PRAW in an asynchronous environment.\n",
            "It is strongly recommended to use Async PRAW: https://asyncpraw.readthedocs.io.\n",
            "See https://praw.readthedocs.io/en/latest/getting_started/multiple_instances.html#discord-bots-and-asynchronous-environments for more info.\n",
            "\n"
          ]
        },
        {
          "output_type": "stream",
          "name": "stdout",
          "text": [
            "Fetched submission: Survive Block Island S1: Where to watch? (created: 2025-01-07 11:50:09)\n",
            "Fetched submission: SoS (created: 2025-01-06 23:06:53)\n"
          ]
        },
        {
          "output_type": "stream",
          "name": "stderr",
          "text": [
            "WARNING:praw:It appears that you are using PRAW in an asynchronous environment.\n",
            "It is strongly recommended to use Async PRAW: https://asyncpraw.readthedocs.io.\n",
            "See https://praw.readthedocs.io/en/latest/getting_started/multiple_instances.html#discord-bots-and-asynchronous-environments for more info.\n",
            "\n",
            "WARNING:praw:It appears that you are using PRAW in an asynchronous environment.\n",
            "It is strongly recommended to use Async PRAW: https://asyncpraw.readthedocs.io.\n",
            "See https://praw.readthedocs.io/en/latest/getting_started/multiple_instances.html#discord-bots-and-asynchronous-environments for more info.\n",
            "\n"
          ]
        },
        {
          "output_type": "stream",
          "name": "stdout",
          "text": [
            "Fetched submission: This came up in my recs! Thought I'd share the funny. (created: 2025-01-06 07:40:48)\n",
            "Fetched submission: Turned up some treasure while rearranging  (created: 2025-01-06 04:03:13)\n"
          ]
        },
        {
          "output_type": "stream",
          "name": "stderr",
          "text": [
            "WARNING:praw:It appears that you are using PRAW in an asynchronous environment.\n",
            "It is strongly recommended to use Async PRAW: https://asyncpraw.readthedocs.io.\n",
            "See https://praw.readthedocs.io/en/latest/getting_started/multiple_instances.html#discord-bots-and-asynchronous-environments for more info.\n",
            "\n",
            "WARNING:praw:It appears that you are using PRAW in an asynchronous environment.\n",
            "It is strongly recommended to use Async PRAW: https://asyncpraw.readthedocs.io.\n",
            "See https://praw.readthedocs.io/en/latest/getting_started/multiple_instances.html#discord-bots-and-asynchronous-environments for more info.\n",
            "\n"
          ]
        },
        {
          "output_type": "stream",
          "name": "stdout",
          "text": [
            "Fetched submission: HomeBrew Austin 2025 (Community RTX) (created: 2025-01-05 22:40:25)\n",
            "Fetched submission: Imagine being able to accidentally call into the podcast in the early days of RT. 😆 Just a couple tweaks from War to Restaurant.  (created: 2025-01-05 19:16:48)\n"
          ]
        },
        {
          "output_type": "stream",
          "name": "stderr",
          "text": [
            "WARNING:praw:It appears that you are using PRAW in an asynchronous environment.\n",
            "It is strongly recommended to use Async PRAW: https://asyncpraw.readthedocs.io.\n",
            "See https://praw.readthedocs.io/en/latest/getting_started/multiple_instances.html#discord-bots-and-asynchronous-environments for more info.\n",
            "\n",
            "WARNING:praw:It appears that you are using PRAW in an asynchronous environment.\n",
            "It is strongly recommended to use Async PRAW: https://asyncpraw.readthedocs.io.\n",
            "See https://praw.readthedocs.io/en/latest/getting_started/multiple_instances.html#discord-bots-and-asynchronous-environments for more info.\n",
            "\n"
          ]
        },
        {
          "output_type": "stream",
          "name": "stdout",
          "text": [
            "Fetched submission: New RT Merch? (created: 2025-01-05 16:58:56)\n",
            "Fetched submission: Just wondering who’s signature is  (created: 2025-01-05 10:57:49)\n"
          ]
        },
        {
          "output_type": "stream",
          "name": "stderr",
          "text": [
            "WARNING:praw:It appears that you are using PRAW in an asynchronous environment.\n",
            "It is strongly recommended to use Async PRAW: https://asyncpraw.readthedocs.io.\n",
            "See https://praw.readthedocs.io/en/latest/getting_started/multiple_instances.html#discord-bots-and-asynchronous-environments for more info.\n",
            "\n",
            "WARNING:praw:It appears that you are using PRAW in an asynchronous environment.\n",
            "It is strongly recommended to use Async PRAW: https://asyncpraw.readthedocs.io.\n",
            "See https://praw.readthedocs.io/en/latest/getting_started/multiple_instances.html#discord-bots-and-asynchronous-environments for more info.\n",
            "\n"
          ]
        },
        {
          "output_type": "stream",
          "name": "stdout",
          "text": [
            "Fetched submission: Rage clips (created: 2025-01-05 04:22:42)\n",
            "Fetched submission: My house is RT branded (created: 2025-01-04 20:07:31)\n"
          ]
        },
        {
          "output_type": "stream",
          "name": "stderr",
          "text": [
            "WARNING:praw:It appears that you are using PRAW in an asynchronous environment.\n",
            "It is strongly recommended to use Async PRAW: https://asyncpraw.readthedocs.io.\n",
            "See https://praw.readthedocs.io/en/latest/getting_started/multiple_instances.html#discord-bots-and-asynchronous-environments for more info.\n",
            "\n",
            "WARNING:praw:It appears that you are using PRAW in an asynchronous environment.\n",
            "It is strongly recommended to use Async PRAW: https://asyncpraw.readthedocs.io.\n",
            "See https://praw.readthedocs.io/en/latest/getting_started/multiple_instances.html#discord-bots-and-asynchronous-environments for more info.\n",
            "\n"
          ]
        },
        {
          "output_type": "stream",
          "name": "stdout",
          "text": [
            "Fetched submission: tumblr way back when  (created: 2025-01-04 18:26:22)\n",
            "Fetched submission: Arryn's fundraising for her first album! Let's show her some support and help her reach her goal  (created: 2025-01-04 15:50:00)\n"
          ]
        },
        {
          "output_type": "stream",
          "name": "stderr",
          "text": [
            "WARNING:praw:It appears that you are using PRAW in an asynchronous environment.\n",
            "It is strongly recommended to use Async PRAW: https://asyncpraw.readthedocs.io.\n",
            "See https://praw.readthedocs.io/en/latest/getting_started/multiple_instances.html#discord-bots-and-asynchronous-environments for more info.\n",
            "\n"
          ]
        },
        {
          "output_type": "stream",
          "name": "stdout",
          "text": [
            "Fetched submission: Old but gold: help (created: 2025-01-04 13:58:50)\n"
          ]
        },
        {
          "output_type": "stream",
          "name": "stderr",
          "text": [
            "WARNING:praw:It appears that you are using PRAW in an asynchronous environment.\n",
            "It is strongly recommended to use Async PRAW: https://asyncpraw.readthedocs.io.\n",
            "See https://praw.readthedocs.io/en/latest/getting_started/multiple_instances.html#discord-bots-and-asynchronous-environments for more info.\n",
            "\n",
            "WARNING:praw:It appears that you are using PRAW in an asynchronous environment.\n",
            "It is strongly recommended to use Async PRAW: https://asyncpraw.readthedocs.io.\n",
            "See https://praw.readthedocs.io/en/latest/getting_started/multiple_instances.html#discord-bots-and-asynchronous-environments for more info.\n",
            "\n"
          ]
        },
        {
          "output_type": "stream",
          "name": "stdout",
          "text": [
            "Fetched submission: Joel Is talking about Finances on X Right now  (created: 2025-01-04 03:03:51)\n",
            "Fetched submission: Question about Gavin/ Slow Mo Guys (created: 2025-01-03 23:19:17)\n"
          ]
        },
        {
          "output_type": "stream",
          "name": "stderr",
          "text": [
            "WARNING:praw:It appears that you are using PRAW in an asynchronous environment.\n",
            "It is strongly recommended to use Async PRAW: https://asyncpraw.readthedocs.io.\n",
            "See https://praw.readthedocs.io/en/latest/getting_started/multiple_instances.html#discord-bots-and-asynchronous-environments for more info.\n",
            "\n"
          ]
        },
        {
          "output_type": "stream",
          "name": "stdout",
          "text": [
            "Fetched submission: Armando Torres as Blitzen is a highlight of the new season (created: 2025-01-03 18:17:47)\n"
          ]
        },
        {
          "output_type": "stream",
          "name": "stderr",
          "text": [
            "WARNING:praw:It appears that you are using PRAW in an asynchronous environment.\n",
            "It is strongly recommended to use Async PRAW: https://asyncpraw.readthedocs.io.\n",
            "See https://praw.readthedocs.io/en/latest/getting_started/multiple_instances.html#discord-bots-and-asynchronous-environments for more info.\n",
            "\n",
            "WARNING:praw:It appears that you are using PRAW in an asynchronous environment.\n",
            "It is strongly recommended to use Async PRAW: https://asyncpraw.readthedocs.io.\n",
            "See https://praw.readthedocs.io/en/latest/getting_started/multiple_instances.html#discord-bots-and-asynchronous-environments for more info.\n",
            "\n"
          ]
        },
        {
          "output_type": "stream",
          "name": "stdout",
          "text": [
            "Fetched submission: Happy New Year Rooster Teeth (created: 2025-01-03 05:06:51)\n",
            "Fetched submission: The Rooster Teeth holiday fireplace has been taken down from YouTube now, by me, \n",
            "I'll probably put it back up next Christmas. (created: 2025-01-03 01:02:14)\n"
          ]
        },
        {
          "output_type": "stream",
          "name": "stderr",
          "text": [
            "WARNING:praw:It appears that you are using PRAW in an asynchronous environment.\n",
            "It is strongly recommended to use Async PRAW: https://asyncpraw.readthedocs.io.\n",
            "See https://praw.readthedocs.io/en/latest/getting_started/multiple_instances.html#discord-bots-and-asynchronous-environments for more info.\n",
            "\n"
          ]
        },
        {
          "output_type": "stream",
          "name": "stdout",
          "text": [
            "Fetched submission: Selling some RT/Funhaus/Kinda Funny/Mega64 shirts that don't fit anymore (created: 2025-01-02 17:55:07)\n"
          ]
        },
        {
          "output_type": "stream",
          "name": "stderr",
          "text": [
            "WARNING:praw:It appears that you are using PRAW in an asynchronous environment.\n",
            "It is strongly recommended to use Async PRAW: https://asyncpraw.readthedocs.io.\n",
            "See https://praw.readthedocs.io/en/latest/getting_started/multiple_instances.html#discord-bots-and-asynchronous-environments for more info.\n",
            "\n"
          ]
        },
        {
          "output_type": "stream",
          "name": "stdout",
          "text": [
            "Fetched submission: Burnie Burns Interviews Adam Sandler for Happy Gilmore, asks if he's turning into a p*ssy for not being able beat up Bob Barker  (created: 2025-01-02 04:37:08)\n"
          ]
        },
        {
          "output_type": "stream",
          "name": "stderr",
          "text": [
            "WARNING:praw:It appears that you are using PRAW in an asynchronous environment.\n",
            "It is strongly recommended to use Async PRAW: https://asyncpraw.readthedocs.io.\n",
            "See https://praw.readthedocs.io/en/latest/getting_started/multiple_instances.html#discord-bots-and-asynchronous-environments for more info.\n",
            "\n",
            "WARNING:praw:It appears that you are using PRAW in an asynchronous environment.\n",
            "It is strongly recommended to use Async PRAW: https://asyncpraw.readthedocs.io.\n",
            "See https://praw.readthedocs.io/en/latest/getting_started/multiple_instances.html#discord-bots-and-asynchronous-environments for more info.\n",
            "\n"
          ]
        },
        {
          "output_type": "stream",
          "name": "stdout",
          "text": [
            "Fetched submission: Airports (created: 2025-01-01 23:00:02)\n",
            "Fetched submission: Old merch for grabs  (created: 2025-01-01 22:54:21)\n"
          ]
        },
        {
          "output_type": "stream",
          "name": "stderr",
          "text": [
            "WARNING:praw:It appears that you are using PRAW in an asynchronous environment.\n",
            "It is strongly recommended to use Async PRAW: https://asyncpraw.readthedocs.io.\n",
            "See https://praw.readthedocs.io/en/latest/getting_started/multiple_instances.html#discord-bots-and-asynchronous-environments for more info.\n",
            "\n",
            "WARNING:praw:It appears that you are using PRAW in an asynchronous environment.\n",
            "It is strongly recommended to use Async PRAW: https://asyncpraw.readthedocs.io.\n",
            "See https://praw.readthedocs.io/en/latest/getting_started/multiple_instances.html#discord-bots-and-asynchronous-environments for more info.\n",
            "\n"
          ]
        },
        {
          "output_type": "stream",
          "name": "stdout",
          "text": [
            "Fetched submission: RT Podcast Awards Archive (created: 2025-01-01 22:39:42)\n",
            "Fetched submission: I met Katie Folger from Day 5 (story) (created: 2025-01-01 17:33:52)\n"
          ]
        },
        {
          "output_type": "stream",
          "name": "stderr",
          "text": [
            "WARNING:praw:It appears that you are using PRAW in an asynchronous environment.\n",
            "It is strongly recommended to use Async PRAW: https://asyncpraw.readthedocs.io.\n",
            "See https://praw.readthedocs.io/en/latest/getting_started/multiple_instances.html#discord-bots-and-asynchronous-environments for more info.\n",
            "\n",
            "WARNING:praw:It appears that you are using PRAW in an asynchronous environment.\n",
            "It is strongly recommended to use Async PRAW: https://asyncpraw.readthedocs.io.\n",
            "See https://praw.readthedocs.io/en/latest/getting_started/multiple_instances.html#discord-bots-and-asynchronous-environments for more info.\n",
            "\n"
          ]
        },
        {
          "output_type": "stream",
          "name": "stdout",
          "text": [
            "Fetched submission: Randomly came across the lasagna debate from Podcast #635 in a completely unrelated video (created: 2025-01-01 03:09:39)\n",
            "Fetched submission: RT/AH Hats (created: 2025-01-01 00:49:53)\n"
          ]
        },
        {
          "output_type": "stream",
          "name": "stderr",
          "text": [
            "WARNING:praw:It appears that you are using PRAW in an asynchronous environment.\n",
            "It is strongly recommended to use Async PRAW: https://asyncpraw.readthedocs.io.\n",
            "See https://praw.readthedocs.io/en/latest/getting_started/multiple_instances.html#discord-bots-and-asynchronous-environments for more info.\n",
            "\n",
            "WARNING:praw:It appears that you are using PRAW in an asynchronous environment.\n",
            "It is strongly recommended to use Async PRAW: https://asyncpraw.readthedocs.io.\n",
            "See https://praw.readthedocs.io/en/latest/getting_started/multiple_instances.html#discord-bots-and-asynchronous-environments for more info.\n",
            "\n",
            "WARNING:praw:It appears that you are using PRAW in an asynchronous environment.\n",
            "It is strongly recommended to use Async PRAW: https://asyncpraw.readthedocs.io.\n",
            "See https://praw.readthedocs.io/en/latest/getting_started/multiple_instances.html#discord-bots-and-asynchronous-environments for more info.\n",
            "\n",
            "WARNING:praw:It appears that you are using PRAW in an asynchronous environment.\n",
            "It is strongly recommended to use Async PRAW: https://asyncpraw.readthedocs.io.\n",
            "See https://praw.readthedocs.io/en/latest/getting_started/multiple_instances.html#discord-bots-and-asynchronous-environments for more info.\n",
            "\n",
            "WARNING:praw:It appears that you are using PRAW in an asynchronous environment.\n",
            "It is strongly recommended to use Async PRAW: https://asyncpraw.readthedocs.io.\n",
            "See https://praw.readthedocs.io/en/latest/getting_started/multiple_instances.html#discord-bots-and-asynchronous-environments for more info.\n",
            "\n"
          ]
        },
        {
          "output_type": "stream",
          "name": "stdout",
          "text": [
            "Data saved to roosterteeth_data_2025_Jan_to_Mar.csv\n"
          ]
        }
      ]
    },
    {
      "cell_type": "code",
      "source": [
        "import os\n",
        "print(os.getcwd())"
      ],
      "metadata": {
        "colab": {
          "base_uri": "https://localhost:8080/"
        },
        "id": "kCR54a0706lI",
        "outputId": "12b5efd1-336d-4e7f-bdaf-945c123f4683"
      },
      "execution_count": null,
      "outputs": [
        {
          "output_type": "stream",
          "name": "stdout",
          "text": [
            "/content\n"
          ]
        }
      ]
    },
    {
      "cell_type": "code",
      "source": [
        "import os\n",
        "for root, dirs, files in os.walk(os.getcwd()):\n",
        "    if \"roosterteeth_data_2025_Jan_to_Mar.csv\" in files:\n",
        "        print(f\"File found at: {os.path.join(root, 'roosterteeth_data_2025_Jan_to_Mar.csv')}\")\n",
        "        break\n",
        "else:\n",
        "    print(\"File not found.\")"
      ],
      "metadata": {
        "id": "bdOKAuYn24D6",
        "outputId": "913fc555-d8ed-4be6-9e6a-3c8412ef894a",
        "colab": {
          "base_uri": "https://localhost:8080/"
        }
      },
      "execution_count": null,
      "outputs": [
        {
          "output_type": "stream",
          "name": "stdout",
          "text": [
            "File found at: /content/roosterteeth_data_2025_Jan_to_Mar.csv\n"
          ]
        }
      ]
    },
    {
      "cell_type": "code",
      "source": [
        "import logging\n",
        "\n",
        "# Suppress PRAW warnings\n",
        "logging.getLogger(\"praw\").setLevel(logging.ERROR)\n",
        "logging.getLogger(\"prawcore\").setLevel(logging.ERROR)"
      ],
      "metadata": {
        "id": "aJB1cjmqk5ak"
      },
      "execution_count": null,
      "outputs": []
    },
    {
      "cell_type": "code",
      "source": [
        "print(f\"Fetched submission: {submission.title} (created: {submission_created})\")"
      ],
      "metadata": {
        "id": "o7GQlvSck2HW",
        "colab": {
          "base_uri": "https://localhost:8080/",
          "height": 141
        },
        "outputId": "b4226dcf-b923-4c9f-ab1c-786f2954cb84"
      },
      "execution_count": null,
      "outputs": [
        {
          "output_type": "error",
          "ename": "NameError",
          "evalue": "name 'submission' is not defined",
          "traceback": [
            "\u001b[0;31m---------------------------------------------------------------------------\u001b[0m",
            "\u001b[0;31mNameError\u001b[0m                                 Traceback (most recent call last)",
            "\u001b[0;32m<ipython-input-2-e60dd231a22a>\u001b[0m in \u001b[0;36m<cell line: 0>\u001b[0;34m()\u001b[0m\n\u001b[0;32m----> 1\u001b[0;31m \u001b[0mprint\u001b[0m\u001b[0;34m(\u001b[0m\u001b[0;34mf\"Fetched submission: {submission.title} (created: {submission_created})\"\u001b[0m\u001b[0;34m)\u001b[0m\u001b[0;34m\u001b[0m\u001b[0;34m\u001b[0m\u001b[0m\n\u001b[0m",
            "\u001b[0;31mNameError\u001b[0m: name 'submission' is not defined"
          ]
        }
      ]
    },
    {
      "cell_type": "code",
      "source": [
        "!pip install praw"
      ],
      "metadata": {
        "colab": {
          "base_uri": "https://localhost:8080/"
        },
        "id": "S2Vjf63IlO-K",
        "outputId": "f14fdba9-d7d7-4266-9455-420d52bb8f10"
      },
      "execution_count": null,
      "outputs": [
        {
          "output_type": "stream",
          "name": "stdout",
          "text": [
            "Collecting praw\n",
            "  Downloading praw-7.8.1-py3-none-any.whl.metadata (9.4 kB)\n",
            "Collecting prawcore<3,>=2.4 (from praw)\n",
            "  Downloading prawcore-2.4.0-py3-none-any.whl.metadata (5.0 kB)\n",
            "Collecting update_checker>=0.18 (from praw)\n",
            "  Downloading update_checker-0.18.0-py3-none-any.whl.metadata (2.3 kB)\n",
            "Requirement already satisfied: websocket-client>=0.54.0 in /usr/local/lib/python3.11/dist-packages (from praw) (1.8.0)\n",
            "Requirement already satisfied: requests<3.0,>=2.6.0 in /usr/local/lib/python3.11/dist-packages (from prawcore<3,>=2.4->praw) (2.32.3)\n",
            "Requirement already satisfied: charset-normalizer<4,>=2 in /usr/local/lib/python3.11/dist-packages (from requests<3.0,>=2.6.0->prawcore<3,>=2.4->praw) (3.4.1)\n",
            "Requirement already satisfied: idna<4,>=2.5 in /usr/local/lib/python3.11/dist-packages (from requests<3.0,>=2.6.0->prawcore<3,>=2.4->praw) (3.10)\n",
            "Requirement already satisfied: urllib3<3,>=1.21.1 in /usr/local/lib/python3.11/dist-packages (from requests<3.0,>=2.6.0->prawcore<3,>=2.4->praw) (2.3.0)\n",
            "Requirement already satisfied: certifi>=2017.4.17 in /usr/local/lib/python3.11/dist-packages (from requests<3.0,>=2.6.0->prawcore<3,>=2.4->praw) (2025.1.31)\n",
            "Downloading praw-7.8.1-py3-none-any.whl (189 kB)\n",
            "\u001b[2K   \u001b[90m━━━━━━━━━━━━━━━━━━━━━━━━━━━━━━━━━━━━━━━━\u001b[0m \u001b[32m189.3/189.3 kB\u001b[0m \u001b[31m4.4 MB/s\u001b[0m eta \u001b[36m0:00:00\u001b[0m\n",
            "\u001b[?25hDownloading prawcore-2.4.0-py3-none-any.whl (17 kB)\n",
            "Downloading update_checker-0.18.0-py3-none-any.whl (7.0 kB)\n",
            "Installing collected packages: update_checker, prawcore, praw\n",
            "Successfully installed praw-7.8.1 prawcore-2.4.0 update_checker-0.18.0\n"
          ]
        }
      ]
    },
    {
      "cell_type": "code",
      "source": [
        "import praw\n",
        "print(praw.__version__)"
      ],
      "metadata": {
        "colab": {
          "base_uri": "https://localhost:8080/"
        },
        "id": "7fckx2sJlrFq",
        "outputId": "3ce0605a-9367-4e44-f4d3-2e668e51a3a7"
      },
      "execution_count": null,
      "outputs": [
        {
          "output_type": "stream",
          "name": "stdout",
          "text": [
            "7.8.1\n"
          ]
        }
      ]
    },
    {
      "cell_type": "code",
      "source": [
        "!pip install pandas nltk"
      ],
      "metadata": {
        "colab": {
          "base_uri": "https://localhost:8080/"
        },
        "id": "QE563yrjluQU",
        "outputId": "9f45bb1b-a864-44dd-f67e-be300508f9d5"
      },
      "execution_count": null,
      "outputs": [
        {
          "output_type": "stream",
          "name": "stdout",
          "text": [
            "Requirement already satisfied: pandas in /usr/local/lib/python3.11/dist-packages (2.2.2)\n",
            "Requirement already satisfied: nltk in /usr/local/lib/python3.11/dist-packages (3.9.1)\n",
            "Requirement already satisfied: numpy>=1.23.2 in /usr/local/lib/python3.11/dist-packages (from pandas) (2.0.2)\n",
            "Requirement already satisfied: python-dateutil>=2.8.2 in /usr/local/lib/python3.11/dist-packages (from pandas) (2.8.2)\n",
            "Requirement already satisfied: pytz>=2020.1 in /usr/local/lib/python3.11/dist-packages (from pandas) (2025.1)\n",
            "Requirement already satisfied: tzdata>=2022.7 in /usr/local/lib/python3.11/dist-packages (from pandas) (2025.1)\n",
            "Requirement already satisfied: click in /usr/local/lib/python3.11/dist-packages (from nltk) (8.1.8)\n",
            "Requirement already satisfied: joblib in /usr/local/lib/python3.11/dist-packages (from nltk) (1.4.2)\n",
            "Requirement already satisfied: regex>=2021.8.3 in /usr/local/lib/python3.11/dist-packages (from nltk) (2024.11.6)\n",
            "Requirement already satisfied: tqdm in /usr/local/lib/python3.11/dist-packages (from nltk) (4.67.1)\n",
            "Requirement already satisfied: six>=1.5 in /usr/local/lib/python3.11/dist-packages (from python-dateutil>=2.8.2->pandas) (1.17.0)\n"
          ]
        }
      ]
    },
    {
      "cell_type": "code",
      "source": [],
      "metadata": {
        "id": "amgBNv2fiTR5"
      },
      "execution_count": null,
      "outputs": []
    },
    {
      "cell_type": "code",
      "source": [],
      "metadata": {
        "id": "-EdpBMaFq0Kt"
      },
      "execution_count": null,
      "outputs": []
    },
    {
      "cell_type": "code",
      "source": [
        "import os\n",
        "\n",
        "# Set your Reddit API credentials as environment variables\n",
        "os.environ[\"REDDIT_CLIENT_ID\"] = \"WmREH0nLvamlBpQ4Bld3BA\"\n",
        "os.environ[\"REDDIT_CLIENT_SECRET\"] = \"1XHJjI-aaU0xYkWQZ7lDkoW239TNbA\"\n",
        "os.environ[\"REDDIT_USER_AGENT\"] = \"u/Fit_Menu8118\"\n",
        "os.environ[\"REDDIT_USERNAME\"] = \"Fit_Menu8118\"\n",
        "os.environ[\"REDDIT_PASSWORD\"] = \"Gotla@2277\""
      ],
      "metadata": {
        "id": "H86u9zN4q1dn"
      },
      "execution_count": null,
      "outputs": []
    },
    {
      "cell_type": "code",
      "source": [
        "import praw\n",
        "import pandas as pd\n",
        "from datetime import datetime\n",
        "from nltk.sentiment.vader import SentimentIntensityAnalyzer\n",
        "import nltk\n",
        "import os\n",
        "import logging  # Add this import\n",
        "\n",
        "# Suppress PRAW warnings\n",
        "logging.getLogger(\"praw\").setLevel(logging.ERROR)\n",
        "logging.getLogger(\"prawcore\").setLevel(logging.ERROR)\n",
        "\n",
        "# Download VADER lexicon for sentiment analysis\n",
        "nltk.download('vader_lexicon')\n",
        "sia = SentimentIntensityAnalyzer()\n",
        "\n",
        "# Set your Reddit API credentials as environment variables\n",
        "os.environ[\"REDDIT_CLIENT_ID\"] = \"WmREH0nLvamlBpQ4Bld3BA\"\n",
        "os.environ[\"REDDIT_CLIENT_SECRET\"] = \"1XHJjI-aaU0xYkWQZ7lDkoW239TNbA\"\n",
        "os.environ[\"REDDIT_USER_AGENT\"] = \"u/Fit_Menu8118\"\n",
        "os.environ[\"REDDIT_USERNAME\"] = \"Fit_Menu8118\"\n",
        "os.environ[\"REDDIT_PASSWORD\"] = \"Gotla@2277\"\n",
        "\n",
        "# Authenticate with Reddit API\n",
        "try:\n",
        "    reddit = praw.Reddit(\n",
        "        client_id=os.getenv(\"REDDIT_CLIENT_ID\"),          # Your Client ID\n",
        "        client_secret=os.getenv(\"REDDIT_CLIENT_SECRET\"),  # Your Client Secret\n",
        "        user_agent=os.getenv(\"REDDIT_USER_AGENT\"),       # Your User Agent\n",
        "        username=os.getenv(\"REDDIT_USERNAME\"),           # Your Reddit username\n",
        "        password=os.getenv(\"REDDIT_PASSWORD\")            # Your Reddit password\n",
        "    )\n",
        "    print(\"Authentication successful!\")\n",
        "    print(f\"Logged in as: {reddit.user.me()}\")  # Test authentication\n",
        "except Exception as e:\n",
        "    print(f\"Authentication failed: {e}\")\n",
        "    exit()\n",
        "\n",
        "# Define the date range\n",
        "start_date = datetime(2025, 1, 1, 0, 1)  # 00:01 on 1st January 2025\n",
        "end_date = datetime(2025, 3, 1, 0, 1)    # 00:01 on 1st March 2025\n",
        "\n",
        "# Function to gather data from a subreddit within the specified date range\n",
        "def gather_data(subreddit_name):\n",
        "    subreddit = reddit.subreddit(subreddit_name)\n",
        "    data = []\n",
        "\n",
        "    print(f\"Collecting data from r/{subreddit_name} between {start_date} and {end_date}...\")\n",
        "\n",
        "    try:\n",
        "        # Fetch new submissions\n",
        "        for submission in subreddit.new(limit=1000):  # Adjust limit as needed\n",
        "            submission_created = datetime.utcfromtimestamp(submission.created_utc)\n",
        "            if start_date <= submission_created <= end_date:\n",
        "                # Comment out or remove this line to suppress debugging output\n",
        "                # print(f\"Fetched submission: {submission.title} (created: {submission_created})\")\n",
        "                submission.comments.replace_more(limit=0)  # Load only top-level comments\n",
        "                for comment in submission.comments.list():\n",
        "                    comment_created = datetime.utcfromtimestamp(comment.created_utc)\n",
        "                    if start_date <= comment_created <= end_date:\n",
        "                        data.append({\n",
        "                            \"subreddit\": subreddit_name,\n",
        "                            \"submission_id\": submission.id,\n",
        "                            \"comment_id\": comment.id,\n",
        "                            \"parent_id\": comment.parent_id,\n",
        "                            \"source_author\": comment.author.name if comment.author else \"[deleted]\",\n",
        "                            \"text\": comment.body,\n",
        "                            \"title\": submission.title,\n",
        "                            \"post_author\": submission.author.name if submission.author else \"[deleted]\",\n",
        "                            \"post_score\": submission.score,\n",
        "                            \"comment_score\": comment.score,\n",
        "                            \"url\": f\"https://www.reddit.com{submission.permalink}\",\n",
        "                            \"created_utc\": comment_created.strftime('%Y-%m-%d %H:%M:%S'),\n",
        "                            \"sentiment_score\": round(sia.polarity_scores(comment.body)[\"compound\"], 2),\n",
        "                            \"target_author\": comment.parent().author.name if comment.parent().author else \"[deleted]\"\n",
        "                        })\n",
        "\n",
        "    except Exception as e:\n",
        "        print(f\"Error gathering data from r/{subreddit_name}: {e}\")\n",
        "\n",
        "    save_data(data, subreddit_name)\n",
        "\n",
        "# Function to save data to CSV\n",
        "def save_data(data, subreddit_name):\n",
        "    if not data:\n",
        "        print(f\"No data collected for {subreddit_name}\")\n",
        "        return\n",
        "\n",
        "    df = pd.DataFrame(data)\n",
        "    filename = f\"{subreddit_name}_data_2025_Jan_to_Mar.csv\"\n",
        "    df.to_csv(filename, index=False)\n",
        "    print(f\"Data saved to {filename}\")\n",
        "\n",
        "# Main function\n",
        "if __name__ == \"__main__\":\n",
        "    # Subreddit to scrape\n",
        "    subreddit_name = \"roosterteeth\"  # Replace with your target subreddit\n",
        "\n",
        "    # Start data collection\n",
        "    gather_data(subreddit_name)"
      ],
      "metadata": {
        "id": "kTIsYWP4qx5M",
        "colab": {
          "base_uri": "https://localhost:8080/"
        },
        "outputId": "128e8e52-b303-43c0-b555-f46e8a64a641"
      },
      "execution_count": null,
      "outputs": [
        {
          "output_type": "stream",
          "name": "stderr",
          "text": [
            "[nltk_data] Downloading package vader_lexicon to /root/nltk_data...\n",
            "[nltk_data]   Package vader_lexicon is already up-to-date!\n"
          ]
        },
        {
          "output_type": "stream",
          "name": "stdout",
          "text": [
            "Authentication successful!\n",
            "Logged in as: Fit_Menu8118\n",
            "Collecting data from r/roosterteeth between 2025-01-01 00:01:00 and 2025-03-01 00:01:00...\n",
            "Data saved to roosterteeth_data_2025_Jan_to_Mar.csv\n"
          ]
        }
      ]
    },
    {
      "cell_type": "code",
      "source": [
        "import praw\n",
        "import pandas as pd\n",
        "from datetime import datetime\n",
        "from nltk.sentiment.vader import SentimentIntensityAnalyzer\n",
        "import nltk\n",
        "import os\n",
        "import logging\n",
        "\n",
        "# Suppress PRAW warnings\n",
        "logging.getLogger(\"praw\").setLevel(logging.ERROR)\n",
        "logging.getLogger(\"prawcore\").setLevel(logging.ERROR)\n",
        "\n",
        "# Download VADER lexicon for sentiment analysis\n",
        "nltk.download('vader_lexicon')\n",
        "sia = SentimentIntensityAnalyzer()\n",
        "\n",
        "# Set your Reddit API credentials as environment variables\n",
        "os.environ[\"REDDIT_CLIENT_ID\"] = \"WmREH0nLvamlBpQ4Bld3BA\"\n",
        "os.environ[\"REDDIT_CLIENT_SECRET\"] = \"1XHJjI-aaU0xYkWQZ7lDkoW239TNbA\"\n",
        "os.environ[\"REDDIT_USER_AGENT\"] = \"u/Fit_Menu8118\"\n",
        "os.environ[\"REDDIT_USERNAME\"] = \"Fit_Menu8118\"\n",
        "os.environ[\"REDDIT_PASSWORD\"] = \"Gotla@2277\"\n",
        "\n",
        "# Authenticate with Reddit API\n",
        "try:\n",
        "    reddit = praw.Reddit(\n",
        "        client_id=os.getenv(\"REDDIT_CLIENT_ID\"),\n",
        "        client_secret=os.getenv(\"REDDIT_CLIENT_SECRET\"),\n",
        "        user_agent=os.getenv(\"REDDIT_USER_AGENT\"),\n",
        "        username=os.getenv(\"REDDIT_USERNAME\"),\n",
        "        password=os.getenv(\"REDDIT_PASSWORD\")\n",
        "    )\n",
        "    print(\"Authentication successful!\")\n",
        "    print(f\"Logged in as: {reddit.user.me()}\")\n",
        "except Exception as e:\n",
        "    print(f\"Authentication failed: {e}\")\n",
        "    exit()\n",
        "\n",
        "# Define the date range\n",
        "start_date = datetime(2025, 1, 1, 0, 1)\n",
        "end_date = datetime(2025, 3, 1, 0, 1)\n",
        "\n",
        "def clean_parent_id(parent_id):\n",
        "    \"\"\"Extract just the ID part from parent_id (removes t1_, t3_ prefixes)\"\"\"\n",
        "    if isinstance(parent_id, str) and '_' in parent_id:\n",
        "        return parent_id.split('_')[1]\n",
        "    return parent_id\n",
        "\n",
        "def gather_data(subreddit_name):\n",
        "    subreddit = reddit.subreddit(subreddit_name)\n",
        "    data = []\n",
        "\n",
        "    print(f\"Collecting data from r/{subreddit_name} between {start_date} and {end_date}...\")\n",
        "\n",
        "    try:\n",
        "        for submission in subreddit.new(limit=1000):\n",
        "            submission_created = datetime.utcfromtimestamp(submission.created_utc)\n",
        "            if start_date <= submission_created <= end_date:\n",
        "                submission.comments.replace_more(limit=0)\n",
        "                for comment in submission.comments.list():\n",
        "                    comment_created = datetime.utcfromtimestamp(comment.created_utc)\n",
        "                    if start_date <= comment_created <= end_date:\n",
        "                        created_str = comment_created.strftime('%Y-%m-%d %H:%M:%S')\n",
        "                        date_part, time_part = created_str.split(' ')\n",
        "\n",
        "                        data.append({\n",
        "                            \"subreddit\": subreddit_name,\n",
        "                            \"submission_id\": submission.id,\n",
        "                            \"comment_id\": comment.id,\n",
        "                            \"parent_id\": clean_parent_id(comment.parent_id),\n",
        "                            \"source_author\": comment.author.name if comment.author else \"[deleted]\",\n",
        "                            \"text\": comment.body,\n",
        "                            \"title\": submission.title,\n",
        "                            \"post_author\": submission.author.name if submission.author else \"[deleted]\",\n",
        "                            \"post_score\": submission.score,\n",
        "                            \"comment_score\": comment.score,\n",
        "                            \"url\": f\"https://www.reddit.com{submission.permalink}\",\n",
        "                            \"date\": date_part,\n",
        "                            \"time\": time_part,\n",
        "                            \"created_utc\": created_str,\n",
        "                            \"sentiment_score\": round(sia.polarity_scores(comment.body)[\"compound\"], 2),\n",
        "                            \"target_author\": comment.parent().author.name if comment.parent().author else \"[deleted]\"\n",
        "                        })\n",
        "\n",
        "    except Exception as e:\n",
        "        print(f\"Error gathering data from r/{subreddit_name}: {e}\")\n",
        "\n",
        "    save_data(data, subreddit_name)\n",
        "\n",
        "def save_data(data, subreddit_name):\n",
        "    if not data:\n",
        "        print(f\"No data collected for {subreddit_name}\")\n",
        "        return\n",
        "\n",
        "    df = pd.DataFrame(data)\n",
        "    # Reorder columns to put date and time near the beginning\n",
        "    columns = ['subreddit', 'date', 'time', 'created_utc', 'submission_id', 'comment_id', 'parent_id',\n",
        "               'source_author', 'target_author', 'post_author', 'text', 'title',\n",
        "               'post_score', 'comment_score', 'url', 'sentiment_score']\n",
        "    df = df[columns]\n",
        "\n",
        "    filename = f\"{subreddit_name}_data_2025_Jan_to_Mar.csv\"\n",
        "    df.to_csv(filename, index=False)\n",
        "    print(f\"Data saved to {filename}\")\n",
        "\n",
        "if __name__ == \"__main__\":\n",
        "    subreddit_name = \"roosterteeth\"\n",
        "    gather_data(subreddit_name)"
      ],
      "metadata": {
        "colab": {
          "base_uri": "https://localhost:8080/",
          "height": 384
        },
        "id": "QECiE24SiDhC",
        "outputId": "f10416e0-3251-4fea-abf5-674525c09342"
      },
      "execution_count": null,
      "outputs": [
        {
          "output_type": "error",
          "ename": "ModuleNotFoundError",
          "evalue": "No module named 'praw'",
          "traceback": [
            "\u001b[0;31m---------------------------------------------------------------------------\u001b[0m",
            "\u001b[0;31mModuleNotFoundError\u001b[0m                       Traceback (most recent call last)",
            "\u001b[0;32m<ipython-input-1-48134544d6c2>\u001b[0m in \u001b[0;36m<cell line: 0>\u001b[0;34m()\u001b[0m\n\u001b[0;32m----> 1\u001b[0;31m \u001b[0;32mimport\u001b[0m \u001b[0mpraw\u001b[0m\u001b[0;34m\u001b[0m\u001b[0;34m\u001b[0m\u001b[0m\n\u001b[0m\u001b[1;32m      2\u001b[0m \u001b[0;32mimport\u001b[0m \u001b[0mpandas\u001b[0m \u001b[0;32mas\u001b[0m \u001b[0mpd\u001b[0m\u001b[0;34m\u001b[0m\u001b[0;34m\u001b[0m\u001b[0m\n\u001b[1;32m      3\u001b[0m \u001b[0;32mfrom\u001b[0m \u001b[0mdatetime\u001b[0m \u001b[0;32mimport\u001b[0m \u001b[0mdatetime\u001b[0m\u001b[0;34m\u001b[0m\u001b[0;34m\u001b[0m\u001b[0m\n\u001b[1;32m      4\u001b[0m \u001b[0;32mfrom\u001b[0m \u001b[0mnltk\u001b[0m\u001b[0;34m.\u001b[0m\u001b[0msentiment\u001b[0m\u001b[0;34m.\u001b[0m\u001b[0mvader\u001b[0m \u001b[0;32mimport\u001b[0m \u001b[0mSentimentIntensityAnalyzer\u001b[0m\u001b[0;34m\u001b[0m\u001b[0;34m\u001b[0m\u001b[0m\n\u001b[1;32m      5\u001b[0m \u001b[0;32mimport\u001b[0m \u001b[0mnltk\u001b[0m\u001b[0;34m\u001b[0m\u001b[0;34m\u001b[0m\u001b[0m\n",
            "\u001b[0;31mModuleNotFoundError\u001b[0m: No module named 'praw'",
            "",
            "\u001b[0;31m---------------------------------------------------------------------------\u001b[0;32m\nNOTE: If your import is failing due to a missing package, you can\nmanually install dependencies using either !pip or !apt.\n\nTo view examples of installing some common dependencies, click the\n\"Open Examples\" button below.\n\u001b[0;31m---------------------------------------------------------------------------\u001b[0m\n"
          ],
          "errorDetails": {
            "actions": [
              {
                "action": "open_url",
                "actionText": "Open Examples",
                "url": "/notebooks/snippets/importing_libraries.ipynb"
              }
            ]
          }
        }
      ]
    },
    {
      "cell_type": "code",
      "source": [
        "!pip install praw"
      ],
      "metadata": {
        "colab": {
          "base_uri": "https://localhost:8080/"
        },
        "id": "o7UK8v29iOJh",
        "outputId": "3b44d6b3-8f8b-4e8b-d4d9-46efd1733d1c"
      },
      "execution_count": null,
      "outputs": [
        {
          "output_type": "stream",
          "name": "stdout",
          "text": [
            "Collecting praw\n",
            "  Downloading praw-7.8.1-py3-none-any.whl.metadata (9.4 kB)\n",
            "Collecting prawcore<3,>=2.4 (from praw)\n",
            "  Downloading prawcore-2.4.0-py3-none-any.whl.metadata (5.0 kB)\n",
            "Collecting update_checker>=0.18 (from praw)\n",
            "  Downloading update_checker-0.18.0-py3-none-any.whl.metadata (2.3 kB)\n",
            "Requirement already satisfied: websocket-client>=0.54.0 in /usr/local/lib/python3.11/dist-packages (from praw) (1.8.0)\n",
            "Requirement already satisfied: requests<3.0,>=2.6.0 in /usr/local/lib/python3.11/dist-packages (from prawcore<3,>=2.4->praw) (2.32.3)\n",
            "Requirement already satisfied: charset-normalizer<4,>=2 in /usr/local/lib/python3.11/dist-packages (from requests<3.0,>=2.6.0->prawcore<3,>=2.4->praw) (3.4.1)\n",
            "Requirement already satisfied: idna<4,>=2.5 in /usr/local/lib/python3.11/dist-packages (from requests<3.0,>=2.6.0->prawcore<3,>=2.4->praw) (3.10)\n",
            "Requirement already satisfied: urllib3<3,>=1.21.1 in /usr/local/lib/python3.11/dist-packages (from requests<3.0,>=2.6.0->prawcore<3,>=2.4->praw) (2.3.0)\n",
            "Requirement already satisfied: certifi>=2017.4.17 in /usr/local/lib/python3.11/dist-packages (from requests<3.0,>=2.6.0->prawcore<3,>=2.4->praw) (2025.1.31)\n",
            "Downloading praw-7.8.1-py3-none-any.whl (189 kB)\n",
            "\u001b[2K   \u001b[90m━━━━━━━━━━━━━━━━━━━━━━━━━━━━━━━━━━━━━━━━\u001b[0m \u001b[32m189.3/189.3 kB\u001b[0m \u001b[31m7.4 MB/s\u001b[0m eta \u001b[36m0:00:00\u001b[0m\n",
            "\u001b[?25hDownloading prawcore-2.4.0-py3-none-any.whl (17 kB)\n",
            "Downloading update_checker-0.18.0-py3-none-any.whl (7.0 kB)\n",
            "Installing collected packages: update_checker, prawcore, praw\n",
            "Successfully installed praw-7.8.1 prawcore-2.4.0 update_checker-0.18.0\n"
          ]
        }
      ]
    },
    {
      "cell_type": "code",
      "source": [
        "!pip install pandas nltk"
      ],
      "metadata": {
        "colab": {
          "base_uri": "https://localhost:8080/"
        },
        "id": "kXMUKZrFiVbQ",
        "outputId": "76c0c59f-9b04-4439-b9de-b0f82f541996"
      },
      "execution_count": null,
      "outputs": [
        {
          "output_type": "stream",
          "name": "stdout",
          "text": [
            "Requirement already satisfied: pandas in /usr/local/lib/python3.11/dist-packages (2.2.2)\n",
            "Requirement already satisfied: nltk in /usr/local/lib/python3.11/dist-packages (3.9.1)\n",
            "Requirement already satisfied: numpy>=1.23.2 in /usr/local/lib/python3.11/dist-packages (from pandas) (2.0.2)\n",
            "Requirement already satisfied: python-dateutil>=2.8.2 in /usr/local/lib/python3.11/dist-packages (from pandas) (2.8.2)\n",
            "Requirement already satisfied: pytz>=2020.1 in /usr/local/lib/python3.11/dist-packages (from pandas) (2025.2)\n",
            "Requirement already satisfied: tzdata>=2022.7 in /usr/local/lib/python3.11/dist-packages (from pandas) (2025.2)\n",
            "Requirement already satisfied: click in /usr/local/lib/python3.11/dist-packages (from nltk) (8.1.8)\n",
            "Requirement already satisfied: joblib in /usr/local/lib/python3.11/dist-packages (from nltk) (1.4.2)\n",
            "Requirement already satisfied: regex>=2021.8.3 in /usr/local/lib/python3.11/dist-packages (from nltk) (2024.11.6)\n",
            "Requirement already satisfied: tqdm in /usr/local/lib/python3.11/dist-packages (from nltk) (4.67.1)\n",
            "Requirement already satisfied: six>=1.5 in /usr/local/lib/python3.11/dist-packages (from python-dateutil>=2.8.2->pandas) (1.17.0)\n"
          ]
        }
      ]
    },
    {
      "cell_type": "code",
      "source": [
        "import os\n",
        "\n",
        "# Set your Reddit API credentials as environment variables\n",
        "os.environ[\"REDDIT_CLIENT_ID\"] = \"WmREH0nLvamlBpQ4Bld3BA\"\n",
        "os.environ[\"REDDIT_CLIENT_SECRET\"] = \"1XHJjI-aaU0xYkWQZ7lDkoW239TNbA\"\n",
        "os.environ[\"REDDIT_USER_AGENT\"] = \"u/Fit_Menu8118\"\n",
        "os.environ[\"REDDIT_USERNAME\"] = \"Fit_Menu8118\"\n",
        "os.environ[\"REDDIT_PASSWORD\"] = \"Gotla@2277\""
      ],
      "metadata": {
        "id": "0x1uxPCViZnN"
      },
      "execution_count": null,
      "outputs": []
    },
    {
      "cell_type": "code",
      "source": [
        "import praw\n",
        "import pandas as pd\n",
        "from datetime import datetime\n",
        "from nltk.sentiment.vader import SentimentIntensityAnalyzer\n",
        "import nltk\n",
        "import os\n",
        "import logging\n",
        "\n",
        "# Suppress PRAW warnings\n",
        "logging.getLogger(\"praw\").setLevel(logging.ERROR)\n",
        "logging.getLogger(\"prawcore\").setLevel(logging.ERROR)\n",
        "\n",
        "# Download VADER lexicon for sentiment analysis\n",
        "nltk.download('vader_lexicon')\n",
        "sia = SentimentIntensityAnalyzer()\n",
        "\n",
        "# Set your Reddit API credentials as environment variables\n",
        "os.environ[\"REDDIT_CLIENT_ID\"] = \"WmREH0nLvamlBpQ4Bld3BA\"\n",
        "os.environ[\"REDDIT_CLIENT_SECRET\"] = \"1XHJjI-aaU0xYkWQZ7lDkoW239TNbA\"\n",
        "os.environ[\"REDDIT_USER_AGENT\"] = \"u/Fit_Menu8118\"\n",
        "os.environ[\"REDDIT_USERNAME\"] = \"Fit_Menu8118\"\n",
        "os.environ[\"REDDIT_PASSWORD\"] = \"Gotla@2277\"\n",
        "\n",
        "# Authenticate with Reddit API\n",
        "try:\n",
        "    reddit = praw.Reddit(\n",
        "        client_id=os.getenv(\"REDDIT_CLIENT_ID\"),\n",
        "        client_secret=os.getenv(\"REDDIT_CLIENT_SECRET\"),\n",
        "        user_agent=os.getenv(\"REDDIT_USER_AGENT\"),\n",
        "        username=os.getenv(\"REDDIT_USERNAME\"),\n",
        "        password=os.getenv(\"REDDIT_PASSWORD\")\n",
        "    )\n",
        "    print(\"Authentication successful!\")\n",
        "    print(f\"Logged in as: {reddit.user.me()}\")\n",
        "except Exception as e:\n",
        "    print(f\"Authentication failed: {e}\")\n",
        "    exit()\n",
        "\n",
        "# Define the date range\n",
        "start_date = datetime(2025, 1, 1, 0, 1)\n",
        "end_date = datetime(2025, 3, 1, 0, 1)\n",
        "\n",
        "def clean_parent_id(parent_id):\n",
        "    \"\"\"Extract just the ID part from parent_id (removes t1_, t3_ prefixes)\"\"\"\n",
        "    if isinstance(parent_id, str) and '_' in parent_id:\n",
        "        return parent_id.split('_')[1]\n",
        "    return parent_id\n",
        "\n",
        "def gather_data(subreddit_name):\n",
        "    subreddit = reddit.subreddit(subreddit_name)\n",
        "    data = []\n",
        "\n",
        "    print(f\"Collecting data from r/{subreddit_name} between {start_date} and {end_date}...\")\n",
        "\n",
        "    try:\n",
        "        for submission in subreddit.new(limit=1000):\n",
        "            submission_created = datetime.utcfromtimestamp(submission.created_utc)\n",
        "            if start_date <= submission_created <= end_date:\n",
        "                submission.comments.replace_more(limit=0)\n",
        "                for comment in submission.comments.list():\n",
        "                    comment_created = datetime.utcfromtimestamp(comment.created_utc)\n",
        "                    if start_date <= comment_created <= end_date:\n",
        "                        created_str = comment_created.strftime('%Y-%m-%d %H:%M:%S')\n",
        "                        date_part, time_part = created_str.split(' ')\n",
        "\n",
        "                        data.append({\n",
        "                            \"subreddit\": subreddit_name,\n",
        "                            \"submission_id\": submission.id,\n",
        "                            \"comment_id\": comment.id,\n",
        "                            \"parent_id\": clean_parent_id(comment.parent_id),\n",
        "                            \"source_author\": comment.author.name if comment.author else \"[deleted]\",\n",
        "                            \"text\": comment.body,\n",
        "                            \"title\": submission.title,\n",
        "                            \"post_author\": submission.author.name if submission.author else \"[deleted]\",\n",
        "                            \"post_score\": submission.score,\n",
        "                            \"comment_score\": comment.score,\n",
        "                            \"url\": f\"https://www.reddit.com{submission.permalink}\",\n",
        "                            \"date\": date_part,\n",
        "                            \"time\": time_part,\n",
        "                            \"created_utc\": created_str,\n",
        "                            \"sentiment_score\": round(sia.polarity_scores(comment.body)[\"compound\"], 2),\n",
        "                            \"target_author\": comment.parent().author.name if comment.parent().author else \"[deleted]\"\n",
        "                        })\n",
        "\n",
        "    except Exception as e:\n",
        "        print(f\"Error gathering data from r/{subreddit_name}: {e}\")\n",
        "\n",
        "    save_data(data, subreddit_name)\n",
        "\n",
        "def save_data(data, subreddit_name):\n",
        "    if not data:\n",
        "        print(f\"No data collected for {subreddit_name}\")\n",
        "        return\n",
        "\n",
        "    df = pd.DataFrame(data)\n",
        "    # Reorder columns to put date and time near the beginning\n",
        "    columns = ['subreddit', 'date', 'time', 'created_utc', 'submission_id', 'comment_id', 'parent_id',\n",
        "               'source_author', 'target_author', 'post_author', 'text', 'title',\n",
        "               'post_score', 'comment_score', 'url', 'sentiment_score']\n",
        "    df = df[columns]\n",
        "\n",
        "    filename = f\"{subreddit_name}_data_2025_Jan_to_Mar.csv\"\n",
        "    df.to_csv(filename, index=False)\n",
        "    print(f\"Data saved to {filename}\")\n",
        "\n",
        "if __name__ == \"__main__\":\n",
        "    subreddit_name = \"roosterteeth\"\n",
        "    gather_data(subreddit_name)"
      ],
      "metadata": {
        "colab": {
          "base_uri": "https://localhost:8080/"
        },
        "id": "s6HSPn5Pid8o",
        "outputId": "d04a26bd-5e2c-485e-facc-e844d23c2a08"
      },
      "execution_count": null,
      "outputs": [
        {
          "output_type": "stream",
          "name": "stderr",
          "text": [
            "[nltk_data] Downloading package vader_lexicon to /root/nltk_data...\n"
          ]
        },
        {
          "output_type": "stream",
          "name": "stdout",
          "text": [
            "Authentication successful!\n",
            "Logged in as: Fit_Menu8118\n",
            "Collecting data from r/roosterteeth between 2025-01-01 00:01:00 and 2025-03-01 00:01:00...\n",
            "Data saved to roosterteeth_data_2025_Jan_to_Mar.csv\n"
          ]
        }
      ]
    },
    {
      "cell_type": "code",
      "source": [
        "!pip install praw"
      ],
      "metadata": {
        "colab": {
          "base_uri": "https://localhost:8080/"
        },
        "id": "evMNyjSLFkmH",
        "outputId": "a1d7df72-6c3e-4c87-8312-99f42eb2d821"
      },
      "execution_count": null,
      "outputs": [
        {
          "output_type": "stream",
          "name": "stdout",
          "text": [
            "Collecting praw\n",
            "  Downloading praw-7.8.1-py3-none-any.whl.metadata (9.4 kB)\n",
            "Collecting prawcore<3,>=2.4 (from praw)\n",
            "  Downloading prawcore-2.4.0-py3-none-any.whl.metadata (5.0 kB)\n",
            "Collecting update_checker>=0.18 (from praw)\n",
            "  Downloading update_checker-0.18.0-py3-none-any.whl.metadata (2.3 kB)\n",
            "Requirement already satisfied: websocket-client>=0.54.0 in /usr/local/lib/python3.11/dist-packages (from praw) (1.8.0)\n",
            "Requirement already satisfied: requests<3.0,>=2.6.0 in /usr/local/lib/python3.11/dist-packages (from prawcore<3,>=2.4->praw) (2.32.3)\n",
            "Requirement already satisfied: charset-normalizer<4,>=2 in /usr/local/lib/python3.11/dist-packages (from requests<3.0,>=2.6.0->prawcore<3,>=2.4->praw) (3.4.1)\n",
            "Requirement already satisfied: idna<4,>=2.5 in /usr/local/lib/python3.11/dist-packages (from requests<3.0,>=2.6.0->prawcore<3,>=2.4->praw) (3.10)\n",
            "Requirement already satisfied: urllib3<3,>=1.21.1 in /usr/local/lib/python3.11/dist-packages (from requests<3.0,>=2.6.0->prawcore<3,>=2.4->praw) (2.3.0)\n",
            "Requirement already satisfied: certifi>=2017.4.17 in /usr/local/lib/python3.11/dist-packages (from requests<3.0,>=2.6.0->prawcore<3,>=2.4->praw) (2025.1.31)\n",
            "Downloading praw-7.8.1-py3-none-any.whl (189 kB)\n",
            "\u001b[2K   \u001b[90m━━━━━━━━━━━━━━━━━━━━━━━━━━━━━━━━━━━━━━━━\u001b[0m \u001b[32m189.3/189.3 kB\u001b[0m \u001b[31m3.1 MB/s\u001b[0m eta \u001b[36m0:00:00\u001b[0m\n",
            "\u001b[?25hDownloading prawcore-2.4.0-py3-none-any.whl (17 kB)\n",
            "Downloading update_checker-0.18.0-py3-none-any.whl (7.0 kB)\n",
            "Installing collected packages: update_checker, prawcore, praw\n",
            "Successfully installed praw-7.8.1 prawcore-2.4.0 update_checker-0.18.0\n"
          ]
        }
      ]
    },
    {
      "cell_type": "code",
      "source": [
        "!pip install pandas nltk"
      ],
      "metadata": {
        "colab": {
          "base_uri": "https://localhost:8080/"
        },
        "id": "jE8gTU4uFqOK",
        "outputId": "ceaadfcd-7770-452e-fe42-8097ce98c050"
      },
      "execution_count": null,
      "outputs": [
        {
          "output_type": "stream",
          "name": "stdout",
          "text": [
            "Requirement already satisfied: pandas in /usr/local/lib/python3.11/dist-packages (2.2.2)\n",
            "Requirement already satisfied: nltk in /usr/local/lib/python3.11/dist-packages (3.9.1)\n",
            "Requirement already satisfied: numpy>=1.23.2 in /usr/local/lib/python3.11/dist-packages (from pandas) (2.0.2)\n",
            "Requirement already satisfied: python-dateutil>=2.8.2 in /usr/local/lib/python3.11/dist-packages (from pandas) (2.8.2)\n",
            "Requirement already satisfied: pytz>=2020.1 in /usr/local/lib/python3.11/dist-packages (from pandas) (2025.2)\n",
            "Requirement already satisfied: tzdata>=2022.7 in /usr/local/lib/python3.11/dist-packages (from pandas) (2025.2)\n",
            "Requirement already satisfied: click in /usr/local/lib/python3.11/dist-packages (from nltk) (8.1.8)\n",
            "Requirement already satisfied: joblib in /usr/local/lib/python3.11/dist-packages (from nltk) (1.4.2)\n",
            "Requirement already satisfied: regex>=2021.8.3 in /usr/local/lib/python3.11/dist-packages (from nltk) (2024.11.6)\n",
            "Requirement already satisfied: tqdm in /usr/local/lib/python3.11/dist-packages (from nltk) (4.67.1)\n",
            "Requirement already satisfied: six>=1.5 in /usr/local/lib/python3.11/dist-packages (from python-dateutil>=2.8.2->pandas) (1.17.0)\n"
          ]
        }
      ]
    },
    {
      "cell_type": "code",
      "source": [
        "import nltk\n",
        "nltk.download('vader_lexicon')"
      ],
      "metadata": {
        "colab": {
          "base_uri": "https://localhost:8080/"
        },
        "id": "ZxeW2jrnFucB",
        "outputId": "e56fcdec-2ed2-41c7-b6b6-b6c3c2bdba23"
      },
      "execution_count": null,
      "outputs": [
        {
          "output_type": "stream",
          "name": "stderr",
          "text": [
            "[nltk_data] Downloading package vader_lexicon to /root/nltk_data...\n"
          ]
        },
        {
          "output_type": "execute_result",
          "data": {
            "text/plain": [
              "True"
            ]
          },
          "metadata": {},
          "execution_count": 4
        }
      ]
    },
    {
      "cell_type": "code",
      "source": [
        "# === SETUP CELL (Run this first) ===\n",
        "!pip install praw pandas nltk -q\n",
        "import nltk\n",
        "nltk.download('vader_lexicon')\n",
        "\n",
        "print(\"✅ Packages installed successfully!\")\n",
        "print(\"Please set up your Reddit credentials in Colab Secrets (left sidebar key icon)\")\n",
        "print(\"Required secrets: REDDIT_CLIENT_ID, REDDIT_CLIENT_SECRET, REDDIT_USER_AGENT, REDDIT_USERNAME, REDDIT_PASSWORD\")"
      ],
      "metadata": {
        "colab": {
          "base_uri": "https://localhost:8080/"
        },
        "id": "LG0OKidoGgHm",
        "outputId": "df66c95f-6bff-4ac6-ce3b-617d3630d537"
      },
      "execution_count": null,
      "outputs": [
        {
          "output_type": "stream",
          "name": "stdout",
          "text": [
            "✅ Packages installed successfully!\n",
            "Please set up your Reddit credentials in Colab Secrets (left sidebar key icon)\n",
            "Required secrets: REDDIT_CLIENT_ID, REDDIT_CLIENT_SECRET, REDDIT_USER_AGENT, REDDIT_USERNAME, REDDIT_PASSWORD\n"
          ]
        },
        {
          "output_type": "stream",
          "name": "stderr",
          "text": [
            "[nltk_data] Downloading package vader_lexicon to /root/nltk_data...\n",
            "[nltk_data]   Package vader_lexicon is already up-to-date!\n"
          ]
        }
      ]
    },
    {
      "cell_type": "code",
      "source": [
        "import praw\n",
        "print(\"PRAW version:\", praw.__version__)"
      ],
      "metadata": {
        "colab": {
          "base_uri": "https://localhost:8080/"
        },
        "id": "YJtvIkaxGj7U",
        "outputId": "c3837260-e61a-4106-833a-3e37f4f40837"
      },
      "execution_count": null,
      "outputs": [
        {
          "output_type": "stream",
          "name": "stdout",
          "text": [
            "PRAW version: 7.8.1\n"
          ]
        }
      ]
    },
    {
      "cell_type": "code",
      "source": [
        "!pip install --upgrade praw pandas nltk"
      ],
      "metadata": {
        "colab": {
          "base_uri": "https://localhost:8080/"
        },
        "id": "gTInN_MNGmha",
        "outputId": "3bf78918-1e67-4fc4-d11f-ce04cb2e8d09"
      },
      "execution_count": null,
      "outputs": [
        {
          "output_type": "stream",
          "name": "stdout",
          "text": [
            "Requirement already satisfied: praw in /usr/local/lib/python3.11/dist-packages (7.8.1)\n",
            "Requirement already satisfied: pandas in /usr/local/lib/python3.11/dist-packages (2.2.2)\n",
            "Collecting pandas\n",
            "  Downloading pandas-2.2.3-cp311-cp311-manylinux_2_17_x86_64.manylinux2014_x86_64.whl.metadata (89 kB)\n",
            "\u001b[2K     \u001b[90m━━━━━━━━━━━━━━━━━━━━━━━━━━━━━━━━━━━━━━━━\u001b[0m \u001b[32m89.9/89.9 kB\u001b[0m \u001b[31m2.6 MB/s\u001b[0m eta \u001b[36m0:00:00\u001b[0m\n",
            "\u001b[?25hRequirement already satisfied: nltk in /usr/local/lib/python3.11/dist-packages (3.9.1)\n",
            "Requirement already satisfied: prawcore<3,>=2.4 in /usr/local/lib/python3.11/dist-packages (from praw) (2.4.0)\n",
            "Requirement already satisfied: update_checker>=0.18 in /usr/local/lib/python3.11/dist-packages (from praw) (0.18.0)\n",
            "Requirement already satisfied: websocket-client>=0.54.0 in /usr/local/lib/python3.11/dist-packages (from praw) (1.8.0)\n",
            "Requirement already satisfied: numpy>=1.23.2 in /usr/local/lib/python3.11/dist-packages (from pandas) (2.0.2)\n",
            "Requirement already satisfied: python-dateutil>=2.8.2 in /usr/local/lib/python3.11/dist-packages (from pandas) (2.8.2)\n",
            "Requirement already satisfied: pytz>=2020.1 in /usr/local/lib/python3.11/dist-packages (from pandas) (2025.2)\n",
            "Requirement already satisfied: tzdata>=2022.7 in /usr/local/lib/python3.11/dist-packages (from pandas) (2025.2)\n",
            "Requirement already satisfied: click in /usr/local/lib/python3.11/dist-packages (from nltk) (8.1.8)\n",
            "Requirement already satisfied: joblib in /usr/local/lib/python3.11/dist-packages (from nltk) (1.4.2)\n",
            "Requirement already satisfied: regex>=2021.8.3 in /usr/local/lib/python3.11/dist-packages (from nltk) (2024.11.6)\n",
            "Requirement already satisfied: tqdm in /usr/local/lib/python3.11/dist-packages (from nltk) (4.67.1)\n",
            "Requirement already satisfied: requests<3.0,>=2.6.0 in /usr/local/lib/python3.11/dist-packages (from prawcore<3,>=2.4->praw) (2.32.3)\n",
            "Requirement already satisfied: six>=1.5 in /usr/local/lib/python3.11/dist-packages (from python-dateutil>=2.8.2->pandas) (1.17.0)\n",
            "Requirement already satisfied: charset-normalizer<4,>=2 in /usr/local/lib/python3.11/dist-packages (from requests<3.0,>=2.6.0->prawcore<3,>=2.4->praw) (3.4.1)\n",
            "Requirement already satisfied: idna<4,>=2.5 in /usr/local/lib/python3.11/dist-packages (from requests<3.0,>=2.6.0->prawcore<3,>=2.4->praw) (3.10)\n",
            "Requirement already satisfied: urllib3<3,>=1.21.1 in /usr/local/lib/python3.11/dist-packages (from requests<3.0,>=2.6.0->prawcore<3,>=2.4->praw) (2.3.0)\n",
            "Requirement already satisfied: certifi>=2017.4.17 in /usr/local/lib/python3.11/dist-packages (from requests<3.0,>=2.6.0->prawcore<3,>=2.4->praw) (2025.1.31)\n",
            "Downloading pandas-2.2.3-cp311-cp311-manylinux_2_17_x86_64.manylinux2014_x86_64.whl (13.1 MB)\n",
            "\u001b[2K   \u001b[90m━━━━━━━━━━━━━━━━━━━━━━━━━━━━━━━━━━━━━━━━\u001b[0m \u001b[32m13.1/13.1 MB\u001b[0m \u001b[31m89.3 MB/s\u001b[0m eta \u001b[36m0:00:00\u001b[0m\n",
            "\u001b[?25hInstalling collected packages: pandas\n",
            "  Attempting uninstall: pandas\n",
            "    Found existing installation: pandas 2.2.2\n",
            "    Uninstalling pandas-2.2.2:\n",
            "      Successfully uninstalled pandas-2.2.2\n",
            "\u001b[31mERROR: pip's dependency resolver does not currently take into account all the packages that are installed. This behaviour is the source of the following dependency conflicts.\n",
            "google-colab 1.0.0 requires pandas==2.2.2, but you have pandas 2.2.3 which is incompatible.\u001b[0m\u001b[31m\n",
            "\u001b[0mSuccessfully installed pandas-2.2.3\n"
          ]
        }
      ]
    },
    {
      "cell_type": "code",
      "source": [
        "import praw\n",
        "import pandas as pd\n",
        "from datetime import datetime\n",
        "from nltk.sentiment.vader import SentimentIntensityAnalyzer\n",
        "import nltk\n",
        "import logging\n",
        "from google.colab import userdata\n",
        "from google.colab import files\n",
        "\n",
        "# Suppress PRAW warnings\n",
        "logging.getLogger(\"praw\").setLevel(logging.ERROR)\n",
        "logging.getLogger(\"prawcore\").setLevel(logging.ERROR)\n",
        "\n",
        "# Download VADER lexicon\n",
        "print(\"Setting up NLP analyzer...\")\n",
        "nltk.download('vader_lexicon')\n",
        "sia = SentimentIntensityAnalyzer()\n",
        "\n",
        "# ================= CREDENTIAL SETUP =================\n",
        "print(\"Loading Reddit credentials...\")\n",
        "try:\n",
        "    client_id = userdata.get('REDDIT_CLIENT_ID')\n",
        "    client_secret = userdata.get('REDDIT_CLIENT_SECRET')\n",
        "    user_agent = userdata.get('REDDIT_USER_AGENT')\n",
        "    username = userdata.get('REDDIT_USERNAME')\n",
        "    password = userdata.get('REDDIT_PASSWORD')\n",
        "except Exception as e:\n",
        "    print(\"\\n❌ CREDENTIAL ERROR: Missing or incorrect secrets.\")\n",
        "    print(\"Please follow these steps:\")\n",
        "    print(\"1. Click the 'key' icon in Colab's left sidebar\")\n",
        "    print(\"2. Add these EXACT secret names (case-sensitive):\")\n",
        "    print(\"   - REDDIT_CLIENT_ID\")\n",
        "    print(\"   - REDDIT_CLIENT_SECRET\")\n",
        "    print(\"   - REDDIT_USER_AGENT\")\n",
        "    print(\"   - REDDIT_USERNAME\")\n",
        "    print(\"   - REDDIT_PASSWORD\")\n",
        "    print(\"\\n⚠️ Make sure there are no typos!\")\n",
        "    raise\n",
        "\n",
        "# Authenticate with Reddit\n",
        "print(\"Authenticating with Reddit...\")\n",
        "try:\n",
        "    reddit = praw.Reddit(\n",
        "        client_id=client_id,\n",
        "        client_secret=client_secret,\n",
        "        user_agent=user_agent,\n",
        "        username=username,\n",
        "        password=password\n",
        "    )\n",
        "    # Test authentication\n",
        "    print(f\"✔ Success! Logged in as: {reddit.user.me()}\")\n",
        "except Exception as e:\n",
        "    print(f\"❌ Authentication failed: {e}\")\n",
        "    print(\"\\nPossible solutions:\")\n",
        "    print(\"- Verify your credentials at https://www.reddit.com/prefs/apps\")\n",
        "    print(\"- Check if your account has 2FA enabled (may need app password)\")\n",
        "    print(\"- Wait 10 mins if you hit rate limits\")\n",
        "    exit()\n",
        "\n",
        "# ================= MAIN CONFIGURATION =================\n",
        "start_date = datetime(2025, 1, 1, 0, 0)\n",
        "end_date = datetime(2025, 4, 3, 23, 59)\n",
        "SUBREDDIT_NAME = \"funhaus\"  # Change this if needed\n",
        "POST_LIMIT = 500  # Reduce if hitting rate limits\n",
        "\n",
        "# ================= CORE FUNCTIONS =================\n",
        "def clean_parent_id(parent_id):\n",
        "    \"\"\"Extract just the ID part from parent_id\"\"\"\n",
        "    return parent_id.split('_')[1] if isinstance(parent_id, str) and '_' in parent_id else parent_id\n",
        "\n",
        "def gather_data():\n",
        "    print(f\"\\n🚀 Collecting data from r/{SUBREDDIT_NAME}\")\n",
        "    print(f\"⏰ Date range: {start_date.strftime('%Y-%m-%d')} to {end_date.strftime('%Y-%m-%d')}\")\n",
        "\n",
        "    subreddit = reddit.subreddit(SUBREDDIT_NAME)\n",
        "    data = []\n",
        "    stats = {'posts': 0, 'comments': 0}\n",
        "\n",
        "    try:\n",
        "        for submission in subreddit.new(limit=POST_LIMIT):\n",
        "            submission_created = datetime.utcfromtimestamp(submission.created_utc)\n",
        "\n",
        "            if start_date <= submission_created <= end_date:\n",
        "                stats['posts'] += 1\n",
        "                submission.comments.replace_more(limit=0)  # Remove MoreComments\n",
        "\n",
        "                for comment in submission.comments.list():\n",
        "                    comment_created = datetime.utcfromtimestamp(comment.created_utc)\n",
        "\n",
        "                    if start_date <= comment_created <= end_date:\n",
        "                        stats['comments'] += 1\n",
        "                        created_str = comment_created.strftime('%Y-%m-%d %H:%M:%S')\n",
        "                        date_part, time_part = created_str.split(' ')\n",
        "\n",
        "                        data.append({\n",
        "                            \"Subreddit\": SUBREDDIT_NAME,\n",
        "                            \"Submission ID\": submission.id,\n",
        "                            \"Parent ID\": clean_parent_id(comment.parent_id),\n",
        "                            \"Target Author\": comment.parent().author.name\n",
        "                                            if hasattr(comment.parent(), 'author')\n",
        "                                            and comment.parent().author\n",
        "                                            else \"[deleted]\",\n",
        "                            \"Comment ID\": comment.id,\n",
        "                            \"Source Author\": comment.author.name if comment.author else \"[deleted]\",\n",
        "                            \"Created_UTC\": created_str,\n",
        "                            \"Date\": date_part,\n",
        "                            \"Time\": time_part,\n",
        "                            \"Score\": comment.score,\n",
        "                            \"Title\": submission.title,\n",
        "                            \"Text\": comment.body\n",
        "                        })\n",
        "\n",
        "                # Progress update\n",
        "                if stats['posts'] % 10 == 0:\n",
        "                    print(f\"📊 Collected {stats['posts']} posts ({stats['comments']} comments)...\")\n",
        "\n",
        "    except Exception as e:\n",
        "        print(f\"⚠️ Collection error: {str(e)[:200]}...\")  # Truncate long errors\n",
        "\n",
        "    print(f\"\\n✅ Collected {stats['posts']} posts with {stats['comments']} comments\")\n",
        "    return data\n",
        "\n",
        "def save_and_download(data):\n",
        "    if not data:\n",
        "        print(\"❌ No data collected - check date range or subreddit activity\")\n",
        "        return\n",
        "\n",
        "    df = pd.DataFrame(data)\n",
        "    filename = f\"{SUBREDDIT_NAME}_data_{start_date.strftime('%Y-%m')}_to_{end_date.strftime('%Y-%m')}.csv\"\n",
        "\n",
        "    # Ensure proper column order\n",
        "    columns = [\n",
        "        'Subreddit', 'Submission ID', 'Parent ID', 'Target Author',\n",
        "        'Comment ID', 'Source Author', 'Created_UTC', 'Date', 'Time',\n",
        "        'Score', 'Title', 'Text'\n",
        "    ]\n",
        "    df = df[columns]\n",
        "\n",
        "    df.to_csv(filename, index=False)\n",
        "    print(f\"💾 Saved to {filename} ({len(df)} records)\")\n",
        "    files.download(filename)\n",
        "\n",
        "# ================= EXECUTION =================\n",
        "if __name__ == \"__main__\":\n",
        "    collected_data = gather_data()\n",
        "    save_and_download(collected_data)\n",
        "    print(\"\\n🎉 Script completed successfully!\")"
      ],
      "metadata": {
        "colab": {
          "base_uri": "https://localhost:8080/",
          "height": 798
        },
        "id": "JFMQqsSuGuIQ",
        "outputId": "14fa9306-27f9-484b-86ec-2f3e92bfc5d8"
      },
      "execution_count": null,
      "outputs": [
        {
          "output_type": "stream",
          "name": "stdout",
          "text": [
            "Setting up NLP analyzer...\n",
            "Loading Reddit credentials...\n"
          ]
        },
        {
          "output_type": "stream",
          "name": "stderr",
          "text": [
            "[nltk_data] Downloading package vader_lexicon to /root/nltk_data...\n",
            "[nltk_data]   Package vader_lexicon is already up-to-date!\n"
          ]
        },
        {
          "output_type": "stream",
          "name": "stdout",
          "text": [
            "Authenticating with Reddit...\n",
            "✔ Success! Logged in as: Fit_Menu8118\n",
            "\n",
            "🚀 Collecting data from r/funhaus\n",
            "⏰ Date range: 2025-01-01 to 2025-04-03\n",
            "📊 Collected 10 posts (66 comments)...\n",
            "📊 Collected 20 posts (165 comments)...\n",
            "📊 Collected 30 posts (233 comments)...\n",
            "📊 Collected 40 posts (439 comments)...\n",
            "📊 Collected 50 posts (530 comments)...\n",
            "📊 Collected 60 posts (692 comments)...\n",
            "📊 Collected 70 posts (784 comments)...\n",
            "📊 Collected 80 posts (835 comments)...\n",
            "📊 Collected 90 posts (943 comments)...\n",
            "📊 Collected 100 posts (1051 comments)...\n",
            "📊 Collected 110 posts (1108 comments)...\n",
            "📊 Collected 120 posts (1292 comments)...\n",
            "📊 Collected 130 posts (1440 comments)...\n",
            "📊 Collected 140 posts (1646 comments)...\n",
            "📊 Collected 150 posts (2118 comments)...\n",
            "📊 Collected 160 posts (2159 comments)...\n",
            "📊 Collected 170 posts (2350 comments)...\n",
            "📊 Collected 180 posts (2733 comments)...\n",
            "📊 Collected 190 posts (2839 comments)...\n",
            "📊 Collected 200 posts (2999 comments)...\n",
            "📊 Collected 210 posts (3220 comments)...\n",
            "📊 Collected 220 posts (3486 comments)...\n",
            "📊 Collected 230 posts (3538 comments)...\n",
            "📊 Collected 240 posts (3900 comments)...\n",
            "📊 Collected 250 posts (3972 comments)...\n",
            "📊 Collected 260 posts (4151 comments)...\n",
            "📊 Collected 270 posts (4317 comments)...\n",
            "📊 Collected 280 posts (4414 comments)...\n",
            "📊 Collected 290 posts (4557 comments)...\n",
            "📊 Collected 300 posts (4670 comments)...\n",
            "📊 Collected 310 posts (4723 comments)...\n",
            "\n",
            "✅ Collected 317 posts with 4894 comments\n",
            "💾 Saved to funhaus_data_2025-01_to_2025-04.csv (4894 records)\n"
          ]
        },
        {
          "output_type": "display_data",
          "data": {
            "text/plain": [
              "<IPython.core.display.Javascript object>"
            ],
            "application/javascript": [
              "\n",
              "    async function download(id, filename, size) {\n",
              "      if (!google.colab.kernel.accessAllowed) {\n",
              "        return;\n",
              "      }\n",
              "      const div = document.createElement('div');\n",
              "      const label = document.createElement('label');\n",
              "      label.textContent = `Downloading \"${filename}\": `;\n",
              "      div.appendChild(label);\n",
              "      const progress = document.createElement('progress');\n",
              "      progress.max = size;\n",
              "      div.appendChild(progress);\n",
              "      document.body.appendChild(div);\n",
              "\n",
              "      const buffers = [];\n",
              "      let downloaded = 0;\n",
              "\n",
              "      const channel = await google.colab.kernel.comms.open(id);\n",
              "      // Send a message to notify the kernel that we're ready.\n",
              "      channel.send({})\n",
              "\n",
              "      for await (const message of channel.messages) {\n",
              "        // Send a message to notify the kernel that we're ready.\n",
              "        channel.send({})\n",
              "        if (message.buffers) {\n",
              "          for (const buffer of message.buffers) {\n",
              "            buffers.push(buffer);\n",
              "            downloaded += buffer.byteLength;\n",
              "            progress.value = downloaded;\n",
              "          }\n",
              "        }\n",
              "      }\n",
              "      const blob = new Blob(buffers, {type: 'application/binary'});\n",
              "      const a = document.createElement('a');\n",
              "      a.href = window.URL.createObjectURL(blob);\n",
              "      a.download = filename;\n",
              "      div.appendChild(a);\n",
              "      a.click();\n",
              "      div.remove();\n",
              "    }\n",
              "  "
            ]
          },
          "metadata": {}
        },
        {
          "output_type": "display_data",
          "data": {
            "text/plain": [
              "<IPython.core.display.Javascript object>"
            ],
            "application/javascript": [
              "download(\"download_d796c8f5-98c7-4623-b2e0-48bdc9508483\", \"funhaus_data_2025-01_to_2025-04.csv\", 1170151)"
            ]
          },
          "metadata": {}
        },
        {
          "output_type": "stream",
          "name": "stdout",
          "text": [
            "\n",
            "🎉 Script completed successfully!\n"
          ]
        }
      ]
    },
    {
      "cell_type": "code",
      "source": [
        "!pip install praw"
      ],
      "metadata": {
        "colab": {
          "base_uri": "https://localhost:8080/"
        },
        "id": "hzMVMBQfRLlq",
        "outputId": "7a8524d8-54a6-4169-9672-a3ccc40b8724"
      },
      "execution_count": null,
      "outputs": [
        {
          "output_type": "stream",
          "name": "stdout",
          "text": [
            "Collecting praw\n",
            "  Downloading praw-7.8.1-py3-none-any.whl.metadata (9.4 kB)\n",
            "Collecting prawcore<3,>=2.4 (from praw)\n",
            "  Downloading prawcore-2.4.0-py3-none-any.whl.metadata (5.0 kB)\n",
            "Collecting update_checker>=0.18 (from praw)\n",
            "  Downloading update_checker-0.18.0-py3-none-any.whl.metadata (2.3 kB)\n",
            "Requirement already satisfied: websocket-client>=0.54.0 in /usr/local/lib/python3.11/dist-packages (from praw) (1.8.0)\n",
            "Requirement already satisfied: requests<3.0,>=2.6.0 in /usr/local/lib/python3.11/dist-packages (from prawcore<3,>=2.4->praw) (2.32.3)\n",
            "Requirement already satisfied: charset-normalizer<4,>=2 in /usr/local/lib/python3.11/dist-packages (from requests<3.0,>=2.6.0->prawcore<3,>=2.4->praw) (3.4.1)\n",
            "Requirement already satisfied: idna<4,>=2.5 in /usr/local/lib/python3.11/dist-packages (from requests<3.0,>=2.6.0->prawcore<3,>=2.4->praw) (3.10)\n",
            "Requirement already satisfied: urllib3<3,>=1.21.1 in /usr/local/lib/python3.11/dist-packages (from requests<3.0,>=2.6.0->prawcore<3,>=2.4->praw) (2.3.0)\n",
            "Requirement already satisfied: certifi>=2017.4.17 in /usr/local/lib/python3.11/dist-packages (from requests<3.0,>=2.6.0->prawcore<3,>=2.4->praw) (2025.1.31)\n",
            "Downloading praw-7.8.1-py3-none-any.whl (189 kB)\n",
            "\u001b[2K   \u001b[90m━━━━━━━━━━━━━━━━━━━━━━━━━━━━━━━━━━━━━━━━\u001b[0m \u001b[32m189.3/189.3 kB\u001b[0m \u001b[31m7.5 MB/s\u001b[0m eta \u001b[36m0:00:00\u001b[0m\n",
            "\u001b[?25hDownloading prawcore-2.4.0-py3-none-any.whl (17 kB)\n",
            "Downloading update_checker-0.18.0-py3-none-any.whl (7.0 kB)\n",
            "Installing collected packages: update_checker, prawcore, praw\n",
            "Successfully installed praw-7.8.1 prawcore-2.4.0 update_checker-0.18.0\n"
          ]
        }
      ]
    },
    {
      "cell_type": "code",
      "source": [
        "!pip install pandas nltk"
      ],
      "metadata": {
        "colab": {
          "base_uri": "https://localhost:8080/"
        },
        "id": "HIbAJE7iRdWA",
        "outputId": "05c6c1f6-53f7-4f95-dfbb-1930165e170d"
      },
      "execution_count": null,
      "outputs": [
        {
          "output_type": "stream",
          "name": "stdout",
          "text": [
            "Requirement already satisfied: pandas in /usr/local/lib/python3.11/dist-packages (2.2.2)\n",
            "Requirement already satisfied: nltk in /usr/local/lib/python3.11/dist-packages (3.9.1)\n",
            "Requirement already satisfied: numpy>=1.23.2 in /usr/local/lib/python3.11/dist-packages (from pandas) (2.0.2)\n",
            "Requirement already satisfied: python-dateutil>=2.8.2 in /usr/local/lib/python3.11/dist-packages (from pandas) (2.8.2)\n",
            "Requirement already satisfied: pytz>=2020.1 in /usr/local/lib/python3.11/dist-packages (from pandas) (2025.2)\n",
            "Requirement already satisfied: tzdata>=2022.7 in /usr/local/lib/python3.11/dist-packages (from pandas) (2025.2)\n",
            "Requirement already satisfied: click in /usr/local/lib/python3.11/dist-packages (from nltk) (8.1.8)\n",
            "Requirement already satisfied: joblib in /usr/local/lib/python3.11/dist-packages (from nltk) (1.4.2)\n",
            "Requirement already satisfied: regex>=2021.8.3 in /usr/local/lib/python3.11/dist-packages (from nltk) (2024.11.6)\n",
            "Requirement already satisfied: tqdm in /usr/local/lib/python3.11/dist-packages (from nltk) (4.67.1)\n",
            "Requirement already satisfied: six>=1.5 in /usr/local/lib/python3.11/dist-packages (from python-dateutil>=2.8.2->pandas) (1.17.0)\n"
          ]
        }
      ]
    },
    {
      "cell_type": "code",
      "source": [
        "import nltk\n",
        "nltk.download('vader_lexicon')"
      ],
      "metadata": {
        "colab": {
          "base_uri": "https://localhost:8080/"
        },
        "id": "5nq09vT4RkLD",
        "outputId": "79b7a34f-5b94-4845-8fba-ee0fa6611aa6"
      },
      "execution_count": null,
      "outputs": [
        {
          "output_type": "stream",
          "name": "stderr",
          "text": [
            "[nltk_data] Downloading package vader_lexicon to /root/nltk_data...\n"
          ]
        },
        {
          "output_type": "execute_result",
          "data": {
            "text/plain": [
              "True"
            ]
          },
          "metadata": {},
          "execution_count": 4
        }
      ]
    },
    {
      "cell_type": "code",
      "source": [
        "# === SETUP CELL (Run this first) ===\n",
        "!pip install praw pandas nltk -q\n",
        "import nltk\n",
        "nltk.download('vader_lexicon')\n",
        "\n",
        "print(\"✅ Packages installed successfully!\")\n",
        "print(\"Please set up your Reddit credentials in Colab Secrets (left sidebar key icon)\")\n",
        "print(\"Required secrets: REDDIT_CLIENT_ID, REDDIT_CLIENT_SECRET, REDDIT_USER_AGENT, REDDIT_USERNAME, REDDIT_PASSWORD\")"
      ],
      "metadata": {
        "colab": {
          "base_uri": "https://localhost:8080/"
        },
        "id": "hPz_gRsPRukk",
        "outputId": "00bd5484-8765-44cd-ed51-466212dad974"
      },
      "execution_count": null,
      "outputs": [
        {
          "output_type": "stream",
          "name": "stdout",
          "text": [
            "✅ Packages installed successfully!\n",
            "Please set up your Reddit credentials in Colab Secrets (left sidebar key icon)\n",
            "Required secrets: REDDIT_CLIENT_ID, REDDIT_CLIENT_SECRET, REDDIT_USER_AGENT, REDDIT_USERNAME, REDDIT_PASSWORD\n"
          ]
        },
        {
          "output_type": "stream",
          "name": "stderr",
          "text": [
            "[nltk_data] Downloading package vader_lexicon to /root/nltk_data...\n",
            "[nltk_data]   Package vader_lexicon is already up-to-date!\n"
          ]
        }
      ]
    },
    {
      "cell_type": "code",
      "source": [
        "import praw\n",
        "print(\"PRAW version:\", praw.__version__)"
      ],
      "metadata": {
        "colab": {
          "base_uri": "https://localhost:8080/"
        },
        "id": "H4o_lRU5R2D-",
        "outputId": "b6bbe8c9-9224-42ca-93b7-821cc6c62015"
      },
      "execution_count": null,
      "outputs": [
        {
          "output_type": "stream",
          "name": "stdout",
          "text": [
            "PRAW version: 7.8.1\n"
          ]
        }
      ]
    },
    {
      "cell_type": "code",
      "source": [
        "!pip install --upgrade praw pandas nltk"
      ],
      "metadata": {
        "colab": {
          "base_uri": "https://localhost:8080/"
        },
        "id": "8PSAGaPNR-jd",
        "outputId": "1d0a2e49-71d0-4681-b0cc-3b4c772ca030"
      },
      "execution_count": null,
      "outputs": [
        {
          "output_type": "stream",
          "name": "stdout",
          "text": [
            "Requirement already satisfied: praw in /usr/local/lib/python3.11/dist-packages (7.8.1)\n",
            "Requirement already satisfied: pandas in /usr/local/lib/python3.11/dist-packages (2.2.2)\n",
            "Collecting pandas\n",
            "  Downloading pandas-2.2.3-cp311-cp311-manylinux_2_17_x86_64.manylinux2014_x86_64.whl.metadata (89 kB)\n",
            "\u001b[2K     \u001b[90m━━━━━━━━━━━━━━━━━━━━━━━━━━━━━━━━━━━━━━━━\u001b[0m \u001b[32m89.9/89.9 kB\u001b[0m \u001b[31m3.6 MB/s\u001b[0m eta \u001b[36m0:00:00\u001b[0m\n",
            "\u001b[?25hRequirement already satisfied: nltk in /usr/local/lib/python3.11/dist-packages (3.9.1)\n",
            "Requirement already satisfied: prawcore<3,>=2.4 in /usr/local/lib/python3.11/dist-packages (from praw) (2.4.0)\n",
            "Requirement already satisfied: update_checker>=0.18 in /usr/local/lib/python3.11/dist-packages (from praw) (0.18.0)\n",
            "Requirement already satisfied: websocket-client>=0.54.0 in /usr/local/lib/python3.11/dist-packages (from praw) (1.8.0)\n",
            "Requirement already satisfied: numpy>=1.23.2 in /usr/local/lib/python3.11/dist-packages (from pandas) (2.0.2)\n",
            "Requirement already satisfied: python-dateutil>=2.8.2 in /usr/local/lib/python3.11/dist-packages (from pandas) (2.8.2)\n",
            "Requirement already satisfied: pytz>=2020.1 in /usr/local/lib/python3.11/dist-packages (from pandas) (2025.2)\n",
            "Requirement already satisfied: tzdata>=2022.7 in /usr/local/lib/python3.11/dist-packages (from pandas) (2025.2)\n",
            "Requirement already satisfied: click in /usr/local/lib/python3.11/dist-packages (from nltk) (8.1.8)\n",
            "Requirement already satisfied: joblib in /usr/local/lib/python3.11/dist-packages (from nltk) (1.4.2)\n",
            "Requirement already satisfied: regex>=2021.8.3 in /usr/local/lib/python3.11/dist-packages (from nltk) (2024.11.6)\n",
            "Requirement already satisfied: tqdm in /usr/local/lib/python3.11/dist-packages (from nltk) (4.67.1)\n",
            "Requirement already satisfied: requests<3.0,>=2.6.0 in /usr/local/lib/python3.11/dist-packages (from prawcore<3,>=2.4->praw) (2.32.3)\n",
            "Requirement already satisfied: six>=1.5 in /usr/local/lib/python3.11/dist-packages (from python-dateutil>=2.8.2->pandas) (1.17.0)\n",
            "Requirement already satisfied: charset-normalizer<4,>=2 in /usr/local/lib/python3.11/dist-packages (from requests<3.0,>=2.6.0->prawcore<3,>=2.4->praw) (3.4.1)\n",
            "Requirement already satisfied: idna<4,>=2.5 in /usr/local/lib/python3.11/dist-packages (from requests<3.0,>=2.6.0->prawcore<3,>=2.4->praw) (3.10)\n",
            "Requirement already satisfied: urllib3<3,>=1.21.1 in /usr/local/lib/python3.11/dist-packages (from requests<3.0,>=2.6.0->prawcore<3,>=2.4->praw) (2.3.0)\n",
            "Requirement already satisfied: certifi>=2017.4.17 in /usr/local/lib/python3.11/dist-packages (from requests<3.0,>=2.6.0->prawcore<3,>=2.4->praw) (2025.1.31)\n",
            "Downloading pandas-2.2.3-cp311-cp311-manylinux_2_17_x86_64.manylinux2014_x86_64.whl (13.1 MB)\n",
            "\u001b[2K   \u001b[90m━━━━━━━━━━━━━━━━━━━━━━━━━━━━━━━━━━━━━━━━\u001b[0m \u001b[32m13.1/13.1 MB\u001b[0m \u001b[31m97.7 MB/s\u001b[0m eta \u001b[36m0:00:00\u001b[0m\n",
            "\u001b[?25hInstalling collected packages: pandas\n",
            "  Attempting uninstall: pandas\n",
            "    Found existing installation: pandas 2.2.2\n",
            "    Uninstalling pandas-2.2.2:\n",
            "      Successfully uninstalled pandas-2.2.2\n",
            "\u001b[31mERROR: pip's dependency resolver does not currently take into account all the packages that are installed. This behaviour is the source of the following dependency conflicts.\n",
            "google-colab 1.0.0 requires pandas==2.2.2, but you have pandas 2.2.3 which is incompatible.\u001b[0m\u001b[31m\n",
            "\u001b[0mSuccessfully installed pandas-2.2.3\n"
          ]
        }
      ]
    },
    {
      "cell_type": "code",
      "source": [
        "import praw\n",
        "import pandas as pd\n",
        "from datetime import datetime\n",
        "from nltk.sentiment.vader import SentimentIntensityAnalyzer\n",
        "import nltk\n",
        "import logging\n",
        "from google.colab import userdata\n",
        "from google.colab import files\n",
        "\n",
        "# Suppress PRAW warnings\n",
        "logging.getLogger(\"praw\").setLevel(logging.ERROR)\n",
        "logging.getLogger(\"prawcore\").setLevel(logging.ERROR)\n",
        "\n",
        "# Download VADER lexicon\n",
        "print(\"Setting up NLP analyzer...\")\n",
        "nltk.download('vader_lexicon')\n",
        "sia = SentimentIntensityAnalyzer()\n",
        "\n",
        "# ================= CREDENTIAL SETUP =================\n",
        "print(\"Loading Reddit credentials...\")\n",
        "try:\n",
        "    client_id = userdata.get('REDDIT_CLIENT_ID')\n",
        "    client_secret = userdata.get('REDDIT_CLIENT_SECRET')\n",
        "    user_agent = userdata.get('REDDIT_USER_AGENT')\n",
        "    username = userdata.get('REDDIT_USERNAME')\n",
        "    password = userdata.get('REDDIT_PASSWORD')\n",
        "except Exception as e:\n",
        "    print(\"\\n❌ CREDENTIAL ERROR: Missing or incorrect secrets.\")\n",
        "    print(\"Please follow these steps:\")\n",
        "    print(\"1. Click the 'key' icon in Colab's left sidebar\")\n",
        "    print(\"2. Add these EXACT secret names (case-sensitive):\")\n",
        "    print(\"   - REDDIT_CLIENT_ID\")\n",
        "    print(\"   - REDDIT_CLIENT_SECRET\")\n",
        "    print(\"   - REDDIT_USER_AGENT\")\n",
        "    print(\"   - REDDIT_USERNAME\")\n",
        "    print(\"   - REDDIT_PASSWORD\")\n",
        "    print(\"\\n⚠️ Make sure there are no typos!\")\n",
        "    raise\n",
        "\n",
        "# Authenticate with Reddit\n",
        "print(\"Authenticating with Reddit...\")\n",
        "try:\n",
        "    reddit = praw.Reddit(\n",
        "        client_id=client_id,\n",
        "        client_secret=client_secret,\n",
        "        user_agent=user_agent,\n",
        "        username=username,\n",
        "        password=password\n",
        "    )\n",
        "    # Test authentication\n",
        "    print(f\"✔ Success! Logged in as: {reddit.user.me()}\")\n",
        "except Exception as e:\n",
        "    print(f\"❌ Authentication failed: {e}\")\n",
        "    print(\"\\nPossible solutions:\")\n",
        "    print(\"- Verify your credentials at https://www.reddit.com/prefs/apps\")\n",
        "    print(\"- Check if your account has 2FA enabled (may need app password)\")\n",
        "    print(\"- Wait 10 mins if you hit rate limits\")\n",
        "    exit()\n",
        "\n",
        "# ================= MAIN CONFIGURATION =================\n",
        "start_date = datetime(2025, 1, 1, 0, 0)\n",
        "end_date = datetime(2025, 4, 9, 23, 59)  # Updated to April 9th\n",
        "SUBREDDIT_NAME = \"funhaus\"  # Change this if needed\n",
        "POST_LIMIT = 500  # Reduce if hitting rate limits\n",
        "\n",
        "# ================= CORE FUNCTIONS =================\n",
        "def clean_parent_id(parent_id):\n",
        "    \"\"\"Extract just the ID part from parent_id\"\"\"\n",
        "    return parent_id.split('_')[1] if isinstance(parent_id, str) and '_' in parent_id else parent_id\n",
        "\n",
        "def gather_data():\n",
        "    print(f\"\\n🚀 Collecting data from r/{SUBREDDIT_NAME}\")\n",
        "    print(f\"⏰ Date range: {start_date.strftime('%Y-%m-%d')} to {end_date.strftime('%Y-%m-%d')}\")\n",
        "\n",
        "    subreddit = reddit.subreddit(SUBREDDIT_NAME)\n",
        "    data = []\n",
        "    stats = {'posts': 0, 'comments': 0}\n",
        "\n",
        "    try:\n",
        "        for submission in subreddit.new(limit=POST_LIMIT):\n",
        "            submission_created = datetime.utcfromtimestamp(submission.created_utc)\n",
        "\n",
        "            if start_date <= submission_created <= end_date:\n",
        "                stats['posts'] += 1\n",
        "                submission.comments.replace_more(limit=0)  # Remove MoreComments\n",
        "\n",
        "                for comment in submission.comments.list():\n",
        "                    comment_created = datetime.utcfromtimestamp(comment.created_utc)\n",
        "\n",
        "                    if start_date <= comment_created <= end_date:\n",
        "                        stats['comments'] += 1\n",
        "                        created_str = comment_created.strftime('%Y-%m-%d %H:%M:%S')\n",
        "                        date_part = comment_created.strftime('%y.%m.%d')  # Updated to yy.mm.dd format\n",
        "                        time_part = comment_created.strftime('%H:%M:%S')\n",
        "\n",
        "                        data.append({\n",
        "                            \"subreddit\": SUBREDDIT_NAME,\n",
        "                            \"submission_id\": submission.id,\n",
        "                            \"parent_id\": clean_parent_id(comment.parent_id),\n",
        "                            \"target_author\": comment.parent().author.name\n",
        "                                            if hasattr(comment.parent(), 'author')\n",
        "                                            and comment.parent().author\n",
        "                                            else \"[deleted]\",\n",
        "                            \"comment_id\": comment.id,\n",
        "                            \"source_author\": comment.author.name if comment.author else \"[deleted]\",\n",
        "                            \"text\": comment.body,\n",
        "                            \"title\": submission.title,\n",
        "                            \"comment_score\": comment.score,\n",
        "                            \"created_utc\": created_str,\n",
        "                            \"date\": date_part,\n",
        "                            \"time\": time_part,\n",
        "                            \"post_url\": f\"https://www.reddit.com{submission.permalink}\"  # Added post URL\n",
        "                        })\n",
        "\n",
        "                # Progress update\n",
        "                if stats['posts'] % 10 == 0:\n",
        "                    print(f\"📊 Collected {stats['posts']} posts ({stats['comments']} comments)...\")\n",
        "\n",
        "    except Exception as e:\n",
        "        print(f\"⚠️ Collection error: {str(e)[:200]}...\")  # Truncate long errors\n",
        "\n",
        "    print(f\"\\n✅ Collected {stats['posts']} posts with {stats['comments']} comments\")\n",
        "    return data\n",
        "\n",
        "def save_and_download(data):\n",
        "    if not data:\n",
        "        print(\"❌ No data collected - check date range or subreddit activity\")\n",
        "        return\n",
        "\n",
        "    df = pd.DataFrame(data)\n",
        "    filename = f\"{SUBREDDIT_NAME}_data_{start_date.strftime('%Y-%m')}_to_{end_date.strftime('%Y-%m')}.csv\"\n",
        "\n",
        "    # Ensure proper column order as requested\n",
        "    columns = [\n",
        "        'subreddit',\n",
        "        'submission_id',\n",
        "        'parent_id',\n",
        "        'target_author',\n",
        "        'comment_id',\n",
        "        'source_author',\n",
        "        'text',\n",
        "        'title',\n",
        "        'comment_score',\n",
        "        'created_utc',\n",
        "        'date',\n",
        "        'time',\n",
        "        'post_url'\n",
        "    ]\n",
        "    df = df[columns]\n",
        "\n",
        "    df.to_csv(filename, index=False)\n",
        "    print(f\"💾 Saved to {filename} ({len(df)} records)\")\n",
        "    files.download(filename)\n",
        "\n",
        "# ================= EXECUTION =================\n",
        "if __name__ == \"__main__\":\n",
        "    collected_data = gather_data()\n",
        "    save_and_download(collected_data)\n",
        "    print(\"\\n🎉 Script completed successfully!\")"
      ],
      "metadata": {
        "colab": {
          "base_uri": "https://localhost:8080/",
          "height": 833
        },
        "id": "PQzLFqL3SDS5",
        "outputId": "0d2065fa-4d64-47d1-dfeb-8144ebd009ab"
      },
      "execution_count": null,
      "outputs": [
        {
          "output_type": "stream",
          "name": "stdout",
          "text": [
            "Setting up NLP analyzer...\n",
            "Loading Reddit credentials...\n"
          ]
        },
        {
          "output_type": "stream",
          "name": "stderr",
          "text": [
            "[nltk_data] Downloading package vader_lexicon to /root/nltk_data...\n",
            "[nltk_data]   Package vader_lexicon is already up-to-date!\n"
          ]
        },
        {
          "output_type": "stream",
          "name": "stdout",
          "text": [
            "Authenticating with Reddit...\n",
            "✔ Success! Logged in as: Fit_Menu8118\n",
            "\n",
            "🚀 Collecting data from r/funhaus\n",
            "⏰ Date range: 2025-01-01 to 2025-04-09\n",
            "📊 Collected 10 posts (53 comments)...\n",
            "📊 Collected 20 posts (84 comments)...\n",
            "📊 Collected 30 posts (151 comments)...\n",
            "📊 Collected 40 posts (268 comments)...\n",
            "📊 Collected 50 posts (336 comments)...\n",
            "📊 Collected 60 posts (547 comments)...\n",
            "📊 Collected 70 posts (601 comments)...\n",
            "📊 Collected 80 posts (752 comments)...\n",
            "📊 Collected 90 posts (862 comments)...\n",
            "📊 Collected 100 posts (943 comments)...\n",
            "📊 Collected 110 posts (1053 comments)...\n",
            "📊 Collected 120 posts (1153 comments)...\n",
            "📊 Collected 130 posts (1213 comments)...\n",
            "📊 Collected 140 posts (1361 comments)...\n",
            "📊 Collected 150 posts (1547 comments)...\n",
            "📊 Collected 160 posts (1738 comments)...\n",
            "📊 Collected 170 posts (2026 comments)...\n",
            "📊 Collected 180 posts (2265 comments)...\n",
            "📊 Collected 190 posts (2445 comments)...\n",
            "📊 Collected 200 posts (2842 comments)...\n",
            "📊 Collected 210 posts (2947 comments)...\n",
            "📊 Collected 220 posts (3096 comments)...\n",
            "📊 Collected 230 posts (3327 comments)...\n",
            "📊 Collected 240 posts (3485 comments)...\n",
            "📊 Collected 250 posts (3645 comments)...\n",
            "📊 Collected 260 posts (4008 comments)...\n",
            "📊 Collected 270 posts (4069 comments)...\n",
            "📊 Collected 280 posts (4232 comments)...\n",
            "📊 Collected 290 posts (4410 comments)...\n",
            "📊 Collected 300 posts (4522 comments)...\n",
            "📊 Collected 310 posts (4619 comments)...\n",
            "📊 Collected 320 posts (4780 comments)...\n",
            "📊 Collected 330 posts (4836 comments)...\n",
            "\n",
            "✅ Collected 339 posts with 5008 comments\n",
            "💾 Saved to funhaus_data_2025-01_to_2025-04.csv (5008 records)\n"
          ]
        },
        {
          "output_type": "display_data",
          "data": {
            "text/plain": [
              "<IPython.core.display.Javascript object>"
            ],
            "application/javascript": [
              "\n",
              "    async function download(id, filename, size) {\n",
              "      if (!google.colab.kernel.accessAllowed) {\n",
              "        return;\n",
              "      }\n",
              "      const div = document.createElement('div');\n",
              "      const label = document.createElement('label');\n",
              "      label.textContent = `Downloading \"${filename}\": `;\n",
              "      div.appendChild(label);\n",
              "      const progress = document.createElement('progress');\n",
              "      progress.max = size;\n",
              "      div.appendChild(progress);\n",
              "      document.body.appendChild(div);\n",
              "\n",
              "      const buffers = [];\n",
              "      let downloaded = 0;\n",
              "\n",
              "      const channel = await google.colab.kernel.comms.open(id);\n",
              "      // Send a message to notify the kernel that we're ready.\n",
              "      channel.send({})\n",
              "\n",
              "      for await (const message of channel.messages) {\n",
              "        // Send a message to notify the kernel that we're ready.\n",
              "        channel.send({})\n",
              "        if (message.buffers) {\n",
              "          for (const buffer of message.buffers) {\n",
              "            buffers.push(buffer);\n",
              "            downloaded += buffer.byteLength;\n",
              "            progress.value = downloaded;\n",
              "          }\n",
              "        }\n",
              "      }\n",
              "      const blob = new Blob(buffers, {type: 'application/binary'});\n",
              "      const a = document.createElement('a');\n",
              "      a.href = window.URL.createObjectURL(blob);\n",
              "      a.download = filename;\n",
              "      div.appendChild(a);\n",
              "      a.click();\n",
              "      div.remove();\n",
              "    }\n",
              "  "
            ]
          },
          "metadata": {}
        },
        {
          "output_type": "display_data",
          "data": {
            "text/plain": [
              "<IPython.core.display.Javascript object>"
            ],
            "application/javascript": [
              "download(\"download_0daadeda-7bec-47fa-9b3a-1b34912309d3\", \"funhaus_data_2025-01_to_2025-04.csv\", 1625811)"
            ]
          },
          "metadata": {}
        },
        {
          "output_type": "stream",
          "name": "stdout",
          "text": [
            "\n",
            "🎉 Script completed successfully!\n"
          ]
        }
      ]
    },
    {
      "cell_type": "code",
      "source": [
        "pip install vaderSentiment pandas openpyxl\n"
      ],
      "metadata": {
        "colab": {
          "base_uri": "https://localhost:8080/"
        },
        "id": "P1AwGgSrOR_7",
        "outputId": "4e06073c-6ef8-4866-c9d8-40bcccef98b1"
      },
      "execution_count": 1,
      "outputs": [
        {
          "output_type": "stream",
          "name": "stdout",
          "text": [
            "Collecting vaderSentiment\n",
            "  Downloading vaderSentiment-3.3.2-py2.py3-none-any.whl.metadata (572 bytes)\n",
            "Requirement already satisfied: pandas in /usr/local/lib/python3.11/dist-packages (2.2.2)\n",
            "Requirement already satisfied: openpyxl in /usr/local/lib/python3.11/dist-packages (3.1.5)\n",
            "Requirement already satisfied: requests in /usr/local/lib/python3.11/dist-packages (from vaderSentiment) (2.32.3)\n",
            "Requirement already satisfied: numpy>=1.23.2 in /usr/local/lib/python3.11/dist-packages (from pandas) (2.0.2)\n",
            "Requirement already satisfied: python-dateutil>=2.8.2 in /usr/local/lib/python3.11/dist-packages (from pandas) (2.9.0.post0)\n",
            "Requirement already satisfied: pytz>=2020.1 in /usr/local/lib/python3.11/dist-packages (from pandas) (2025.2)\n",
            "Requirement already satisfied: tzdata>=2022.7 in /usr/local/lib/python3.11/dist-packages (from pandas) (2025.2)\n",
            "Requirement already satisfied: et-xmlfile in /usr/local/lib/python3.11/dist-packages (from openpyxl) (2.0.0)\n",
            "Requirement already satisfied: six>=1.5 in /usr/local/lib/python3.11/dist-packages (from python-dateutil>=2.8.2->pandas) (1.17.0)\n",
            "Requirement already satisfied: charset-normalizer<4,>=2 in /usr/local/lib/python3.11/dist-packages (from requests->vaderSentiment) (3.4.2)\n",
            "Requirement already satisfied: idna<4,>=2.5 in /usr/local/lib/python3.11/dist-packages (from requests->vaderSentiment) (3.10)\n",
            "Requirement already satisfied: urllib3<3,>=1.21.1 in /usr/local/lib/python3.11/dist-packages (from requests->vaderSentiment) (2.4.0)\n",
            "Requirement already satisfied: certifi>=2017.4.17 in /usr/local/lib/python3.11/dist-packages (from requests->vaderSentiment) (2025.4.26)\n",
            "Downloading vaderSentiment-3.3.2-py2.py3-none-any.whl (125 kB)\n",
            "\u001b[2K   \u001b[90m━━━━━━━━━━━━━━━━━━━━━━━━━━━━━━━━━━━━━━━━\u001b[0m \u001b[32m126.0/126.0 kB\u001b[0m \u001b[31m2.3 MB/s\u001b[0m eta \u001b[36m0:00:00\u001b[0m\n",
            "\u001b[?25hInstalling collected packages: vaderSentiment\n",
            "Successfully installed vaderSentiment-3.3.2\n"
          ]
        }
      ]
    },
    {
      "cell_type": "code",
      "source": [
        "import pandas as pd\n",
        "from vaderSentiment.vaderSentiment import SentimentIntensityAnalyzer\n",
        "\n",
        "# Load your Excel file\n",
        "df = pd.read_excel(\"C:\\Users\\Shiva Sai\\Downloads\\funhaus_data_Jan1-April9.xlsx\")\n",
        "\n",
        "# Initialize VADER\n",
        "analyzer = SentimentIntensityAnalyzer()\n",
        "\n",
        "# Apply VADER to the 'text' column\n",
        "df['sentiment_score'] = df['text'].apply(lambda x: analyzer.polarity_scores(str(x))['compound'])\n",
        "\n",
        "# Save the results to a new Excel file\n",
        "df.to_excel(\"funhaus_sentiment_vader.xlsx\", index=False)\n"
      ],
      "metadata": {
        "colab": {
          "base_uri": "https://localhost:8080/",
          "height": 106
        },
        "id": "8fBgnSNAJnJ0",
        "outputId": "9300fb1b-7182-4360-ccb2-2c3c0e6b3bd9"
      },
      "execution_count": 10,
      "outputs": [
        {
          "output_type": "error",
          "ename": "SyntaxError",
          "evalue": "(unicode error) 'unicodeescape' codec can't decode bytes in position 2-3: truncated \\UXXXXXXXX escape (<ipython-input-10-d32a0f942a15>, line 5)",
          "traceback": [
            "\u001b[0;36m  File \u001b[0;32m\"<ipython-input-10-d32a0f942a15>\"\u001b[0;36m, line \u001b[0;32m5\u001b[0m\n\u001b[0;31m    df = pd.read_excel(\"C:\\Users\\Shiva Sai\\Downloads\\funhaus_data_Jan1-April9.xlsx\")\u001b[0m\n\u001b[0m                                                                                   ^\u001b[0m\n\u001b[0;31mSyntaxError\u001b[0m\u001b[0;31m:\u001b[0m (unicode error) 'unicodeescape' codec can't decode bytes in position 2-3: truncated \\UXXXXXXXX escape\n"
          ]
        }
      ]
    }
  ]
}